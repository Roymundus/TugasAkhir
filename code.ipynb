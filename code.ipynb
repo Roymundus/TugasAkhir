{
 "cells": [
  {
   "cell_type": "code",
   "execution_count": 1,
   "metadata": {},
   "outputs": [
    {
     "name": "stdout",
     "output_type": "stream",
     "text": [
      "CPU times: total: 2.73 s\n",
      "Wall time: 8.39 s\n"
     ]
    }
   ],
   "source": [
    "%%time\n",
    "import vaex\n",
    "import pandas as pd"
   ]
  },
  {
   "cell_type": "markdown",
   "metadata": {},
   "source": [
    "# Sampling Healthkathon"
   ]
  },
  {
   "cell_type": "markdown",
   "metadata": {},
   "source": [
    "Sampling_Healthkathon, merupakan data kunjungan peserta JKN ke fasilitas kesehatan rujukan tingkat lanjut"
   ]
  },
  {
   "cell_type": "code",
   "execution_count": 43,
   "metadata": {},
   "outputs": [
    {
     "name": "stdout",
     "output_type": "stream",
     "text": [
      "CPU times: total: 15.6 ms\n",
      "Wall time: 54 ms\n"
     ]
    }
   ],
   "source": [
    "%%time\n",
    "\n",
    "df = vaex.from_csv('sampling_healtkathon2022.csv', convert=True, chunk_size=100_000)"
   ]
  },
  {
   "cell_type": "markdown",
   "metadata": {},
   "source": [
    "### Cek Data"
   ]
  },
  {
   "cell_type": "code",
   "execution_count": null,
   "metadata": {},
   "outputs": [
    {
     "data": {
      "text/html": [
       "<table>\n",
       "<thead>\n",
       "<tr><th>#                            </th><th style=\"text-align: right;\">     id</th><th style=\"text-align: right;\">  id_peserta</th><th style=\"text-align: right;\">  dati2</th><th>typefaskes  </th><th style=\"text-align: right;\">  usia</th><th>jenkel  </th><th style=\"text-align: right;\">  pisat</th><th>tgldatang               </th><th>tglpulang               </th><th style=\"text-align: right;\">  jenispel</th><th>politujuan  </th><th>diagfktp  </th><th style=\"text-align: right;\">      biaya</th><th style=\"text-align: right;\">  jenispulang</th><th>cbg       </th><th style=\"text-align: right;\">  kelasrawat</th><th>kdsa  </th><th>kdsp  </th><th>kdsr  </th><th>kdsi  </th><th>kdsd  </th><th style=\"text-align: right;\">  label</th></tr>\n",
       "</thead>\n",
       "<tbody>\n",
       "<tr><td><i style='opacity: 0.6'>0</i></td><td style=\"text-align: right;\">1010828</td><td style=\"text-align: right;\">         520</td><td style=\"text-align: right;\">     17</td><td>A           </td><td style=\"text-align: right;\">    63</td><td>L       </td><td style=\"text-align: right;\">      1</td><td>2019-05-27T17:00:00.000Z</td><td>2019-05-30T17:00:00.000Z</td><td style=\"text-align: right;\">         1</td><td>--          </td><td>R23.1     </td><td style=\"text-align: right;\">1.06284e+07</td><td style=\"text-align: right;\">            1</td><td>D-4-13-III</td><td style=\"text-align: right;\">           1</td><td>--    </td><td>--    </td><td>--    </td><td>--    </td><td>--    </td><td style=\"text-align: right;\">      0</td></tr>\n",
       "<tr><td><i style='opacity: 0.6'>1</i></td><td style=\"text-align: right;\">1025249</td><td style=\"text-align: right;\">         663</td><td style=\"text-align: right;\">     17</td><td>A           </td><td style=\"text-align: right;\">    49</td><td>P       </td><td style=\"text-align: right;\">      1</td><td>2018-10-06T17:00:00.000Z</td><td>2018-10-14T17:00:00.000Z</td><td style=\"text-align: right;\">         1</td><td>--          </td><td>K28.0     </td><td style=\"text-align: right;\">8.3097e+06 </td><td style=\"text-align: right;\">            1</td><td>D-4-13-II </td><td style=\"text-align: right;\">           1</td><td>--    </td><td>--    </td><td>--    </td><td>--    </td><td>--    </td><td style=\"text-align: right;\">      0</td></tr>\n",
       "<tr><td><i style='opacity: 0.6'>2</i></td><td style=\"text-align: right;\"> 176799</td><td style=\"text-align: right;\">         739</td><td style=\"text-align: right;\">     19</td><td>C           </td><td style=\"text-align: right;\">    61</td><td>L       </td><td style=\"text-align: right;\">      1</td><td>2020-09-28T17:00:00.000Z</td><td>2020-10-01T17:00:00.000Z</td><td style=\"text-align: right;\">         1</td><td>--          </td><td>M06.0     </td><td style=\"text-align: right;\">2.9326e+06 </td><td style=\"text-align: right;\">            1</td><td>M-4-18-I  </td><td style=\"text-align: right;\">           1</td><td>--    </td><td>--    </td><td>--    </td><td>--    </td><td>--    </td><td style=\"text-align: right;\">      0</td></tr>\n",
       "<tr><td><i style='opacity: 0.6'>3</i></td><td style=\"text-align: right;\">1011990</td><td style=\"text-align: right;\">        1701</td><td style=\"text-align: right;\">     17</td><td>A           </td><td style=\"text-align: right;\">    23</td><td>L       </td><td style=\"text-align: right;\">      1</td><td>2018-06-14T17:00:00.000Z</td><td>2018-06-27T17:00:00.000Z</td><td style=\"text-align: right;\">         1</td><td>--          </td><td>C91.0     </td><td style=\"text-align: right;\">5.6761e+06 </td><td style=\"text-align: right;\">            1</td><td>D-4-11-I  </td><td style=\"text-align: right;\">           3</td><td>--    </td><td>--    </td><td>--    </td><td>--    </td><td>--    </td><td style=\"text-align: right;\">      0</td></tr>\n",
       "<tr><td><i style='opacity: 0.6'>4</i></td><td style=\"text-align: right;\">1011268</td><td style=\"text-align: right;\">        1785</td><td style=\"text-align: right;\">     17</td><td>A           </td><td style=\"text-align: right;\">    91</td><td>L       </td><td style=\"text-align: right;\">      1</td><td>2020-05-18T17:00:00.000Z</td><td>2020-06-05T17:00:00.000Z</td><td style=\"text-align: right;\">         1</td><td>--          </td><td>K83.1     </td><td style=\"text-align: right;\">1.4927e+07 </td><td style=\"text-align: right;\">            4</td><td>B-1-12-II </td><td style=\"text-align: right;\">           1</td><td>--    </td><td>--    </td><td>--    </td><td>--    </td><td>--    </td><td style=\"text-align: right;\">      0</td></tr>\n",
       "<tr><td><i style='opacity: 0.6'>5</i></td><td style=\"text-align: right;\">1060552</td><td style=\"text-align: right;\">        1870</td><td style=\"text-align: right;\">     17</td><td>SC          </td><td style=\"text-align: right;\">    33</td><td>P       </td><td style=\"text-align: right;\">      3</td><td>2019-01-06T17:00:00.000Z</td><td>2019-01-08T17:00:00.000Z</td><td style=\"text-align: right;\">         1</td><td>--          </td><td>O80.9     </td><td style=\"text-align: right;\">2.2544e+06 </td><td style=\"text-align: right;\">            1</td><td>O-6-13-I  </td><td style=\"text-align: right;\">           1</td><td>--    </td><td>--    </td><td>--    </td><td>--    </td><td>--    </td><td style=\"text-align: right;\">      0</td></tr>\n",
       "<tr><td><i style='opacity: 0.6'>6</i></td><td style=\"text-align: right;\">1035370</td><td style=\"text-align: right;\">        2006</td><td style=\"text-align: right;\">     17</td><td>SC          </td><td style=\"text-align: right;\">    42</td><td>P       </td><td style=\"text-align: right;\">      1</td><td>2020-06-27T17:00:00.000Z</td><td>2020-06-29T17:00:00.000Z</td><td style=\"text-align: right;\">         1</td><td>--          </td><td>A88.1     </td><td style=\"text-align: right;\">1.9142e+06 </td><td style=\"text-align: right;\">            1</td><td>U-4-11-I  </td><td style=\"text-align: right;\">           1</td><td>--    </td><td>--    </td><td>--    </td><td>--    </td><td>--    </td><td style=\"text-align: right;\">      0</td></tr>\n",
       "<tr><td><i style='opacity: 0.6'>7</i></td><td style=\"text-align: right;\"> 135750</td><td style=\"text-align: right;\">        2091</td><td style=\"text-align: right;\">     13</td><td>SD          </td><td style=\"text-align: right;\">    68</td><td>P       </td><td style=\"text-align: right;\">      3</td><td>2020-01-19T17:00:00.000Z</td><td>2020-01-24T17:00:00.000Z</td><td style=\"text-align: right;\">         1</td><td>--          </td><td>R07.4     </td><td style=\"text-align: right;\">1.9887e+06 </td><td style=\"text-align: right;\">            1</td><td>I-4-16-I  </td><td style=\"text-align: right;\">           1</td><td>--    </td><td>--    </td><td>--    </td><td>--    </td><td>--    </td><td style=\"text-align: right;\">      0</td></tr>\n",
       "<tr><td><i style='opacity: 0.6'>8</i></td><td style=\"text-align: right;\">1048459</td><td style=\"text-align: right;\">        2305</td><td style=\"text-align: right;\">     17</td><td>B           </td><td style=\"text-align: right;\">    63</td><td>P       </td><td style=\"text-align: right;\">      3</td><td>2019-01-21T17:00:00.000Z</td><td>2019-01-22T17:00:00.000Z</td><td style=\"text-align: right;\">         1</td><td>--          </td><td>M54.5     </td><td style=\"text-align: right;\">4.419e+06  </td><td style=\"text-align: right;\">            1</td><td>G-4-17-I  </td><td style=\"text-align: right;\">           3</td><td>--    </td><td>--    </td><td>--    </td><td>--    </td><td>--    </td><td style=\"text-align: right;\">      0</td></tr>\n",
       "<tr><td><i style='opacity: 0.6'>9</i></td><td style=\"text-align: right;\">1048540</td><td style=\"text-align: right;\">        2305</td><td style=\"text-align: right;\">     17</td><td>B           </td><td style=\"text-align: right;\">    63</td><td>P       </td><td style=\"text-align: right;\">      3</td><td>2019-01-28T17:00:00.000Z</td><td>2019-01-29T17:00:00.000Z</td><td style=\"text-align: right;\">         1</td><td>--          </td><td>M54.52    </td><td style=\"text-align: right;\">3.6234e+06 </td><td style=\"text-align: right;\">            1</td><td>M-4-17-I  </td><td style=\"text-align: right;\">           3</td><td>--    </td><td>--    </td><td>--    </td><td>--    </td><td>--    </td><td style=\"text-align: right;\">      0</td></tr>\n",
       "</tbody>\n",
       "</table>"
      ],
      "text/plain": [
       "  #       id    id_peserta    dati2  typefaskes      usia  jenkel      pisat  tgldatang                 tglpulang                   jenispel  politujuan    diagfktp          biaya    jenispulang  cbg           kelasrawat  kdsa    kdsp    kdsr    kdsi    kdsd      label\n",
       "  0  1010828           520       17  A                 63  L               1  2019-05-27T17:00:00.000Z  2019-05-30T17:00:00.000Z           1  --            R23.1       1.06284e+07              1  D-4-13-III             1  --      --      --      --      --            0\n",
       "  1  1025249           663       17  A                 49  P               1  2018-10-06T17:00:00.000Z  2018-10-14T17:00:00.000Z           1  --            K28.0       8.3097e+06               1  D-4-13-II              1  --      --      --      --      --            0\n",
       "  2   176799           739       19  C                 61  L               1  2020-09-28T17:00:00.000Z  2020-10-01T17:00:00.000Z           1  --            M06.0       2.9326e+06               1  M-4-18-I               1  --      --      --      --      --            0\n",
       "  3  1011990          1701       17  A                 23  L               1  2018-06-14T17:00:00.000Z  2018-06-27T17:00:00.000Z           1  --            C91.0       5.6761e+06               1  D-4-11-I               3  --      --      --      --      --            0\n",
       "  4  1011268          1785       17  A                 91  L               1  2020-05-18T17:00:00.000Z  2020-06-05T17:00:00.000Z           1  --            K83.1       1.4927e+07               4  B-1-12-II              1  --      --      --      --      --            0\n",
       "  5  1060552          1870       17  SC                33  P               3  2019-01-06T17:00:00.000Z  2019-01-08T17:00:00.000Z           1  --            O80.9       2.2544e+06               1  O-6-13-I               1  --      --      --      --      --            0\n",
       "  6  1035370          2006       17  SC                42  P               1  2020-06-27T17:00:00.000Z  2020-06-29T17:00:00.000Z           1  --            A88.1       1.9142e+06               1  U-4-11-I               1  --      --      --      --      --            0\n",
       "  7   135750          2091       13  SD                68  P               3  2020-01-19T17:00:00.000Z  2020-01-24T17:00:00.000Z           1  --            R07.4       1.9887e+06               1  I-4-16-I               1  --      --      --      --      --            0\n",
       "  8  1048459          2305       17  B                 63  P               3  2019-01-21T17:00:00.000Z  2019-01-22T17:00:00.000Z           1  --            M54.5       4.419e+06                1  G-4-17-I               3  --      --      --      --      --            0\n",
       "  9  1048540          2305       17  B                 63  P               3  2019-01-28T17:00:00.000Z  2019-01-29T17:00:00.000Z           1  --            M54.52      3.6234e+06               1  M-4-17-I               3  --      --      --      --      --            0"
      ]
     },
     "execution_count": 51,
     "metadata": {},
     "output_type": "execute_result"
    }
   ],
   "source": [
    "df[df['politujuan'].isna()].head(10)  # type: ignore # Menampilkan 10 baris pertama\n"
   ]
  },
  {
   "cell_type": "code",
   "execution_count": null,
   "metadata": {},
   "outputs": [],
   "source": [
    "%%time\n",
    "\n",
    "df_pandas = pd.read_csv('sampling_healtkathon2022.csv', chunksize=100_000)\n",
    "df_pandas = pd.concat(df_pandas, ignore_index=True)\n",
    "\n",
    "df_pandas"
   ]
  },
  {
   "cell_type": "code",
   "execution_count": 3,
   "metadata": {},
   "outputs": [
    {
     "data": {
      "text/html": [
       "<table>\n",
       "<thead>\n",
       "<tr><th>#                            </th><th style=\"text-align: right;\">     id</th><th style=\"text-align: right;\">  id_peserta</th><th style=\"text-align: right;\">  dati2</th><th>typefaskes  </th><th style=\"text-align: right;\">  usia</th><th>jenkel  </th><th style=\"text-align: right;\">  pisat</th><th>tgldatang               </th><th>tglpulang               </th><th style=\"text-align: right;\">  jenispel</th><th>politujuan  </th><th>diagfktp  </th><th style=\"text-align: right;\">           biaya</th><th style=\"text-align: right;\">  jenispulang</th><th>cbg       </th><th style=\"text-align: right;\">  kelasrawat</th><th>kdsa  </th><th>kdsp  </th><th>kdsr  </th><th>kdsi  </th><th>kdsd  </th><th style=\"text-align: right;\">  label</th></tr>\n",
       "</thead>\n",
       "<tbody>\n",
       "<tr><td><i style='opacity: 0.6'>0</i></td><td style=\"text-align: right;\"> 165666</td><td style=\"text-align: right;\">         486</td><td style=\"text-align: right;\">     17</td><td>KL          </td><td style=\"text-align: right;\">    48</td><td>P       </td><td style=\"text-align: right;\">      1</td><td>2018-07-25T17:00:00.000Z</td><td>2018-07-25T17:00:00.000Z</td><td style=\"text-align: right;\">         2</td><td>THT         </td><td>L02.8     </td><td style=\"text-align: right;\">184300          </td><td style=\"text-align: right;\">            1</td><td>Q-5-42-0  </td><td style=\"text-align: right;\">           3</td><td>--    </td><td>--    </td><td>--    </td><td>--    </td><td>--    </td><td style=\"text-align: right;\">      0</td></tr>\n",
       "<tr><td><i style='opacity: 0.6'>1</i></td><td style=\"text-align: right;\">1010828</td><td style=\"text-align: right;\">         520</td><td style=\"text-align: right;\">     17</td><td>A           </td><td style=\"text-align: right;\">    63</td><td>L       </td><td style=\"text-align: right;\">      1</td><td>2019-05-27T17:00:00.000Z</td><td>2019-05-30T17:00:00.000Z</td><td style=\"text-align: right;\">         1</td><td>--          </td><td>R23.1     </td><td style=\"text-align: right;\">     1.06284e+07</td><td style=\"text-align: right;\">            1</td><td>D-4-13-III</td><td style=\"text-align: right;\">           1</td><td>--    </td><td>--    </td><td>--    </td><td>--    </td><td>--    </td><td style=\"text-align: right;\">      0</td></tr>\n",
       "<tr><td><i style='opacity: 0.6'>2</i></td><td style=\"text-align: right;\"> 166042</td><td style=\"text-align: right;\">         523</td><td style=\"text-align: right;\">     17</td><td>KL          </td><td style=\"text-align: right;\">    53</td><td>P       </td><td style=\"text-align: right;\">      1</td><td>2019-07-16T17:00:00.000Z</td><td>2019-07-16T17:00:00.000Z</td><td style=\"text-align: right;\">         2</td><td>INT         </td><td>E10.5     </td><td style=\"text-align: right;\">187300          </td><td style=\"text-align: right;\">            1</td><td>Q-5-44-0  </td><td style=\"text-align: right;\">           3</td><td>--    </td><td>--    </td><td>--    </td><td>--    </td><td>--    </td><td style=\"text-align: right;\">      0</td></tr>\n",
       "<tr><td><i style='opacity: 0.6'>3</i></td><td style=\"text-align: right;\"> 168937</td><td style=\"text-align: right;\">         549</td><td style=\"text-align: right;\">     17</td><td>KL          </td><td style=\"text-align: right;\">    54</td><td>P       </td><td style=\"text-align: right;\">      1</td><td>2019-10-17T17:00:00.000Z</td><td>2019-10-17T17:00:00.000Z</td><td style=\"text-align: right;\">         2</td><td>MAT         </td><td>H54.2     </td><td style=\"text-align: right;\">187300          </td><td style=\"text-align: right;\">            1</td><td>Q-5-44-0  </td><td style=\"text-align: right;\">           3</td><td>--    </td><td>--    </td><td>--    </td><td>--    </td><td>--    </td><td style=\"text-align: right;\">      0</td></tr>\n",
       "<tr><td><i style='opacity: 0.6'>4</i></td><td style=\"text-align: right;\">1005899</td><td style=\"text-align: right;\">         549</td><td style=\"text-align: right;\">     17</td><td>A           </td><td style=\"text-align: right;\">    53</td><td>P       </td><td style=\"text-align: right;\">      1</td><td>2018-04-18T17:00:00.000Z</td><td>2018-04-18T17:00:00.000Z</td><td style=\"text-align: right;\">         2</td><td>SAR         </td><td>M54.5     </td><td style=\"text-align: right;\">381600          </td><td style=\"text-align: right;\">            1</td><td>Q-5-44-0  </td><td style=\"text-align: right;\">           3</td><td>--    </td><td>--    </td><td>--    </td><td>--    </td><td>--    </td><td style=\"text-align: right;\">      0</td></tr>\n",
       "</tbody>\n",
       "</table>"
      ],
      "text/plain": [
       "  #       id    id_peserta    dati2  typefaskes      usia  jenkel      pisat  tgldatang                 tglpulang                   jenispel  politujuan    diagfktp               biaya    jenispulang  cbg           kelasrawat  kdsa    kdsp    kdsr    kdsi    kdsd      label\n",
       "  0   165666           486       17  KL                48  P               1  2018-07-25T17:00:00.000Z  2018-07-25T17:00:00.000Z           2  THT           L02.8       184300                        1  Q-5-42-0               3  --      --      --      --      --            0\n",
       "  1  1010828           520       17  A                 63  L               1  2019-05-27T17:00:00.000Z  2019-05-30T17:00:00.000Z           1  --            R23.1            1.06284e+07              1  D-4-13-III             1  --      --      --      --      --            0\n",
       "  2   166042           523       17  KL                53  P               1  2019-07-16T17:00:00.000Z  2019-07-16T17:00:00.000Z           2  INT           E10.5       187300                        1  Q-5-44-0               3  --      --      --      --      --            0\n",
       "  3   168937           549       17  KL                54  P               1  2019-10-17T17:00:00.000Z  2019-10-17T17:00:00.000Z           2  MAT           H54.2       187300                        1  Q-5-44-0               3  --      --      --      --      --            0\n",
       "  4  1005899           549       17  A                 53  P               1  2018-04-18T17:00:00.000Z  2018-04-18T17:00:00.000Z           2  SAR           M54.5       381600                        1  Q-5-44-0               3  --      --      --      --      --            0"
      ]
     },
     "execution_count": 3,
     "metadata": {},
     "output_type": "execute_result"
    }
   ],
   "source": [
    "df.head(5)"
   ]
  },
  {
   "attachments": {
    "image.png": {
     "image/png": "[encoded data removed]"
    }
   },
   "cell_type": "markdown",
   "metadata": {},
   "source": [
    "![image.png](attachment:image.png)"
   ]
  },
  {
   "cell_type": "code",
   "execution_count": 46,
   "metadata": {},
   "outputs": [
    {
     "data": {
      "text/html": [
       "<div>\n",
       "<style scoped>\n",
       "    .dataframe tbody tr th:only-of-type {\n",
       "        vertical-align: middle;\n",
       "    }\n",
       "\n",
       "    .dataframe tbody tr th {\n",
       "        vertical-align: top;\n",
       "    }\n",
       "\n",
       "    .dataframe thead th {\n",
       "        text-align: right;\n",
       "    }\n",
       "</style>\n",
       "<table border=\"1\" class=\"dataframe\">\n",
       "  <thead>\n",
       "    <tr style=\"text-align: right;\">\n",
       "      <th></th>\n",
       "      <th>id</th>\n",
       "      <th>id_peserta</th>\n",
       "      <th>dati2</th>\n",
       "      <th>typefaskes</th>\n",
       "      <th>usia</th>\n",
       "      <th>jenkel</th>\n",
       "      <th>pisat</th>\n",
       "      <th>tgldatang</th>\n",
       "      <th>tglpulang</th>\n",
       "      <th>jenispel</th>\n",
       "      <th>...</th>\n",
       "      <th>biaya</th>\n",
       "      <th>jenispulang</th>\n",
       "      <th>cbg</th>\n",
       "      <th>kelasrawat</th>\n",
       "      <th>kdsa</th>\n",
       "      <th>kdsp</th>\n",
       "      <th>kdsr</th>\n",
       "      <th>kdsi</th>\n",
       "      <th>kdsd</th>\n",
       "      <th>label</th>\n",
       "    </tr>\n",
       "  </thead>\n",
       "  <tbody>\n",
       "    <tr>\n",
       "      <th>data_type</th>\n",
       "      <td>int64</td>\n",
       "      <td>int64</td>\n",
       "      <td>int64</td>\n",
       "      <td>string</td>\n",
       "      <td>int64</td>\n",
       "      <td>string</td>\n",
       "      <td>float64</td>\n",
       "      <td>string</td>\n",
       "      <td>string</td>\n",
       "      <td>int64</td>\n",
       "      <td>...</td>\n",
       "      <td>float64</td>\n",
       "      <td>float64</td>\n",
       "      <td>string</td>\n",
       "      <td>int64</td>\n",
       "      <td>string</td>\n",
       "      <td>string</td>\n",
       "      <td>string</td>\n",
       "      <td>string</td>\n",
       "      <td>string</td>\n",
       "      <td>int64</td>\n",
       "    </tr>\n",
       "    <tr>\n",
       "      <th>count</th>\n",
       "      <td>11401882</td>\n",
       "      <td>11401882</td>\n",
       "      <td>11401882</td>\n",
       "      <td>11401882</td>\n",
       "      <td>11401882</td>\n",
       "      <td>11401833</td>\n",
       "      <td>11401692</td>\n",
       "      <td>11401882</td>\n",
       "      <td>11401882</td>\n",
       "      <td>11401882</td>\n",
       "      <td>...</td>\n",
       "      <td>11344067</td>\n",
       "      <td>11401843</td>\n",
       "      <td>11401882</td>\n",
       "      <td>11401882</td>\n",
       "      <td>14883</td>\n",
       "      <td>74517</td>\n",
       "      <td>8538</td>\n",
       "      <td>11359</td>\n",
       "      <td>154090</td>\n",
       "      <td>11401882</td>\n",
       "    </tr>\n",
       "    <tr>\n",
       "      <th>NA</th>\n",
       "      <td>0</td>\n",
       "      <td>0</td>\n",
       "      <td>0</td>\n",
       "      <td>0</td>\n",
       "      <td>0</td>\n",
       "      <td>49</td>\n",
       "      <td>190</td>\n",
       "      <td>0</td>\n",
       "      <td>0</td>\n",
       "      <td>0</td>\n",
       "      <td>...</td>\n",
       "      <td>57815</td>\n",
       "      <td>39</td>\n",
       "      <td>0</td>\n",
       "      <td>0</td>\n",
       "      <td>11386999</td>\n",
       "      <td>11327365</td>\n",
       "      <td>11393344</td>\n",
       "      <td>11390523</td>\n",
       "      <td>11247792</td>\n",
       "      <td>0</td>\n",
       "    </tr>\n",
       "    <tr>\n",
       "      <th>mean</th>\n",
       "      <td>5712719.902465224</td>\n",
       "      <td>4199294.393911374</td>\n",
       "      <td>182.5299193589269</td>\n",
       "      <td>--</td>\n",
       "      <td>37.056899992474925</td>\n",
       "      <td>--</td>\n",
       "      <td>2.498203512250638</td>\n",
       "      <td>--</td>\n",
       "      <td>--</td>\n",
       "      <td>1.6455437795269237</td>\n",
       "      <td>...</td>\n",
       "      <td>2146848.771842938</td>\n",
       "      <td>1.0945962858811509</td>\n",
       "      <td>--</td>\n",
       "      <td>2.7846950178926604</td>\n",
       "      <td>--</td>\n",
       "      <td>--</td>\n",
       "      <td>--</td>\n",
       "      <td>--</td>\n",
       "      <td>--</td>\n",
       "      <td>0.013759921388416403</td>\n",
       "    </tr>\n",
       "    <tr>\n",
       "      <th>std</th>\n",
       "      <td>3298534.717968</td>\n",
       "      <td>2436248.842344</td>\n",
       "      <td>106.135201</td>\n",
       "      <td>--</td>\n",
       "      <td>22.921875</td>\n",
       "      <td>--</td>\n",
       "      <td>1.390863</td>\n",
       "      <td>--</td>\n",
       "      <td>--</td>\n",
       "      <td>0.478348</td>\n",
       "      <td>...</td>\n",
       "      <td>5207576.726626</td>\n",
       "      <td>0.513155</td>\n",
       "      <td>--</td>\n",
       "      <td>0.551147</td>\n",
       "      <td>--</td>\n",
       "      <td>--</td>\n",
       "      <td>--</td>\n",
       "      <td>--</td>\n",
       "      <td>--</td>\n",
       "      <td>0.116493</td>\n",
       "    </tr>\n",
       "    <tr>\n",
       "      <th>min</th>\n",
       "      <td>1</td>\n",
       "      <td>1</td>\n",
       "      <td>1</td>\n",
       "      <td>--</td>\n",
       "      <td>0</td>\n",
       "      <td>--</td>\n",
       "      <td>1.0</td>\n",
       "      <td>--</td>\n",
       "      <td>--</td>\n",
       "      <td>1</td>\n",
       "      <td>...</td>\n",
       "      <td>0.0</td>\n",
       "      <td>1.0</td>\n",
       "      <td>--</td>\n",
       "      <td>1</td>\n",
       "      <td>--</td>\n",
       "      <td>--</td>\n",
       "      <td>--</td>\n",
       "      <td>--</td>\n",
       "      <td>--</td>\n",
       "      <td>0</td>\n",
       "    </tr>\n",
       "    <tr>\n",
       "      <th>max</th>\n",
       "      <td>11426957</td>\n",
       "      <td>8527919</td>\n",
       "      <td>528</td>\n",
       "      <td>--</td>\n",
       "      <td>110</td>\n",
       "      <td>--</td>\n",
       "      <td>5.0</td>\n",
       "      <td>--</td>\n",
       "      <td>--</td>\n",
       "      <td>2</td>\n",
       "      <td>...</td>\n",
       "      <td>401696600.0</td>\n",
       "      <td>5.0</td>\n",
       "      <td>--</td>\n",
       "      <td>3</td>\n",
       "      <td>--</td>\n",
       "      <td>--</td>\n",
       "      <td>--</td>\n",
       "      <td>--</td>\n",
       "      <td>--</td>\n",
       "      <td>1</td>\n",
       "    </tr>\n",
       "  </tbody>\n",
       "</table>\n",
       "<p>7 rows × 22 columns</p>\n",
       "</div>"
      ],
      "text/plain": [
       "                          id         id_peserta              dati2 typefaskes  \\\n",
       "data_type              int64              int64              int64     string   \n",
       "count               11401882           11401882           11401882   11401882   \n",
       "NA                         0                  0                  0          0   \n",
       "mean       5712719.902465224  4199294.393911374  182.5299193589269         --   \n",
       "std           3298534.717968     2436248.842344         106.135201         --   \n",
       "min                        1                  1                  1         --   \n",
       "max                 11426957            8527919                528         --   \n",
       "\n",
       "                         usia    jenkel              pisat tgldatang  \\\n",
       "data_type               int64    string            float64    string   \n",
       "count                11401882  11401833           11401692  11401882   \n",
       "NA                          0        49                190         0   \n",
       "mean       37.056899992474925        --  2.498203512250638        --   \n",
       "std                 22.921875        --           1.390863        --   \n",
       "min                         0        --                1.0        --   \n",
       "max                       110        --                5.0        --   \n",
       "\n",
       "          tglpulang            jenispel  ...              biaya  \\\n",
       "data_type    string               int64  ...            float64   \n",
       "count      11401882            11401882  ...           11344067   \n",
       "NA                0                   0  ...              57815   \n",
       "mean             --  1.6455437795269237  ...  2146848.771842938   \n",
       "std              --            0.478348  ...     5207576.726626   \n",
       "min              --                   1  ...                0.0   \n",
       "max              --                   2  ...        401696600.0   \n",
       "\n",
       "                  jenispulang       cbg          kelasrawat      kdsa  \\\n",
       "data_type             float64    string               int64    string   \n",
       "count                11401843  11401882            11401882     14883   \n",
       "NA                         39         0                   0  11386999   \n",
       "mean       1.0945962858811509        --  2.7846950178926604        --   \n",
       "std                  0.513155        --            0.551147        --   \n",
       "min                       1.0        --                   1        --   \n",
       "max                       5.0        --                   3        --   \n",
       "\n",
       "               kdsp      kdsr      kdsi      kdsd                 label  \n",
       "data_type    string    string    string    string                 int64  \n",
       "count         74517      8538     11359    154090              11401882  \n",
       "NA         11327365  11393344  11390523  11247792                     0  \n",
       "mean             --        --        --        --  0.013759921388416403  \n",
       "std              --        --        --        --              0.116493  \n",
       "min              --        --        --        --                     0  \n",
       "max              --        --        --        --                     1  \n",
       "\n",
       "[7 rows x 22 columns]"
      ]
     },
     "execution_count": 46,
     "metadata": {},
     "output_type": "execute_result"
    }
   ],
   "source": [
    "df.describe()"
   ]
  },
  {
   "cell_type": "markdown",
   "metadata": {},
   "source": [
    "### Drop Column"
   ]
  },
  {
   "cell_type": "code",
   "execution_count": 4,
   "metadata": {},
   "outputs": [
    {
     "name": "stdout",
     "output_type": "stream",
     "text": [
      "CPU times: total: 0 ns\n",
      "Wall time: 2.68 ms\n"
     ]
    }
   ],
   "source": [
    "%%time\n",
    "\n",
    "df = df.drop(['id_peserta','cbg', 'kdsa', 'kdsp', 'kdsr', 'kdsi', 'kdsd'])\n"
   ]
  },
  {
   "cell_type": "code",
   "execution_count": 5,
   "metadata": {},
   "outputs": [
    {
     "data": {
      "text/html": [
       "<div>\n",
       "<style scoped>\n",
       "    .dataframe tbody tr th:only-of-type {\n",
       "        vertical-align: middle;\n",
       "    }\n",
       "\n",
       "    .dataframe tbody tr th {\n",
       "        vertical-align: top;\n",
       "    }\n",
       "\n",
       "    .dataframe thead th {\n",
       "        text-align: right;\n",
       "    }\n",
       "</style>\n",
       "<table border=\"1\" class=\"dataframe\">\n",
       "  <thead>\n",
       "    <tr style=\"text-align: right;\">\n",
       "      <th></th>\n",
       "      <th>id</th>\n",
       "      <th>dati2</th>\n",
       "      <th>typefaskes</th>\n",
       "      <th>usia</th>\n",
       "      <th>jenkel</th>\n",
       "      <th>pisat</th>\n",
       "      <th>tgldatang</th>\n",
       "      <th>tglpulang</th>\n",
       "      <th>jenispel</th>\n",
       "      <th>politujuan</th>\n",
       "      <th>diagfktp</th>\n",
       "      <th>biaya</th>\n",
       "      <th>jenispulang</th>\n",
       "      <th>kelasrawat</th>\n",
       "      <th>label</th>\n",
       "    </tr>\n",
       "  </thead>\n",
       "  <tbody>\n",
       "    <tr>\n",
       "      <th>data_type</th>\n",
       "      <td>int64</td>\n",
       "      <td>int64</td>\n",
       "      <td>string</td>\n",
       "      <td>int64</td>\n",
       "      <td>string</td>\n",
       "      <td>float64</td>\n",
       "      <td>string</td>\n",
       "      <td>string</td>\n",
       "      <td>int64</td>\n",
       "      <td>string</td>\n",
       "      <td>string</td>\n",
       "      <td>float64</td>\n",
       "      <td>float64</td>\n",
       "      <td>int64</td>\n",
       "      <td>int64</td>\n",
       "    </tr>\n",
       "    <tr>\n",
       "      <th>count</th>\n",
       "      <td>11401882</td>\n",
       "      <td>11401882</td>\n",
       "      <td>11401882</td>\n",
       "      <td>11401882</td>\n",
       "      <td>11401833</td>\n",
       "      <td>11401692</td>\n",
       "      <td>11401882</td>\n",
       "      <td>11401882</td>\n",
       "      <td>11401882</td>\n",
       "      <td>7360427</td>\n",
       "      <td>11399352</td>\n",
       "      <td>11344067</td>\n",
       "      <td>11401843</td>\n",
       "      <td>11401882</td>\n",
       "      <td>11401882</td>\n",
       "    </tr>\n",
       "    <tr>\n",
       "      <th>NA</th>\n",
       "      <td>0</td>\n",
       "      <td>0</td>\n",
       "      <td>0</td>\n",
       "      <td>0</td>\n",
       "      <td>49</td>\n",
       "      <td>190</td>\n",
       "      <td>0</td>\n",
       "      <td>0</td>\n",
       "      <td>0</td>\n",
       "      <td>4041455</td>\n",
       "      <td>2530</td>\n",
       "      <td>57815</td>\n",
       "      <td>39</td>\n",
       "      <td>0</td>\n",
       "      <td>0</td>\n",
       "    </tr>\n",
       "    <tr>\n",
       "      <th>mean</th>\n",
       "      <td>5712719.902465224</td>\n",
       "      <td>182.5299193589269</td>\n",
       "      <td>--</td>\n",
       "      <td>37.056899992474925</td>\n",
       "      <td>--</td>\n",
       "      <td>2.498203512250638</td>\n",
       "      <td>--</td>\n",
       "      <td>--</td>\n",
       "      <td>1.6455437795269237</td>\n",
       "      <td>--</td>\n",
       "      <td>--</td>\n",
       "      <td>2146848.771842938</td>\n",
       "      <td>1.0945962858811509</td>\n",
       "      <td>2.7846950178926604</td>\n",
       "      <td>0.013759921388416403</td>\n",
       "    </tr>\n",
       "    <tr>\n",
       "      <th>std</th>\n",
       "      <td>3298534.717968</td>\n",
       "      <td>106.135201</td>\n",
       "      <td>--</td>\n",
       "      <td>22.921875</td>\n",
       "      <td>--</td>\n",
       "      <td>1.390863</td>\n",
       "      <td>--</td>\n",
       "      <td>--</td>\n",
       "      <td>0.478348</td>\n",
       "      <td>--</td>\n",
       "      <td>--</td>\n",
       "      <td>5207576.726626</td>\n",
       "      <td>0.513155</td>\n",
       "      <td>0.551147</td>\n",
       "      <td>0.116493</td>\n",
       "    </tr>\n",
       "    <tr>\n",
       "      <th>min</th>\n",
       "      <td>1</td>\n",
       "      <td>1</td>\n",
       "      <td>--</td>\n",
       "      <td>0</td>\n",
       "      <td>--</td>\n",
       "      <td>1.0</td>\n",
       "      <td>--</td>\n",
       "      <td>--</td>\n",
       "      <td>1</td>\n",
       "      <td>--</td>\n",
       "      <td>--</td>\n",
       "      <td>0.0</td>\n",
       "      <td>1.0</td>\n",
       "      <td>1</td>\n",
       "      <td>0</td>\n",
       "    </tr>\n",
       "    <tr>\n",
       "      <th>max</th>\n",
       "      <td>11426957</td>\n",
       "      <td>528</td>\n",
       "      <td>--</td>\n",
       "      <td>110</td>\n",
       "      <td>--</td>\n",
       "      <td>5.0</td>\n",
       "      <td>--</td>\n",
       "      <td>--</td>\n",
       "      <td>2</td>\n",
       "      <td>--</td>\n",
       "      <td>--</td>\n",
       "      <td>401696600.0</td>\n",
       "      <td>5.0</td>\n",
       "      <td>3</td>\n",
       "      <td>1</td>\n",
       "    </tr>\n",
       "  </tbody>\n",
       "</table>\n",
       "</div>"
      ],
      "text/plain": [
       "                          id              dati2 typefaskes  \\\n",
       "data_type              int64              int64     string   \n",
       "count               11401882           11401882   11401882   \n",
       "NA                         0                  0          0   \n",
       "mean       5712719.902465224  182.5299193589269         --   \n",
       "std           3298534.717968         106.135201         --   \n",
       "min                        1                  1         --   \n",
       "max                 11426957                528         --   \n",
       "\n",
       "                         usia    jenkel              pisat tgldatang  \\\n",
       "data_type               int64    string            float64    string   \n",
       "count                11401882  11401833           11401692  11401882   \n",
       "NA                          0        49                190         0   \n",
       "mean       37.056899992474925        --  2.498203512250638        --   \n",
       "std                 22.921875        --           1.390863        --   \n",
       "min                         0        --                1.0        --   \n",
       "max                       110        --                5.0        --   \n",
       "\n",
       "          tglpulang            jenispel politujuan  diagfktp  \\\n",
       "data_type    string               int64     string    string   \n",
       "count      11401882            11401882    7360427  11399352   \n",
       "NA                0                   0    4041455      2530   \n",
       "mean             --  1.6455437795269237         --        --   \n",
       "std              --            0.478348         --        --   \n",
       "min              --                   1         --        --   \n",
       "max              --                   2         --        --   \n",
       "\n",
       "                       biaya         jenispulang          kelasrawat  \\\n",
       "data_type            float64             float64               int64   \n",
       "count               11344067            11401843            11401882   \n",
       "NA                     57815                  39                   0   \n",
       "mean       2146848.771842938  1.0945962858811509  2.7846950178926604   \n",
       "std           5207576.726626            0.513155            0.551147   \n",
       "min                      0.0                 1.0                   1   \n",
       "max              401696600.0                 5.0                   3   \n",
       "\n",
       "                          label  \n",
       "data_type                 int64  \n",
       "count                  11401882  \n",
       "NA                            0  \n",
       "mean       0.013759921388416403  \n",
       "std                    0.116493  \n",
       "min                           0  \n",
       "max                           1  "
      ]
     },
     "execution_count": 5,
     "metadata": {},
     "output_type": "execute_result"
    }
   ],
   "source": [
    "df.describe()"
   ]
  },
  {
   "cell_type": "markdown",
   "metadata": {},
   "source": [
    "Kolom yang perlu diperhatikan data kosongnya:\n",
    "- Poli Tujuan\n",
    "- Biaya\n",
    "- diagfktp\n"
   ]
  },
  {
   "cell_type": "code",
   "execution_count": 6,
   "metadata": {},
   "outputs": [
    {
     "data": {
      "text/html": [
       "<table>\n",
       "<thead>\n",
       "<tr><th>#                                     </th><th>id      </th><th>dati2  </th><th>typefaskes  </th><th>usia  </th><th>jenkel  </th><th>pisat  </th><th>tgldatang               </th><th>tglpulang               </th><th>jenispel  </th><th>politujuan  </th><th>diagfktp  </th><th>biaya     </th><th>jenispulang  </th><th>kelasrawat  </th><th>label  </th></tr>\n",
       "</thead>\n",
       "<tbody>\n",
       "<tr><td><i style='opacity: 0.6'>0</i>         </td><td>165666  </td><td>17     </td><td>KL          </td><td>48    </td><td>P       </td><td>1.0    </td><td>2018-07-25T17:00:00.000Z</td><td>2018-07-25T17:00:00.000Z</td><td>2         </td><td>THT         </td><td>L02.8     </td><td>184300.0  </td><td>1.0          </td><td>3           </td><td>0      </td></tr>\n",
       "<tr><td><i style='opacity: 0.6'>1</i>         </td><td>1010828 </td><td>17     </td><td>A           </td><td>63    </td><td>L       </td><td>1.0    </td><td>2019-05-27T17:00:00.000Z</td><td>2019-05-30T17:00:00.000Z</td><td>1         </td><td>--          </td><td>R23.1     </td><td>10628400.0</td><td>1.0          </td><td>1           </td><td>0      </td></tr>\n",
       "<tr><td><i style='opacity: 0.6'>2</i>         </td><td>166042  </td><td>17     </td><td>KL          </td><td>53    </td><td>P       </td><td>1.0    </td><td>2019-07-16T17:00:00.000Z</td><td>2019-07-16T17:00:00.000Z</td><td>2         </td><td>INT         </td><td>E10.5     </td><td>187300.0  </td><td>1.0          </td><td>3           </td><td>0      </td></tr>\n",
       "<tr><td><i style='opacity: 0.6'>3</i>         </td><td>168937  </td><td>17     </td><td>KL          </td><td>54    </td><td>P       </td><td>1.0    </td><td>2019-10-17T17:00:00.000Z</td><td>2019-10-17T17:00:00.000Z</td><td>2         </td><td>MAT         </td><td>H54.2     </td><td>187300.0  </td><td>1.0          </td><td>3           </td><td>0      </td></tr>\n",
       "<tr><td><i style='opacity: 0.6'>4</i>         </td><td>1005899 </td><td>17     </td><td>A           </td><td>53    </td><td>P       </td><td>1.0    </td><td>2018-04-18T17:00:00.000Z</td><td>2018-04-18T17:00:00.000Z</td><td>2         </td><td>SAR         </td><td>M54.5     </td><td>381600.0  </td><td>1.0          </td><td>3           </td><td>0      </td></tr>\n",
       "<tr><td>...                                   </td><td>...     </td><td>...    </td><td>...         </td><td>...   </td><td>...     </td><td>...    </td><td>...                     </td><td>...                     </td><td>...       </td><td>...         </td><td>...       </td><td>...       </td><td>...          </td><td>...         </td><td>...    </td></tr>\n",
       "<tr><td><i style='opacity: 0.6'>11,401,877</i></td><td>9983563 </td><td>301    </td><td>B           </td><td>0     </td><td>P       </td><td>4.0    </td><td>2020-12-30T17:00:00.000Z</td><td>2021-01-03T17:00:00.000Z</td><td>1         </td><td>--          </td><td>Z71.8     </td><td>3645100.0 </td><td>1.0          </td><td>3           </td><td>0      </td></tr>\n",
       "<tr><td><i style='opacity: 0.6'>11,401,878</i></td><td>11053870</td><td>233    </td><td>A           </td><td>0     </td><td>P       </td><td>4.0    </td><td>2020-12-30T17:00:00.000Z</td><td>2021-01-03T17:00:00.000Z</td><td>1         </td><td>--          </td><td>P59.9     </td><td>12273200.0</td><td>1.0          </td><td>2           </td><td>0      </td></tr>\n",
       "<tr><td><i style='opacity: 0.6'>11,401,879</i></td><td>7461049 </td><td>118    </td><td>B           </td><td>0     </td><td>L       </td><td>4.0    </td><td>2020-12-30T17:00:00.000Z</td><td>2021-01-06T17:00:00.000Z</td><td>1         </td><td>--          </td><td>P24.8     </td><td>4099000.0 </td><td>1.0          </td><td>3           </td><td>0      </td></tr>\n",
       "<tr><td><i style='opacity: 0.6'>11,401,880</i></td><td>1075162 </td><td>101    </td><td>SC          </td><td>0     </td><td>L       </td><td>5.0    </td><td>2020-12-29T17:00:00.000Z</td><td>2020-12-31T17:00:00.000Z</td><td>1         </td><td>--          </td><td>P03       </td><td>3992400.0 </td><td>1.0          </td><td>3           </td><td>0      </td></tr>\n",
       "<tr><td><i style='opacity: 0.6'>11,401,881</i></td><td>102794  </td><td>12     </td><td>SD          </td><td>0     </td><td>P       </td><td>4.0    </td><td>2020-12-29T17:00:00.000Z</td><td>2020-12-31T17:00:00.000Z</td><td>1         </td><td>--          </td><td>P21.1     </td><td>1624900.0 </td><td>1.0          </td><td>3           </td><td>0      </td></tr>\n",
       "</tbody>\n",
       "</table>"
      ],
      "text/plain": [
       "#           id        dati2    typefaskes    usia    jenkel    pisat    tgldatang                 tglpulang                 jenispel    politujuan    diagfktp    biaya       jenispulang    kelasrawat    label\n",
       "0           165666    17       KL            48      P         1.0      2018-07-25T17:00:00.000Z  2018-07-25T17:00:00.000Z  2           THT           L02.8       184300.0    1.0            3             0\n",
       "1           1010828   17       A             63      L         1.0      2019-05-27T17:00:00.000Z  2019-05-30T17:00:00.000Z  1           --            R23.1       10628400.0  1.0            1             0\n",
       "2           166042    17       KL            53      P         1.0      2019-07-16T17:00:00.000Z  2019-07-16T17:00:00.000Z  2           INT           E10.5       187300.0    1.0            3             0\n",
       "3           168937    17       KL            54      P         1.0      2019-10-17T17:00:00.000Z  2019-10-17T17:00:00.000Z  2           MAT           H54.2       187300.0    1.0            3             0\n",
       "4           1005899   17       A             53      P         1.0      2018-04-18T17:00:00.000Z  2018-04-18T17:00:00.000Z  2           SAR           M54.5       381600.0    1.0            3             0\n",
       "...         ...       ...      ...           ...     ...       ...      ...                       ...                       ...         ...           ...         ...         ...            ...           ...\n",
       "11,401,877  9983563   301      B             0       P         4.0      2020-12-30T17:00:00.000Z  2021-01-03T17:00:00.000Z  1           --            Z71.8       3645100.0   1.0            3             0\n",
       "11,401,878  11053870  233      A             0       P         4.0      2020-12-30T17:00:00.000Z  2021-01-03T17:00:00.000Z  1           --            P59.9       12273200.0  1.0            2             0\n",
       "11,401,879  7461049   118      B             0       L         4.0      2020-12-30T17:00:00.000Z  2021-01-06T17:00:00.000Z  1           --            P24.8       4099000.0   1.0            3             0\n",
       "11,401,880  1075162   101      SC            0       L         5.0      2020-12-29T17:00:00.000Z  2020-12-31T17:00:00.000Z  1           --            P03         3992400.0   1.0            3             0\n",
       "11,401,881  102794    12       SD            0       P         4.0      2020-12-29T17:00:00.000Z  2020-12-31T17:00:00.000Z  1           --            P21.1       1624900.0   1.0            3             0"
      ]
     },
     "execution_count": 6,
     "metadata": {},
     "output_type": "execute_result"
    }
   ],
   "source": [
    "df"
   ]
  },
  {
   "cell_type": "code",
   "execution_count": 7,
   "metadata": {},
   "outputs": [
    {
     "data": {
      "text/html": [
       "<table>\n",
       "<thead>\n",
       "<tr><th>#                                     </th><th>id      </th><th>dati2  </th><th>typefaskes  </th><th>usia  </th><th>jenkel  </th><th>pisat  </th><th>tgldatang               </th><th>tglpulang               </th><th>jenispel  </th><th>politujuan  </th><th>diagfktp  </th><th>biaya     </th><th>jenispulang  </th><th>kelasrawat  </th><th>label  </th><th>tgl_datang_clean       </th><th>tgl_pulang_clean       </th></tr>\n",
       "</thead>\n",
       "<tbody>\n",
       "<tr><td><i style='opacity: 0.6'>0</i>         </td><td>165666  </td><td>17     </td><td>KL          </td><td>48    </td><td>P       </td><td>1.0    </td><td>2018-07-25T17:00:00.000Z</td><td>2018-07-25T17:00:00.000Z</td><td>2         </td><td>THT         </td><td>L02.8     </td><td>184300.0  </td><td>1.0          </td><td>3           </td><td>0      </td><td>2018-07-25T17:00:00.000</td><td>2018-07-25T17:00:00.000</td></tr>\n",
       "<tr><td><i style='opacity: 0.6'>1</i>         </td><td>1010828 </td><td>17     </td><td>A           </td><td>63    </td><td>L       </td><td>1.0    </td><td>2019-05-27T17:00:00.000Z</td><td>2019-05-30T17:00:00.000Z</td><td>1         </td><td>--          </td><td>R23.1     </td><td>10628400.0</td><td>1.0          </td><td>1           </td><td>0      </td><td>2019-05-27T17:00:00.000</td><td>2019-05-30T17:00:00.000</td></tr>\n",
       "<tr><td><i style='opacity: 0.6'>2</i>         </td><td>166042  </td><td>17     </td><td>KL          </td><td>53    </td><td>P       </td><td>1.0    </td><td>2019-07-16T17:00:00.000Z</td><td>2019-07-16T17:00:00.000Z</td><td>2         </td><td>INT         </td><td>E10.5     </td><td>187300.0  </td><td>1.0          </td><td>3           </td><td>0      </td><td>2019-07-16T17:00:00.000</td><td>2019-07-16T17:00:00.000</td></tr>\n",
       "<tr><td><i style='opacity: 0.6'>3</i>         </td><td>168937  </td><td>17     </td><td>KL          </td><td>54    </td><td>P       </td><td>1.0    </td><td>2019-10-17T17:00:00.000Z</td><td>2019-10-17T17:00:00.000Z</td><td>2         </td><td>MAT         </td><td>H54.2     </td><td>187300.0  </td><td>1.0          </td><td>3           </td><td>0      </td><td>2019-10-17T17:00:00.000</td><td>2019-10-17T17:00:00.000</td></tr>\n",
       "<tr><td><i style='opacity: 0.6'>4</i>         </td><td>1005899 </td><td>17     </td><td>A           </td><td>53    </td><td>P       </td><td>1.0    </td><td>2018-04-18T17:00:00.000Z</td><td>2018-04-18T17:00:00.000Z</td><td>2         </td><td>SAR         </td><td>M54.5     </td><td>381600.0  </td><td>1.0          </td><td>3           </td><td>0      </td><td>2018-04-18T17:00:00.000</td><td>2018-04-18T17:00:00.000</td></tr>\n",
       "<tr><td>...                                   </td><td>...     </td><td>...    </td><td>...         </td><td>...   </td><td>...     </td><td>...    </td><td>...                     </td><td>...                     </td><td>...       </td><td>...         </td><td>...       </td><td>...       </td><td>...          </td><td>...         </td><td>...    </td><td>...                    </td><td>...                    </td></tr>\n",
       "<tr><td><i style='opacity: 0.6'>11,401,877</i></td><td>9983563 </td><td>301    </td><td>B           </td><td>0     </td><td>P       </td><td>4.0    </td><td>2020-12-30T17:00:00.000Z</td><td>2021-01-03T17:00:00.000Z</td><td>1         </td><td>--          </td><td>Z71.8     </td><td>3645100.0 </td><td>1.0          </td><td>3           </td><td>0      </td><td>2020-12-30T17:00:00.000</td><td>2021-01-03T17:00:00.000</td></tr>\n",
       "<tr><td><i style='opacity: 0.6'>11,401,878</i></td><td>11053870</td><td>233    </td><td>A           </td><td>0     </td><td>P       </td><td>4.0    </td><td>2020-12-30T17:00:00.000Z</td><td>2021-01-03T17:00:00.000Z</td><td>1         </td><td>--          </td><td>P59.9     </td><td>12273200.0</td><td>1.0          </td><td>2           </td><td>0      </td><td>2020-12-30T17:00:00.000</td><td>2021-01-03T17:00:00.000</td></tr>\n",
       "<tr><td><i style='opacity: 0.6'>11,401,879</i></td><td>7461049 </td><td>118    </td><td>B           </td><td>0     </td><td>L       </td><td>4.0    </td><td>2020-12-30T17:00:00.000Z</td><td>2021-01-06T17:00:00.000Z</td><td>1         </td><td>--          </td><td>P24.8     </td><td>4099000.0 </td><td>1.0          </td><td>3           </td><td>0      </td><td>2020-12-30T17:00:00.000</td><td>2021-01-06T17:00:00.000</td></tr>\n",
       "<tr><td><i style='opacity: 0.6'>11,401,880</i></td><td>1075162 </td><td>101    </td><td>SC          </td><td>0     </td><td>L       </td><td>5.0    </td><td>2020-12-29T17:00:00.000Z</td><td>2020-12-31T17:00:00.000Z</td><td>1         </td><td>--          </td><td>P03       </td><td>3992400.0 </td><td>1.0          </td><td>3           </td><td>0      </td><td>2020-12-29T17:00:00.000</td><td>2020-12-31T17:00:00.000</td></tr>\n",
       "<tr><td><i style='opacity: 0.6'>11,401,881</i></td><td>102794  </td><td>12     </td><td>SD          </td><td>0     </td><td>P       </td><td>4.0    </td><td>2020-12-29T17:00:00.000Z</td><td>2020-12-31T17:00:00.000Z</td><td>1         </td><td>--          </td><td>P21.1     </td><td>1624900.0 </td><td>1.0          </td><td>3           </td><td>0      </td><td>2020-12-29T17:00:00.000</td><td>2020-12-31T17:00:00.000</td></tr>\n",
       "</tbody>\n",
       "</table>"
      ],
      "text/plain": [
       "#           id        dati2    typefaskes    usia    jenkel    pisat    tgldatang                 tglpulang                 jenispel    politujuan    diagfktp    biaya       jenispulang    kelasrawat    label    tgl_datang_clean         tgl_pulang_clean\n",
       "0           165666    17       KL            48      P         1.0      2018-07-25T17:00:00.000Z  2018-07-25T17:00:00.000Z  2           THT           L02.8       184300.0    1.0            3             0        2018-07-25T17:00:00.000  2018-07-25T17:00:00.000\n",
       "1           1010828   17       A             63      L         1.0      2019-05-27T17:00:00.000Z  2019-05-30T17:00:00.000Z  1           --            R23.1       10628400.0  1.0            1             0        2019-05-27T17:00:00.000  2019-05-30T17:00:00.000\n",
       "2           166042    17       KL            53      P         1.0      2019-07-16T17:00:00.000Z  2019-07-16T17:00:00.000Z  2           INT           E10.5       187300.0    1.0            3             0        2019-07-16T17:00:00.000  2019-07-16T17:00:00.000\n",
       "3           168937    17       KL            54      P         1.0      2019-10-17T17:00:00.000Z  2019-10-17T17:00:00.000Z  2           MAT           H54.2       187300.0    1.0            3             0        2019-10-17T17:00:00.000  2019-10-17T17:00:00.000\n",
       "4           1005899   17       A             53      P         1.0      2018-04-18T17:00:00.000Z  2018-04-18T17:00:00.000Z  2           SAR           M54.5       381600.0    1.0            3             0        2018-04-18T17:00:00.000  2018-04-18T17:00:00.000\n",
       "...         ...       ...      ...           ...     ...       ...      ...                       ...                       ...         ...           ...         ...         ...            ...           ...      ...                      ...\n",
       "11,401,877  9983563   301      B             0       P         4.0      2020-12-30T17:00:00.000Z  2021-01-03T17:00:00.000Z  1           --            Z71.8       3645100.0   1.0            3             0        2020-12-30T17:00:00.000  2021-01-03T17:00:00.000\n",
       "11,401,878  11053870  233      A             0       P         4.0      2020-12-30T17:00:00.000Z  2021-01-03T17:00:00.000Z  1           --            P59.9       12273200.0  1.0            2             0        2020-12-30T17:00:00.000  2021-01-03T17:00:00.000\n",
       "11,401,879  7461049   118      B             0       L         4.0      2020-12-30T17:00:00.000Z  2021-01-06T17:00:00.000Z  1           --            P24.8       4099000.0   1.0            3             0        2020-12-30T17:00:00.000  2021-01-06T17:00:00.000\n",
       "11,401,880  1075162   101      SC            0       L         5.0      2020-12-29T17:00:00.000Z  2020-12-31T17:00:00.000Z  1           --            P03         3992400.0   1.0            3             0        2020-12-29T17:00:00.000  2020-12-31T17:00:00.000\n",
       "11,401,881  102794    12       SD            0       P         4.0      2020-12-29T17:00:00.000Z  2020-12-31T17:00:00.000Z  1           --            P21.1       1624900.0   1.0            3             0        2020-12-29T17:00:00.000  2020-12-31T17:00:00.000"
      ]
     },
     "execution_count": 7,
     "metadata": {},
     "output_type": "execute_result"
    }
   ],
   "source": [
    "df['tgl_datang_clean'] = df['tgldatang'].str.replace('Z', '')\n",
    "df['tgl_pulang_clean'] = df['tglpulang'].str.replace('Z', '')\n",
    "df"
   ]
  },
  {
   "cell_type": "code",
   "execution_count": 8,
   "metadata": {},
   "outputs": [
    {
     "data": {
      "text/html": [
       "<table>\n",
       "<thead>\n",
       "<tr><th>#                                     </th><th>id      </th><th>dati2  </th><th>typefaskes  </th><th>usia  </th><th>jenkel  </th><th>pisat  </th><th>tgldatang               </th><th>tglpulang               </th><th>jenispel  </th><th>politujuan  </th><th>diagfktp  </th><th>biaya     </th><th>jenispulang  </th><th>kelasrawat  </th><th>label  </th><th>tgl_datang_clean       </th><th>tgl_pulang_clean       </th><th>datang_dt          </th><th>pulang_dt          </th></tr>\n",
       "</thead>\n",
       "<tbody>\n",
       "<tr><td><i style='opacity: 0.6'>0</i>         </td><td>165666  </td><td>17     </td><td>KL          </td><td>48    </td><td>P       </td><td>1.0    </td><td>2018-07-25T17:00:00.000Z</td><td>2018-07-25T17:00:00.000Z</td><td>2         </td><td>THT         </td><td>L02.8     </td><td>184300.0  </td><td>1.0          </td><td>3           </td><td>0      </td><td>2018-07-25T17:00:00.000</td><td>2018-07-25T17:00:00.000</td><td>2018-07-25 17:00:00</td><td>2018-07-25 17:00:00</td></tr>\n",
       "<tr><td><i style='opacity: 0.6'>1</i>         </td><td>1010828 </td><td>17     </td><td>A           </td><td>63    </td><td>L       </td><td>1.0    </td><td>2019-05-27T17:00:00.000Z</td><td>2019-05-30T17:00:00.000Z</td><td>1         </td><td>--          </td><td>R23.1     </td><td>10628400.0</td><td>1.0          </td><td>1           </td><td>0      </td><td>2019-05-27T17:00:00.000</td><td>2019-05-30T17:00:00.000</td><td>2019-05-27 17:00:00</td><td>2019-05-30 17:00:00</td></tr>\n",
       "<tr><td><i style='opacity: 0.6'>2</i>         </td><td>166042  </td><td>17     </td><td>KL          </td><td>53    </td><td>P       </td><td>1.0    </td><td>2019-07-16T17:00:00.000Z</td><td>2019-07-16T17:00:00.000Z</td><td>2         </td><td>INT         </td><td>E10.5     </td><td>187300.0  </td><td>1.0          </td><td>3           </td><td>0      </td><td>2019-07-16T17:00:00.000</td><td>2019-07-16T17:00:00.000</td><td>2019-07-16 17:00:00</td><td>2019-07-16 17:00:00</td></tr>\n",
       "<tr><td><i style='opacity: 0.6'>3</i>         </td><td>168937  </td><td>17     </td><td>KL          </td><td>54    </td><td>P       </td><td>1.0    </td><td>2019-10-17T17:00:00.000Z</td><td>2019-10-17T17:00:00.000Z</td><td>2         </td><td>MAT         </td><td>H54.2     </td><td>187300.0  </td><td>1.0          </td><td>3           </td><td>0      </td><td>2019-10-17T17:00:00.000</td><td>2019-10-17T17:00:00.000</td><td>2019-10-17 17:00:00</td><td>2019-10-17 17:00:00</td></tr>\n",
       "<tr><td><i style='opacity: 0.6'>4</i>         </td><td>1005899 </td><td>17     </td><td>A           </td><td>53    </td><td>P       </td><td>1.0    </td><td>2018-04-18T17:00:00.000Z</td><td>2018-04-18T17:00:00.000Z</td><td>2         </td><td>SAR         </td><td>M54.5     </td><td>381600.0  </td><td>1.0          </td><td>3           </td><td>0      </td><td>2018-04-18T17:00:00.000</td><td>2018-04-18T17:00:00.000</td><td>2018-04-18 17:00:00</td><td>2018-04-18 17:00:00</td></tr>\n",
       "<tr><td>...                                   </td><td>...     </td><td>...    </td><td>...         </td><td>...   </td><td>...     </td><td>...    </td><td>...                     </td><td>...                     </td><td>...       </td><td>...         </td><td>...       </td><td>...       </td><td>...          </td><td>...         </td><td>...    </td><td>...                    </td><td>...                    </td><td>...                </td><td>...                </td></tr>\n",
       "<tr><td><i style='opacity: 0.6'>11,401,877</i></td><td>9983563 </td><td>301    </td><td>B           </td><td>0     </td><td>P       </td><td>4.0    </td><td>2020-12-30T17:00:00.000Z</td><td>2021-01-03T17:00:00.000Z</td><td>1         </td><td>--          </td><td>Z71.8     </td><td>3645100.0 </td><td>1.0          </td><td>3           </td><td>0      </td><td>2020-12-30T17:00:00.000</td><td>2021-01-03T17:00:00.000</td><td>2020-12-30 17:00:00</td><td>2021-01-03 17:00:00</td></tr>\n",
       "<tr><td><i style='opacity: 0.6'>11,401,878</i></td><td>11053870</td><td>233    </td><td>A           </td><td>0     </td><td>P       </td><td>4.0    </td><td>2020-12-30T17:00:00.000Z</td><td>2021-01-03T17:00:00.000Z</td><td>1         </td><td>--          </td><td>P59.9     </td><td>12273200.0</td><td>1.0          </td><td>2           </td><td>0      </td><td>2020-12-30T17:00:00.000</td><td>2021-01-03T17:00:00.000</td><td>2020-12-30 17:00:00</td><td>2021-01-03 17:00:00</td></tr>\n",
       "<tr><td><i style='opacity: 0.6'>11,401,879</i></td><td>7461049 </td><td>118    </td><td>B           </td><td>0     </td><td>L       </td><td>4.0    </td><td>2020-12-30T17:00:00.000Z</td><td>2021-01-06T17:00:00.000Z</td><td>1         </td><td>--          </td><td>P24.8     </td><td>4099000.0 </td><td>1.0          </td><td>3           </td><td>0      </td><td>2020-12-30T17:00:00.000</td><td>2021-01-06T17:00:00.000</td><td>2020-12-30 17:00:00</td><td>2021-01-06 17:00:00</td></tr>\n",
       "<tr><td><i style='opacity: 0.6'>11,401,880</i></td><td>1075162 </td><td>101    </td><td>SC          </td><td>0     </td><td>L       </td><td>5.0    </td><td>2020-12-29T17:00:00.000Z</td><td>2020-12-31T17:00:00.000Z</td><td>1         </td><td>--          </td><td>P03       </td><td>3992400.0 </td><td>1.0          </td><td>3           </td><td>0      </td><td>2020-12-29T17:00:00.000</td><td>2020-12-31T17:00:00.000</td><td>2020-12-29 17:00:00</td><td>2020-12-31 17:00:00</td></tr>\n",
       "<tr><td><i style='opacity: 0.6'>11,401,881</i></td><td>102794  </td><td>12     </td><td>SD          </td><td>0     </td><td>P       </td><td>4.0    </td><td>2020-12-29T17:00:00.000Z</td><td>2020-12-31T17:00:00.000Z</td><td>1         </td><td>--          </td><td>P21.1     </td><td>1624900.0 </td><td>1.0          </td><td>3           </td><td>0      </td><td>2020-12-29T17:00:00.000</td><td>2020-12-31T17:00:00.000</td><td>2020-12-29 17:00:00</td><td>2020-12-31 17:00:00</td></tr>\n",
       "</tbody>\n",
       "</table>"
      ],
      "text/plain": [
       "#           id        dati2    typefaskes    usia    jenkel    pisat    tgldatang                 tglpulang                 jenispel    politujuan    diagfktp    biaya       jenispulang    kelasrawat    label    tgl_datang_clean         tgl_pulang_clean         datang_dt            pulang_dt\n",
       "0           165666    17       KL            48      P         1.0      2018-07-25T17:00:00.000Z  2018-07-25T17:00:00.000Z  2           THT           L02.8       184300.0    1.0            3             0        2018-07-25T17:00:00.000  2018-07-25T17:00:00.000  2018-07-25 17:00:00  2018-07-25 17:00:00\n",
       "1           1010828   17       A             63      L         1.0      2019-05-27T17:00:00.000Z  2019-05-30T17:00:00.000Z  1           --            R23.1       10628400.0  1.0            1             0        2019-05-27T17:00:00.000  2019-05-30T17:00:00.000  2019-05-27 17:00:00  2019-05-30 17:00:00\n",
       "2           166042    17       KL            53      P         1.0      2019-07-16T17:00:00.000Z  2019-07-16T17:00:00.000Z  2           INT           E10.5       187300.0    1.0            3             0        2019-07-16T17:00:00.000  2019-07-16T17:00:00.000  2019-07-16 17:00:00  2019-07-16 17:00:00\n",
       "3           168937    17       KL            54      P         1.0      2019-10-17T17:00:00.000Z  2019-10-17T17:00:00.000Z  2           MAT           H54.2       187300.0    1.0            3             0        2019-10-17T17:00:00.000  2019-10-17T17:00:00.000  2019-10-17 17:00:00  2019-10-17 17:00:00\n",
       "4           1005899   17       A             53      P         1.0      2018-04-18T17:00:00.000Z  2018-04-18T17:00:00.000Z  2           SAR           M54.5       381600.0    1.0            3             0        2018-04-18T17:00:00.000  2018-04-18T17:00:00.000  2018-04-18 17:00:00  2018-04-18 17:00:00\n",
       "...         ...       ...      ...           ...     ...       ...      ...                       ...                       ...         ...           ...         ...         ...            ...           ...      ...                      ...                      ...                  ...\n",
       "11,401,877  9983563   301      B             0       P         4.0      2020-12-30T17:00:00.000Z  2021-01-03T17:00:00.000Z  1           --            Z71.8       3645100.0   1.0            3             0        2020-12-30T17:00:00.000  2021-01-03T17:00:00.000  2020-12-30 17:00:00  2021-01-03 17:00:00\n",
       "11,401,878  11053870  233      A             0       P         4.0      2020-12-30T17:00:00.000Z  2021-01-03T17:00:00.000Z  1           --            P59.9       12273200.0  1.0            2             0        2020-12-30T17:00:00.000  2021-01-03T17:00:00.000  2020-12-30 17:00:00  2021-01-03 17:00:00\n",
       "11,401,879  7461049   118      B             0       L         4.0      2020-12-30T17:00:00.000Z  2021-01-06T17:00:00.000Z  1           --            P24.8       4099000.0   1.0            3             0        2020-12-30T17:00:00.000  2021-01-06T17:00:00.000  2020-12-30 17:00:00  2021-01-06 17:00:00\n",
       "11,401,880  1075162   101      SC            0       L         5.0      2020-12-29T17:00:00.000Z  2020-12-31T17:00:00.000Z  1           --            P03         3992400.0   1.0            3             0        2020-12-29T17:00:00.000  2020-12-31T17:00:00.000  2020-12-29 17:00:00  2020-12-31 17:00:00\n",
       "11,401,881  102794    12       SD            0       P         4.0      2020-12-29T17:00:00.000Z  2020-12-31T17:00:00.000Z  1           --            P21.1       1624900.0   1.0            3             0        2020-12-29T17:00:00.000  2020-12-31T17:00:00.000  2020-12-29 17:00:00  2020-12-31 17:00:00"
      ]
     },
     "execution_count": 8,
     "metadata": {},
     "output_type": "execute_result"
    }
   ],
   "source": [
    "df['datang_dt'] = df['tgl_datang_clean'].astype('datetime64[ns]')\n",
    "df['pulang_dt'] = df['tgl_pulang_clean'].astype('datetime64[ns]')\n",
    "df"
   ]
  },
  {
   "cell_type": "code",
   "execution_count": 9,
   "metadata": {},
   "outputs": [
    {
     "data": {
      "text/html": [
       "<table>\n",
       "<thead>\n",
       "<tr><th>#                                     </th><th>id      </th><th>dati2  </th><th>typefaskes  </th><th>usia  </th><th>jenkel  </th><th>pisat  </th><th>tgldatang               </th><th>tglpulang               </th><th>jenispel  </th><th>politujuan  </th><th>diagfktp  </th><th>biaya     </th><th>jenispulang  </th><th>kelasrawat  </th><th>label  </th><th>tgl_datang_clean       </th><th>tgl_pulang_clean       </th><th>datang_dt          </th><th>pulang_dt          </th><th>durasi_rawat  </th></tr>\n",
       "</thead>\n",
       "<tbody>\n",
       "<tr><td><i style='opacity: 0.6'>0</i>         </td><td>165666  </td><td>17     </td><td>KL          </td><td>48    </td><td>P       </td><td>1.0    </td><td>2018-07-25T17:00:00.000Z</td><td>2018-07-25T17:00:00.000Z</td><td>2         </td><td>THT         </td><td>L02.8     </td><td>184300.0  </td><td>1.0          </td><td>3           </td><td>0      </td><td>2018-07-25T17:00:00.000</td><td>2018-07-25T17:00:00.000</td><td>2018-07-25 17:00:00</td><td>2018-07-25 17:00:00</td><td>0             </td></tr>\n",
       "<tr><td><i style='opacity: 0.6'>1</i>         </td><td>1010828 </td><td>17     </td><td>A           </td><td>63    </td><td>L       </td><td>1.0    </td><td>2019-05-27T17:00:00.000Z</td><td>2019-05-30T17:00:00.000Z</td><td>1         </td><td>--          </td><td>R23.1     </td><td>10628400.0</td><td>1.0          </td><td>1           </td><td>0      </td><td>2019-05-27T17:00:00.000</td><td>2019-05-30T17:00:00.000</td><td>2019-05-27 17:00:00</td><td>2019-05-30 17:00:00</td><td>3             </td></tr>\n",
       "<tr><td><i style='opacity: 0.6'>2</i>         </td><td>166042  </td><td>17     </td><td>KL          </td><td>53    </td><td>P       </td><td>1.0    </td><td>2019-07-16T17:00:00.000Z</td><td>2019-07-16T17:00:00.000Z</td><td>2         </td><td>INT         </td><td>E10.5     </td><td>187300.0  </td><td>1.0          </td><td>3           </td><td>0      </td><td>2019-07-16T17:00:00.000</td><td>2019-07-16T17:00:00.000</td><td>2019-07-16 17:00:00</td><td>2019-07-16 17:00:00</td><td>0             </td></tr>\n",
       "<tr><td><i style='opacity: 0.6'>3</i>         </td><td>168937  </td><td>17     </td><td>KL          </td><td>54    </td><td>P       </td><td>1.0    </td><td>2019-10-17T17:00:00.000Z</td><td>2019-10-17T17:00:00.000Z</td><td>2         </td><td>MAT         </td><td>H54.2     </td><td>187300.0  </td><td>1.0          </td><td>3           </td><td>0      </td><td>2019-10-17T17:00:00.000</td><td>2019-10-17T17:00:00.000</td><td>2019-10-17 17:00:00</td><td>2019-10-17 17:00:00</td><td>0             </td></tr>\n",
       "<tr><td><i style='opacity: 0.6'>4</i>         </td><td>1005899 </td><td>17     </td><td>A           </td><td>53    </td><td>P       </td><td>1.0    </td><td>2018-04-18T17:00:00.000Z</td><td>2018-04-18T17:00:00.000Z</td><td>2         </td><td>SAR         </td><td>M54.5     </td><td>381600.0  </td><td>1.0          </td><td>3           </td><td>0      </td><td>2018-04-18T17:00:00.000</td><td>2018-04-18T17:00:00.000</td><td>2018-04-18 17:00:00</td><td>2018-04-18 17:00:00</td><td>0             </td></tr>\n",
       "<tr><td>...                                   </td><td>...     </td><td>...    </td><td>...         </td><td>...   </td><td>...     </td><td>...    </td><td>...                     </td><td>...                     </td><td>...       </td><td>...         </td><td>...       </td><td>...       </td><td>...          </td><td>...         </td><td>...    </td><td>...                    </td><td>...                    </td><td>...                </td><td>...                </td><td>...           </td></tr>\n",
       "<tr><td><i style='opacity: 0.6'>11,401,877</i></td><td>9983563 </td><td>301    </td><td>B           </td><td>0     </td><td>P       </td><td>4.0    </td><td>2020-12-30T17:00:00.000Z</td><td>2021-01-03T17:00:00.000Z</td><td>1         </td><td>--          </td><td>Z71.8     </td><td>3645100.0 </td><td>1.0          </td><td>3           </td><td>0      </td><td>2020-12-30T17:00:00.000</td><td>2021-01-03T17:00:00.000</td><td>2020-12-30 17:00:00</td><td>2021-01-03 17:00:00</td><td>4             </td></tr>\n",
       "<tr><td><i style='opacity: 0.6'>11,401,878</i></td><td>11053870</td><td>233    </td><td>A           </td><td>0     </td><td>P       </td><td>4.0    </td><td>2020-12-30T17:00:00.000Z</td><td>2021-01-03T17:00:00.000Z</td><td>1         </td><td>--          </td><td>P59.9     </td><td>12273200.0</td><td>1.0          </td><td>2           </td><td>0      </td><td>2020-12-30T17:00:00.000</td><td>2021-01-03T17:00:00.000</td><td>2020-12-30 17:00:00</td><td>2021-01-03 17:00:00</td><td>4             </td></tr>\n",
       "<tr><td><i style='opacity: 0.6'>11,401,879</i></td><td>7461049 </td><td>118    </td><td>B           </td><td>0     </td><td>L       </td><td>4.0    </td><td>2020-12-30T17:00:00.000Z</td><td>2021-01-06T17:00:00.000Z</td><td>1         </td><td>--          </td><td>P24.8     </td><td>4099000.0 </td><td>1.0          </td><td>3           </td><td>0      </td><td>2020-12-30T17:00:00.000</td><td>2021-01-06T17:00:00.000</td><td>2020-12-30 17:00:00</td><td>2021-01-06 17:00:00</td><td>7             </td></tr>\n",
       "<tr><td><i style='opacity: 0.6'>11,401,880</i></td><td>1075162 </td><td>101    </td><td>SC          </td><td>0     </td><td>L       </td><td>5.0    </td><td>2020-12-29T17:00:00.000Z</td><td>2020-12-31T17:00:00.000Z</td><td>1         </td><td>--          </td><td>P03       </td><td>3992400.0 </td><td>1.0          </td><td>3           </td><td>0      </td><td>2020-12-29T17:00:00.000</td><td>2020-12-31T17:00:00.000</td><td>2020-12-29 17:00:00</td><td>2020-12-31 17:00:00</td><td>2             </td></tr>\n",
       "<tr><td><i style='opacity: 0.6'>11,401,881</i></td><td>102794  </td><td>12     </td><td>SD          </td><td>0     </td><td>P       </td><td>4.0    </td><td>2020-12-29T17:00:00.000Z</td><td>2020-12-31T17:00:00.000Z</td><td>1         </td><td>--          </td><td>P21.1     </td><td>1624900.0 </td><td>1.0          </td><td>3           </td><td>0      </td><td>2020-12-29T17:00:00.000</td><td>2020-12-31T17:00:00.000</td><td>2020-12-29 17:00:00</td><td>2020-12-31 17:00:00</td><td>2             </td></tr>\n",
       "</tbody>\n",
       "</table>"
      ],
      "text/plain": [
       "#           id        dati2    typefaskes    usia    jenkel    pisat    tgldatang                 tglpulang                 jenispel    politujuan    diagfktp    biaya       jenispulang    kelasrawat    label    tgl_datang_clean         tgl_pulang_clean         datang_dt            pulang_dt            durasi_rawat\n",
       "0           165666    17       KL            48      P         1.0      2018-07-25T17:00:00.000Z  2018-07-25T17:00:00.000Z  2           THT           L02.8       184300.0    1.0            3             0        2018-07-25T17:00:00.000  2018-07-25T17:00:00.000  2018-07-25 17:00:00  2018-07-25 17:00:00  0\n",
       "1           1010828   17       A             63      L         1.0      2019-05-27T17:00:00.000Z  2019-05-30T17:00:00.000Z  1           --            R23.1       10628400.0  1.0            1             0        2019-05-27T17:00:00.000  2019-05-30T17:00:00.000  2019-05-27 17:00:00  2019-05-30 17:00:00  3\n",
       "2           166042    17       KL            53      P         1.0      2019-07-16T17:00:00.000Z  2019-07-16T17:00:00.000Z  2           INT           E10.5       187300.0    1.0            3             0        2019-07-16T17:00:00.000  2019-07-16T17:00:00.000  2019-07-16 17:00:00  2019-07-16 17:00:00  0\n",
       "3           168937    17       KL            54      P         1.0      2019-10-17T17:00:00.000Z  2019-10-17T17:00:00.000Z  2           MAT           H54.2       187300.0    1.0            3             0        2019-10-17T17:00:00.000  2019-10-17T17:00:00.000  2019-10-17 17:00:00  2019-10-17 17:00:00  0\n",
       "4           1005899   17       A             53      P         1.0      2018-04-18T17:00:00.000Z  2018-04-18T17:00:00.000Z  2           SAR           M54.5       381600.0    1.0            3             0        2018-04-18T17:00:00.000  2018-04-18T17:00:00.000  2018-04-18 17:00:00  2018-04-18 17:00:00  0\n",
       "...         ...       ...      ...           ...     ...       ...      ...                       ...                       ...         ...           ...         ...         ...            ...           ...      ...                      ...                      ...                  ...                  ...\n",
       "11,401,877  9983563   301      B             0       P         4.0      2020-12-30T17:00:00.000Z  2021-01-03T17:00:00.000Z  1           --            Z71.8       3645100.0   1.0            3             0        2020-12-30T17:00:00.000  2021-01-03T17:00:00.000  2020-12-30 17:00:00  2021-01-03 17:00:00  4\n",
       "11,401,878  11053870  233      A             0       P         4.0      2020-12-30T17:00:00.000Z  2021-01-03T17:00:00.000Z  1           --            P59.9       12273200.0  1.0            2             0        2020-12-30T17:00:00.000  2021-01-03T17:00:00.000  2020-12-30 17:00:00  2021-01-03 17:00:00  4\n",
       "11,401,879  7461049   118      B             0       L         4.0      2020-12-30T17:00:00.000Z  2021-01-06T17:00:00.000Z  1           --            P24.8       4099000.0   1.0            3             0        2020-12-30T17:00:00.000  2021-01-06T17:00:00.000  2020-12-30 17:00:00  2021-01-06 17:00:00  7\n",
       "11,401,880  1075162   101      SC            0       L         5.0      2020-12-29T17:00:00.000Z  2020-12-31T17:00:00.000Z  1           --            P03         3992400.0   1.0            3             0        2020-12-29T17:00:00.000  2020-12-31T17:00:00.000  2020-12-29 17:00:00  2020-12-31 17:00:00  2\n",
       "11,401,881  102794    12       SD            0       P         4.0      2020-12-29T17:00:00.000Z  2020-12-31T17:00:00.000Z  1           --            P21.1       1624900.0   1.0            3             0        2020-12-29T17:00:00.000  2020-12-31T17:00:00.000  2020-12-29 17:00:00  2020-12-31 17:00:00  2"
      ]
     },
     "execution_count": 9,
     "metadata": {},
     "output_type": "execute_result"
    }
   ],
   "source": [
    "df['durasi_rawat'] = (df['pulang_dt'] - df['datang_dt']).astype('timedelta64[D]').astype('int')\n",
    "df"
   ]
  },
  {
   "cell_type": "code",
   "execution_count": 10,
   "metadata": {},
   "outputs": [
    {
     "data": {
      "text/html": [
       "<style>.vaex-description pre {\n",
       "          max-width : 450px;\n",
       "          white-space : nowrap;\n",
       "          overflow : hidden;\n",
       "          text-overflow: ellipsis;\n",
       "        }\n",
       "\n",
       "        .vex-description pre:hover {\n",
       "          max-width : initial;\n",
       "          white-space: pre;\n",
       "        }</style>"
      ],
      "text/plain": [
       "<IPython.core.display.HTML object>"
      ]
     },
     "metadata": {},
     "output_type": "display_data"
    },
    {
     "data": {
      "text/html": [
       "<div><h2>sampling_healtkathon2022.csv</h2> <b>rows</b>: 11,401,882</div><h2>Columns:</h2><table class='table-striped'><thead><tr><th>column</th><th>type</th><th>unit</th><th>description</th><th>expression</th></tr></thead><tr><td>id</td><td>int64</td><td></td><td ><pre></pre></td><td></td></tr><tr><td>dati2</td><td>int64</td><td></td><td ><pre></pre></td><td></td></tr><tr><td>typefaskes</td><td>str</td><td></td><td ><pre></pre></td><td></td></tr><tr><td>usia</td><td>int64</td><td></td><td ><pre></pre></td><td></td></tr><tr><td>jenkel</td><td>str</td><td></td><td ><pre></pre></td><td></td></tr><tr><td>pisat</td><td>float64</td><td></td><td ><pre></pre></td><td></td></tr><tr><td>tgldatang</td><td>str</td><td></td><td ><pre></pre></td><td></td></tr><tr><td>tglpulang</td><td>str</td><td></td><td ><pre></pre></td><td></td></tr><tr><td>jenispel</td><td>int64</td><td></td><td ><pre></pre></td><td></td></tr><tr><td>politujuan</td><td>str</td><td></td><td ><pre></pre></td><td></td></tr><tr><td>diagfktp</td><td>str</td><td></td><td ><pre></pre></td><td></td></tr><tr><td>biaya</td><td>float64</td><td></td><td ><pre></pre></td><td></td></tr><tr><td>jenispulang</td><td>float64</td><td></td><td ><pre></pre></td><td></td></tr><tr><td>kelasrawat</td><td>int64</td><td></td><td ><pre></pre></td><td></td></tr><tr><td>label</td><td>int64</td><td></td><td ><pre></pre></td><td></td></tr><tr><td>tgl_datang_clean</td><td></i>virtual column</i></td><td></td><td ><pre></pre></td><td><code>str_replace(tgldatang, 'Z', '')</code></td></tr><tr><td>tgl_pulang_clean</td><td></i>virtual column</i></td><td></td><td ><pre></pre></td><td><code>str_replace(tglpulang, 'Z', '')</code></td></tr><tr><td>datang_dt</td><td></i>virtual column</i></td><td></td><td ><pre></pre></td><td><code>astype(tgl_datang_clean, 'datetime64[ns]')</code></td></tr><tr><td>pulang_dt</td><td></i>virtual column</i></td><td></td><td ><pre></pre></td><td><code>astype(tgl_pulang_clean, 'datetime64[ns]')</code></td></tr><tr><td>durasi_rawat</td><td></i>virtual column</i></td><td></td><td ><pre></pre></td><td><code>astype(astype((pulang_dt - datang_dt), 'timedelta64[D]'), 'int')</code></td></tr></table><h2>Data:</h2><table>\n",
       "<thead>\n",
       "<tr><th>#                                     </th><th>id      </th><th>dati2  </th><th>typefaskes  </th><th>usia  </th><th>jenkel  </th><th>pisat  </th><th>tgldatang               </th><th>tglpulang               </th><th>jenispel  </th><th>politujuan  </th><th>diagfktp  </th><th>biaya     </th><th>jenispulang  </th><th>kelasrawat  </th><th>label  </th><th>tgl_datang_clean       </th><th>tgl_pulang_clean       </th><th>datang_dt          </th><th>pulang_dt          </th><th>durasi_rawat  </th></tr>\n",
       "</thead>\n",
       "<tbody>\n",
       "<tr><td><i style='opacity: 0.6'>0</i>         </td><td>165666  </td><td>17     </td><td>KL          </td><td>48    </td><td>P       </td><td>1.0    </td><td>2018-07-25T17:00:00.000Z</td><td>2018-07-25T17:00:00.000Z</td><td>2         </td><td>THT         </td><td>L02.8     </td><td>184300.0  </td><td>1.0          </td><td>3           </td><td>0      </td><td>2018-07-25T17:00:00.000</td><td>2018-07-25T17:00:00.000</td><td>2018-07-25 17:00:00</td><td>2018-07-25 17:00:00</td><td>0             </td></tr>\n",
       "<tr><td><i style='opacity: 0.6'>1</i>         </td><td>1010828 </td><td>17     </td><td>A           </td><td>63    </td><td>L       </td><td>1.0    </td><td>2019-05-27T17:00:00.000Z</td><td>2019-05-30T17:00:00.000Z</td><td>1         </td><td>--          </td><td>R23.1     </td><td>10628400.0</td><td>1.0          </td><td>1           </td><td>0      </td><td>2019-05-27T17:00:00.000</td><td>2019-05-30T17:00:00.000</td><td>2019-05-27 17:00:00</td><td>2019-05-30 17:00:00</td><td>3             </td></tr>\n",
       "<tr><td><i style='opacity: 0.6'>2</i>         </td><td>166042  </td><td>17     </td><td>KL          </td><td>53    </td><td>P       </td><td>1.0    </td><td>2019-07-16T17:00:00.000Z</td><td>2019-07-16T17:00:00.000Z</td><td>2         </td><td>INT         </td><td>E10.5     </td><td>187300.0  </td><td>1.0          </td><td>3           </td><td>0      </td><td>2019-07-16T17:00:00.000</td><td>2019-07-16T17:00:00.000</td><td>2019-07-16 17:00:00</td><td>2019-07-16 17:00:00</td><td>0             </td></tr>\n",
       "<tr><td><i style='opacity: 0.6'>3</i>         </td><td>168937  </td><td>17     </td><td>KL          </td><td>54    </td><td>P       </td><td>1.0    </td><td>2019-10-17T17:00:00.000Z</td><td>2019-10-17T17:00:00.000Z</td><td>2         </td><td>MAT         </td><td>H54.2     </td><td>187300.0  </td><td>1.0          </td><td>3           </td><td>0      </td><td>2019-10-17T17:00:00.000</td><td>2019-10-17T17:00:00.000</td><td>2019-10-17 17:00:00</td><td>2019-10-17 17:00:00</td><td>0             </td></tr>\n",
       "<tr><td><i style='opacity: 0.6'>4</i>         </td><td>1005899 </td><td>17     </td><td>A           </td><td>53    </td><td>P       </td><td>1.0    </td><td>2018-04-18T17:00:00.000Z</td><td>2018-04-18T17:00:00.000Z</td><td>2         </td><td>SAR         </td><td>M54.5     </td><td>381600.0  </td><td>1.0          </td><td>3           </td><td>0      </td><td>2018-04-18T17:00:00.000</td><td>2018-04-18T17:00:00.000</td><td>2018-04-18 17:00:00</td><td>2018-04-18 17:00:00</td><td>0             </td></tr>\n",
       "<tr><td>...                                   </td><td>...     </td><td>...    </td><td>...         </td><td>...   </td><td>...     </td><td>...    </td><td>...                     </td><td>...                     </td><td>...       </td><td>...         </td><td>...       </td><td>...       </td><td>...          </td><td>...         </td><td>...    </td><td>...                    </td><td>...                    </td><td>...                </td><td>...                </td><td>...           </td></tr>\n",
       "<tr><td><i style='opacity: 0.6'>11,401,877</i></td><td>9983563 </td><td>301    </td><td>B           </td><td>0     </td><td>P       </td><td>4.0    </td><td>2020-12-30T17:00:00.000Z</td><td>2021-01-03T17:00:00.000Z</td><td>1         </td><td>--          </td><td>Z71.8     </td><td>3645100.0 </td><td>1.0          </td><td>3           </td><td>0      </td><td>2020-12-30T17:00:00.000</td><td>2021-01-03T17:00:00.000</td><td>2020-12-30 17:00:00</td><td>2021-01-03 17:00:00</td><td>4             </td></tr>\n",
       "<tr><td><i style='opacity: 0.6'>11,401,878</i></td><td>11053870</td><td>233    </td><td>A           </td><td>0     </td><td>P       </td><td>4.0    </td><td>2020-12-30T17:00:00.000Z</td><td>2021-01-03T17:00:00.000Z</td><td>1         </td><td>--          </td><td>P59.9     </td><td>12273200.0</td><td>1.0          </td><td>2           </td><td>0      </td><td>2020-12-30T17:00:00.000</td><td>2021-01-03T17:00:00.000</td><td>2020-12-30 17:00:00</td><td>2021-01-03 17:00:00</td><td>4             </td></tr>\n",
       "<tr><td><i style='opacity: 0.6'>11,401,879</i></td><td>7461049 </td><td>118    </td><td>B           </td><td>0     </td><td>L       </td><td>4.0    </td><td>2020-12-30T17:00:00.000Z</td><td>2021-01-06T17:00:00.000Z</td><td>1         </td><td>--          </td><td>P24.8     </td><td>4099000.0 </td><td>1.0          </td><td>3           </td><td>0      </td><td>2020-12-30T17:00:00.000</td><td>2021-01-06T17:00:00.000</td><td>2020-12-30 17:00:00</td><td>2021-01-06 17:00:00</td><td>7             </td></tr>\n",
       "<tr><td><i style='opacity: 0.6'>11,401,880</i></td><td>1075162 </td><td>101    </td><td>SC          </td><td>0     </td><td>L       </td><td>5.0    </td><td>2020-12-29T17:00:00.000Z</td><td>2020-12-31T17:00:00.000Z</td><td>1         </td><td>--          </td><td>P03       </td><td>3992400.0 </td><td>1.0          </td><td>3           </td><td>0      </td><td>2020-12-29T17:00:00.000</td><td>2020-12-31T17:00:00.000</td><td>2020-12-29 17:00:00</td><td>2020-12-31 17:00:00</td><td>2             </td></tr>\n",
       "<tr><td><i style='opacity: 0.6'>11,401,881</i></td><td>102794  </td><td>12     </td><td>SD          </td><td>0     </td><td>P       </td><td>4.0    </td><td>2020-12-29T17:00:00.000Z</td><td>2020-12-31T17:00:00.000Z</td><td>1         </td><td>--          </td><td>P21.1     </td><td>1624900.0 </td><td>1.0          </td><td>3           </td><td>0      </td><td>2020-12-29T17:00:00.000</td><td>2020-12-31T17:00:00.000</td><td>2020-12-29 17:00:00</td><td>2020-12-31 17:00:00</td><td>2             </td></tr>\n",
       "</tbody>\n",
       "</table>"
      ],
      "text/plain": [
       "<IPython.core.display.HTML object>"
      ]
     },
     "metadata": {},
     "output_type": "display_data"
    }
   ],
   "source": [
    "df.info()"
   ]
  },
  {
   "cell_type": "code",
   "execution_count": 58,
   "metadata": {},
   "outputs": [
    {
     "data": {
      "text/html": [
       "<table>\n",
       "<thead>\n",
       "<tr><th>#                            </th><th style=\"text-align: right;\">   id</th><th style=\"text-align: right;\">  id_peserta</th><th style=\"text-align: right;\">  dati2</th><th>typefaskes  </th><th style=\"text-align: right;\">  usia</th><th>jenkel  </th><th style=\"text-align: right;\">  pisat</th><th style=\"text-align: right;\">  jenispel</th><th>politujuan  </th><th>diagfktp  </th><th style=\"text-align: right;\">     biaya</th><th style=\"text-align: right;\">  jenispulang</th><th style=\"text-align: right;\">  kelasrawat</th><th style=\"text-align: right;\">  label</th><th style=\"text-align: right;\">  durasi_rawat</th></tr>\n",
       "</thead>\n",
       "<tbody>\n",
       "<tr><td><i style='opacity: 0.6'>0</i></td><td style=\"text-align: right;\">30308</td><td style=\"text-align: right;\">     6774414</td><td style=\"text-align: right;\">      6</td><td>B           </td><td style=\"text-align: right;\">    15</td><td>L       </td><td style=\"text-align: right;\">      4</td><td style=\"text-align: right;\">         1</td><td>--          </td><td>M48.46    </td><td style=\"text-align: right;\">4.0542e+06</td><td style=\"text-align: right;\">            1</td><td style=\"text-align: right;\">           1</td><td style=\"text-align: right;\">      0</td><td style=\"text-align: right;\">          1431</td></tr>\n",
       "</tbody>\n",
       "</table>"
      ],
      "text/plain": [
       "  #     id    id_peserta    dati2  typefaskes      usia  jenkel      pisat    jenispel  politujuan    diagfktp         biaya    jenispulang    kelasrawat    label    durasi_rawat\n",
       "  0  30308       6774414        6  B                 15  L               4           1  --            M48.46      4.0542e+06              1             1        0            1431"
      ]
     },
     "execution_count": 58,
     "metadata": {},
     "output_type": "execute_result"
    }
   ],
   "source": [
    "df[df['durasi_rawat'] == 1431].head(10)\n"
   ]
  },
  {
   "cell_type": "code",
   "execution_count": 11,
   "metadata": {},
   "outputs": [
    {
     "name": "stdout",
     "output_type": "stream",
     "text": [
      "CPU times: total: 0 ns\n",
      "Wall time: 2.89 ms\n"
     ]
    }
   ],
   "source": [
    "%%time\n",
    "df = df.drop(['tgldatang', 'tglpulang', 'tgl_datang_clean', 'tgl_pulang_clean', 'datang_dt', 'pulang_dt'])"
   ]
  },
  {
   "cell_type": "code",
   "execution_count": 12,
   "metadata": {},
   "outputs": [
    {
     "data": {
      "text/html": [
       "<table>\n",
       "<thead>\n",
       "<tr><th>#                                     </th><th>id      </th><th>dati2  </th><th>typefaskes  </th><th>usia  </th><th>jenkel  </th><th>pisat  </th><th>jenispel  </th><th>politujuan  </th><th>diagfktp  </th><th>biaya     </th><th>jenispulang  </th><th>kelasrawat  </th><th>label  </th><th>durasi_rawat  </th></tr>\n",
       "</thead>\n",
       "<tbody>\n",
       "<tr><td><i style='opacity: 0.6'>0</i>         </td><td>165666  </td><td>17     </td><td>KL          </td><td>48    </td><td>P       </td><td>1.0    </td><td>2         </td><td>THT         </td><td>L02.8     </td><td>184300.0  </td><td>1.0          </td><td>3           </td><td>0      </td><td>0             </td></tr>\n",
       "<tr><td><i style='opacity: 0.6'>1</i>         </td><td>1010828 </td><td>17     </td><td>A           </td><td>63    </td><td>L       </td><td>1.0    </td><td>1         </td><td>--          </td><td>R23.1     </td><td>10628400.0</td><td>1.0          </td><td>1           </td><td>0      </td><td>3             </td></tr>\n",
       "<tr><td><i style='opacity: 0.6'>2</i>         </td><td>166042  </td><td>17     </td><td>KL          </td><td>53    </td><td>P       </td><td>1.0    </td><td>2         </td><td>INT         </td><td>E10.5     </td><td>187300.0  </td><td>1.0          </td><td>3           </td><td>0      </td><td>0             </td></tr>\n",
       "<tr><td><i style='opacity: 0.6'>3</i>         </td><td>168937  </td><td>17     </td><td>KL          </td><td>54    </td><td>P       </td><td>1.0    </td><td>2         </td><td>MAT         </td><td>H54.2     </td><td>187300.0  </td><td>1.0          </td><td>3           </td><td>0      </td><td>0             </td></tr>\n",
       "<tr><td><i style='opacity: 0.6'>4</i>         </td><td>1005899 </td><td>17     </td><td>A           </td><td>53    </td><td>P       </td><td>1.0    </td><td>2         </td><td>SAR         </td><td>M54.5     </td><td>381600.0  </td><td>1.0          </td><td>3           </td><td>0      </td><td>0             </td></tr>\n",
       "<tr><td>...                                   </td><td>...     </td><td>...    </td><td>...         </td><td>...   </td><td>...     </td><td>...    </td><td>...       </td><td>...         </td><td>...       </td><td>...       </td><td>...          </td><td>...         </td><td>...    </td><td>...           </td></tr>\n",
       "<tr><td><i style='opacity: 0.6'>11,401,877</i></td><td>9983563 </td><td>301    </td><td>B           </td><td>0     </td><td>P       </td><td>4.0    </td><td>1         </td><td>--          </td><td>Z71.8     </td><td>3645100.0 </td><td>1.0          </td><td>3           </td><td>0      </td><td>4             </td></tr>\n",
       "<tr><td><i style='opacity: 0.6'>11,401,878</i></td><td>11053870</td><td>233    </td><td>A           </td><td>0     </td><td>P       </td><td>4.0    </td><td>1         </td><td>--          </td><td>P59.9     </td><td>12273200.0</td><td>1.0          </td><td>2           </td><td>0      </td><td>4             </td></tr>\n",
       "<tr><td><i style='opacity: 0.6'>11,401,879</i></td><td>7461049 </td><td>118    </td><td>B           </td><td>0     </td><td>L       </td><td>4.0    </td><td>1         </td><td>--          </td><td>P24.8     </td><td>4099000.0 </td><td>1.0          </td><td>3           </td><td>0      </td><td>7             </td></tr>\n",
       "<tr><td><i style='opacity: 0.6'>11,401,880</i></td><td>1075162 </td><td>101    </td><td>SC          </td><td>0     </td><td>L       </td><td>5.0    </td><td>1         </td><td>--          </td><td>P03       </td><td>3992400.0 </td><td>1.0          </td><td>3           </td><td>0      </td><td>2             </td></tr>\n",
       "<tr><td><i style='opacity: 0.6'>11,401,881</i></td><td>102794  </td><td>12     </td><td>SD          </td><td>0     </td><td>P       </td><td>4.0    </td><td>1         </td><td>--          </td><td>P21.1     </td><td>1624900.0 </td><td>1.0          </td><td>3           </td><td>0      </td><td>2             </td></tr>\n",
       "</tbody>\n",
       "</table>"
      ],
      "text/plain": [
       "#           id        dati2    typefaskes    usia    jenkel    pisat    jenispel    politujuan    diagfktp    biaya       jenispulang    kelasrawat    label    durasi_rawat\n",
       "0           165666    17       KL            48      P         1.0      2           THT           L02.8       184300.0    1.0            3             0        0\n",
       "1           1010828   17       A             63      L         1.0      1           --            R23.1       10628400.0  1.0            1             0        3\n",
       "2           166042    17       KL            53      P         1.0      2           INT           E10.5       187300.0    1.0            3             0        0\n",
       "3           168937    17       KL            54      P         1.0      2           MAT           H54.2       187300.0    1.0            3             0        0\n",
       "4           1005899   17       A             53      P         1.0      2           SAR           M54.5       381600.0    1.0            3             0        0\n",
       "...         ...       ...      ...           ...     ...       ...      ...         ...           ...         ...         ...            ...           ...      ...\n",
       "11,401,877  9983563   301      B             0       P         4.0      1           --            Z71.8       3645100.0   1.0            3             0        4\n",
       "11,401,878  11053870  233      A             0       P         4.0      1           --            P59.9       12273200.0  1.0            2             0        4\n",
       "11,401,879  7461049   118      B             0       L         4.0      1           --            P24.8       4099000.0   1.0            3             0        7\n",
       "11,401,880  1075162   101      SC            0       L         5.0      1           --            P03         3992400.0   1.0            3             0        2\n",
       "11,401,881  102794    12       SD            0       P         4.0      1           --            P21.1       1624900.0   1.0            3             0        2"
      ]
     },
     "execution_count": 12,
     "metadata": {},
     "output_type": "execute_result"
    }
   ],
   "source": [
    "df"
   ]
  },
  {
   "cell_type": "code",
   "execution_count": 13,
   "metadata": {},
   "outputs": [
    {
     "name": "stdout",
     "output_type": "stream",
     "text": [
      "CPU times: total: 22.4 s\n",
      "Wall time: 4.95 s\n"
     ]
    },
    {
     "data": {
      "text/html": [
       "<div>\n",
       "<style scoped>\n",
       "    .dataframe tbody tr th:only-of-type {\n",
       "        vertical-align: middle;\n",
       "    }\n",
       "\n",
       "    .dataframe tbody tr th {\n",
       "        vertical-align: top;\n",
       "    }\n",
       "\n",
       "    .dataframe thead th {\n",
       "        text-align: right;\n",
       "    }\n",
       "</style>\n",
       "<table border=\"1\" class=\"dataframe\">\n",
       "  <thead>\n",
       "    <tr style=\"text-align: right;\">\n",
       "      <th></th>\n",
       "      <th>id</th>\n",
       "      <th>dati2</th>\n",
       "      <th>typefaskes</th>\n",
       "      <th>usia</th>\n",
       "      <th>jenkel</th>\n",
       "      <th>pisat</th>\n",
       "      <th>jenispel</th>\n",
       "      <th>politujuan</th>\n",
       "      <th>diagfktp</th>\n",
       "      <th>biaya</th>\n",
       "      <th>jenispulang</th>\n",
       "      <th>kelasrawat</th>\n",
       "      <th>label</th>\n",
       "      <th>durasi_rawat</th>\n",
       "    </tr>\n",
       "  </thead>\n",
       "  <tbody>\n",
       "    <tr>\n",
       "      <th>data_type</th>\n",
       "      <td>int64</td>\n",
       "      <td>int64</td>\n",
       "      <td>string</td>\n",
       "      <td>int64</td>\n",
       "      <td>string</td>\n",
       "      <td>float64</td>\n",
       "      <td>int64</td>\n",
       "      <td>string</td>\n",
       "      <td>string</td>\n",
       "      <td>float64</td>\n",
       "      <td>float64</td>\n",
       "      <td>int64</td>\n",
       "      <td>int64</td>\n",
       "      <td>int32</td>\n",
       "    </tr>\n",
       "    <tr>\n",
       "      <th>count</th>\n",
       "      <td>11401882</td>\n",
       "      <td>11401882</td>\n",
       "      <td>11401882</td>\n",
       "      <td>11401882</td>\n",
       "      <td>11401833</td>\n",
       "      <td>11401692</td>\n",
       "      <td>11401882</td>\n",
       "      <td>7360427</td>\n",
       "      <td>11399352</td>\n",
       "      <td>11344067</td>\n",
       "      <td>11401843</td>\n",
       "      <td>11401882</td>\n",
       "      <td>11401882</td>\n",
       "      <td>11401882</td>\n",
       "    </tr>\n",
       "    <tr>\n",
       "      <th>NA</th>\n",
       "      <td>0</td>\n",
       "      <td>0</td>\n",
       "      <td>0</td>\n",
       "      <td>0</td>\n",
       "      <td>49</td>\n",
       "      <td>190</td>\n",
       "      <td>0</td>\n",
       "      <td>4041455</td>\n",
       "      <td>2530</td>\n",
       "      <td>57815</td>\n",
       "      <td>39</td>\n",
       "      <td>0</td>\n",
       "      <td>0</td>\n",
       "      <td>0</td>\n",
       "    </tr>\n",
       "    <tr>\n",
       "      <th>mean</th>\n",
       "      <td>5712719.902465224</td>\n",
       "      <td>182.5299193589269</td>\n",
       "      <td>--</td>\n",
       "      <td>37.056899992474925</td>\n",
       "      <td>--</td>\n",
       "      <td>2.498203512250638</td>\n",
       "      <td>1.6455437795269237</td>\n",
       "      <td>--</td>\n",
       "      <td>--</td>\n",
       "      <td>2146848.771842938</td>\n",
       "      <td>1.0945962858811509</td>\n",
       "      <td>2.7846950178926604</td>\n",
       "      <td>0.013759921388416403</td>\n",
       "      <td>1.5249625456569362</td>\n",
       "    </tr>\n",
       "    <tr>\n",
       "      <th>std</th>\n",
       "      <td>3298534.717968</td>\n",
       "      <td>106.135201</td>\n",
       "      <td>--</td>\n",
       "      <td>22.921875</td>\n",
       "      <td>--</td>\n",
       "      <td>1.390863</td>\n",
       "      <td>0.478348</td>\n",
       "      <td>--</td>\n",
       "      <td>--</td>\n",
       "      <td>5207576.726626</td>\n",
       "      <td>0.513155</td>\n",
       "      <td>0.551147</td>\n",
       "      <td>0.116493</td>\n",
       "      <td>5.294597</td>\n",
       "    </tr>\n",
       "    <tr>\n",
       "      <th>min</th>\n",
       "      <td>1</td>\n",
       "      <td>1</td>\n",
       "      <td>--</td>\n",
       "      <td>0</td>\n",
       "      <td>--</td>\n",
       "      <td>1.0</td>\n",
       "      <td>1</td>\n",
       "      <td>--</td>\n",
       "      <td>--</td>\n",
       "      <td>0.0</td>\n",
       "      <td>1.0</td>\n",
       "      <td>1</td>\n",
       "      <td>0</td>\n",
       "      <td>0</td>\n",
       "    </tr>\n",
       "    <tr>\n",
       "      <th>max</th>\n",
       "      <td>11426957</td>\n",
       "      <td>528</td>\n",
       "      <td>--</td>\n",
       "      <td>110</td>\n",
       "      <td>--</td>\n",
       "      <td>5.0</td>\n",
       "      <td>2</td>\n",
       "      <td>--</td>\n",
       "      <td>--</td>\n",
       "      <td>401696600.0</td>\n",
       "      <td>5.0</td>\n",
       "      <td>3</td>\n",
       "      <td>1</td>\n",
       "      <td>1431</td>\n",
       "    </tr>\n",
       "  </tbody>\n",
       "</table>\n",
       "</div>"
      ],
      "text/plain": [
       "                          id              dati2 typefaskes  \\\n",
       "data_type              int64              int64     string   \n",
       "count               11401882           11401882   11401882   \n",
       "NA                         0                  0          0   \n",
       "mean       5712719.902465224  182.5299193589269         --   \n",
       "std           3298534.717968         106.135201         --   \n",
       "min                        1                  1         --   \n",
       "max                 11426957                528         --   \n",
       "\n",
       "                         usia    jenkel              pisat  \\\n",
       "data_type               int64    string            float64   \n",
       "count                11401882  11401833           11401692   \n",
       "NA                          0        49                190   \n",
       "mean       37.056899992474925        --  2.498203512250638   \n",
       "std                 22.921875        --           1.390863   \n",
       "min                         0        --                1.0   \n",
       "max                       110        --                5.0   \n",
       "\n",
       "                     jenispel politujuan  diagfktp              biaya  \\\n",
       "data_type               int64     string    string            float64   \n",
       "count                11401882    7360427  11399352           11344067   \n",
       "NA                          0    4041455      2530              57815   \n",
       "mean       1.6455437795269237         --        --  2146848.771842938   \n",
       "std                  0.478348         --        --     5207576.726626   \n",
       "min                         1         --        --                0.0   \n",
       "max                         2         --        --        401696600.0   \n",
       "\n",
       "                  jenispulang          kelasrawat                 label  \\\n",
       "data_type             float64               int64                 int64   \n",
       "count                11401843            11401882              11401882   \n",
       "NA                         39                   0                     0   \n",
       "mean       1.0945962858811509  2.7846950178926604  0.013759921388416403   \n",
       "std                  0.513155            0.551147              0.116493   \n",
       "min                       1.0                   1                     0   \n",
       "max                       5.0                   3                     1   \n",
       "\n",
       "                 durasi_rawat  \n",
       "data_type               int32  \n",
       "count                11401882  \n",
       "NA                          0  \n",
       "mean       1.5249625456569362  \n",
       "std                  5.294597  \n",
       "min                         0  \n",
       "max                      1431  "
      ]
     },
     "execution_count": 13,
     "metadata": {},
     "output_type": "execute_result"
    }
   ],
   "source": [
    "%%time\n",
    "\n",
    "df.describe()\n"
   ]
  },
  {
   "cell_type": "code",
   "execution_count": 14,
   "metadata": {},
   "outputs": [],
   "source": [
    "df.export_csv(\"sampling1.csv\")  "
   ]
  },
  {
   "cell_type": "markdown",
   "metadata": {},
   "source": [
    "## Pembersihan Tahap 1"
   ]
  },
  {
   "cell_type": "code",
   "execution_count": 91,
   "metadata": {},
   "outputs": [
    {
     "name": "stdout",
     "output_type": "stream",
     "text": [
      "CPU times: total: 15.6 ms\n",
      "Wall time: 27.7 ms\n"
     ]
    },
    {
     "data": {
      "text/html": [
       "<table>\n",
       "<thead>\n",
       "<tr><th>#                                     </th><th>id      </th><th>dati2  </th><th>typefaskes  </th><th>usia  </th><th>jenkel  </th><th>pisat  </th><th>jenispel  </th><th>politujuan  </th><th>diagfktp  </th><th>biaya     </th><th>jenispulang  </th><th>kelasrawat  </th><th>label  </th><th>durasi_rawat  </th></tr>\n",
       "</thead>\n",
       "<tbody>\n",
       "<tr><td><i style='opacity: 0.6'>0</i>         </td><td>165666  </td><td>17     </td><td>KL          </td><td>48    </td><td>P       </td><td>1.0    </td><td>2         </td><td>THT         </td><td>L02.8     </td><td>184300.0  </td><td>1.0          </td><td>3           </td><td>0      </td><td>0             </td></tr>\n",
       "<tr><td><i style='opacity: 0.6'>1</i>         </td><td>1010828 </td><td>17     </td><td>A           </td><td>63    </td><td>L       </td><td>1.0    </td><td>1         </td><td>--          </td><td>R23.1     </td><td>10628400.0</td><td>1.0          </td><td>1           </td><td>0      </td><td>3             </td></tr>\n",
       "<tr><td><i style='opacity: 0.6'>2</i>         </td><td>166042  </td><td>17     </td><td>KL          </td><td>53    </td><td>P       </td><td>1.0    </td><td>2         </td><td>INT         </td><td>E10.5     </td><td>187300.0  </td><td>1.0          </td><td>3           </td><td>0      </td><td>0             </td></tr>\n",
       "<tr><td><i style='opacity: 0.6'>3</i>         </td><td>168937  </td><td>17     </td><td>KL          </td><td>54    </td><td>P       </td><td>1.0    </td><td>2         </td><td>MAT         </td><td>H54.2     </td><td>187300.0  </td><td>1.0          </td><td>3           </td><td>0      </td><td>0             </td></tr>\n",
       "<tr><td><i style='opacity: 0.6'>4</i>         </td><td>1005899 </td><td>17     </td><td>A           </td><td>53    </td><td>P       </td><td>1.0    </td><td>2         </td><td>SAR         </td><td>M54.5     </td><td>381600.0  </td><td>1.0          </td><td>3           </td><td>0      </td><td>0             </td></tr>\n",
       "<tr><td>...                                   </td><td>...     </td><td>...    </td><td>...         </td><td>...   </td><td>...     </td><td>...    </td><td>...       </td><td>...         </td><td>...       </td><td>...       </td><td>...          </td><td>...         </td><td>...    </td><td>...           </td></tr>\n",
       "<tr><td><i style='opacity: 0.6'>11,401,877</i></td><td>9983563 </td><td>301    </td><td>B           </td><td>0     </td><td>P       </td><td>4.0    </td><td>1         </td><td>--          </td><td>Z71.8     </td><td>3645100.0 </td><td>1.0          </td><td>3           </td><td>0      </td><td>4             </td></tr>\n",
       "<tr><td><i style='opacity: 0.6'>11,401,878</i></td><td>11053870</td><td>233    </td><td>A           </td><td>0     </td><td>P       </td><td>4.0    </td><td>1         </td><td>--          </td><td>P59.9     </td><td>12273200.0</td><td>1.0          </td><td>2           </td><td>0      </td><td>4             </td></tr>\n",
       "<tr><td><i style='opacity: 0.6'>11,401,879</i></td><td>7461049 </td><td>118    </td><td>B           </td><td>0     </td><td>L       </td><td>4.0    </td><td>1         </td><td>--          </td><td>P24.8     </td><td>4099000.0 </td><td>1.0          </td><td>3           </td><td>0      </td><td>7             </td></tr>\n",
       "<tr><td><i style='opacity: 0.6'>11,401,880</i></td><td>1075162 </td><td>101    </td><td>SC          </td><td>0     </td><td>L       </td><td>5.0    </td><td>1         </td><td>--          </td><td>P03       </td><td>3992400.0 </td><td>1.0          </td><td>3           </td><td>0      </td><td>2             </td></tr>\n",
       "<tr><td><i style='opacity: 0.6'>11,401,881</i></td><td>102794  </td><td>12     </td><td>SD          </td><td>0     </td><td>P       </td><td>4.0    </td><td>1         </td><td>--          </td><td>P21.1     </td><td>1624900.0 </td><td>1.0          </td><td>3           </td><td>0      </td><td>2             </td></tr>\n",
       "</tbody>\n",
       "</table>"
      ],
      "text/plain": [
       "#           id        dati2    typefaskes    usia    jenkel    pisat    jenispel    politujuan    diagfktp    biaya       jenispulang    kelasrawat    label    durasi_rawat\n",
       "0           165666    17       KL            48      P         1.0      2           THT           L02.8       184300.0    1.0            3             0        0\n",
       "1           1010828   17       A             63      L         1.0      1           --            R23.1       10628400.0  1.0            1             0        3\n",
       "2           166042    17       KL            53      P         1.0      2           INT           E10.5       187300.0    1.0            3             0        0\n",
       "3           168937    17       KL            54      P         1.0      2           MAT           H54.2       187300.0    1.0            3             0        0\n",
       "4           1005899   17       A             53      P         1.0      2           SAR           M54.5       381600.0    1.0            3             0        0\n",
       "...         ...       ...      ...           ...     ...       ...      ...         ...           ...         ...         ...            ...           ...      ...\n",
       "11,401,877  9983563   301      B             0       P         4.0      1           --            Z71.8       3645100.0   1.0            3             0        4\n",
       "11,401,878  11053870  233      A             0       P         4.0      1           --            P59.9       12273200.0  1.0            2             0        4\n",
       "11,401,879  7461049   118      B             0       L         4.0      1           --            P24.8       4099000.0   1.0            3             0        7\n",
       "11,401,880  1075162   101      SC            0       L         5.0      1           --            P03         3992400.0   1.0            3             0        2\n",
       "11,401,881  102794    12       SD            0       P         4.0      1           --            P21.1       1624900.0   1.0            3             0        2"
      ]
     },
     "execution_count": 91,
     "metadata": {},
     "output_type": "execute_result"
    }
   ],
   "source": [
    "%%time\n",
    "\n",
    "df_sampling1 = vaex.from_csv('sampling1.csv', convert=True, chunk_size=100_000)\n",
    "df_sampling1"
   ]
  },
  {
   "cell_type": "code",
   "execution_count": 22,
   "metadata": {},
   "outputs": [
    {
     "data": {
      "text/html": [
       "<div>\n",
       "<style scoped>\n",
       "    .dataframe tbody tr th:only-of-type {\n",
       "        vertical-align: middle;\n",
       "    }\n",
       "\n",
       "    .dataframe tbody tr th {\n",
       "        vertical-align: top;\n",
       "    }\n",
       "\n",
       "    .dataframe thead th {\n",
       "        text-align: right;\n",
       "    }\n",
       "</style>\n",
       "<table border=\"1\" class=\"dataframe\">\n",
       "  <thead>\n",
       "    <tr style=\"text-align: right;\">\n",
       "      <th></th>\n",
       "      <th>id</th>\n",
       "      <th>dati2</th>\n",
       "      <th>typefaskes</th>\n",
       "      <th>usia</th>\n",
       "      <th>jenkel</th>\n",
       "      <th>pisat</th>\n",
       "      <th>jenispel</th>\n",
       "      <th>politujuan</th>\n",
       "      <th>diagfktp</th>\n",
       "      <th>biaya</th>\n",
       "      <th>jenispulang</th>\n",
       "      <th>kelasrawat</th>\n",
       "      <th>label</th>\n",
       "      <th>durasi_rawat</th>\n",
       "    </tr>\n",
       "  </thead>\n",
       "  <tbody>\n",
       "    <tr>\n",
       "      <th>data_type</th>\n",
       "      <td>int64</td>\n",
       "      <td>int64</td>\n",
       "      <td>string</td>\n",
       "      <td>int64</td>\n",
       "      <td>string</td>\n",
       "      <td>float64</td>\n",
       "      <td>int64</td>\n",
       "      <td>string</td>\n",
       "      <td>string</td>\n",
       "      <td>float64</td>\n",
       "      <td>float64</td>\n",
       "      <td>int64</td>\n",
       "      <td>int64</td>\n",
       "      <td>int64</td>\n",
       "    </tr>\n",
       "    <tr>\n",
       "      <th>count</th>\n",
       "      <td>11401882</td>\n",
       "      <td>11401882</td>\n",
       "      <td>11401882</td>\n",
       "      <td>11401882</td>\n",
       "      <td>11401833</td>\n",
       "      <td>11401692</td>\n",
       "      <td>11401882</td>\n",
       "      <td>7360427</td>\n",
       "      <td>11399352</td>\n",
       "      <td>11344067</td>\n",
       "      <td>11401843</td>\n",
       "      <td>11401882</td>\n",
       "      <td>11401882</td>\n",
       "      <td>11401882</td>\n",
       "    </tr>\n",
       "    <tr>\n",
       "      <th>NA</th>\n",
       "      <td>0</td>\n",
       "      <td>0</td>\n",
       "      <td>0</td>\n",
       "      <td>0</td>\n",
       "      <td>49</td>\n",
       "      <td>190</td>\n",
       "      <td>0</td>\n",
       "      <td>4041455</td>\n",
       "      <td>2530</td>\n",
       "      <td>57815</td>\n",
       "      <td>39</td>\n",
       "      <td>0</td>\n",
       "      <td>0</td>\n",
       "      <td>0</td>\n",
       "    </tr>\n",
       "    <tr>\n",
       "      <th>mean</th>\n",
       "      <td>5712719.902465224</td>\n",
       "      <td>182.5299193589269</td>\n",
       "      <td>--</td>\n",
       "      <td>37.056899992474925</td>\n",
       "      <td>--</td>\n",
       "      <td>2.498203512250638</td>\n",
       "      <td>1.6455437795269237</td>\n",
       "      <td>--</td>\n",
       "      <td>--</td>\n",
       "      <td>2146848.771842938</td>\n",
       "      <td>1.0945962858811509</td>\n",
       "      <td>2.7846950178926604</td>\n",
       "      <td>0.013759921388416403</td>\n",
       "      <td>1.5249625456569362</td>\n",
       "    </tr>\n",
       "    <tr>\n",
       "      <th>std</th>\n",
       "      <td>3298534.717968</td>\n",
       "      <td>106.135201</td>\n",
       "      <td>--</td>\n",
       "      <td>22.921875</td>\n",
       "      <td>--</td>\n",
       "      <td>1.390863</td>\n",
       "      <td>0.478348</td>\n",
       "      <td>--</td>\n",
       "      <td>--</td>\n",
       "      <td>5207576.726626</td>\n",
       "      <td>0.513155</td>\n",
       "      <td>0.551147</td>\n",
       "      <td>0.116493</td>\n",
       "      <td>5.294597</td>\n",
       "    </tr>\n",
       "    <tr>\n",
       "      <th>min</th>\n",
       "      <td>1</td>\n",
       "      <td>1</td>\n",
       "      <td>--</td>\n",
       "      <td>0</td>\n",
       "      <td>--</td>\n",
       "      <td>1.0</td>\n",
       "      <td>1</td>\n",
       "      <td>--</td>\n",
       "      <td>--</td>\n",
       "      <td>0.0</td>\n",
       "      <td>1.0</td>\n",
       "      <td>1</td>\n",
       "      <td>0</td>\n",
       "      <td>0</td>\n",
       "    </tr>\n",
       "    <tr>\n",
       "      <th>max</th>\n",
       "      <td>11426957</td>\n",
       "      <td>528</td>\n",
       "      <td>--</td>\n",
       "      <td>110</td>\n",
       "      <td>--</td>\n",
       "      <td>5.0</td>\n",
       "      <td>2</td>\n",
       "      <td>--</td>\n",
       "      <td>--</td>\n",
       "      <td>401696600.0</td>\n",
       "      <td>5.0</td>\n",
       "      <td>3</td>\n",
       "      <td>1</td>\n",
       "      <td>1431</td>\n",
       "    </tr>\n",
       "  </tbody>\n",
       "</table>\n",
       "</div>"
      ],
      "text/plain": [
       "                          id              dati2 typefaskes  \\\n",
       "data_type              int64              int64     string   \n",
       "count               11401882           11401882   11401882   \n",
       "NA                         0                  0          0   \n",
       "mean       5712719.902465224  182.5299193589269         --   \n",
       "std           3298534.717968         106.135201         --   \n",
       "min                        1                  1         --   \n",
       "max                 11426957                528         --   \n",
       "\n",
       "                         usia    jenkel              pisat  \\\n",
       "data_type               int64    string            float64   \n",
       "count                11401882  11401833           11401692   \n",
       "NA                          0        49                190   \n",
       "mean       37.056899992474925        --  2.498203512250638   \n",
       "std                 22.921875        --           1.390863   \n",
       "min                         0        --                1.0   \n",
       "max                       110        --                5.0   \n",
       "\n",
       "                     jenispel politujuan  diagfktp              biaya  \\\n",
       "data_type               int64     string    string            float64   \n",
       "count                11401882    7360427  11399352           11344067   \n",
       "NA                          0    4041455      2530              57815   \n",
       "mean       1.6455437795269237         --        --  2146848.771842938   \n",
       "std                  0.478348         --        --     5207576.726626   \n",
       "min                         1         --        --                0.0   \n",
       "max                         2         --        --        401696600.0   \n",
       "\n",
       "                  jenispulang          kelasrawat                 label  \\\n",
       "data_type             float64               int64                 int64   \n",
       "count                11401843            11401882              11401882   \n",
       "NA                         39                   0                     0   \n",
       "mean       1.0945962858811509  2.7846950178926604  0.013759921388416403   \n",
       "std                  0.513155            0.551147              0.116493   \n",
       "min                       1.0                   1                     0   \n",
       "max                       5.0                   3                     1   \n",
       "\n",
       "                 durasi_rawat  \n",
       "data_type               int64  \n",
       "count                11401882  \n",
       "NA                          0  \n",
       "mean       1.5249625456569362  \n",
       "std                  5.294597  \n",
       "min                         0  \n",
       "max                      1431  "
      ]
     },
     "execution_count": 22,
     "metadata": {},
     "output_type": "execute_result"
    }
   ],
   "source": [
    "df_sampling1.describe()"
   ]
  },
  {
   "cell_type": "code",
   "execution_count": 76,
   "metadata": {},
   "outputs": [
    {
     "data": {
      "text/plain": [
       "0    11244993\n",
       "1      156889\n",
       "dtype: int64"
      ]
     },
     "execution_count": 76,
     "metadata": {},
     "output_type": "execute_result"
    }
   ],
   "source": [
    "label_counts = df_sampling1['label'].value_counts()\n",
    "label_counts"
   ]
  },
  {
   "cell_type": "markdown",
   "metadata": {},
   "source": [
    "### Melihat Nilai Unique Kolom Pilihan"
   ]
  },
  {
   "cell_type": "code",
   "execution_count": 17,
   "metadata": {},
   "outputs": [
    {
     "name": "stdout",
     "output_type": "stream",
     "text": [
      "CPU times: total: 0 ns\n",
      "Wall time: 0 ns\n"
     ]
    }
   ],
   "source": [
    "%%time\n",
    "df_selected = df_sampling1[['dati2', 'typefaskes', 'jenkel', 'pisat', 'jenispel', 'politujuan', 'jenispulang', 'kelasrawat', 'label', 'durasi_rawat']]\n"
   ]
  },
  {
   "cell_type": "code",
   "execution_count": 18,
   "metadata": {},
   "outputs": [
    {
     "name": "stdout",
     "output_type": "stream",
     "text": [
      "Kolom: dati2\n",
      "[378, 257, 349, 238, 475, 517, 516, 96, 15, 185, 199, 232, 30, 489, 374, 105, 470, 198, 508, 404, 69, 180, 6, 380, 163, 208, 413, 461, 443, 77, 60, 97, 260, 226, 348, 501, 90, 80, 471, 210, 159, 245, 394, 396, 66, 202, 102, 132, 322, 358, 368, 26, 54, 116, 215, 189, 449, 414, 223, 108, 353, 510, 485, 377, 209, 386, 151, 150, 328, 520, 463, 389, 39, 376, 451, 143, 165, 291, 436, 94, 13, 153, 320, 1, 113, 174, 117, 194, 314, 329, 341, 225, 395, 28, 375, 101, 111, 263, 359, 236, 58, 305, 7, 138, 129, 441, 453, 357, 424, 212, 17, 178, 36, 289, 231, 268, 62, 82, 264, 157, 345, 44, 496, 269, 4, 71, 261, 273, 360, 18, 115, 130, 287, 2, 402, 29, 342, 235, 121, 182, 239, 49, 444, 407, 100, 147, 207, 252, 379, 290, 297, 227, 411, 363, 128, 493, 259, 188, 522, 367, 393, 141, 206, 244, 33, 445, 37, 12, 160, 277, 106, 511, 347, 419, 352, 488, 299, 313, 495, 527, 61, 55, 169, 229, 48, 220, 166, 271, 294, 27, 3, 76, 187, 283, 230, 450, 486, 216, 325, 276, 526, 346, 179, 45, 197, 78, 200, 304, 47, 162, 247, 23, 42, 176, 214, 152, 249, 242, 35, 43, 528, 65, 9, 164, 382, 423, 364, 474, 233, 267, 34, 25, 490, 224, 256, 326, 339, 311, 250, 405, 462, 479, 142, 274, 512, 465, 135, 168, 351, 196, 181, 331, 312, 50, 440, 381, 24, 455, 79, 75, 134, 161, 296, 397, 372, 192, 237, 203, 74, 172, 156, 285, 282, 292, 442, 497, 281, 241, 418, 118, 127, 399, 40, 109, 275, 392, 98, 193, 321, 502, 515, 248, 246, 438, 87, 99, 265, 503, 11, 338, 302, 258, 126, 509, 114, 401, 293, 308, 355, 390, 365, 408, 362, 56, 112, 286, 219, 211, 123, 186, 190, 466, 234, 57, 68, 439, 51, 31, 406, 38, 93, 255, 317, 343, 300, 254, 500, 452, 67, 240, 518, 469, 218, 107, 350, 167, 318, 110, 104, 125, 262, 279, 334, 253, 371, 458, 391, 171, 88, 280, 383, 22, 83, 217, 144, 332, 373, 221, 400, 146, 284, 288, 519, 92, 460, 340, 91, 309, 122, 298, 409, 361, 487, 432, 524, 131, 103, 195, 155, 416, 468, 356, 388, 148, 119, 124, 447, 306, 412, 20, 85, 251, 319, 270, 337, 421, 19, 456, 145, 420, 330, 417, 5, 222, 154, 191, 243, 21, 429, 95, 136, 139, 446, 183, 433, 315, 454, 170, 483, 464, 149, 204, 201, 324, 323, 46, 70, 81, 175, 333, 369, 8, 53, 63, 133, 84, 86, 10, 184, 140, 410, 422, 16, 384, 272, 59, 327, 316, 120, 310, 307, 228, 370, 137, 89, 173, 457, 336, 52, 494, 205, 213, 335, 366, 303, 32, 295, 41, 467, 278, 437, 354, 64, 301, 177, 431, 344, 158, 448]\n",
      "------------------------------\n",
      "Kolom: typefaskes\n",
      "['C', 'KB', 'I2', 'KJ', 'HD', 'KT', 'D', 'KI', 'A', 'KL', 'B', 'KC', 'SB', 'I3', 'KK', 'SA', 'KU', 'SD', 'KM', 'KP', 'I1', 'SC', 'GD', 'I4', 'KG', 'KO']\n",
      "------------------------------\n",
      "Kolom: jenkel\n",
      "[None, 'L', 'P']\n",
      "------------------------------\n",
      "Kolom: pisat\n",
      "[nan, 5.0, 2.0, 1.0, 3.0, 4.0]\n",
      "------------------------------\n",
      "Kolom: jenispel\n",
      "[1, 2]\n",
      "------------------------------\n",
      "Kolom: politujuan\n",
      "['012', 'BDS', '041', 'par', None, 'JIW', 'PMI', '160', 'USG', 'URL', '138', 'HDL', '022', 'BPR', 'KDK', 'RAT', 'SAR', 'EXC', '150', 'BDM', '168', '146', 'Gig', 'PAK', 'BED', '034', '005', 'BDP', 'ALG', 'GIN', 'DRH', 'obg', '011', 'VAS', 'ANU', '084', 'HCU', 'DIG', '057', '135', '067', 'KDN', '096', 'ASM', 'SEM', 'APT', 'SHM', 'KOL', '155', '071', 'AKP', '027', 'CAN', '006', 'HEM', 'PSK', '014', 'UMU', '047', '079', '141', '081', 'ort', '095', 'irm', '136', '107', 'DBM', 'R12', 'UMM', 'OBN', '149', 'GND', '162', 'GRD', '074', '024', 'TRD', '032', 'VCT', 'okm', '152', '048', 'BDO', '144', 'URF', 'NUK', '082', '133', '029', '098', 'int', 'PBM', '040', '013', 'SNA', 'BTK', 'DOT', 'IPD', '077', 'GP1', 'ONK', 'tum', 'aNA', 'JAN', 'klt', 'PRM', '021', 'IGD', 'KON', 'REM', '170', 'PKM', 'thT', 'ORT', '157', 'IRM', 'FIS', '147', '169', 'ONC', 'URE', 'BPL', '069', 'HEP', '035', 'PSI', '004', 'uro', '045', 'sar', 'BDD', 'MRI', 'END', '087', 'OKM', 'gig', '097', '134', '105', 'bed', 'IKA', '038', 'MAT', '154', 'ELK', 'INT', '072', 'UGD', '030', 'PAR', 'RDO', 'mat', '015', 'TUM', '046', 'SHA', 'BDT', '142', 'PNM', 'tht', 'GOR', '080', '009', '100', 'ORt', 'RDT', 'BDA', 'URO', '075', '163', '023', '139', 'LAB', 'PRO', 'OBG', 'ANA', 'GER', '033', 'GIZ', 'GIG', '151', 'EKG', 'GPR', 'KEM', 'INF', '132', 'BSY', '028', 'JWA', 'HAM', '099', '010', 'ANT', 'ESW', 'PPK', 'HON', 'BAN', '043', 'SPC', '085', 'NUL', '020', '060', 'ana', 'PAA', 'KLT', '018', 'PAT', 'OTL', 'THT', '156', 'ODS', 'RAA', 'CTS', 'ICU', '070', 'KSG', 'LAI', '068', 'jiw', '007', 'RHM', '036', 'AND', 'jan', 'ECO', '017', 'igd', 'CAP', 'URo', '044', '140', '078', '086', '055', 'JWD', '137', 'PBA', '039', 'PLT', 'HIV', 'ORP', '073', '165', '025', 'GAS', 'PUL', 'IVP', '109', '031', 'hdl', 'RDN', 'RAD', '153', 'fis', '143', '083', '008', 'PTD', 'ugd', '101']\n",
      "------------------------------\n",
      "Kolom: jenispulang\n",
      "[nan, 5.0, 2.0, 1.0, 3.0, 4.0]\n",
      "------------------------------\n",
      "Kolom: kelasrawat\n",
      "[1, 2, 3]\n",
      "------------------------------\n",
      "Kolom: label\n",
      "[0, 1]\n",
      "------------------------------\n",
      "Kolom: durasi_rawat\n",
      "[0, 238, 349, 257, 378, 15, 185, 96, 232, 199, 514, 30, 559, 655, 489, 712, 105, 198, 508, 374, 404, 6, 380, 69, 77, 180, 551, 208, 163, 461, 443, 97, 260, 60, 626, 501, 226, 536, 348, 210, 90, 159, 80, 245, 394, 471, 396, 26, 102, 66, 358, 132, 368, 202, 322, 642, 54, 116, 189, 215, 108, 223, 353, 377, 209, 485, 39, 150, 151, 1002, 389, 328, 463, 143, 165, 376, 291, 747, 451, 1, 13, 153, 94, 320, 482, 28, 395, 194, 113, 117, 174, 225, 329, 314, 556, 111, 359, 101, 375, 263, 236, 7, 58, 305, 129, 138, 357, 492, 424, 17, 36, 268, 178, 212, 842, 231, 289, 684, 44, 82, 62, 157, 657, 345, 264, 4, 476, 269, 579, 605, 18, 71, 360, 533, 261, 273, 2, 29, 115, 130, 402, 287, 49, 121, 235, 239, 182, 342, 444, 719, 407, 100, 147, 207, 252, 427, 290, 227, 297, 379, 259, 188, 128, 367, 33, 244, 141, 206, 403, 12, 37, 160, 347, 106, 352, 732, 511, 299, 398, 963, 527, 488, 495, 55, 61, 169, 229, 555, 3, 48, 27, 166, 220, 294, 271, 14, 76, 187, 230, 450, 283, 216, 276, 346, 325, 78, 45, 179, 564, 197, 1122, 47, 200, 23, 162, 247, 43, 42, 35, 176, 152, 242, 214, 249, 9, 65, 164, 581, 364, 651, 423, 382, 34, 25, 267, 233, 311, 462, 224, 250, 405, 326, 256, 479, 142, 274, 907, 521, 465, 196, 168, 181, 135, 331, 312, 560, 24, 50, 529, 505, 663, 440, 1431, 671, 647, 548, 134, 75, 79, 161, 372, 397, 203, 192, 237, 778, 292, 74, 285, 156, 172, 636, 282, 748, 692, 442, 73, 281, 241, 418, 40, 118, 127, 645, 399, 109, 435, 98, 193, 749, 321, 248, 246, 11, 99, 87, 265, 503, 438, 426, 302, 126, 338, 509, 776, 258, 114, 293, 697, 660, 365, 355, 401, 362, 56, 112, 219, 234, 123, 211, 190, 286, 186, 729, 466, 31, 57, 51, 68, 406, 588, 38, 93, 317, 255, 300, 343, 425, 477, 452, 254, 704, 67, 484, 218, 240, 506, 469, 107, 167, 676, 350, 318, 125, 104, 110, 334, 371, 391, 262, 279, 544, 387, 458, 22, 88, 383, 171, 280, 83, 144, 217, 629, 491, 373, 332, 288, 146, 221, 284, 400, 92, 478, 460, 91, 122, 298, 409, 309, 524, 131, 103, 155, 388, 195, 416, 742, 356, 20, 124, 306, 148, 447, 119, 266, 19, 85, 270, 337, 251, 319, 5, 145, 72, 420, 480, 538, 21, 154, 222, 191, 243, 542, 139, 95, 183, 136, 315, 429, 454, 46, 201, 170, 149, 525, 323, 204, 481, 324, 483, 464, 8, 53, 70, 81, 175, 615, 369, 333, 10, 16, 84, 63, 133, 86, 184, 140, 272, 384, 316, 59, 120, 307, 310, 228, 370, 327, 89, 52, 173, 137, 336, 789, 457, 213, 366, 205, 604, 578, 41, 32, 628, 295, 428, 278, 1021, 303, 659, 354, 437, 64, 158, 177, 535, 344, 448, 431, 301]\n",
      "------------------------------\n",
      "CPU times: total: 4.28 s\n",
      "Wall time: 2.52 s\n"
     ]
    }
   ],
   "source": [
    "%%time\n",
    "\n",
    "for col in df_selected.get_column_names():\n",
    "    print(f\"Kolom: {col}\")\n",
    "    print(df_selected[col].unique())\n",
    "    print(\"-\" * 30)\n"
   ]
  },
  {
   "cell_type": "markdown",
   "metadata": {},
   "source": [
    "### Hapus Baris Kosong"
   ]
  },
  {
   "cell_type": "markdown",
   "metadata": {},
   "source": [
    "#### Jenis Kelamin"
   ]
  },
  {
   "cell_type": "code",
   "execution_count": 92,
   "metadata": {},
   "outputs": [
    {
     "name": "stdout",
     "output_type": "stream",
     "text": [
      "CPU times: total: 141 ms\n",
      "Wall time: 92.4 ms\n"
     ]
    },
    {
     "data": {
      "text/plain": [
       "array(48, dtype=int64)"
      ]
     },
     "execution_count": 92,
     "metadata": {},
     "output_type": "execute_result"
    }
   ],
   "source": [
    "%%time\n",
    "\n",
    "df_sampling1[(df_sampling1['label'] == 0) & df_sampling1['jenkel'].isna()].count()\n"
   ]
  },
  {
   "cell_type": "code",
   "execution_count": 94,
   "metadata": {},
   "outputs": [
    {
     "name": "stdout",
     "output_type": "stream",
     "text": [
      "CPU times: total: 78.1 ms\n",
      "Wall time: 77.6 ms\n"
     ]
    },
    {
     "data": {
      "text/plain": [
       "array(1, dtype=int64)"
      ]
     },
     "execution_count": 94,
     "metadata": {},
     "output_type": "execute_result"
    }
   ],
   "source": [
    "%%time\n",
    "\n",
    "df_sampling1[(df_sampling1['label'] == 1) & df_sampling1['jenkel'].isna()].count()\n"
   ]
  },
  {
   "cell_type": "code",
   "execution_count": 95,
   "metadata": {},
   "outputs": [],
   "source": [
    "df_sampling1 = df_sampling1[(df_sampling1['label'] == 0) & (df_sampling1['jenkel'].notna())]\n",
    "\n"
   ]
  },
  {
   "cell_type": "code",
   "execution_count": 96,
   "metadata": {},
   "outputs": [
    {
     "data": {
      "text/plain": [
       "array(0, dtype=int64)"
      ]
     },
     "execution_count": 96,
     "metadata": {},
     "output_type": "execute_result"
    }
   ],
   "source": [
    "df_sampling1['jenkel'].isna().sum()"
   ]
  },
  {
   "cell_type": "markdown",
   "metadata": {},
   "source": [
    "#### Hubungan Kepersertaan"
   ]
  },
  {
   "cell_type": "code",
   "execution_count": 98,
   "metadata": {},
   "outputs": [
    {
     "name": "stdout",
     "output_type": "stream",
     "text": [
      "CPU times: total: 328 ms\n",
      "Wall time: 112 ms\n"
     ]
    },
    {
     "data": {
      "text/plain": [
       "array(190, dtype=int64)"
      ]
     },
     "execution_count": 98,
     "metadata": {},
     "output_type": "execute_result"
    }
   ],
   "source": [
    "%%time\n",
    "\n",
    "df_sampling1[(df_sampling1['label'] == 0) & df_sampling1['pisat'].isna()].count()\n"
   ]
  },
  {
   "cell_type": "code",
   "execution_count": 99,
   "metadata": {},
   "outputs": [
    {
     "name": "stdout",
     "output_type": "stream",
     "text": [
      "CPU times: total: 203 ms\n",
      "Wall time: 143 ms\n"
     ]
    },
    {
     "data": {
      "text/plain": [
       "array(0, dtype=int64)"
      ]
     },
     "execution_count": 99,
     "metadata": {},
     "output_type": "execute_result"
    }
   ],
   "source": [
    "%%time\n",
    "\n",
    "df_sampling1[(df_sampling1['label'] == 1) & df_sampling1['pisat'].isna()].count()\n"
   ]
  },
  {
   "cell_type": "code",
   "execution_count": 101,
   "metadata": {},
   "outputs": [
    {
     "name": "stdout",
     "output_type": "stream",
     "text": [
      "CPU times: total: 766 ms\n",
      "Wall time: 304 ms\n"
     ]
    },
    {
     "data": {
      "text/plain": [
       "array(0, dtype=int64)"
      ]
     },
     "execution_count": 101,
     "metadata": {},
     "output_type": "execute_result"
    }
   ],
   "source": [
    "%%time\n",
    "\n",
    "df_sampling1 = df_sampling1[(df_sampling1['label'] == 0) & (df_sampling1['pisat'].notna())]\n",
    "\n",
    "df_sampling1['pisat'].isna().sum()\n",
    "\n"
   ]
  },
  {
   "cell_type": "markdown",
   "metadata": {},
   "source": [
    "#### Jenis Pulang"
   ]
  },
  {
   "cell_type": "code",
   "execution_count": 102,
   "metadata": {},
   "outputs": [
    {
     "name": "stdout",
     "output_type": "stream",
     "text": [
      "CPU times: total: 297 ms\n",
      "Wall time: 130 ms\n"
     ]
    },
    {
     "data": {
      "text/plain": [
       "array(39, dtype=int64)"
      ]
     },
     "execution_count": 102,
     "metadata": {},
     "output_type": "execute_result"
    }
   ],
   "source": [
    "%%time\n",
    "\n",
    "df_sampling1[(df_sampling1['label'] == 0) & df_sampling1['jenispulang'].isna()].count()\n"
   ]
  },
  {
   "cell_type": "code",
   "execution_count": 103,
   "metadata": {},
   "outputs": [
    {
     "name": "stdout",
     "output_type": "stream",
     "text": [
      "CPU times: total: 609 ms\n",
      "Wall time: 151 ms\n"
     ]
    },
    {
     "data": {
      "text/plain": [
       "array(0, dtype=int64)"
      ]
     },
     "execution_count": 103,
     "metadata": {},
     "output_type": "execute_result"
    }
   ],
   "source": [
    "%%time\n",
    "\n",
    "df_sampling1[(df_sampling1['label'] == 1) & df_sampling1['jenispulang'].isna()].count()\n"
   ]
  },
  {
   "cell_type": "code",
   "execution_count": 104,
   "metadata": {},
   "outputs": [
    {
     "name": "stdout",
     "output_type": "stream",
     "text": [
      "CPU times: total: 781 ms\n",
      "Wall time: 355 ms\n"
     ]
    },
    {
     "data": {
      "text/plain": [
       "array(0, dtype=int64)"
      ]
     },
     "execution_count": 104,
     "metadata": {},
     "output_type": "execute_result"
    }
   ],
   "source": [
    "%%time\n",
    "\n",
    "df_sampling1 = df_sampling1[(df_sampling1['label'] == 0) & (df_sampling1['jenispulang'].notna())]\n",
    "df_sampling1['jenispulang'].isna().sum()\n",
    "\n"
   ]
  },
  {
   "cell_type": "markdown",
   "metadata": {},
   "source": [
    "#### Diagnosa FKTP"
   ]
  },
  {
   "cell_type": "code",
   "execution_count": 106,
   "metadata": {},
   "outputs": [
    {
     "name": "stdout",
     "output_type": "stream",
     "text": [
      "CPU times: total: 484 ms\n",
      "Wall time: 205 ms\n"
     ]
    },
    {
     "data": {
      "text/plain": [
       "array(2362, dtype=int64)"
      ]
     },
     "execution_count": 106,
     "metadata": {},
     "output_type": "execute_result"
    }
   ],
   "source": [
    "%%time\n",
    "\n",
    "df_sampling1[(df_sampling1['label'] == 0) & df_sampling1['diagfktp'].isna()].count()\n"
   ]
  },
  {
   "cell_type": "code",
   "execution_count": 107,
   "metadata": {},
   "outputs": [
    {
     "name": "stdout",
     "output_type": "stream",
     "text": [
      "CPU times: total: 391 ms\n",
      "Wall time: 193 ms\n"
     ]
    },
    {
     "data": {
      "text/plain": [
       "array(0, dtype=int64)"
      ]
     },
     "execution_count": 107,
     "metadata": {},
     "output_type": "execute_result"
    }
   ],
   "source": [
    "%%time\n",
    "\n",
    "df_sampling1[(df_sampling1['label'] == 1) & df_sampling1['diagfktp'].isna()].count()\n"
   ]
  },
  {
   "cell_type": "code",
   "execution_count": 108,
   "metadata": {},
   "outputs": [
    {
     "name": "stdout",
     "output_type": "stream",
     "text": [
      "CPU times: total: 1.5 s\n",
      "Wall time: 441 ms\n"
     ]
    },
    {
     "data": {
      "text/plain": [
       "array(0, dtype=int64)"
      ]
     },
     "execution_count": 108,
     "metadata": {},
     "output_type": "execute_result"
    }
   ],
   "source": [
    "%%time\n",
    "\n",
    "df_sampling1 = df_sampling1[(df_sampling1['label'] == 0) & (df_sampling1['diagfktp'].notna())]\n",
    "df_sampling1['diagfktp'].isna().sum()\n",
    "\n"
   ]
  },
  {
   "cell_type": "markdown",
   "metadata": {},
   "source": [
    "#### Biaya"
   ]
  },
  {
   "cell_type": "code",
   "execution_count": 110,
   "metadata": {},
   "outputs": [
    {
     "name": "stdout",
     "output_type": "stream",
     "text": [
      "CPU times: total: 531 ms\n",
      "Wall time: 244 ms\n"
     ]
    },
    {
     "data": {
      "text/plain": [
       "array(2745, dtype=int64)"
      ]
     },
     "execution_count": 110,
     "metadata": {},
     "output_type": "execute_result"
    }
   ],
   "source": [
    "%%time\n",
    "\n",
    "df_sampling1[(df_sampling1['label'] == 0) & df_sampling1['biaya'].isna()].count()\n"
   ]
  },
  {
   "cell_type": "code",
   "execution_count": 111,
   "metadata": {},
   "outputs": [
    {
     "name": "stdout",
     "output_type": "stream",
     "text": [
      "CPU times: total: 875 ms\n",
      "Wall time: 337 ms\n"
     ]
    },
    {
     "data": {
      "text/plain": [
       "array(0, dtype=int64)"
      ]
     },
     "execution_count": 111,
     "metadata": {},
     "output_type": "execute_result"
    }
   ],
   "source": [
    "%%time\n",
    "\n",
    "df_sampling1[(df_sampling1['label'] == 1) & df_sampling1['biaya'].isna()].count()\n"
   ]
  },
  {
   "cell_type": "code",
   "execution_count": 115,
   "metadata": {},
   "outputs": [
    {
     "name": "stdout",
     "output_type": "stream",
     "text": [
      "CPU times: total: 656 ms\n",
      "Wall time: 347 ms\n"
     ]
    },
    {
     "data": {
      "text/plain": [
       "array(0, dtype=int64)"
      ]
     },
     "execution_count": 115,
     "metadata": {},
     "output_type": "execute_result"
    }
   ],
   "source": [
    "%%time\n",
    "\n",
    "df_sampling1 = df_sampling1[(df_sampling1['label'] == 0) & (df_sampling1['biaya'].notna())]\n",
    "df_sampling1['biaya'].isna().sum()\n",
    "\n"
   ]
  },
  {
   "cell_type": "markdown",
   "metadata": {},
   "source": [
    "#### Poli Tujuan"
   ]
  },
  {
   "cell_type": "code",
   "execution_count": 117,
   "metadata": {},
   "outputs": [
    {
     "name": "stdout",
     "output_type": "stream",
     "text": [
      "CPU times: total: 453 ms\n",
      "Wall time: 258 ms\n"
     ]
    },
    {
     "data": {
      "text/plain": [
       "array(3986119, dtype=int64)"
      ]
     },
     "execution_count": 117,
     "metadata": {},
     "output_type": "execute_result"
    }
   ],
   "source": [
    "%%time\n",
    "\n",
    "df_sampling1[(df_sampling1['label'] == 0) & df_sampling1['politujuan'].isna()].count()\n"
   ]
  },
  {
   "cell_type": "code",
   "execution_count": 118,
   "metadata": {},
   "outputs": [
    {
     "name": "stdout",
     "output_type": "stream",
     "text": [
      "CPU times: total: 625 ms\n",
      "Wall time: 268 ms\n"
     ]
    },
    {
     "data": {
      "text/plain": [
       "array(0, dtype=int64)"
      ]
     },
     "execution_count": 118,
     "metadata": {},
     "output_type": "execute_result"
    }
   ],
   "source": [
    "%%time\n",
    "\n",
    "df_sampling1[(df_sampling1['label'] == 1) & df_sampling1['politujuan'].isna()].count()\n"
   ]
  },
  {
   "cell_type": "code",
   "execution_count": 119,
   "metadata": {},
   "outputs": [
    {
     "name": "stdout",
     "output_type": "stream",
     "text": [
      "CPU times: total: 1.12 s\n",
      "Wall time: 411 ms\n"
     ]
    },
    {
     "data": {
      "text/plain": [
       "array(0, dtype=int64)"
      ]
     },
     "execution_count": 119,
     "metadata": {},
     "output_type": "execute_result"
    }
   ],
   "source": [
    "%%time\n",
    "\n",
    "df_sampling1 = df_sampling1[(df_sampling1['label'] == 0) & (df_sampling1['politujuan'].notna())]\n",
    "df_sampling1['politujuan'].isna().sum()\n",
    "\n"
   ]
  },
  {
   "cell_type": "code",
   "execution_count": 121,
   "metadata": {},
   "outputs": [
    {
     "name": "stdout",
     "output_type": "stream",
     "text": [
      "CPU times: total: 13.3 s\n",
      "Wall time: 3.21 s\n"
     ]
    },
    {
     "data": {
      "text/html": [
       "<div>\n",
       "<style scoped>\n",
       "    .dataframe tbody tr th:only-of-type {\n",
       "        vertical-align: middle;\n",
       "    }\n",
       "\n",
       "    .dataframe tbody tr th {\n",
       "        vertical-align: top;\n",
       "    }\n",
       "\n",
       "    .dataframe thead th {\n",
       "        text-align: right;\n",
       "    }\n",
       "</style>\n",
       "<table border=\"1\" class=\"dataframe\">\n",
       "  <thead>\n",
       "    <tr style=\"text-align: right;\">\n",
       "      <th></th>\n",
       "      <th>id</th>\n",
       "      <th>dati2</th>\n",
       "      <th>typefaskes</th>\n",
       "      <th>usia</th>\n",
       "      <th>jenkel</th>\n",
       "      <th>pisat</th>\n",
       "      <th>jenispel</th>\n",
       "      <th>politujuan</th>\n",
       "      <th>diagfktp</th>\n",
       "      <th>biaya</th>\n",
       "      <th>jenispulang</th>\n",
       "      <th>kelasrawat</th>\n",
       "      <th>label</th>\n",
       "      <th>durasi_rawat</th>\n",
       "    </tr>\n",
       "  </thead>\n",
       "  <tbody>\n",
       "    <tr>\n",
       "      <th>data_type</th>\n",
       "      <td>int64</td>\n",
       "      <td>int64</td>\n",
       "      <td>string</td>\n",
       "      <td>int64</td>\n",
       "      <td>string</td>\n",
       "      <td>float64</td>\n",
       "      <td>int64</td>\n",
       "      <td>string</td>\n",
       "      <td>string</td>\n",
       "      <td>float64</td>\n",
       "      <td>float64</td>\n",
       "      <td>int64</td>\n",
       "      <td>int64</td>\n",
       "      <td>int64</td>\n",
       "    </tr>\n",
       "    <tr>\n",
       "      <th>count</th>\n",
       "      <td>7253490</td>\n",
       "      <td>7253490</td>\n",
       "      <td>7253490</td>\n",
       "      <td>7253490</td>\n",
       "      <td>7253490</td>\n",
       "      <td>7253490</td>\n",
       "      <td>7253490</td>\n",
       "      <td>7253490</td>\n",
       "      <td>7253490</td>\n",
       "      <td>7253490</td>\n",
       "      <td>7253490</td>\n",
       "      <td>7253490</td>\n",
       "      <td>7253490</td>\n",
       "      <td>7253490</td>\n",
       "    </tr>\n",
       "    <tr>\n",
       "      <th>NA</th>\n",
       "      <td>0</td>\n",
       "      <td>0</td>\n",
       "      <td>0</td>\n",
       "      <td>0</td>\n",
       "      <td>0</td>\n",
       "      <td>0</td>\n",
       "      <td>0</td>\n",
       "      <td>0</td>\n",
       "      <td>0</td>\n",
       "      <td>0</td>\n",
       "      <td>0</td>\n",
       "      <td>0</td>\n",
       "      <td>0</td>\n",
       "      <td>0</td>\n",
       "    </tr>\n",
       "    <tr>\n",
       "      <th>mean</th>\n",
       "      <td>5615111.596326872</td>\n",
       "      <td>183.09682015140297</td>\n",
       "      <td>--</td>\n",
       "      <td>38.981125085993085</td>\n",
       "      <td>--</td>\n",
       "      <td>2.403957681061117</td>\n",
       "      <td>1.9999471978316645</td>\n",
       "      <td>--</td>\n",
       "      <td>--</td>\n",
       "      <td>421347.7360415469</td>\n",
       "      <td>1.0647500720342897</td>\n",
       "      <td>2.999966361020695</td>\n",
       "      <td>0.0</td>\n",
       "      <td>0.00023547285513594147</td>\n",
       "    </tr>\n",
       "    <tr>\n",
       "      <th>std</th>\n",
       "      <td>3288656.073133</td>\n",
       "      <td>106.840972</td>\n",
       "      <td>--</td>\n",
       "      <td>22.004335</td>\n",
       "      <td>--</td>\n",
       "      <td>1.375039</td>\n",
       "      <td>0.007266</td>\n",
       "      <td>--</td>\n",
       "      <td>--</td>\n",
       "      <td>1021502.062899</td>\n",
       "      <td>0.443255</td>\n",
       "      <td>0.007351</td>\n",
       "      <td>0.0</td>\n",
       "      <td>0.068946</td>\n",
       "    </tr>\n",
       "    <tr>\n",
       "      <th>min</th>\n",
       "      <td>2</td>\n",
       "      <td>1</td>\n",
       "      <td>--</td>\n",
       "      <td>0</td>\n",
       "      <td>--</td>\n",
       "      <td>1.0</td>\n",
       "      <td>1</td>\n",
       "      <td>--</td>\n",
       "      <td>--</td>\n",
       "      <td>0.0</td>\n",
       "      <td>1.0</td>\n",
       "      <td>1</td>\n",
       "      <td>0</td>\n",
       "      <td>0</td>\n",
       "    </tr>\n",
       "    <tr>\n",
       "      <th>max</th>\n",
       "      <td>11426957</td>\n",
       "      <td>528</td>\n",
       "      <td>--</td>\n",
       "      <td>110</td>\n",
       "      <td>--</td>\n",
       "      <td>5.0</td>\n",
       "      <td>2</td>\n",
       "      <td>--</td>\n",
       "      <td>--</td>\n",
       "      <td>57108100.0</td>\n",
       "      <td>5.0</td>\n",
       "      <td>3</td>\n",
       "      <td>0</td>\n",
       "      <td>69</td>\n",
       "    </tr>\n",
       "  </tbody>\n",
       "</table>\n",
       "</div>"
      ],
      "text/plain": [
       "                          id               dati2 typefaskes  \\\n",
       "data_type              int64               int64     string   \n",
       "count                7253490             7253490    7253490   \n",
       "NA                         0                   0          0   \n",
       "mean       5615111.596326872  183.09682015140297         --   \n",
       "std           3288656.073133          106.840972         --   \n",
       "min                        2                   1         --   \n",
       "max                 11426957                 528         --   \n",
       "\n",
       "                         usia   jenkel              pisat            jenispel  \\\n",
       "data_type               int64   string            float64               int64   \n",
       "count                 7253490  7253490            7253490             7253490   \n",
       "NA                          0        0                  0                   0   \n",
       "mean       38.981125085993085       --  2.403957681061117  1.9999471978316645   \n",
       "std                 22.004335       --           1.375039            0.007266   \n",
       "min                         0       --                1.0                   1   \n",
       "max                       110       --                5.0                   2   \n",
       "\n",
       "          politujuan diagfktp              biaya         jenispulang  \\\n",
       "data_type     string   string            float64             float64   \n",
       "count        7253490  7253490            7253490             7253490   \n",
       "NA                 0        0                  0                   0   \n",
       "mean              --       --  421347.7360415469  1.0647500720342897   \n",
       "std               --       --     1021502.062899            0.443255   \n",
       "min               --       --                0.0                 1.0   \n",
       "max               --       --         57108100.0                 5.0   \n",
       "\n",
       "                  kelasrawat    label            durasi_rawat  \n",
       "data_type              int64    int64                   int64  \n",
       "count                7253490  7253490                 7253490  \n",
       "NA                         0        0                       0  \n",
       "mean       2.999966361020695      0.0  0.00023547285513594147  \n",
       "std                 0.007351      0.0                0.068946  \n",
       "min                        1        0                       0  \n",
       "max                        3        0                      69  "
      ]
     },
     "execution_count": 121,
     "metadata": {},
     "output_type": "execute_result"
    }
   ],
   "source": [
    "%%time\n",
    "\n",
    "df_sampling1.describe()"
   ]
  },
  {
   "cell_type": "code",
   "execution_count": 122,
   "metadata": {},
   "outputs": [],
   "source": [
    "df_sampling1.export_csv(\"sampling2.csv\")  "
   ]
  },
  {
   "cell_type": "markdown",
   "metadata": {},
   "source": [
    "## Pembersihan Tahap 2"
   ]
  },
  {
   "cell_type": "code",
   "execution_count": 26,
   "metadata": {},
   "outputs": [
    {
     "name": "stdout",
     "output_type": "stream",
     "text": [
      "CPU times: total: 0 ns\n",
      "Wall time: 32.5 ms\n"
     ]
    },
    {
     "data": {
      "text/html": [
       "<table>\n",
       "<thead>\n",
       "<tr><th>#                                    </th><th>id      </th><th>dati2  </th><th>typefaskes  </th><th>usia  </th><th>jenkel  </th><th>pisat  </th><th>jenispel  </th><th>politujuan  </th><th>diagfktp  </th><th>biaya   </th><th>jenispulang  </th><th>kelasrawat  </th><th>label  </th><th>durasi_rawat  </th></tr>\n",
       "</thead>\n",
       "<tbody>\n",
       "<tr><td><i style='opacity: 0.6'>0</i>        </td><td>165666  </td><td>17     </td><td>KL          </td><td>48    </td><td>P       </td><td>1.0    </td><td>2         </td><td>THT         </td><td>L02.8     </td><td>184300.0</td><td>1.0          </td><td>3           </td><td>0      </td><td>0             </td></tr>\n",
       "<tr><td><i style='opacity: 0.6'>1</i>        </td><td>166042  </td><td>17     </td><td>KL          </td><td>53    </td><td>P       </td><td>1.0    </td><td>2         </td><td>INT         </td><td>E10.5     </td><td>187300.0</td><td>1.0          </td><td>3           </td><td>0      </td><td>0             </td></tr>\n",
       "<tr><td><i style='opacity: 0.6'>2</i>        </td><td>168937  </td><td>17     </td><td>KL          </td><td>54    </td><td>P       </td><td>1.0    </td><td>2         </td><td>MAT         </td><td>H54.2     </td><td>187300.0</td><td>1.0          </td><td>3           </td><td>0      </td><td>0             </td></tr>\n",
       "<tr><td><i style='opacity: 0.6'>3</i>        </td><td>1005899 </td><td>17     </td><td>A           </td><td>53    </td><td>P       </td><td>1.0    </td><td>2         </td><td>SAR         </td><td>M54.5     </td><td>381600.0</td><td>1.0          </td><td>3           </td><td>0      </td><td>0             </td></tr>\n",
       "<tr><td><i style='opacity: 0.6'>4</i>        </td><td>51010   </td><td>8      </td><td>SD          </td><td>50    </td><td>P       </td><td>1.0    </td><td>2         </td><td>IGD         </td><td>D61       </td><td>155000.0</td><td>2.0          </td><td>3           </td><td>0      </td><td>0             </td></tr>\n",
       "<tr><td>...                                  </td><td>...     </td><td>...    </td><td>...         </td><td>...   </td><td>...     </td><td>...    </td><td>...       </td><td>...         </td><td>...       </td><td>...     </td><td>...          </td><td>...         </td><td>...    </td><td>...           </td></tr>\n",
       "<tr><td><i style='opacity: 0.6'>7,253,485</i></td><td>10985829</td><td>229    </td><td>B           </td><td>0     </td><td>L       </td><td>4.0    </td><td>2         </td><td>ANA         </td><td>Z09.9     </td><td>246000.0</td><td>1.0          </td><td>3           </td><td>0      </td><td>0             </td></tr>\n",
       "<tr><td><i style='opacity: 0.6'>7,253,486</i></td><td>3012230 </td><td>151    </td><td>SC          </td><td>0     </td><td>P       </td><td>4.0    </td><td>2         </td><td>ANA         </td><td>P00.9     </td><td>308800.0</td><td>1.0          </td><td>3           </td><td>0      </td><td>0             </td></tr>\n",
       "<tr><td><i style='opacity: 0.6'>7,253,487</i></td><td>5635918 </td><td>62     </td><td>C           </td><td>0     </td><td>L       </td><td>4.0    </td><td>2         </td><td>IGD         </td><td>J80       </td><td>296700.0</td><td>4.0          </td><td>3           </td><td>0      </td><td>0             </td></tr>\n",
       "<tr><td><i style='opacity: 0.6'>7,253,488</i></td><td>2555450 </td><td>136    </td><td>SC          </td><td>0     </td><td>L       </td><td>4.0    </td><td>2         </td><td>ANA         </td><td>Z03.8     </td><td>253300.0</td><td>1.0          </td><td>3           </td><td>0      </td><td>0             </td></tr>\n",
       "<tr><td><i style='opacity: 0.6'>7,253,489</i></td><td>4414048 </td><td>223    </td><td>C           </td><td>6     </td><td>L       </td><td>4.0    </td><td>2         </td><td>ORT         </td><td>T14.30    </td><td>181400.0</td><td>1.0          </td><td>3           </td><td>0      </td><td>0             </td></tr>\n",
       "</tbody>\n",
       "</table>"
      ],
      "text/plain": [
       "#          id        dati2    typefaskes    usia    jenkel    pisat    jenispel    politujuan    diagfktp    biaya     jenispulang    kelasrawat    label    durasi_rawat\n",
       "0          165666    17       KL            48      P         1.0      2           THT           L02.8       184300.0  1.0            3             0        0\n",
       "1          166042    17       KL            53      P         1.0      2           INT           E10.5       187300.0  1.0            3             0        0\n",
       "2          168937    17       KL            54      P         1.0      2           MAT           H54.2       187300.0  1.0            3             0        0\n",
       "3          1005899   17       A             53      P         1.0      2           SAR           M54.5       381600.0  1.0            3             0        0\n",
       "4          51010     8        SD            50      P         1.0      2           IGD           D61         155000.0  2.0            3             0        0\n",
       "...        ...       ...      ...           ...     ...       ...      ...         ...           ...         ...       ...            ...           ...      ...\n",
       "7,253,485  10985829  229      B             0       L         4.0      2           ANA           Z09.9       246000.0  1.0            3             0        0\n",
       "7,253,486  3012230   151      SC            0       P         4.0      2           ANA           P00.9       308800.0  1.0            3             0        0\n",
       "7,253,487  5635918   62       C             0       L         4.0      2           IGD           J80         296700.0  4.0            3             0        0\n",
       "7,253,488  2555450   136      SC            0       L         4.0      2           ANA           Z03.8       253300.0  1.0            3             0        0\n",
       "7,253,489  4414048   223      C             6       L         4.0      2           ORT           T14.30      181400.0  1.0            3             0        0"
      ]
     },
     "execution_count": 26,
     "metadata": {},
     "output_type": "execute_result"
    }
   ],
   "source": [
    "%%time\n",
    "\n",
    "df_sampling2 = vaex.from_csv('sampling2.csv', convert=True, chunk_size=100_000)\n",
    "df_sampling2"
   ]
  },
  {
   "cell_type": "code",
   "execution_count": 5,
   "metadata": {},
   "outputs": [
    {
     "data": {
      "text/html": [
       "<div>\n",
       "<style scoped>\n",
       "    .dataframe tbody tr th:only-of-type {\n",
       "        vertical-align: middle;\n",
       "    }\n",
       "\n",
       "    .dataframe tbody tr th {\n",
       "        vertical-align: top;\n",
       "    }\n",
       "\n",
       "    .dataframe thead th {\n",
       "        text-align: right;\n",
       "    }\n",
       "</style>\n",
       "<table border=\"1\" class=\"dataframe\">\n",
       "  <thead>\n",
       "    <tr style=\"text-align: right;\">\n",
       "      <th></th>\n",
       "      <th>id</th>\n",
       "      <th>dati2</th>\n",
       "      <th>typefaskes</th>\n",
       "      <th>usia</th>\n",
       "      <th>jenkel</th>\n",
       "      <th>pisat</th>\n",
       "      <th>jenispel</th>\n",
       "      <th>politujuan</th>\n",
       "      <th>diagfktp</th>\n",
       "      <th>biaya</th>\n",
       "      <th>jenispulang</th>\n",
       "      <th>kelasrawat</th>\n",
       "      <th>label</th>\n",
       "      <th>durasi_rawat</th>\n",
       "    </tr>\n",
       "  </thead>\n",
       "  <tbody>\n",
       "    <tr>\n",
       "      <th>data_type</th>\n",
       "      <td>int64</td>\n",
       "      <td>int64</td>\n",
       "      <td>string</td>\n",
       "      <td>int64</td>\n",
       "      <td>string</td>\n",
       "      <td>float64</td>\n",
       "      <td>int64</td>\n",
       "      <td>string</td>\n",
       "      <td>string</td>\n",
       "      <td>float64</td>\n",
       "      <td>float64</td>\n",
       "      <td>int64</td>\n",
       "      <td>int64</td>\n",
       "      <td>int64</td>\n",
       "    </tr>\n",
       "    <tr>\n",
       "      <th>count</th>\n",
       "      <td>7253490</td>\n",
       "      <td>7253490</td>\n",
       "      <td>7253490</td>\n",
       "      <td>7253490</td>\n",
       "      <td>7253490</td>\n",
       "      <td>7253490</td>\n",
       "      <td>7253490</td>\n",
       "      <td>7253490</td>\n",
       "      <td>7253490</td>\n",
       "      <td>7253490</td>\n",
       "      <td>7253490</td>\n",
       "      <td>7253490</td>\n",
       "      <td>7253490</td>\n",
       "      <td>7253490</td>\n",
       "    </tr>\n",
       "    <tr>\n",
       "      <th>NA</th>\n",
       "      <td>0</td>\n",
       "      <td>0</td>\n",
       "      <td>0</td>\n",
       "      <td>0</td>\n",
       "      <td>0</td>\n",
       "      <td>0</td>\n",
       "      <td>0</td>\n",
       "      <td>0</td>\n",
       "      <td>0</td>\n",
       "      <td>0</td>\n",
       "      <td>0</td>\n",
       "      <td>0</td>\n",
       "      <td>0</td>\n",
       "      <td>0</td>\n",
       "    </tr>\n",
       "    <tr>\n",
       "      <th>mean</th>\n",
       "      <td>5615111.596326872</td>\n",
       "      <td>183.09682015140297</td>\n",
       "      <td>--</td>\n",
       "      <td>38.981125085993085</td>\n",
       "      <td>--</td>\n",
       "      <td>2.403957681061117</td>\n",
       "      <td>1.9999471978316645</td>\n",
       "      <td>--</td>\n",
       "      <td>--</td>\n",
       "      <td>421347.7360415469</td>\n",
       "      <td>1.0647500720342897</td>\n",
       "      <td>2.999966361020695</td>\n",
       "      <td>0.0</td>\n",
       "      <td>0.00023547285513594147</td>\n",
       "    </tr>\n",
       "    <tr>\n",
       "      <th>std</th>\n",
       "      <td>3288656.073133</td>\n",
       "      <td>106.840972</td>\n",
       "      <td>--</td>\n",
       "      <td>22.004335</td>\n",
       "      <td>--</td>\n",
       "      <td>1.375039</td>\n",
       "      <td>0.007266</td>\n",
       "      <td>--</td>\n",
       "      <td>--</td>\n",
       "      <td>1021502.062899</td>\n",
       "      <td>0.443255</td>\n",
       "      <td>0.007351</td>\n",
       "      <td>0.0</td>\n",
       "      <td>0.068946</td>\n",
       "    </tr>\n",
       "    <tr>\n",
       "      <th>min</th>\n",
       "      <td>2</td>\n",
       "      <td>1</td>\n",
       "      <td>--</td>\n",
       "      <td>0</td>\n",
       "      <td>--</td>\n",
       "      <td>1.0</td>\n",
       "      <td>1</td>\n",
       "      <td>--</td>\n",
       "      <td>--</td>\n",
       "      <td>0.0</td>\n",
       "      <td>1.0</td>\n",
       "      <td>1</td>\n",
       "      <td>0</td>\n",
       "      <td>0</td>\n",
       "    </tr>\n",
       "    <tr>\n",
       "      <th>max</th>\n",
       "      <td>11426957</td>\n",
       "      <td>528</td>\n",
       "      <td>--</td>\n",
       "      <td>110</td>\n",
       "      <td>--</td>\n",
       "      <td>5.0</td>\n",
       "      <td>2</td>\n",
       "      <td>--</td>\n",
       "      <td>--</td>\n",
       "      <td>57108100.0</td>\n",
       "      <td>5.0</td>\n",
       "      <td>3</td>\n",
       "      <td>0</td>\n",
       "      <td>69</td>\n",
       "    </tr>\n",
       "  </tbody>\n",
       "</table>\n",
       "</div>"
      ],
      "text/plain": [
       "                          id               dati2 typefaskes  \\\n",
       "data_type              int64               int64     string   \n",
       "count                7253490             7253490    7253490   \n",
       "NA                         0                   0          0   \n",
       "mean       5615111.596326872  183.09682015140297         --   \n",
       "std           3288656.073133          106.840972         --   \n",
       "min                        2                   1         --   \n",
       "max                 11426957                 528         --   \n",
       "\n",
       "                         usia   jenkel              pisat            jenispel  \\\n",
       "data_type               int64   string            float64               int64   \n",
       "count                 7253490  7253490            7253490             7253490   \n",
       "NA                          0        0                  0                   0   \n",
       "mean       38.981125085993085       --  2.403957681061117  1.9999471978316645   \n",
       "std                 22.004335       --           1.375039            0.007266   \n",
       "min                         0       --                1.0                   1   \n",
       "max                       110       --                5.0                   2   \n",
       "\n",
       "          politujuan diagfktp              biaya         jenispulang  \\\n",
       "data_type     string   string            float64             float64   \n",
       "count        7253490  7253490            7253490             7253490   \n",
       "NA                 0        0                  0                   0   \n",
       "mean              --       --  421347.7360415469  1.0647500720342897   \n",
       "std               --       --     1021502.062899            0.443255   \n",
       "min               --       --                0.0                 1.0   \n",
       "max               --       --         57108100.0                 5.0   \n",
       "\n",
       "                  kelasrawat    label            durasi_rawat  \n",
       "data_type              int64    int64                   int64  \n",
       "count                7253490  7253490                 7253490  \n",
       "NA                         0        0                       0  \n",
       "mean       2.999966361020695      0.0  0.00023547285513594147  \n",
       "std                 0.007351      0.0                0.068946  \n",
       "min                        1        0                       0  \n",
       "max                        3        0                      69  "
      ]
     },
     "execution_count": 5,
     "metadata": {},
     "output_type": "execute_result"
    }
   ],
   "source": [
    "df_sampling2.describe()"
   ]
  },
  {
   "cell_type": "markdown",
   "metadata": {},
   "source": [
    "#### Jumlah Unique Value setiap Kolom"
   ]
  },
  {
   "cell_type": "code",
   "execution_count": null,
   "metadata": {},
   "outputs": [],
   "source": [
    "df_selected1 = df_sampling2['dati2', 'typefaskes', 'usia', 'jenkel', 'pisat', 'jenispel', 'politujuan', 'diagfktp', 'biaya', 'jenispulang', 'kelasrawat', 'label', 'durasi_rawat']"
   ]
  },
  {
   "cell_type": "code",
   "execution_count": 11,
   "metadata": {},
   "outputs": [
    {
     "name": "stdout",
     "output_type": "stream",
     "text": [
      "\n",
      " Frekuensi nilai unik di kolom: 'dati2'\n",
      "#    dati2    _count\n",
      "0    113      208665\n",
      "1    217      170902\n",
      "2    135      144195\n",
      "3    38       138222\n",
      "4    90       126820\n",
      "...  ...      ...\n",
      "483  497      138\n",
      "484  517      52\n",
      "485  528      46\n",
      "486  366      10\n",
      "487  527      6\n",
      "\n",
      " Frekuensi nilai unik di kolom: 'typefaskes'\n",
      "#    typefaskes    _count\n",
      "0    SC            2137662\n",
      "1    C             1424825\n",
      "2    B             1264435\n",
      "3    SB            501509\n",
      "4    SD            487372\n",
      "...  ...           ...\n",
      "21   KO            8122\n",
      "22   GD            5549\n",
      "23   KT            3855\n",
      "24   KU            2954\n",
      "25   KK            7\n",
      "\n",
      " Frekuensi nilai unik di kolom: 'usia'\n",
      "#    usia    _count\n",
      "0    0       216384\n",
      "1    54      134272\n",
      "2    53      133224\n",
      "3    50      132084\n",
      "4    55      131606\n",
      "...  ...     ...\n",
      "106  104     8\n",
      "107  107     8\n",
      "108  109     3\n",
      "109  108     2\n",
      "110  110     2\n",
      "\n",
      " Frekuensi nilai unik di kolom: 'jenkel'\n",
      "  #  jenkel      _count\n",
      "  0  P          3864846\n",
      "  1  L          3388644\n",
      "\n",
      " Frekuensi nilai unik di kolom: 'pisat'\n",
      "  #    pisat    _count\n",
      "  0        1   3293544\n",
      "  1        4   1940427\n",
      "  2        3   1592790\n",
      "  3        5    250001\n",
      "  4        2    176728\n",
      "\n",
      " Frekuensi nilai unik di kolom: 'jenispel'\n",
      "  #    jenispel    _count\n",
      "  0           2   7253107\n",
      "  1           1       383\n",
      "\n",
      " Frekuensi nilai unik di kolom: 'politujuan'\n",
      "#    politujuan    _count\n",
      "0    IGD           1545665\n",
      "1    INT           819102\n",
      "2    MAT           616073\n",
      "3    SAR           599098\n",
      "4    THT           481948\n",
      "...  ...           ...\n",
      "255  BPL           1\n",
      "256  SHA           1\n",
      "257  PRO           1\n",
      "258  ODS           1\n",
      "259  RDN           1\n",
      "\n",
      " Frekuensi nilai unik di kolom: 'diagfktp'\n",
      "#       diagfktp    _count\n",
      "0       Z09.8       327333\n",
      "1       R50.9       165436\n",
      "2       M54.5       109856\n",
      "3       Z03.8       108446\n",
      "4       K30         100860\n",
      "...     ...         ...\n",
      "15,972  S623        1\n",
      "15,973  i67         1\n",
      "15,974  q65.8       1\n",
      "15,975  l22         1\n",
      "15,976  l93         1\n",
      "\n",
      " Frekuensi nilai unik di kolom: 'biaya'\n",
      "#      biaya       _count\n",
      "0      190400.0    549142\n",
      "1      183300.0    233811\n",
      "2      191800.0    206483\n",
      "3      183500.0    182871\n",
      "4      185000.0    182659\n",
      "...    ...         ...\n",
      "4,420  2263800.0   1\n",
      "4,421  392100.0    1\n",
      "4,422  8837900.0   1\n",
      "4,423  45079800.0  1\n",
      "4,424  1375300.0   1\n",
      "\n",
      " Frekuensi nilai unik di kolom: 'jenispulang'\n",
      "  #    jenispulang    _count\n",
      "  0              1   7037316\n",
      "  1              2    125034\n",
      "  2              5     77099\n",
      "  3              4      8152\n",
      "  4              3      5889\n",
      "\n",
      " Frekuensi nilai unik di kolom: 'kelasrawat'\n",
      "  #    kelasrawat    _count\n",
      "  0             3   7253320\n",
      "  1             2        96\n",
      "  2             1        74\n",
      "\n",
      " Frekuensi nilai unik di kolom: 'label'\n",
      "  #    label    _count\n",
      "  0        0   7253490\n",
      "\n",
      " Frekuensi nilai unik di kolom: 'durasi_rawat'\n",
      "#    durasi_rawat    _count\n",
      "0    0               7253108\n",
      "1    2               129\n",
      "2    3               79\n",
      "3    1               68\n",
      "4    4               34\n",
      "...  ...             ...\n",
      "18   13              1\n",
      "19   58              1\n",
      "20   47              1\n",
      "21   42              1\n",
      "22   11              1\n",
      "CPU times: total: 8.56 s\n",
      "Wall time: 3.07 s\n"
     ]
    }
   ],
   "source": [
    "%%time\n",
    "\n",
    "from vaex import agg\n",
    "\n",
    "for col in df_selected1.column_names:\n",
    "    print(f\"\\n Frekuensi nilai unik di kolom: '{col}'\")\n",
    "    result = df_selected1.groupby(df_selected1[col], agg.count()).sort(by='_count', ascending=False)\n",
    "    print(result)\n"
   ]
  },
  {
   "cell_type": "markdown",
   "metadata": {},
   "source": [
    "### Perbaikan Diagnosa FKTP"
   ]
  },
  {
   "cell_type": "code",
   "execution_count": 27,
   "metadata": {},
   "outputs": [
    {
     "name": "stdout",
     "output_type": "stream",
     "text": [
      "CPU times: total: 0 ns\n",
      "Wall time: 2.54 ms\n"
     ]
    },
    {
     "data": {
      "text/html": [
       "<table>\n",
       "<thead>\n",
       "<tr><th>#                            </th><th style=\"text-align: right;\">     id</th><th style=\"text-align: right;\">  dati2</th><th>typefaskes  </th><th style=\"text-align: right;\">  usia</th><th>jenkel  </th><th style=\"text-align: right;\">  pisat</th><th style=\"text-align: right;\">  jenispel</th><th>politujuan  </th><th>diagfktp  </th><th style=\"text-align: right;\">  biaya</th><th style=\"text-align: right;\">  jenispulang</th><th style=\"text-align: right;\">  kelasrawat</th><th style=\"text-align: right;\">  label</th><th style=\"text-align: right;\">  durasi_rawat</th></tr>\n",
       "</thead>\n",
       "<tbody>\n",
       "<tr><td><i style='opacity: 0.6'>0</i></td><td style=\"text-align: right;\"> 165666</td><td style=\"text-align: right;\">     17</td><td>KL          </td><td style=\"text-align: right;\">    48</td><td>P       </td><td style=\"text-align: right;\">      1</td><td style=\"text-align: right;\">         2</td><td>THT         </td><td>L02       </td><td style=\"text-align: right;\"> 184300</td><td style=\"text-align: right;\">            1</td><td style=\"text-align: right;\">           3</td><td style=\"text-align: right;\">      0</td><td style=\"text-align: right;\">             0</td></tr>\n",
       "<tr><td><i style='opacity: 0.6'>1</i></td><td style=\"text-align: right;\"> 166042</td><td style=\"text-align: right;\">     17</td><td>KL          </td><td style=\"text-align: right;\">    53</td><td>P       </td><td style=\"text-align: right;\">      1</td><td style=\"text-align: right;\">         2</td><td>INT         </td><td>E10       </td><td style=\"text-align: right;\"> 187300</td><td style=\"text-align: right;\">            1</td><td style=\"text-align: right;\">           3</td><td style=\"text-align: right;\">      0</td><td style=\"text-align: right;\">             0</td></tr>\n",
       "<tr><td><i style='opacity: 0.6'>2</i></td><td style=\"text-align: right;\"> 168937</td><td style=\"text-align: right;\">     17</td><td>KL          </td><td style=\"text-align: right;\">    54</td><td>P       </td><td style=\"text-align: right;\">      1</td><td style=\"text-align: right;\">         2</td><td>MAT         </td><td>H54       </td><td style=\"text-align: right;\"> 187300</td><td style=\"text-align: right;\">            1</td><td style=\"text-align: right;\">           3</td><td style=\"text-align: right;\">      0</td><td style=\"text-align: right;\">             0</td></tr>\n",
       "<tr><td><i style='opacity: 0.6'>3</i></td><td style=\"text-align: right;\">1005899</td><td style=\"text-align: right;\">     17</td><td>A           </td><td style=\"text-align: right;\">    53</td><td>P       </td><td style=\"text-align: right;\">      1</td><td style=\"text-align: right;\">         2</td><td>SAR         </td><td>M54       </td><td style=\"text-align: right;\"> 381600</td><td style=\"text-align: right;\">            1</td><td style=\"text-align: right;\">           3</td><td style=\"text-align: right;\">      0</td><td style=\"text-align: right;\">             0</td></tr>\n",
       "<tr><td><i style='opacity: 0.6'>4</i></td><td style=\"text-align: right;\">  51010</td><td style=\"text-align: right;\">      8</td><td>SD          </td><td style=\"text-align: right;\">    50</td><td>P       </td><td style=\"text-align: right;\">      1</td><td style=\"text-align: right;\">         2</td><td>IGD         </td><td>D61       </td><td style=\"text-align: right;\"> 155000</td><td style=\"text-align: right;\">            2</td><td style=\"text-align: right;\">           3</td><td style=\"text-align: right;\">      0</td><td style=\"text-align: right;\">             0</td></tr>\n",
       "<tr><td><i style='opacity: 0.6'>5</i></td><td style=\"text-align: right;\">  49388</td><td style=\"text-align: right;\">      8</td><td>SD          </td><td style=\"text-align: right;\">    50</td><td>P       </td><td style=\"text-align: right;\">      1</td><td style=\"text-align: right;\">         2</td><td>IGD         </td><td>D64       </td><td style=\"text-align: right;\"> 155000</td><td style=\"text-align: right;\">            2</td><td style=\"text-align: right;\">           3</td><td style=\"text-align: right;\">      0</td><td style=\"text-align: right;\">             0</td></tr>\n",
       "<tr><td><i style='opacity: 0.6'>6</i></td><td style=\"text-align: right;\"> 143197</td><td style=\"text-align: right;\">     17</td><td>KI          </td><td style=\"text-align: right;\">    46</td><td>P       </td><td style=\"text-align: right;\">      1</td><td style=\"text-align: right;\">         2</td><td>IGD         </td><td>K30       </td><td style=\"text-align: right;\"> 186800</td><td style=\"text-align: right;\">            1</td><td style=\"text-align: right;\">           3</td><td style=\"text-align: right;\">      0</td><td style=\"text-align: right;\">             0</td></tr>\n",
       "<tr><td><i style='opacity: 0.6'>7</i></td><td style=\"text-align: right;\"> 159360</td><td style=\"text-align: right;\">     17</td><td>KL          </td><td style=\"text-align: right;\">    59</td><td>L       </td><td style=\"text-align: right;\">      1</td><td style=\"text-align: right;\">         2</td><td>MAT         </td><td>Z01       </td><td style=\"text-align: right;\"> 187300</td><td style=\"text-align: right;\">            1</td><td style=\"text-align: right;\">           3</td><td style=\"text-align: right;\">      0</td><td style=\"text-align: right;\">             0</td></tr>\n",
       "<tr><td><i style='opacity: 0.6'>8</i></td><td style=\"text-align: right;\">1057379</td><td style=\"text-align: right;\">     17</td><td>B           </td><td style=\"text-align: right;\">    60</td><td>L       </td><td style=\"text-align: right;\">      1</td><td style=\"text-align: right;\">         2</td><td>GND         </td><td>K04       </td><td style=\"text-align: right;\"> 211400</td><td style=\"text-align: right;\">            1</td><td style=\"text-align: right;\">           3</td><td style=\"text-align: right;\">      0</td><td style=\"text-align: right;\">             0</td></tr>\n",
       "<tr><td><i style='opacity: 0.6'>9</i></td><td style=\"text-align: right;\"> 170597</td><td style=\"text-align: right;\">     17</td><td>KL          </td><td style=\"text-align: right;\">    47</td><td>P       </td><td style=\"text-align: right;\">      1</td><td style=\"text-align: right;\">         2</td><td>MAT         </td><td>H11       </td><td style=\"text-align: right;\"> 184300</td><td style=\"text-align: right;\">            1</td><td style=\"text-align: right;\">           3</td><td style=\"text-align: right;\">      0</td><td style=\"text-align: right;\">             0</td></tr>\n",
       "</tbody>\n",
       "</table>"
      ],
      "text/plain": [
       "  #       id    dati2  typefaskes      usia  jenkel      pisat    jenispel  politujuan    diagfktp      biaya    jenispulang    kelasrawat    label    durasi_rawat\n",
       "  0   165666       17  KL                48  P               1           2  THT           L02          184300              1             3        0               0\n",
       "  1   166042       17  KL                53  P               1           2  INT           E10          187300              1             3        0               0\n",
       "  2   168937       17  KL                54  P               1           2  MAT           H54          187300              1             3        0               0\n",
       "  3  1005899       17  A                 53  P               1           2  SAR           M54          381600              1             3        0               0\n",
       "  4    51010        8  SD                50  P               1           2  IGD           D61          155000              2             3        0               0\n",
       "  5    49388        8  SD                50  P               1           2  IGD           D64          155000              2             3        0               0\n",
       "  6   143197       17  KI                46  P               1           2  IGD           K30          186800              1             3        0               0\n",
       "  7   159360       17  KL                59  L               1           2  MAT           Z01          187300              1             3        0               0\n",
       "  8  1057379       17  B                 60  L               1           2  GND           K04          211400              1             3        0               0\n",
       "  9   170597       17  KL                47  P               1           2  MAT           H11          184300              1             3        0               0"
      ]
     },
     "execution_count": 27,
     "metadata": {},
     "output_type": "execute_result"
    }
   ],
   "source": [
    "%%time\n",
    "\n",
    "df_sampling2['diagfktp'] = df_sampling2['diagfktp'].str.split('.').apply(lambda x: x[0] if len(x) > 0 else x)\n",
    "\n",
    "df_sampling2.head(10)\n"
   ]
  },
  {
   "cell_type": "code",
   "execution_count": 28,
   "metadata": {},
   "outputs": [
    {
     "name": "stdout",
     "output_type": "stream",
     "text": [
      "CPU times: total: 0 ns\n",
      "Wall time: 0 ns\n"
     ]
    }
   ],
   "source": [
    "%%time\n",
    "\n",
    "def classify_diag(code):\n",
    "    if code is None:\n",
    "        return 'Unknown'\n",
    "\n",
    "    code = code.upper()\n",
    "\n",
    "    prefix = code[:1]\n",
    "    try:\n",
    "        number = int(''.join(filter(str.isdigit, code[:3])))\n",
    "    except:\n",
    "        return 'Invalid'\n",
    "\n",
    "    if 'A00' <= code[:3] <= 'B99':\n",
    "        return \"Certain infectious and parasitic diseases\"\n",
    "    elif 'C00' <= code[:3] <= 'D48':\n",
    "        return \"Neoplasms\"\n",
    "    elif 'D50' <= code[:3] <= 'D89':\n",
    "        return \"Diseases of the blood and immune system\"\n",
    "    elif 'E00' <= code[:3] <= 'E90':\n",
    "        return \"Endocrine, nutritional and metabolic diseases\"\n",
    "    elif 'F00' <= code[:3] <= 'F99':\n",
    "        return \"Mental and behavioural disorders\"\n",
    "    elif 'G00' <= code[:3] <= 'G99':\n",
    "        return \"Diseases of the nervous system\"\n",
    "    elif 'H00' <= code[:3] <= 'H59':\n",
    "        return \"Diseases of the eye and adnexa\"\n",
    "    elif 'H60' <= code[:3] <= 'H95':\n",
    "        return \"Diseases of the ear and mastoid process\"\n",
    "    elif 'I00' <= code[:3] <= 'I99':\n",
    "        return \"Diseases of the circulatory system\"\n",
    "    elif 'J00' <= code[:3] <= 'J99':\n",
    "        return \"Diseases of the respiratory system\"\n",
    "    elif 'K00' <= code[:3] <= 'K93':\n",
    "        return \"Diseases of the digestive system\"\n",
    "    elif 'L00' <= code[:3] <= 'L99':\n",
    "        return \"Diseases of the skin and subcutaneous tissue\"\n",
    "    elif 'M00' <= code[:3] <= 'M99':\n",
    "        return \"Diseases of the musculoskeletal system\"\n",
    "    elif 'N00' <= code[:3] <= 'N99':\n",
    "        return \"Diseases of the genitourinary system\"\n",
    "    elif 'O00' <= code[:3] <= 'O99':\n",
    "        return \"Pregnancy, childbirth and the puerperium\"\n",
    "    elif 'P00' <= code[:3] <= 'P96':\n",
    "        return \"Perinatal conditions\"\n",
    "    elif 'Q00' <= code[:3] <= 'Q99':\n",
    "        return \"Congenital malformations\"\n",
    "    elif 'R00' <= code[:3] <= 'R99':\n",
    "        return \"Symptoms, signs, and abnormal findings\"\n",
    "    elif 'S00' <= code[:3] <= 'T98':\n",
    "        return \"Injury and external causes\"\n",
    "    elif 'V01' <= code[:3] <= 'Y98':\n",
    "        return \"External causes of morbidity and mortality\"\n",
    "    elif 'Z00' <= code[:3] <= 'Z99':\n",
    "        return \"Factors influencing health status\"\n",
    "    elif 'U00' <= code[:3] <= 'U85':\n",
    "        return \"Codes for special purposes\"\n",
    "    else:\n",
    "        return \"Uncategorized\"\n"
   ]
  },
  {
   "cell_type": "code",
   "execution_count": 29,
   "metadata": {},
   "outputs": [
    {
     "name": "stdout",
     "output_type": "stream",
     "text": [
      "CPU times: total: 0 ns\n",
      "Wall time: 0 ns\n"
     ]
    },
    {
     "data": {
      "text/html": [
       "<table>\n",
       "<thead>\n",
       "<tr><th>#                                    </th><th>id      </th><th>dati2  </th><th>typefaskes  </th><th>usia  </th><th>jenkel  </th><th>pisat  </th><th>jenispel  </th><th>politujuan  </th><th>diagfktp                                     </th><th>biaya   </th><th>jenispulang  </th><th>kelasrawat  </th><th>label  </th><th>durasi_rawat  </th></tr>\n",
       "</thead>\n",
       "<tbody>\n",
       "<tr><td><i style='opacity: 0.6'>0</i>        </td><td>165666  </td><td>17     </td><td>KL          </td><td>48    </td><td>P       </td><td>1.0    </td><td>2         </td><td>THT         </td><td>Diseases of the skin and subcutaneous tissue </td><td>184300.0</td><td>1.0          </td><td>3           </td><td>0      </td><td>0             </td></tr>\n",
       "<tr><td><i style='opacity: 0.6'>1</i>        </td><td>166042  </td><td>17     </td><td>KL          </td><td>53    </td><td>P       </td><td>1.0    </td><td>2         </td><td>INT         </td><td>Endocrine, nutritional and metabolic diseases</td><td>187300.0</td><td>1.0          </td><td>3           </td><td>0      </td><td>0             </td></tr>\n",
       "<tr><td><i style='opacity: 0.6'>2</i>        </td><td>168937  </td><td>17     </td><td>KL          </td><td>54    </td><td>P       </td><td>1.0    </td><td>2         </td><td>MAT         </td><td>Diseases of the eye and adnexa               </td><td>187300.0</td><td>1.0          </td><td>3           </td><td>0      </td><td>0             </td></tr>\n",
       "<tr><td><i style='opacity: 0.6'>3</i>        </td><td>1005899 </td><td>17     </td><td>A           </td><td>53    </td><td>P       </td><td>1.0    </td><td>2         </td><td>SAR         </td><td>Diseases of the musculoskeletal system       </td><td>381600.0</td><td>1.0          </td><td>3           </td><td>0      </td><td>0             </td></tr>\n",
       "<tr><td><i style='opacity: 0.6'>4</i>        </td><td>51010   </td><td>8      </td><td>SD          </td><td>50    </td><td>P       </td><td>1.0    </td><td>2         </td><td>IGD         </td><td>Diseases of the blood and immune system      </td><td>155000.0</td><td>2.0          </td><td>3           </td><td>0      </td><td>0             </td></tr>\n",
       "<tr><td>...                                  </td><td>...     </td><td>...    </td><td>...         </td><td>...   </td><td>...     </td><td>...    </td><td>...       </td><td>...         </td><td>...                                          </td><td>...     </td><td>...          </td><td>...         </td><td>...    </td><td>...           </td></tr>\n",
       "<tr><td><i style='opacity: 0.6'>7,253,485</i></td><td>10985829</td><td>229    </td><td>B           </td><td>0     </td><td>L       </td><td>4.0    </td><td>2         </td><td>ANA         </td><td>Factors influencing health status            </td><td>246000.0</td><td>1.0          </td><td>3           </td><td>0      </td><td>0             </td></tr>\n",
       "<tr><td><i style='opacity: 0.6'>7,253,486</i></td><td>3012230 </td><td>151    </td><td>SC          </td><td>0     </td><td>P       </td><td>4.0    </td><td>2         </td><td>ANA         </td><td>Perinatal conditions                         </td><td>308800.0</td><td>1.0          </td><td>3           </td><td>0      </td><td>0             </td></tr>\n",
       "<tr><td><i style='opacity: 0.6'>7,253,487</i></td><td>5635918 </td><td>62     </td><td>C           </td><td>0     </td><td>L       </td><td>4.0    </td><td>2         </td><td>IGD         </td><td>Diseases of the respiratory system           </td><td>296700.0</td><td>4.0          </td><td>3           </td><td>0      </td><td>0             </td></tr>\n",
       "<tr><td><i style='opacity: 0.6'>7,253,488</i></td><td>2555450 </td><td>136    </td><td>SC          </td><td>0     </td><td>L       </td><td>4.0    </td><td>2         </td><td>ANA         </td><td>Factors influencing health status            </td><td>253300.0</td><td>1.0          </td><td>3           </td><td>0      </td><td>0             </td></tr>\n",
       "<tr><td><i style='opacity: 0.6'>7,253,489</i></td><td>4414048 </td><td>223    </td><td>C           </td><td>6     </td><td>L       </td><td>4.0    </td><td>2         </td><td>ORT         </td><td>Injury and external causes                   </td><td>181400.0</td><td>1.0          </td><td>3           </td><td>0      </td><td>0             </td></tr>\n",
       "</tbody>\n",
       "</table>"
      ],
      "text/plain": [
       "#          id        dati2    typefaskes    usia    jenkel    pisat    jenispel    politujuan    diagfktp                                       biaya     jenispulang    kelasrawat    label    durasi_rawat\n",
       "0          165666    17       KL            48      P         1.0      2           THT           Diseases of the skin and subcutaneous tissue   184300.0  1.0            3             0        0\n",
       "1          166042    17       KL            53      P         1.0      2           INT           Endocrine, nutritional and metabolic diseases  187300.0  1.0            3             0        0\n",
       "2          168937    17       KL            54      P         1.0      2           MAT           Diseases of the eye and adnexa                 187300.0  1.0            3             0        0\n",
       "3          1005899   17       A             53      P         1.0      2           SAR           Diseases of the musculoskeletal system         381600.0  1.0            3             0        0\n",
       "4          51010     8        SD            50      P         1.0      2           IGD           Diseases of the blood and immune system        155000.0  2.0            3             0        0\n",
       "...        ...       ...      ...           ...     ...       ...      ...         ...           ...                                            ...       ...            ...           ...      ...\n",
       "7,253,485  10985829  229      B             0       L         4.0      2           ANA           Factors influencing health status              246000.0  1.0            3             0        0\n",
       "7,253,486  3012230   151      SC            0       P         4.0      2           ANA           Perinatal conditions                           308800.0  1.0            3             0        0\n",
       "7,253,487  5635918   62       C             0       L         4.0      2           IGD           Diseases of the respiratory system             296700.0  4.0            3             0        0\n",
       "7,253,488  2555450   136      SC            0       L         4.0      2           ANA           Factors influencing health status              253300.0  1.0            3             0        0\n",
       "7,253,489  4414048   223      C             6       L         4.0      2           ORT           Injury and external causes                     181400.0  1.0            3             0        0"
      ]
     },
     "execution_count": 29,
     "metadata": {},
     "output_type": "execute_result"
    }
   ],
   "source": [
    "%%time\n",
    "\n",
    "df_sampling2['diagfktp'] = df_sampling2['diagfktp'].apply(classify_diag)\n",
    "\n",
    "df_sampling2"
   ]
  },
  {
   "cell_type": "code",
   "execution_count": 32,
   "metadata": {},
   "outputs": [],
   "source": [
    "import numpy as np\n",
    "\n",
    "# Evaluasi hasil apply ke dalam array numpy\n",
    "kategori_array = df_sampling2['diagfktp'].to_numpy()\n",
    "\n",
    "# Tambahkan sebagai kolom permanen\n",
    "df_sampling2.add_column('diagfktp', kategori_array)\n"
   ]
  },
  {
   "cell_type": "code",
   "execution_count": 33,
   "metadata": {},
   "outputs": [
    {
     "name": "stdout",
     "output_type": "stream",
     "text": [
      "Diseases of the skin and subcutaneous tissue\n",
      "<class 'pyarrow.lib.StringScalar'>\n"
     ]
    }
   ],
   "source": [
    "sample_value = df_sampling2['diagfktp'].values[:5][0]\n",
    "print(sample_value)\n",
    "print(type(sample_value))"
   ]
  },
  {
   "cell_type": "code",
   "execution_count": 39,
   "metadata": {},
   "outputs": [],
   "source": [
    "df_sampling2.export_csv(\"sampling3.csv\")  "
   ]
  },
  {
   "cell_type": "markdown",
   "metadata": {},
   "source": [
    "# Diagnosa"
   ]
  },
  {
   "cell_type": "markdown",
   "metadata": {},
   "source": [
    "Sampling_Healthkathon_Diagnosa, merupakan data yang berisi diagnosa penyakit peserta, di mana dalam satu\n",
    "kunjungan peserta bisa memiliki lebih dari satu diagnosa. Terdiri dari 1 (satu) diagnosa primer dan atau satu atau\n",
    "lebih diagnosa sekunder. Diagnosa menggunakan ICD-10: https://icd.who.int/browse10/2016/en#/"
   ]
  },
  {
   "cell_type": "code",
   "execution_count": 34,
   "metadata": {},
   "outputs": [
    {
     "name": "stdout",
     "output_type": "stream",
     "text": [
      "CPU times: total: 15.6 ms\n",
      "Wall time: 81.9 ms\n"
     ]
    },
    {
     "data": {
      "text/html": [
       "<table>\n",
       "<thead>\n",
       "<tr><th>#                                     </th><th>id      </th><th>diag  </th><th>levelid  </th></tr>\n",
       "</thead>\n",
       "<tbody>\n",
       "<tr><td><i style='opacity: 0.6'>0</i>         </td><td>6       </td><td>O06.9 </td><td>1        </td></tr>\n",
       "<tr><td><i style='opacity: 0.6'>1</i>         </td><td>57      </td><td>J02.9 </td><td>1        </td></tr>\n",
       "<tr><td><i style='opacity: 0.6'>2</i>         </td><td>91      </td><td>R10.1 </td><td>1        </td></tr>\n",
       "<tr><td><i style='opacity: 0.6'>3</i>         </td><td>109     </td><td>R18   </td><td>1        </td></tr>\n",
       "<tr><td><i style='opacity: 0.6'>4</i>         </td><td>111     </td><td>N81.3 </td><td>1        </td></tr>\n",
       "<tr><td>...                                   </td><td>...     </td><td>...   </td><td>...      </td></tr>\n",
       "<tr><td><i style='opacity: 0.6'>17,308,531</i></td><td>11426947</td><td>K30   </td><td>2        </td></tr>\n",
       "<tr><td><i style='opacity: 0.6'>17,308,532</i></td><td>11426947</td><td>E78.0 </td><td>2        </td></tr>\n",
       "<tr><td><i style='opacity: 0.6'>17,308,533</i></td><td>11426947</td><td>I21.9 </td><td>1        </td></tr>\n",
       "<tr><td><i style='opacity: 0.6'>17,308,534</i></td><td>11426952</td><td>K30   </td><td>1        </td></tr>\n",
       "<tr><td><i style='opacity: 0.6'>17,308,535</i></td><td>11426952</td><td>M54.5 </td><td>2        </td></tr>\n",
       "</tbody>\n",
       "</table>"
      ],
      "text/plain": [
       "#           id        diag    levelid\n",
       "0           6         O06.9   1\n",
       "1           57        J02.9   1\n",
       "2           91        R10.1   1\n",
       "3           109       R18     1\n",
       "4           111       N81.3   1\n",
       "...         ...       ...     ...\n",
       "17,308,531  11426947  K30     2\n",
       "17,308,532  11426947  E78.0   2\n",
       "17,308,533  11426947  I21.9   1\n",
       "17,308,534  11426952  K30     1\n",
       "17,308,535  11426952  M54.5   2"
      ]
     },
     "execution_count": 34,
     "metadata": {},
     "output_type": "execute_result"
    }
   ],
   "source": [
    "%%time\n",
    "df_diagnosa = vaex.from_csv('sampling_healthkathon2022_diagnosa.csv', convert=True, chunk_size=100_000)\n",
    "df_diagnosa"
   ]
  },
  {
   "attachments": {
    "image.png": {
     "image/png": "[encoded data removed]"
    }
   },
   "cell_type": "markdown",
   "metadata": {},
   "source": [
    "![image.png](attachment:image.png)"
   ]
  },
  {
   "cell_type": "code",
   "execution_count": 35,
   "metadata": {},
   "outputs": [
    {
     "data": {
      "text/html": [
       "<style>.vaex-description pre {\n",
       "          max-width : 450px;\n",
       "          white-space : nowrap;\n",
       "          overflow : hidden;\n",
       "          text-overflow: ellipsis;\n",
       "        }\n",
       "\n",
       "        .vex-description pre:hover {\n",
       "          max-width : initial;\n",
       "          white-space: pre;\n",
       "        }</style>"
      ],
      "text/plain": [
       "<IPython.core.display.HTML object>"
      ]
     },
     "metadata": {},
     "output_type": "display_data"
    },
    {
     "data": {
      "text/html": [
       "<div><h2>sampling_healthkathon2022_diagnosa.csv</h2> <b>rows</b>: 17,308,536</div><h2>Columns:</h2><table class='table-striped'><thead><tr><th>column</th><th>type</th><th>unit</th><th>description</th><th>expression</th></tr></thead><tr><td>id</td><td>int64</td><td></td><td ><pre></pre></td><td></td></tr><tr><td>diag</td><td>str</td><td></td><td ><pre></pre></td><td></td></tr><tr><td>levelid</td><td>int64</td><td></td><td ><pre></pre></td><td></td></tr></table><h2>Data:</h2><table>\n",
       "<thead>\n",
       "<tr><th>#                                     </th><th>id      </th><th>diag  </th><th>levelid  </th></tr>\n",
       "</thead>\n",
       "<tbody>\n",
       "<tr><td><i style='opacity: 0.6'>0</i>         </td><td>6       </td><td>O06.9 </td><td>1        </td></tr>\n",
       "<tr><td><i style='opacity: 0.6'>1</i>         </td><td>57      </td><td>J02.9 </td><td>1        </td></tr>\n",
       "<tr><td><i style='opacity: 0.6'>2</i>         </td><td>91      </td><td>R10.1 </td><td>1        </td></tr>\n",
       "<tr><td><i style='opacity: 0.6'>3</i>         </td><td>109     </td><td>R18   </td><td>1        </td></tr>\n",
       "<tr><td><i style='opacity: 0.6'>4</i>         </td><td>111     </td><td>N81.3 </td><td>1        </td></tr>\n",
       "<tr><td>...                                   </td><td>...     </td><td>...   </td><td>...      </td></tr>\n",
       "<tr><td><i style='opacity: 0.6'>17,308,531</i></td><td>11426947</td><td>K30   </td><td>2        </td></tr>\n",
       "<tr><td><i style='opacity: 0.6'>17,308,532</i></td><td>11426947</td><td>E78.0 </td><td>2        </td></tr>\n",
       "<tr><td><i style='opacity: 0.6'>17,308,533</i></td><td>11426947</td><td>I21.9 </td><td>1        </td></tr>\n",
       "<tr><td><i style='opacity: 0.6'>17,308,534</i></td><td>11426952</td><td>K30   </td><td>1        </td></tr>\n",
       "<tr><td><i style='opacity: 0.6'>17,308,535</i></td><td>11426952</td><td>M54.5 </td><td>2        </td></tr>\n",
       "</tbody>\n",
       "</table>"
      ],
      "text/plain": [
       "<IPython.core.display.HTML object>"
      ]
     },
     "metadata": {},
     "output_type": "display_data"
    },
    {
     "name": "stdout",
     "output_type": "stream",
     "text": [
      "CPU times: total: 0 ns\n",
      "Wall time: 9.93 ms\n"
     ]
    }
   ],
   "source": [
    "%%time\n",
    "\n",
    "df_diagnosa.info()"
   ]
  },
  {
   "cell_type": "code",
   "execution_count": 36,
   "metadata": {},
   "outputs": [
    {
     "name": "stdout",
     "output_type": "stream",
     "text": [
      "CPU times: total: 4.22 s\n",
      "Wall time: 986 ms\n"
     ]
    },
    {
     "data": {
      "text/html": [
       "<div>\n",
       "<style scoped>\n",
       "    .dataframe tbody tr th:only-of-type {\n",
       "        vertical-align: middle;\n",
       "    }\n",
       "\n",
       "    .dataframe tbody tr th {\n",
       "        vertical-align: top;\n",
       "    }\n",
       "\n",
       "    .dataframe thead th {\n",
       "        text-align: right;\n",
       "    }\n",
       "</style>\n",
       "<table border=\"1\" class=\"dataframe\">\n",
       "  <thead>\n",
       "    <tr style=\"text-align: right;\">\n",
       "      <th></th>\n",
       "      <th>id</th>\n",
       "      <th>diag</th>\n",
       "      <th>levelid</th>\n",
       "    </tr>\n",
       "  </thead>\n",
       "  <tbody>\n",
       "    <tr>\n",
       "      <th>data_type</th>\n",
       "      <td>int64</td>\n",
       "      <td>string</td>\n",
       "      <td>int64</td>\n",
       "    </tr>\n",
       "    <tr>\n",
       "      <th>count</th>\n",
       "      <td>17308536</td>\n",
       "      <td>17308536</td>\n",
       "      <td>17308536</td>\n",
       "    </tr>\n",
       "    <tr>\n",
       "      <th>NA</th>\n",
       "      <td>0</td>\n",
       "      <td>0</td>\n",
       "      <td>0</td>\n",
       "    </tr>\n",
       "    <tr>\n",
       "      <th>mean</th>\n",
       "      <td>5851993.047998051</td>\n",
       "      <td>--</td>\n",
       "      <td>1.3411758799242177</td>\n",
       "    </tr>\n",
       "    <tr>\n",
       "      <th>std</th>\n",
       "      <td>3283869.871846</td>\n",
       "      <td>--</td>\n",
       "      <td>0.474104</td>\n",
       "    </tr>\n",
       "    <tr>\n",
       "      <th>min</th>\n",
       "      <td>1</td>\n",
       "      <td>--</td>\n",
       "      <td>1</td>\n",
       "    </tr>\n",
       "    <tr>\n",
       "      <th>max</th>\n",
       "      <td>11426957</td>\n",
       "      <td>--</td>\n",
       "      <td>2</td>\n",
       "    </tr>\n",
       "  </tbody>\n",
       "</table>\n",
       "</div>"
      ],
      "text/plain": [
       "                          id      diag             levelid\n",
       "data_type              int64    string               int64\n",
       "count               17308536  17308536            17308536\n",
       "NA                         0         0                   0\n",
       "mean       5851993.047998051        --  1.3411758799242177\n",
       "std           3283869.871846        --            0.474104\n",
       "min                        1        --                   1\n",
       "max                 11426957        --                   2"
      ]
     },
     "execution_count": 36,
     "metadata": {},
     "output_type": "execute_result"
    }
   ],
   "source": [
    "%%time\n",
    "\n",
    "df_diagnosa.describe()"
   ]
  },
  {
   "cell_type": "code",
   "execution_count": 37,
   "metadata": {},
   "outputs": [
    {
     "name": "stdout",
     "output_type": "stream",
     "text": [
      "CPU times: total: 0 ns\n",
      "Wall time: 1.52 ms\n"
     ]
    },
    {
     "data": {
      "text/html": [
       "<table>\n",
       "<thead>\n",
       "<tr><th>#                            </th><th style=\"text-align: right;\">  id</th><th>diag  </th><th style=\"text-align: right;\">  levelid</th></tr>\n",
       "</thead>\n",
       "<tbody>\n",
       "<tr><td><i style='opacity: 0.6'>0</i></td><td style=\"text-align: right;\">   6</td><td>O06   </td><td style=\"text-align: right;\">        1</td></tr>\n",
       "<tr><td><i style='opacity: 0.6'>1</i></td><td style=\"text-align: right;\">  57</td><td>J02   </td><td style=\"text-align: right;\">        1</td></tr>\n",
       "<tr><td><i style='opacity: 0.6'>2</i></td><td style=\"text-align: right;\">  91</td><td>R10   </td><td style=\"text-align: right;\">        1</td></tr>\n",
       "<tr><td><i style='opacity: 0.6'>3</i></td><td style=\"text-align: right;\"> 109</td><td>R18   </td><td style=\"text-align: right;\">        1</td></tr>\n",
       "<tr><td><i style='opacity: 0.6'>4</i></td><td style=\"text-align: right;\"> 111</td><td>N81   </td><td style=\"text-align: right;\">        1</td></tr>\n",
       "<tr><td><i style='opacity: 0.6'>5</i></td><td style=\"text-align: right;\"> 111</td><td>O86   </td><td style=\"text-align: right;\">        2</td></tr>\n",
       "<tr><td><i style='opacity: 0.6'>6</i></td><td style=\"text-align: right;\"> 127</td><td>M54   </td><td style=\"text-align: right;\">        1</td></tr>\n",
       "<tr><td><i style='opacity: 0.6'>7</i></td><td style=\"text-align: right;\"> 133</td><td>K30   </td><td style=\"text-align: right;\">        2</td></tr>\n",
       "<tr><td><i style='opacity: 0.6'>8</i></td><td style=\"text-align: right;\"> 133</td><td>E11   </td><td style=\"text-align: right;\">        1</td></tr>\n",
       "<tr><td><i style='opacity: 0.6'>9</i></td><td style=\"text-align: right;\"> 135</td><td>O21   </td><td style=\"text-align: right;\">        1</td></tr>\n",
       "</tbody>\n",
       "</table>"
      ],
      "text/plain": [
       "  #    id  diag      levelid\n",
       "  0     6  O06             1\n",
       "  1    57  J02             1\n",
       "  2    91  R10             1\n",
       "  3   109  R18             1\n",
       "  4   111  N81             1\n",
       "  5   111  O86             2\n",
       "  6   127  M54             1\n",
       "  7   133  K30             2\n",
       "  8   133  E11             1\n",
       "  9   135  O21             1"
      ]
     },
     "execution_count": 37,
     "metadata": {},
     "output_type": "execute_result"
    }
   ],
   "source": [
    "%%time\n",
    "\n",
    "df_diagnosa['diag'] = df_diagnosa['diag'].str.split('.').apply(lambda x: x[0] if len(x) > 0 else x)\n",
    "\n",
    "df_diagnosa.head(10)\n"
   ]
  },
  {
   "cell_type": "code",
   "execution_count": 28,
   "metadata": {},
   "outputs": [
    {
     "data": {
      "text/plain": [
       "['L01',\n",
       " 'N18',\n",
       " 'Q66',\n",
       " 'O64',\n",
       " 'S99',\n",
       " 'L52',\n",
       " 'F03',\n",
       " 'D09',\n",
       " 'G24',\n",
       " 'I71',\n",
       " 'M84',\n",
       " 'C64',\n",
       " 'S59',\n",
       " 'R98',\n",
       " 'K28',\n",
       " 'R69',\n",
       " 'I40',\n",
       " 'E71',\n",
       " 'C33',\n",
       " 'E00',\n",
       " 'A79',\n",
       " 'H67',\n",
       " 'G73',\n",
       " 'W02',\n",
       " 'X27',\n",
       " 'V94',\n",
       " 'G63',\n",
       " 'O34',\n",
       " 'K05',\n",
       " 'R04',\n",
       " 'I25',\n",
       " 'L91',\n",
       " 'Z00',\n",
       " 'F84',\n",
       " 'Q50',\n",
       " 'J93',\n",
       " 'T82',\n",
       " 'H95',\n",
       " 'W27',\n",
       " 'C52',\n",
       " 'B48',\n",
       " 'G52',\n",
       " 'C81',\n",
       " 'C23',\n",
       " 'Y58',\n",
       " 'R75',\n",
       " 'V48',\n",
       " 'F13',\n",
       " 'q21',\n",
       " 'T42',\n",
       " 'Z84',\n",
       " 'X37',\n",
       " 's05',\n",
       " 'j44',\n",
       " 'C12',\n",
       " 'X60',\n",
       " 'E65',\n",
       " 'W92',\n",
       " 'i47',\n",
       " 'P07',\n",
       " 'F45',\n",
       " 'K35',\n",
       " 'S22',\n",
       " 'Q28',\n",
       " 'S80',\n",
       " 'S13',\n",
       " 'M60',\n",
       " 'M20',\n",
       " 'W57',\n",
       " 'G08',\n",
       " 'V23',\n",
       " 'B30',\n",
       " 'I37',\n",
       " 'Z92',\n",
       " 'R45',\n",
       " 'C48',\n",
       " 'A60',\n",
       " 'B70',\n",
       " 'W39',\n",
       " 'l72',\n",
       " 'X76',\n",
       " 'W66',\n",
       " 'Y91',\n",
       " 'Y20',\n",
       " 'V70',\n",
       " 'J20',\n",
       " 'H71',\n",
       " 'I12',\n",
       " 'H40',\n",
       " 'Q12',\n",
       " 'G83',\n",
       " 'L22',\n",
       " 'F60',\n",
       " 'Q96',\n",
       " 'G10',\n",
       " 'F51',\n",
       " 'J11',\n",
       " 'C90',\n",
       " 'E23',\n",
       " 'R86',\n",
       " 'A38',\n",
       " 'L62',\n",
       " 'T97',\n",
       " 'X84',\n",
       " 'l84',\n",
       " '37',\n",
       " 'E52',\n",
       " 'e78',\n",
       " 'k21',\n",
       " 'Y01',\n",
       " 'n19',\n",
       " 'N61',\n",
       " 'Z50',\n",
       " 'F29',\n",
       " 'N21',\n",
       " 'S91',\n",
       " 'D23',\n",
       " 'B07',\n",
       " 'O15',\n",
       " 'I79',\n",
       " 'O24',\n",
       " 'N10',\n",
       " 'I88',\n",
       " 'K82',\n",
       " 'S51',\n",
       " 'J69',\n",
       " 'B83',\n",
       " 'R90',\n",
       " 'A71',\n",
       " 'Q80',\n",
       " 'W86',\n",
       " 'E84',\n",
       " 'F94',\n",
       " 'R14',\n",
       " 'M31',\n",
       " 'Z21',\n",
       " 'A22',\n",
       " 'h52',\n",
       " 'X41',\n",
       " 'D74',\n",
       " 'Y48',\n",
       " 'T56',\n",
       " 'X96',\n",
       " 'Y17',\n",
       " '69',\n",
       " 'Y66',\n",
       " 'j18',\n",
       " 'A90',\n",
       " 'M10',\n",
       " 'Z35',\n",
       " 'P55',\n",
       " 'B17',\n",
       " 'R53',\n",
       " 'W09',\n",
       " 'R62',\n",
       " 'O01',\n",
       " 'D33',\n",
       " 'N75',\n",
       " 'N84',\n",
       " 'S70',\n",
       " 'D42',\n",
       " 'C38',\n",
       " 'I65',\n",
       " 'H06',\n",
       " 'B40',\n",
       " 'D02',\n",
       " 'L86',\n",
       " 'K23',\n",
       " 'm54',\n",
       " 'V40',\n",
       " 'd24',\n",
       " 'S39',\n",
       " 'G40',\n",
       " 'Q37',\n",
       " 'T65',\n",
       " 'K75',\n",
       " 'M99',\n",
       " 'M06',\n",
       " 'S88',\n",
       " 'D58',\n",
       " 'G00',\n",
       " 'F70',\n",
       " 'F30',\n",
       " 'J70',\n",
       " 'P94',\n",
       " 'C40',\n",
       " 'A68',\n",
       " 'Q06',\n",
       " 'R78',\n",
       " 'A46',\n",
       " 'V78',\n",
       " 'B56',\n",
       " 'M68',\n",
       " 'B67',\n",
       " 'k00',\n",
       " 'g62',\n",
       " 'S43',\n",
       " 'O47',\n",
       " 'Q27',\n",
       " 'K61',\n",
       " 'S03',\n",
       " 'A52',\n",
       " 'Q74',\n",
       " 'Z73',\n",
       " 'N42',\n",
       " 'K50',\n",
       " 'T26',\n",
       " 'R20',\n",
       " 'E34',\n",
       " 'F68',\n",
       " 'I38',\n",
       " 'D80',\n",
       " 'O94',\n",
       " 'N33',\n",
       " 'X17',\n",
       " 'T71',\n",
       " 'H48',\n",
       " 'Y09',\n",
       " 'Y85',\n",
       " 'n20',\n",
       " '86',\n",
       " 'k29',\n",
       " 'H52',\n",
       " 'J32',\n",
       " 'T16',\n",
       " 'E44',\n",
       " 'O86',\n",
       " 'L74',\n",
       " 'C06',\n",
       " 'E13',\n",
       " 'G37',\n",
       " 'X49',\n",
       " 'N29',\n",
       " 'C77',\n",
       " 'I80',\n",
       " 'V10',\n",
       " 'F21',\n",
       " 'V87',\n",
       " 'Z29',\n",
       " 'Y40',\n",
       " 'T38',\n",
       " 'L45',\n",
       " 'W15',\n",
       " 'Z58',\n",
       " 'o06',\n",
       " 'J61',\n",
       " 'Y71',\n",
       " 'L02',\n",
       " 'D28',\n",
       " 'E03',\n",
       " 'G70',\n",
       " 'W01',\n",
       " 'I72',\n",
       " 'I43',\n",
       " 'Q65',\n",
       " 'C67',\n",
       " 'X24',\n",
       " 'L51',\n",
       " 'M87',\n",
       " 'C30',\n",
       " 'F00',\n",
       " 'J80',\n",
       " 'B88',\n",
       " 'M18',\n",
       " 'A98',\n",
       " 'E72',\n",
       " 'S78',\n",
       " 'O67',\n",
       " 'F89',\n",
       " 'K00',\n",
       " 'N92',\n",
       " 'S31',\n",
       " 'W22',\n",
       " 'D50',\n",
       " 'S66',\n",
       " 'T87',\n",
       " 'G57',\n",
       " 'F78',\n",
       " 'Q55',\n",
       " 'C26',\n",
       " 'I28',\n",
       " 'C17',\n",
       " 'A86',\n",
       " 'F38',\n",
       " 'R01',\n",
       " 'O31',\n",
       " 'F16',\n",
       " 'M91',\n",
       " 'Z81',\n",
       " 'I68',\n",
       " 'R70',\n",
       " '78',\n",
       " 'X65',\n",
       " 'B37',\n",
       " 'P00',\n",
       " 'H35',\n",
       " 'J42',\n",
       " 'M67',\n",
       " 'S14',\n",
       " 'T79',\n",
       " 'I30',\n",
       " 'F42',\n",
       " 'P71',\n",
       " 'K58',\n",
       " 'W36',\n",
       " 'H80',\n",
       " 'S25',\n",
       " 'G94',\n",
       " 'X08',\n",
       " 'V24',\n",
       " 'Y27',\n",
       " 'W69',\n",
       " 'X79',\n",
       " 'V77',\n",
       " 'M75',\n",
       " 'O99',\n",
       " 'D67',\n",
       " 'A35',\n",
       " 'L27',\n",
       " 'D16',\n",
       " 'T01',\n",
       " 'C95',\n",
       " 'R32',\n",
       " 'N03',\n",
       " 'T30',\n",
       " 'K11',\n",
       " 'H74',\n",
       " 'A04',\n",
       " 'K42',\n",
       " 'B25',\n",
       " 'P27',\n",
       " 'Z43',\n",
       " 'Q93',\n",
       " 'T92',\n",
       " 'V18',\n",
       " 'Y88',\n",
       " 'R83',\n",
       " 'H45',\n",
       " 'Y79',\n",
       " 'm17',\n",
       " 'W77',\n",
       " 'n83',\n",
       " 'Q83',\n",
       " 'S52',\n",
       " 'Z53',\n",
       " 'M32',\n",
       " 'N13',\n",
       " 'E87',\n",
       " 'K81',\n",
       " 'O16',\n",
       " 'R17',\n",
       " 'R93',\n",
       " 'S92',\n",
       " 'J04',\n",
       " 'P37',\n",
       " 'N62',\n",
       " 'Z22',\n",
       " 'H59',\n",
       " 'T55',\n",
       " 'D20',\n",
       " 'Y14',\n",
       " 'L59',\n",
       " 'Y65',\n",
       " 'A21',\n",
       " 'W85',\n",
       " 'N22',\n",
       " 'B80',\n",
       " 'B04',\n",
       " 'D77',\n",
       " 'n04',\n",
       " 'X95',\n",
       " 'R56',\n",
       " 'D36',\n",
       " 'H90',\n",
       " 'I20',\n",
       " 'R09',\n",
       " 'K08',\n",
       " 'J96',\n",
       " 'O04',\n",
       " 'L94',\n",
       " 'M15',\n",
       " 'I60',\n",
       " 'X58',\n",
       " 'D07',\n",
       " 'K26',\n",
       " 'H03',\n",
       " 'F81',\n",
       " 'T47',\n",
       " 'C57',\n",
       " 'C84',\n",
       " 'P50',\n",
       " 'Z89',\n",
       " 'E60',\n",
       " 'B45',\n",
       " 'V05',\n",
       " 'Y55',\n",
       " 'm51',\n",
       " 'R42',\n",
       " 'P08',\n",
       " 'T62',\n",
       " 'K72',\n",
       " 'W50',\n",
       " 'B77',\n",
       " 'C47',\n",
       " 'Q01',\n",
       " 'Z95',\n",
       " 'Z11',\n",
       " 'Q41',\n",
       " 'B59',\n",
       " 'Q30',\n",
       " 'S87',\n",
       " 'G07',\n",
       " 'V59',\n",
       " 'X00',\n",
       " 'X71',\n",
       " 'A67',\n",
       " 'Q79',\n",
       " 'Q17',\n",
       " 'O42',\n",
       " 'P81',\n",
       " 'P12',\n",
       " 'E26',\n",
       " 'T09',\n",
       " 'O91',\n",
       " 'S46',\n",
       " 'F65',\n",
       " 'F54',\n",
       " 'A57',\n",
       " 'Y04',\n",
       " 'J14',\n",
       " 'L67',\n",
       " 'Y80',\n",
       " '83',\n",
       " 'I50',\n",
       " 'T15',\n",
       " 'E10',\n",
       " 'N08',\n",
       " 'J31',\n",
       " 'F22',\n",
       " 'H20',\n",
       " 'H51',\n",
       " 'I07',\n",
       " 'C74',\n",
       " 'I83',\n",
       " 'R39',\n",
       " 'Y43',\n",
       " 'C05',\n",
       " 'O74',\n",
       " '93',\n",
       " 'h28',\n",
       " 'O85',\n",
       " 'V13',\n",
       " 'J62',\n",
       " 'W16',\n",
       " 'i10',\n",
       " 'V84',\n",
       " 'g81',\n",
       " 'n39',\n",
       " 'F05',\n",
       " 'Z30',\n",
       " 'N81',\n",
       " 'N70',\n",
       " 'E06',\n",
       " 'S75',\n",
       " 'I46',\n",
       " 'D47',\n",
       " 'P58',\n",
       " 'H69',\n",
       " 'Q60',\n",
       " 'I77',\n",
       " 'C62',\n",
       " 'L83',\n",
       " 'Z63',\n",
       " 'J09',\n",
       " 'B96',\n",
       " 'h61',\n",
       " 'G22',\n",
       " 'X50',\n",
       " 'X21',\n",
       " 'A95',\n",
       " 'W04',\n",
       " 'L54',\n",
       " 'V45',\n",
       " 'f41',\n",
       " 'd21',\n",
       " 'G47',\n",
       " 'S61',\n",
       " 'A41',\n",
       " 'T88',\n",
       " 'H13',\n",
       " 'B51',\n",
       " 'Q38',\n",
       " 'N95',\n",
       " 'D57',\n",
       " 'S36',\n",
       " 'M96',\n",
       " 'C58',\n",
       " 'W58',\n",
       " 'M01',\n",
       " 'T48',\n",
       " 'A81',\n",
       " 'B60',\n",
       " 'r06',\n",
       " 'Y30',\n",
       " 'P93',\n",
       " 'L12',\n",
       " 'S06',\n",
       " 'N47',\n",
       " 'J47',\n",
       " 'H30',\n",
       " 'G91',\n",
       " 'R25',\n",
       " 'P74',\n",
       " 'Q22',\n",
       " 'V29',\n",
       " 'T23',\n",
       " 'A17',\n",
       " 'N36',\n",
       " 'W33',\n",
       " 'X12',\n",
       " 'Z76',\n",
       " 'Q71',\n",
       " 'K55',\n",
       " 'T74',\n",
       " 'E31',\n",
       " 'S28',\n",
       " 'r10',\n",
       " 'D64',\n",
       " 'R31',\n",
       " 'K12',\n",
       " 'M47',\n",
       " 'Q90',\n",
       " 'H28',\n",
       " 'H46',\n",
       " 'P24',\n",
       " 'L24',\n",
       " 'I98',\n",
       " 'N00',\n",
       " 'J39',\n",
       " 'M76',\n",
       " 'A07',\n",
       " 'B26',\n",
       " 'T02',\n",
       " 'K41',\n",
       " 'A36',\n",
       " 'Z40',\n",
       " 'D15',\n",
       " 'R80',\n",
       " 'T91',\n",
       " 'C96',\n",
       " '88',\n",
       " 'W74',\n",
       " 'T33',\n",
       " '39',\n",
       " 'n40',\n",
       " 'D72',\n",
       " 'H61',\n",
       " 'D25',\n",
       " 'O22',\n",
       " 'N89',\n",
       " 'O13',\n",
       " 'O62',\n",
       " 'Z38',\n",
       " 'T18',\n",
       " 'J01',\n",
       " 'B01',\n",
       " 'S97',\n",
       " 'Q68',\n",
       " 'C08',\n",
       " 'J85',\n",
       " 'N16',\n",
       " 'Y60',\n",
       " 'E77',\n",
       " 'T58',\n",
       " 'R12',\n",
       " 'X47',\n",
       " 'X29',\n",
       " 'M82',\n",
       " 'z09',\n",
       " 'Y11',\n",
       " 'Z56',\n",
       " 'N27',\n",
       " 'V30',\n",
       " 'A24',\n",
       " 'g44',\n",
       " 'V92',\n",
       " 'A77',\n",
       " 'D48',\n",
       " 'O36',\n",
       " 'T80',\n",
       " 'S69',\n",
       " 'L93',\n",
       " 'R59',\n",
       " 'G50',\n",
       " 'A49',\n",
       " 'R06',\n",
       " 'C50',\n",
       " 'D39',\n",
       " 'B99',\n",
       " 'R77',\n",
       " 'Q52',\n",
       " 'I27',\n",
       " 'G61',\n",
       " 'Z86',\n",
       " 'B68',\n",
       " 'J91',\n",
       " 'K07',\n",
       " 'C83',\n",
       " 'C21',\n",
       " 'C10',\n",
       " 'W25',\n",
       " 'F11',\n",
       " 'E67',\n",
       " 'Z02',\n",
       " 'T40',\n",
       " 'M09',\n",
       " 'A89',\n",
       " 'X35',\n",
       " 'V68',\n",
       " 'M62',\n",
       " 'S82',\n",
       " 'P05',\n",
       " 'R47',\n",
       " 'S20',\n",
       " 'W55',\n",
       " 'Q44',\n",
       " 'S11',\n",
       " 'K37',\n",
       " 'G99',\n",
       " 'M22',\n",
       " 'I35',\n",
       " 'Z90',\n",
       " 'V21',\n",
       " 'W64',\n",
       " 'V72',\n",
       " 'Y22',\n",
       " 'r18',\n",
       " 'l70',\n",
       " 'O41',\n",
       " 'P11',\n",
       " 'Z48',\n",
       " 'J17',\n",
       " 'Q14',\n",
       " 'T28',\n",
       " 'E25',\n",
       " 'W49',\n",
       " 'Y83',\n",
       " 'L64',\n",
       " 'A54',\n",
       " 'S45',\n",
       " 'E54',\n",
       " 'O92',\n",
       " 'D86',\n",
       " 'F66',\n",
       " 'Q98',\n",
       " 'X19',\n",
       " 'Y07',\n",
       " 'D18',\n",
       " 'C71',\n",
       " 'R96',\n",
       " 'L72',\n",
       " 'J34',\n",
       " 'T50',\n",
       " 'L43',\n",
       " 'T10',\n",
       " 'W13',\n",
       " 'G31',\n",
       " 'P29',\n",
       " 'W80',\n",
       " 'B09',\n",
       " 'E42',\n",
       " 'Z27',\n",
       " 'C00',\n",
       " 'V89',\n",
       " 'F92',\n",
       " 'Y46',\n",
       " 'B85',\n",
       " 'Y19',\n",
       " 'E15',\n",
       " 'J67',\n",
       " 'h25',\n",
       " 'h54',\n",
       " 'S57',\n",
       " 'V38',\n",
       " 'O88',\n",
       " 'Q86',\n",
       " 'I02',\n",
       " 'Y77',\n",
       " 'V16',\n",
       " 'X90',\n",
       " 'z01',\n",
       " 'C18',\n",
       " 'Z37',\n",
       " 'S72',\n",
       " 'L08',\n",
       " 'R60',\n",
       " 'R51',\n",
       " 'H04',\n",
       " 'E78',\n",
       " 'K21',\n",
       " 'O03',\n",
       " 'I67',\n",
       " 'G58',\n",
       " 'D31',\n",
       " 'L84',\n",
       " 'I49',\n",
       " 'Z64',\n",
       " 'B15',\n",
       " 'F19',\n",
       " 'D40',\n",
       " 'M12',\n",
       " 'N86',\n",
       " 'P57',\n",
       " 'N77',\n",
       " 'J99',\n",
       " 'D00',\n",
       " 'V02',\n",
       " 'Y52',\n",
       " 'A92',\n",
       " 'a16',\n",
       " 'V42',\n",
       " 'B91',\n",
       " 'B42',\n",
       " 'Q35',\n",
       " 'H16',\n",
       " 'F32',\n",
       " 'P96',\n",
       " 'F72',\n",
       " 'Z98',\n",
       " 'Q04',\n",
       " 'S19',\n",
       " 'B54',\n",
       " 'T67',\n",
       " 'K77',\n",
       " 'G02',\n",
       " 'B65',\n",
       " 'A44',\n",
       " 'k02',\n",
       " 'Q21',\n",
       " 'M54',\n",
       " 'J44',\n",
       " 'S05',\n",
       " 'K56',\n",
       " 'T20',\n",
       " 'H33',\n",
       " 'Z75',\n",
       " 'P77',\n",
       " 'N35',\n",
       " 'L11',\n",
       " 'R26',\n",
       " 'K67',\n",
       " 'Q72',\n",
       " 'X11',\n",
       " 'G92',\n",
       " 'E32',\n",
       " 'N44',\n",
       " 'Y29',\n",
       " 'W30',\n",
       " '57',\n",
       " 'B39',\n",
       " 'B79',\n",
       " 'W41',\n",
       " 'j35',\n",
       " 'v22',\n",
       " 'H25',\n",
       " 'O80',\n",
       " 'P21',\n",
       " 'H54',\n",
       " 'D61',\n",
       " 'D10',\n",
       " 'N05',\n",
       " 'B23',\n",
       " 'K44',\n",
       " 'I86',\n",
       " 'O71',\n",
       " 'E28',\n",
       " 'C79',\n",
       " 'T07',\n",
       " 'T36',\n",
       " 'K93',\n",
       " 'A02',\n",
       " 'R34',\n",
       " 'W79',\n",
       " 'Z45',\n",
       " 'M73',\n",
       " '96',\n",
       " 'A33',\n",
       " 'M42',\n",
       " 'X98',\n",
       " 'G72',\n",
       " 'H66',\n",
       " 'R99',\n",
       " 'K29',\n",
       " 'O65',\n",
       " 'L53',\n",
       " 'S98',\n",
       " 'C32',\n",
       " 'E01',\n",
       " 'G25',\n",
       " 'I70',\n",
       " 'L00',\n",
       " 'N19',\n",
       " 'R68',\n",
       " 'M85',\n",
       " 'S58',\n",
       " 'Q67',\n",
       " 'F02',\n",
       " 'W03',\n",
       " 'E70',\n",
       " 'I41',\n",
       " 'J82',\n",
       " 'n64',\n",
       " 'X26',\n",
       " 'C65',\n",
       " 'A78',\n",
       " 'X57',\n",
       " 'O33',\n",
       " 'K02',\n",
       " 'W20',\n",
       " 'N90',\n",
       " 'G55',\n",
       " 'R72',\n",
       " 'F14',\n",
       " 'C15',\n",
       " 'T85',\n",
       " 'R03',\n",
       " 'S33',\n",
       " 'S64',\n",
       " 'C24',\n",
       " 'Z83',\n",
       " 'G64',\n",
       " 'M93',\n",
       " 'X67',\n",
       " 'X30',\n",
       " 'D52',\n",
       " '18',\n",
       " 'A84',\n",
       " 'i48',\n",
       " 'Y35',\n",
       " 'V54',\n",
       " 'V65',\n",
       " 'S81',\n",
       " 'M21',\n",
       " 'W56',\n",
       " 'S12',\n",
       " 'C49',\n",
       " 'Y21',\n",
       " 'M61',\n",
       " 'G09',\n",
       " 'Z93',\n",
       " 'F44',\n",
       " 'I36',\n",
       " 'V22',\n",
       " 'Y90',\n",
       " 'S23',\n",
       " 'R44',\n",
       " 'W67',\n",
       " 'B71',\n",
       " 'W38',\n",
       " 'V71',\n",
       " 'H43',\n",
       " 'L21',\n",
       " 'I11',\n",
       " 'D69',\n",
       " 'H72',\n",
       " 'S08',\n",
       " 'Q11',\n",
       " 'G80',\n",
       " 'P14',\n",
       " 'A19',\n",
       " 'C93',\n",
       " 'J12',\n",
       " 'F52',\n",
       " 'S48',\n",
       " 'T94',\n",
       " 'E51',\n",
       " 'F63',\n",
       " 'G13',\n",
       " 'Q95',\n",
       " 'Y02',\n",
       " 'E20',\n",
       " 'R85',\n",
       " '34',\n",
       " 'r52',\n",
       " 'n45',\n",
       " 'N20',\n",
       " 'N60',\n",
       " 'O14',\n",
       " 'J06',\n",
       " 'O25',\n",
       " 'R15',\n",
       " 'D75',\n",
       " 'Z51',\n",
       " 'D22',\n",
       " 'K83',\n",
       " 'F95',\n",
       " 'I89',\n",
       " 'Z20',\n",
       " 'N11',\n",
       " 'B06',\n",
       " 'I78',\n",
       " 'P35',\n",
       " 'S90',\n",
       " 'M30',\n",
       " 'W87',\n",
       " 'B82',\n",
       " 'S50',\n",
       " 'Q81',\n",
       " 'R91',\n",
       " 'E85',\n",
       " 'X40',\n",
       " 'A23',\n",
       " 'F28',\n",
       " 'Y49',\n",
       " '99',\n",
       " 'V37',\n",
       " 'J68',\n",
       " 'X97',\n",
       " 'T57',\n",
       " 'Y16',\n",
       " 'A70',\n",
       " 'f20',\n",
       " 'O06',\n",
       " 'M17',\n",
       " 'H92',\n",
       " 'I62',\n",
       " 'D34',\n",
       " 'R65',\n",
       " 'H01',\n",
       " 'D05',\n",
       " 'R54',\n",
       " 'C55',\n",
       " 'P52',\n",
       " 'J94',\n",
       " 'I22',\n",
       " 'F83',\n",
       " 'N98',\n",
       " 'T45',\n",
       " 'C86',\n",
       " 'W28',\n",
       " 'Y57',\n",
       " 'X38',\n",
       " 'm53',\n",
       " 'q66',\n",
       " 'B47',\n",
       " 'S89',\n",
       " 'K74',\n",
       " 'T64',\n",
       " 'G41',\n",
       " 'F31',\n",
       " 'D59',\n",
       " 'H15',\n",
       " 'V79',\n",
       " 'P95',\n",
       " 'Q36',\n",
       " 'S38',\n",
       " 'C41',\n",
       " 'G01',\n",
       " 'Q07',\n",
       " 'M07',\n",
       " 'F71',\n",
       " 'R79',\n",
       " 'A69',\n",
       " 'B57',\n",
       " 'B66',\n",
       " 'X06',\n",
       " 'k01',\n",
       " 'i25',\n",
       " 'L29',\n",
       " 'Q24',\n",
       " 'O44',\n",
       " 'M51',\n",
       " 'N30',\n",
       " 'I95',\n",
       " 'S00',\n",
       " 'R23',\n",
       " 'Q77',\n",
       " 'K62',\n",
       " 'S40',\n",
       " 'A51',\n",
       " 'T25',\n",
       " 'D83',\n",
       " 'N41',\n",
       " 'X14',\n",
       " 'O97',\n",
       " 'Z70',\n",
       " 'Y86',\n",
       " 'E59',\n",
       " 'p07',\n",
       " '85',\n",
       " 'm86',\n",
       " 'F20',\n",
       " 'T17',\n",
       " 'H53',\n",
       " 'J33',\n",
       " 'I05',\n",
       " 'W14',\n",
       " 'Q89',\n",
       " 'T39',\n",
       " 'C76',\n",
       " ...]"
      ]
     },
     "execution_count": 28,
     "metadata": {},
     "output_type": "execute_result"
    }
   ],
   "source": [
    "df_diagnosa['diag'].unique()\n"
   ]
  },
  {
   "cell_type": "markdown",
   "metadata": {},
   "source": [
    "## Perubahan code diagnosa"
   ]
  },
  {
   "cell_type": "code",
   "execution_count": 13,
   "metadata": {},
   "outputs": [
    {
     "name": "stdout",
     "output_type": "stream",
     "text": [
      "CPU times: total: 0 ns\n",
      "Wall time: 0 ns\n"
     ]
    }
   ],
   "source": [
    "%%time\n",
    "\n",
    "def classify_diag(code):\n",
    "    if code is None:\n",
    "        return 'Unknown'\n",
    "\n",
    "    code = code.upper()\n",
    "    prefix = code[:1]\n",
    "    try:\n",
    "        number = int(''.join(filter(str.isdigit, code[:3])))\n",
    "    except:\n",
    "        return 'Invalid'\n",
    "\n",
    "    if 'A00' <= code[:3] <= 'B99':\n",
    "        return \"Certain infectious and parasitic diseases\"\n",
    "    elif 'C00' <= code[:3] <= 'D48':\n",
    "        return \"Neoplasms\"\n",
    "    elif 'D50' <= code[:3] <= 'D89':\n",
    "        return \"Diseases of the blood and immune system\"\n",
    "    elif 'E00' <= code[:3] <= 'E90':\n",
    "        return \"Endocrine, nutritional and metabolic diseases\"\n",
    "    elif 'F00' <= code[:3] <= 'F99':\n",
    "        return \"Mental and behavioural disorders\"\n",
    "    elif 'G00' <= code[:3] <= 'G99':\n",
    "        return \"Diseases of the nervous system\"\n",
    "    elif 'H00' <= code[:3] <= 'H59':\n",
    "        return \"Diseases of the eye and adnexa\"\n",
    "    elif 'H60' <= code[:3] <= 'H95':\n",
    "        return \"Diseases of the ear and mastoid process\"\n",
    "    elif 'I00' <= code[:3] <= 'I99':\n",
    "        return \"Diseases of the circulatory system\"\n",
    "    elif 'J00' <= code[:3] <= 'J99':\n",
    "        return \"Diseases of the respiratory system\"\n",
    "    elif 'K00' <= code[:3] <= 'K93':\n",
    "        return \"Diseases of the digestive system\"\n",
    "    elif 'L00' <= code[:3] <= 'L99':\n",
    "        return \"Diseases of the skin and subcutaneous tissue\"\n",
    "    elif 'M00' <= code[:3] <= 'M99':\n",
    "        return \"Diseases of the musculoskeletal system\"\n",
    "    elif 'N00' <= code[:3] <= 'N99':\n",
    "        return \"Diseases of the genitourinary system\"\n",
    "    elif 'O00' <= code[:3] <= 'O99':\n",
    "        return \"Pregnancy, childbirth and the puerperium\"\n",
    "    elif 'P00' <= code[:3] <= 'P96':\n",
    "        return \"Perinatal conditions\"\n",
    "    elif 'Q00' <= code[:3] <= 'Q99':\n",
    "        return \"Congenital malformations\"\n",
    "    elif 'R00' <= code[:3] <= 'R99':\n",
    "        return \"Symptoms, signs, and abnormal findings\"\n",
    "    elif 'S00' <= code[:3] <= 'T98':\n",
    "        return \"Injury and external causes\"\n",
    "    elif 'V01' <= code[:3] <= 'Y98':\n",
    "        return \"External causes of morbidity and mortality\"\n",
    "    elif 'Z00' <= code[:3] <= 'Z99':\n",
    "        return \"Factors influencing health status\"\n",
    "    elif 'U00' <= code[:3] <= 'U85':\n",
    "        return \"Codes for special purposes\"\n",
    "    else:\n",
    "        return \"Uncategorized\"\n"
   ]
  },
  {
   "cell_type": "code",
   "execution_count": 39,
   "metadata": {},
   "outputs": [
    {
     "name": "stdout",
     "output_type": "stream",
     "text": [
      "CPU times: total: 0 ns\n",
      "Wall time: 1.18 ms\n"
     ]
    }
   ],
   "source": [
    "%%time\n",
    "\n",
    "df_diagnosa['diag'] = df_diagnosa['diag'].apply(classify_diag)"
   ]
  },
  {
   "cell_type": "code",
   "execution_count": 40,
   "metadata": {},
   "outputs": [
    {
     "name": "stdout",
     "output_type": "stream",
     "text": [
      "CPU times: total: 0 ns\n",
      "Wall time: 983 µs\n"
     ]
    },
    {
     "data": {
      "text/html": [
       "<table>\n",
       "<thead>\n",
       "<tr><th>#                            </th><th style=\"text-align: right;\">  id</th><th>diag                                         </th><th style=\"text-align: right;\">  levelid</th></tr>\n",
       "</thead>\n",
       "<tbody>\n",
       "<tr><td><i style='opacity: 0.6'>0</i></td><td style=\"text-align: right;\">   6</td><td>Pregnancy, childbirth and the puerperium     </td><td style=\"text-align: right;\">        1</td></tr>\n",
       "<tr><td><i style='opacity: 0.6'>1</i></td><td style=\"text-align: right;\">  57</td><td>Diseases of the respiratory system           </td><td style=\"text-align: right;\">        1</td></tr>\n",
       "<tr><td><i style='opacity: 0.6'>2</i></td><td style=\"text-align: right;\">  91</td><td>Symptoms, signs, and abnormal findings       </td><td style=\"text-align: right;\">        1</td></tr>\n",
       "<tr><td><i style='opacity: 0.6'>3</i></td><td style=\"text-align: right;\"> 109</td><td>Symptoms, signs, and abnormal findings       </td><td style=\"text-align: right;\">        1</td></tr>\n",
       "<tr><td><i style='opacity: 0.6'>4</i></td><td style=\"text-align: right;\"> 111</td><td>Diseases of the genitourinary system         </td><td style=\"text-align: right;\">        1</td></tr>\n",
       "<tr><td><i style='opacity: 0.6'>5</i></td><td style=\"text-align: right;\"> 111</td><td>Pregnancy, childbirth and the puerperium     </td><td style=\"text-align: right;\">        2</td></tr>\n",
       "<tr><td><i style='opacity: 0.6'>6</i></td><td style=\"text-align: right;\"> 127</td><td>Diseases of the musculoskeletal system       </td><td style=\"text-align: right;\">        1</td></tr>\n",
       "<tr><td><i style='opacity: 0.6'>7</i></td><td style=\"text-align: right;\"> 133</td><td>Diseases of the digestive system             </td><td style=\"text-align: right;\">        2</td></tr>\n",
       "<tr><td><i style='opacity: 0.6'>8</i></td><td style=\"text-align: right;\"> 133</td><td>Endocrine, nutritional and metabolic diseases</td><td style=\"text-align: right;\">        1</td></tr>\n",
       "<tr><td><i style='opacity: 0.6'>9</i></td><td style=\"text-align: right;\"> 135</td><td>Pregnancy, childbirth and the puerperium     </td><td style=\"text-align: right;\">        1</td></tr>\n",
       "</tbody>\n",
       "</table>"
      ],
      "text/plain": [
       "  #    id  diag                                             levelid\n",
       "  0     6  Pregnancy, childbirth and the puerperium               1\n",
       "  1    57  Diseases of the respiratory system                     1\n",
       "  2    91  Symptoms, signs, and abnormal findings                 1\n",
       "  3   109  Symptoms, signs, and abnormal findings                 1\n",
       "  4   111  Diseases of the genitourinary system                   1\n",
       "  5   111  Pregnancy, childbirth and the puerperium               2\n",
       "  6   127  Diseases of the musculoskeletal system                 1\n",
       "  7   133  Diseases of the digestive system                       2\n",
       "  8   133  Endocrine, nutritional and metabolic diseases          1\n",
       "  9   135  Pregnancy, childbirth and the puerperium               1"
      ]
     },
     "execution_count": 40,
     "metadata": {},
     "output_type": "execute_result"
    }
   ],
   "source": [
    "%%time\n",
    "df_diagnosa.head(10)\n"
   ]
  },
  {
   "cell_type": "markdown",
   "metadata": {},
   "source": [
    "## Drop Duplicate Diagnosa"
   ]
  },
  {
   "cell_type": "code",
   "execution_count": 44,
   "metadata": {},
   "outputs": [
    {
     "name": "stdout",
     "output_type": "stream",
     "text": [
      "CPU times: total: 0 ns\n",
      "Wall time: 0 ns\n"
     ]
    }
   ],
   "source": [
    "%%time\n",
    "columns_to_check = ['id', 'diag', 'levelid']"
   ]
  },
  {
   "cell_type": "code",
   "execution_count": 45,
   "metadata": {},
   "outputs": [
    {
     "name": "stdout",
     "output_type": "stream",
     "text": [
      "CPU times: total: 0 ns\n",
      "Wall time: 1.42 ms\n"
     ]
    }
   ],
   "source": [
    "%%time\n",
    "\n",
    "all_columns = df_diagnosa.get_column_names()"
   ]
  },
  {
   "cell_type": "code",
   "execution_count": 46,
   "metadata": {},
   "outputs": [
    {
     "name": "stdout",
     "output_type": "stream",
     "text": [
      "CPU times: total: 0 ns\n",
      "Wall time: 7.6 ms\n"
     ]
    }
   ],
   "source": [
    "%%time\n",
    "\n",
    "agg_dict = {col: vaex.agg.first(col) for col in all_columns}"
   ]
  },
  {
   "cell_type": "code",
   "execution_count": 47,
   "metadata": {},
   "outputs": [
    {
     "name": "stdout",
     "output_type": "stream",
     "text": [
      "CPU times: total: 32.6 s\n",
      "Wall time: 2min 14s\n"
     ]
    }
   ],
   "source": [
    "%%time\n",
    "\n",
    "# Konversi ke Pandas\n",
    "df_diag_pandas = df_diagnosa.to_pandas_df()\n",
    "\n",
    "# Hapus duplikat\n",
    "df_diag_pandas_unique = df_diag_pandas.drop_duplicates(subset=columns_to_check)\n",
    "\n",
    "# Konversi kembali ke Vaex\n",
    "df_diag_unique = vaex.from_pandas(df_diag_pandas_unique)\n"
   ]
  },
  {
   "cell_type": "code",
   "execution_count": 49,
   "metadata": {},
   "outputs": [
    {
     "data": {
      "text/html": [
       "<style>.vaex-description pre {\n",
       "          max-width : 450px;\n",
       "          white-space : nowrap;\n",
       "          overflow : hidden;\n",
       "          text-overflow: ellipsis;\n",
       "        }\n",
       "\n",
       "        .vex-description pre:hover {\n",
       "          max-width : initial;\n",
       "          white-space: pre;\n",
       "        }</style>"
      ],
      "text/plain": [
       "<IPython.core.display.HTML object>"
      ]
     },
     "metadata": {},
     "output_type": "display_data"
    },
    {
     "data": {
      "text/html": [
       "<div><h2>no-name</h2> <b>rows</b>: 16,633,682</div><h2>Columns:</h2><table class='table-striped'><thead><tr><th>column</th><th>type</th><th>unit</th><th>description</th><th>expression</th></tr></thead><tr><td>id</td><td>int64</td><td></td><td ><pre></pre></td><td></td></tr><tr><td>diag</td><td>str</td><td></td><td ><pre></pre></td><td></td></tr><tr><td>levelid</td><td>int64</td><td></td><td ><pre></pre></td><td></td></tr></table><h2>Data:</h2><table>\n",
       "<thead>\n",
       "<tr><th>#                                     </th><th>id      </th><th>diag                                         </th><th>levelid  </th></tr>\n",
       "</thead>\n",
       "<tbody>\n",
       "<tr><td><i style='opacity: 0.6'>0</i>         </td><td>6       </td><td>Pregnancy, childbirth and the puerperium     </td><td>1        </td></tr>\n",
       "<tr><td><i style='opacity: 0.6'>1</i>         </td><td>57      </td><td>Diseases of the respiratory system           </td><td>1        </td></tr>\n",
       "<tr><td><i style='opacity: 0.6'>2</i>         </td><td>91      </td><td>Symptoms, signs, and abnormal findings       </td><td>1        </td></tr>\n",
       "<tr><td><i style='opacity: 0.6'>3</i>         </td><td>109     </td><td>Symptoms, signs, and abnormal findings       </td><td>1        </td></tr>\n",
       "<tr><td><i style='opacity: 0.6'>4</i>         </td><td>111     </td><td>Diseases of the genitourinary system         </td><td>1        </td></tr>\n",
       "<tr><td>...                                   </td><td>...     </td><td>...                                          </td><td>...      </td></tr>\n",
       "<tr><td><i style='opacity: 0.6'>16,633,677</i></td><td>11426947</td><td>Diseases of the digestive system             </td><td>2        </td></tr>\n",
       "<tr><td><i style='opacity: 0.6'>16,633,678</i></td><td>11426947</td><td>Endocrine, nutritional and metabolic diseases</td><td>2        </td></tr>\n",
       "<tr><td><i style='opacity: 0.6'>16,633,679</i></td><td>11426947</td><td>Diseases of the circulatory system           </td><td>1        </td></tr>\n",
       "<tr><td><i style='opacity: 0.6'>16,633,680</i></td><td>11426952</td><td>Diseases of the digestive system             </td><td>1        </td></tr>\n",
       "<tr><td><i style='opacity: 0.6'>16,633,681</i></td><td>11426952</td><td>Diseases of the musculoskeletal system       </td><td>2        </td></tr>\n",
       "</tbody>\n",
       "</table>"
      ],
      "text/plain": [
       "<IPython.core.display.HTML object>"
      ]
     },
     "metadata": {},
     "output_type": "display_data"
    },
    {
     "name": "stdout",
     "output_type": "stream",
     "text": [
      "CPU times: total: 15.6 ms\n",
      "Wall time: 95.8 ms\n"
     ]
    }
   ],
   "source": [
    "%%time\n",
    "\n",
    "df_diag_unique.info()"
   ]
  },
  {
   "cell_type": "code",
   "execution_count": 50,
   "metadata": {},
   "outputs": [],
   "source": [
    "df_diag_unique.export_csv(\"df_diag.csv\")  "
   ]
  },
  {
   "cell_type": "code",
   "execution_count": 51,
   "metadata": {},
   "outputs": [
    {
     "name": "stdout",
     "output_type": "stream",
     "text": [
      "CPU times: total: 22.5 s\n",
      "Wall time: 1min 12s\n"
     ]
    },
    {
     "data": {
      "text/html": [
       "<table>\n",
       "<thead>\n",
       "<tr><th>#                                     </th><th>id      </th><th>diag                                         </th><th>levelid  </th></tr>\n",
       "</thead>\n",
       "<tbody>\n",
       "<tr><td><i style='opacity: 0.6'>0</i>         </td><td>6       </td><td>Pregnancy, childbirth and the puerperium     </td><td>1        </td></tr>\n",
       "<tr><td><i style='opacity: 0.6'>1</i>         </td><td>57      </td><td>Diseases of the respiratory system           </td><td>1        </td></tr>\n",
       "<tr><td><i style='opacity: 0.6'>2</i>         </td><td>91      </td><td>Symptoms, signs, and abnormal findings       </td><td>1        </td></tr>\n",
       "<tr><td><i style='opacity: 0.6'>3</i>         </td><td>109     </td><td>Symptoms, signs, and abnormal findings       </td><td>1        </td></tr>\n",
       "<tr><td><i style='opacity: 0.6'>4</i>         </td><td>111     </td><td>Diseases of the genitourinary system         </td><td>1        </td></tr>\n",
       "<tr><td>...                                   </td><td>...     </td><td>...                                          </td><td>...      </td></tr>\n",
       "<tr><td><i style='opacity: 0.6'>16,633,677</i></td><td>11426947</td><td>Diseases of the digestive system             </td><td>2        </td></tr>\n",
       "<tr><td><i style='opacity: 0.6'>16,633,678</i></td><td>11426947</td><td>Endocrine, nutritional and metabolic diseases</td><td>2        </td></tr>\n",
       "<tr><td><i style='opacity: 0.6'>16,633,679</i></td><td>11426947</td><td>Diseases of the circulatory system           </td><td>1        </td></tr>\n",
       "<tr><td><i style='opacity: 0.6'>16,633,680</i></td><td>11426952</td><td>Diseases of the digestive system             </td><td>1        </td></tr>\n",
       "<tr><td><i style='opacity: 0.6'>16,633,681</i></td><td>11426952</td><td>Diseases of the musculoskeletal system       </td><td>2        </td></tr>\n",
       "</tbody>\n",
       "</table>"
      ],
      "text/plain": [
       "#           id        diag                                           levelid\n",
       "0           6         Pregnancy, childbirth and the puerperium       1\n",
       "1           57        Diseases of the respiratory system             1\n",
       "2           91        Symptoms, signs, and abnormal findings         1\n",
       "3           109       Symptoms, signs, and abnormal findings         1\n",
       "4           111       Diseases of the genitourinary system           1\n",
       "...         ...       ...                                            ...\n",
       "16,633,677  11426947  Diseases of the digestive system               2\n",
       "16,633,678  11426947  Endocrine, nutritional and metabolic diseases  2\n",
       "16,633,679  11426947  Diseases of the circulatory system             1\n",
       "16,633,680  11426952  Diseases of the digestive system               1\n",
       "16,633,681  11426952  Diseases of the musculoskeletal system         2"
      ]
     },
     "execution_count": 51,
     "metadata": {},
     "output_type": "execute_result"
    }
   ],
   "source": [
    "%%time\n",
    "\n",
    "df_diagg = vaex.from_csv('df_diag.csv', convert=True, chunk_size=100_000)\n",
    "df_diagg"
   ]
  },
  {
   "cell_type": "markdown",
   "metadata": {},
   "source": [
    "\n",
    "# Procedure"
   ]
  },
  {
   "cell_type": "markdown",
   "metadata": {},
   "source": [
    "Sampling_Healthkathon_Procedure, berupakan data yang berisi prosedur/tindakan medis yang didapatkan peserta\n",
    "JKN. Dalam setiap kunjungan, peserta bisa mendapatkan satu atau lebih prosedur/tindakan medis.\n",
    "Prosedur/tindakan medis menggunakan ICD9-CM: http://www.icd9data.com/2012/Volume3/default.htm"
   ]
  },
  {
   "cell_type": "code",
   "execution_count": 19,
   "metadata": {},
   "outputs": [
    {
     "name": "stdout",
     "output_type": "stream",
     "text": [
      "CPU times: total: 0 ns\n",
      "Wall time: 11.5 ms\n"
     ]
    },
    {
     "data": {
      "text/html": [
       "<table>\n",
       "<thead>\n",
       "<tr><th>#                                     </th><th>id      </th><th>proc  </th></tr>\n",
       "</thead>\n",
       "<tbody>\n",
       "<tr><td><i style='opacity: 0.6'>0</i>         </td><td>6       </td><td>90.59 </td></tr>\n",
       "<tr><td><i style='opacity: 0.6'>1</i>         </td><td>6       </td><td>69.01 </td></tr>\n",
       "<tr><td><i style='opacity: 0.6'>2</i>         </td><td>6       </td><td>88.78 </td></tr>\n",
       "<tr><td><i style='opacity: 0.6'>3</i>         </td><td>27      </td><td>90.59 </td></tr>\n",
       "<tr><td><i style='opacity: 0.6'>4</i>         </td><td>27      </td><td>88.78 </td></tr>\n",
       "<tr><td>...                                   </td><td>...     </td><td>...   </td></tr>\n",
       "<tr><td><i style='opacity: 0.6'>12,202,866</i></td><td>11426915</td><td>93.57 </td></tr>\n",
       "<tr><td><i style='opacity: 0.6'>12,202,867</i></td><td>11426927</td><td>89.52 </td></tr>\n",
       "<tr><td><i style='opacity: 0.6'>12,202,868</i></td><td>11426927</td><td>96.55 </td></tr>\n",
       "<tr><td><i style='opacity: 0.6'>12,202,869</i></td><td>11426927</td><td>87.39 </td></tr>\n",
       "<tr><td><i style='opacity: 0.6'>12,202,870</i></td><td>11426927</td><td>93.96 </td></tr>\n",
       "</tbody>\n",
       "</table>"
      ],
      "text/plain": [
       "#           id        proc\n",
       "0           6         90.59\n",
       "1           6         69.01\n",
       "2           6         88.78\n",
       "3           27        90.59\n",
       "4           27        88.78\n",
       "...         ...       ...\n",
       "12,202,866  11426915  93.57\n",
       "12,202,867  11426927  89.52\n",
       "12,202,868  11426927  96.55\n",
       "12,202,869  11426927  87.39\n",
       "12,202,870  11426927  93.96"
      ]
     },
     "execution_count": 19,
     "metadata": {},
     "output_type": "execute_result"
    }
   ],
   "source": [
    "%%time\n",
    "\n",
    "df_procedure = vaex.from_csv('sampling_healthkathon2022_procedure.csv', convert=True, chunk_size=100_000)\n",
    "df_procedure"
   ]
  },
  {
   "cell_type": "code",
   "execution_count": 26,
   "metadata": {},
   "outputs": [
    {
     "name": "stdout",
     "output_type": "stream",
     "text": [
      "CPU times: total: 4.53 s\n",
      "Wall time: 6.32 s\n"
     ]
    },
    {
     "data": {
      "text/html": [
       "<div>\n",
       "<style scoped>\n",
       "    .dataframe tbody tr th:only-of-type {\n",
       "        vertical-align: middle;\n",
       "    }\n",
       "\n",
       "    .dataframe tbody tr th {\n",
       "        vertical-align: top;\n",
       "    }\n",
       "\n",
       "    .dataframe thead th {\n",
       "        text-align: right;\n",
       "    }\n",
       "</style>\n",
       "<table border=\"1\" class=\"dataframe\">\n",
       "  <thead>\n",
       "    <tr style=\"text-align: right;\">\n",
       "      <th></th>\n",
       "      <th>id</th>\n",
       "      <th>proc</th>\n",
       "    </tr>\n",
       "  </thead>\n",
       "  <tbody>\n",
       "    <tr>\n",
       "      <th>0</th>\n",
       "      <td>6</td>\n",
       "      <td>90.59</td>\n",
       "    </tr>\n",
       "    <tr>\n",
       "      <th>1</th>\n",
       "      <td>6</td>\n",
       "      <td>69.01</td>\n",
       "    </tr>\n",
       "    <tr>\n",
       "      <th>2</th>\n",
       "      <td>6</td>\n",
       "      <td>88.78</td>\n",
       "    </tr>\n",
       "    <tr>\n",
       "      <th>3</th>\n",
       "      <td>27</td>\n",
       "      <td>90.59</td>\n",
       "    </tr>\n",
       "    <tr>\n",
       "      <th>4</th>\n",
       "      <td>27</td>\n",
       "      <td>88.78</td>\n",
       "    </tr>\n",
       "    <tr>\n",
       "      <th>...</th>\n",
       "      <td>...</td>\n",
       "      <td>...</td>\n",
       "    </tr>\n",
       "    <tr>\n",
       "      <th>12202866</th>\n",
       "      <td>11426915</td>\n",
       "      <td>93.57</td>\n",
       "    </tr>\n",
       "    <tr>\n",
       "      <th>12202867</th>\n",
       "      <td>11426927</td>\n",
       "      <td>89.52</td>\n",
       "    </tr>\n",
       "    <tr>\n",
       "      <th>12202868</th>\n",
       "      <td>11426927</td>\n",
       "      <td>96.55</td>\n",
       "    </tr>\n",
       "    <tr>\n",
       "      <th>12202869</th>\n",
       "      <td>11426927</td>\n",
       "      <td>87.39</td>\n",
       "    </tr>\n",
       "    <tr>\n",
       "      <th>12202870</th>\n",
       "      <td>11426927</td>\n",
       "      <td>93.96</td>\n",
       "    </tr>\n",
       "  </tbody>\n",
       "</table>\n",
       "<p>12202871 rows × 2 columns</p>\n",
       "</div>"
      ],
      "text/plain": [
       "                id   proc\n",
       "0                6  90.59\n",
       "1                6  69.01\n",
       "2                6  88.78\n",
       "3               27  90.59\n",
       "4               27  88.78\n",
       "...            ...    ...\n",
       "12202866  11426915  93.57\n",
       "12202867  11426927  89.52\n",
       "12202868  11426927  96.55\n",
       "12202869  11426927  87.39\n",
       "12202870  11426927  93.96\n",
       "\n",
       "[12202871 rows x 2 columns]"
      ]
     },
     "execution_count": 26,
     "metadata": {},
     "output_type": "execute_result"
    }
   ],
   "source": [
    "%%time\n",
    "\n",
    "df_procedure_pandas = pd.read_csv('sampling_healthkathon2022_procedure.csv', chunksize=100_000)\n",
    "df_procedure_pandas = pd.concat(df_procedure_pandas, ignore_index=True)\n",
    "df_procedure_pandas"
   ]
  },
  {
   "attachments": {
    "image.png": {
     "image/png": "[encoded data removed]"
    }
   },
   "cell_type": "markdown",
   "metadata": {},
   "source": [
    "![image.png](attachment:image.png)"
   ]
  },
  {
   "cell_type": "code",
   "execution_count": 20,
   "metadata": {},
   "outputs": [
    {
     "data": {
      "text/html": [
       "<style>.vaex-description pre {\n",
       "          max-width : 450px;\n",
       "          white-space : nowrap;\n",
       "          overflow : hidden;\n",
       "          text-overflow: ellipsis;\n",
       "        }\n",
       "\n",
       "        .vex-description pre:hover {\n",
       "          max-width : initial;\n",
       "          white-space: pre;\n",
       "        }</style>"
      ],
      "text/plain": [
       "<IPython.core.display.HTML object>"
      ]
     },
     "metadata": {},
     "output_type": "display_data"
    },
    {
     "data": {
      "text/html": [
       "<div><h2>sampling_healthkathon2022_procedure.csv</h2> <b>rows</b>: 12,202,871</div><h2>Columns:</h2><table class='table-striped'><thead><tr><th>column</th><th>type</th><th>unit</th><th>description</th><th>expression</th></tr></thead><tr><td>id</td><td>int64</td><td></td><td ><pre></pre></td><td></td></tr><tr><td>proc</td><td>str</td><td></td><td ><pre></pre></td><td></td></tr></table><h2>Data:</h2><table>\n",
       "<thead>\n",
       "<tr><th>#                                     </th><th>id      </th><th>proc  </th></tr>\n",
       "</thead>\n",
       "<tbody>\n",
       "<tr><td><i style='opacity: 0.6'>0</i>         </td><td>6       </td><td>90.59 </td></tr>\n",
       "<tr><td><i style='opacity: 0.6'>1</i>         </td><td>6       </td><td>69.01 </td></tr>\n",
       "<tr><td><i style='opacity: 0.6'>2</i>         </td><td>6       </td><td>88.78 </td></tr>\n",
       "<tr><td><i style='opacity: 0.6'>3</i>         </td><td>27      </td><td>90.59 </td></tr>\n",
       "<tr><td><i style='opacity: 0.6'>4</i>         </td><td>27      </td><td>88.78 </td></tr>\n",
       "<tr><td>...                                   </td><td>...     </td><td>...   </td></tr>\n",
       "<tr><td><i style='opacity: 0.6'>12,202,866</i></td><td>11426915</td><td>93.57 </td></tr>\n",
       "<tr><td><i style='opacity: 0.6'>12,202,867</i></td><td>11426927</td><td>89.52 </td></tr>\n",
       "<tr><td><i style='opacity: 0.6'>12,202,868</i></td><td>11426927</td><td>96.55 </td></tr>\n",
       "<tr><td><i style='opacity: 0.6'>12,202,869</i></td><td>11426927</td><td>87.39 </td></tr>\n",
       "<tr><td><i style='opacity: 0.6'>12,202,870</i></td><td>11426927</td><td>93.96 </td></tr>\n",
       "</tbody>\n",
       "</table>"
      ],
      "text/plain": [
       "<IPython.core.display.HTML object>"
      ]
     },
     "metadata": {},
     "output_type": "display_data"
    },
    {
     "name": "stdout",
     "output_type": "stream",
     "text": [
      "CPU times: total: 0 ns\n",
      "Wall time: 7.31 ms\n"
     ]
    }
   ],
   "source": [
    "%%time\n",
    "df_procedure.info()"
   ]
  },
  {
   "cell_type": "code",
   "execution_count": null,
   "metadata": {},
   "outputs": [],
   "source": [
    "%%time\n",
    "\n",
    "df_procedure_pandas.info()"
   ]
  },
  {
   "cell_type": "code",
   "execution_count": 22,
   "metadata": {},
   "outputs": [
    {
     "data": {
      "text/html": [
       "<div>\n",
       "<style scoped>\n",
       "    .dataframe tbody tr th:only-of-type {\n",
       "        vertical-align: middle;\n",
       "    }\n",
       "\n",
       "    .dataframe tbody tr th {\n",
       "        vertical-align: top;\n",
       "    }\n",
       "\n",
       "    .dataframe thead th {\n",
       "        text-align: right;\n",
       "    }\n",
       "</style>\n",
       "<table border=\"1\" class=\"dataframe\">\n",
       "  <thead>\n",
       "    <tr style=\"text-align: right;\">\n",
       "      <th></th>\n",
       "      <th>id</th>\n",
       "      <th>proc</th>\n",
       "    </tr>\n",
       "  </thead>\n",
       "  <tbody>\n",
       "    <tr>\n",
       "      <th>data_type</th>\n",
       "      <td>int64</td>\n",
       "      <td>string</td>\n",
       "    </tr>\n",
       "    <tr>\n",
       "      <th>count</th>\n",
       "      <td>12202871</td>\n",
       "      <td>12202871</td>\n",
       "    </tr>\n",
       "    <tr>\n",
       "      <th>NA</th>\n",
       "      <td>0</td>\n",
       "      <td>0</td>\n",
       "    </tr>\n",
       "    <tr>\n",
       "      <th>mean</th>\n",
       "      <td>6296676.710889101</td>\n",
       "      <td>--</td>\n",
       "    </tr>\n",
       "    <tr>\n",
       "      <th>std</th>\n",
       "      <td>3401134.187489</td>\n",
       "      <td>--</td>\n",
       "    </tr>\n",
       "    <tr>\n",
       "      <th>min</th>\n",
       "      <td>1</td>\n",
       "      <td>--</td>\n",
       "    </tr>\n",
       "    <tr>\n",
       "      <th>max</th>\n",
       "      <td>11426953</td>\n",
       "      <td>--</td>\n",
       "    </tr>\n",
       "  </tbody>\n",
       "</table>\n",
       "</div>"
      ],
      "text/plain": [
       "                          id      proc\n",
       "data_type              int64    string\n",
       "count               12202871  12202871\n",
       "NA                         0         0\n",
       "mean       6296676.710889101        --\n",
       "std           3401134.187489        --\n",
       "min                        1        --\n",
       "max                 11426953        --"
      ]
     },
     "execution_count": 22,
     "metadata": {},
     "output_type": "execute_result"
    }
   ],
   "source": [
    "df_procedure.describe()"
   ]
  },
  {
   "cell_type": "code",
   "execution_count": 23,
   "metadata": {},
   "outputs": [
    {
     "name": "stdout",
     "output_type": "stream",
     "text": [
      "CPU times: total: 0 ns\n",
      "Wall time: 0 ns\n"
     ]
    },
    {
     "data": {
      "text/html": [
       "<table>\n",
       "<thead>\n",
       "<tr><th>#                            </th><th style=\"text-align: right;\">  id</th><th style=\"text-align: right;\">  proc</th><th style=\"text-align: right;\">  proc_code</th></tr>\n",
       "</thead>\n",
       "<tbody>\n",
       "<tr><td><i style='opacity: 0.6'>0</i></td><td style=\"text-align: right;\">   6</td><td style=\"text-align: right;\"> 90.59</td><td style=\"text-align: right;\">         90</td></tr>\n",
       "<tr><td><i style='opacity: 0.6'>1</i></td><td style=\"text-align: right;\">   6</td><td style=\"text-align: right;\"> 69.01</td><td style=\"text-align: right;\">         69</td></tr>\n",
       "<tr><td><i style='opacity: 0.6'>2</i></td><td style=\"text-align: right;\">   6</td><td style=\"text-align: right;\"> 88.78</td><td style=\"text-align: right;\">         88</td></tr>\n",
       "<tr><td><i style='opacity: 0.6'>3</i></td><td style=\"text-align: right;\">  27</td><td style=\"text-align: right;\"> 90.59</td><td style=\"text-align: right;\">         90</td></tr>\n",
       "<tr><td><i style='opacity: 0.6'>4</i></td><td style=\"text-align: right;\">  27</td><td style=\"text-align: right;\"> 88.78</td><td style=\"text-align: right;\">         88</td></tr>\n",
       "<tr><td><i style='opacity: 0.6'>5</i></td><td style=\"text-align: right;\">  29</td><td style=\"text-align: right;\"> 88.76</td><td style=\"text-align: right;\">         88</td></tr>\n",
       "<tr><td><i style='opacity: 0.6'>6</i></td><td style=\"text-align: right;\">  30</td><td style=\"text-align: right;\"> 90.59</td><td style=\"text-align: right;\">         90</td></tr>\n",
       "<tr><td><i style='opacity: 0.6'>7</i></td><td style=\"text-align: right;\">  33</td><td style=\"text-align: right;\"> 90.59</td><td style=\"text-align: right;\">         90</td></tr>\n",
       "<tr><td><i style='opacity: 0.6'>8</i></td><td style=\"text-align: right;\">  33</td><td style=\"text-align: right;\"> 74   </td><td style=\"text-align: right;\">         74</td></tr>\n",
       "<tr><td><i style='opacity: 0.6'>9</i></td><td style=\"text-align: right;\">  56</td><td style=\"text-align: right;\"> 90.59</td><td style=\"text-align: right;\">         90</td></tr>\n",
       "</tbody>\n",
       "</table>"
      ],
      "text/plain": [
       "  #    id    proc    proc_code\n",
       "  0     6   90.59           90\n",
       "  1     6   69.01           69\n",
       "  2     6   88.78           88\n",
       "  3    27   90.59           90\n",
       "  4    27   88.78           88\n",
       "  5    29   88.76           88\n",
       "  6    30   90.59           90\n",
       "  7    33   90.59           90\n",
       "  8    33   74              74\n",
       "  9    56   90.59           90"
      ]
     },
     "execution_count": 23,
     "metadata": {},
     "output_type": "execute_result"
    }
   ],
   "source": [
    "%%time\n",
    "\n",
    "df_procedure['proc_code'] = df_procedure['proc'].str.split('.').apply(lambda x: x[0] if len(x) > 0 else x)\n",
    "# df_procedure['proc_code_detail'] = df_procedure['proc'].str.split('.').apply(lambda x: x[1] if len(x) > 0 else x)\n",
    "\n",
    "df_procedure.head(10)\n"
   ]
  },
  {
   "cell_type": "code",
   "execution_count": 24,
   "metadata": {},
   "outputs": [
    {
     "name": "stdout",
     "output_type": "stream",
     "text": [
      "  #    id    proc    proc_code\n",
      "  0     6   90.59           90\n",
      "  1     6   69.01           69\n",
      "  2     6   88.78           88\n",
      "  3    27   90.59           90\n",
      "  4    27   88.78           88\n",
      "  5    29   88.76           88\n",
      "  6    30   90.59           90\n",
      "  7    33   90.59           90\n",
      "  8    33   74              74\n",
      "  9    56   90.59           90\n"
     ]
    },
    {
     "data": {
      "text/html": [
       "<style>.vaex-description pre {\n",
       "          max-width : 450px;\n",
       "          white-space : nowrap;\n",
       "          overflow : hidden;\n",
       "          text-overflow: ellipsis;\n",
       "        }\n",
       "\n",
       "        .vex-description pre:hover {\n",
       "          max-width : initial;\n",
       "          white-space: pre;\n",
       "        }</style>"
      ],
      "text/plain": [
       "<IPython.core.display.HTML object>"
      ]
     },
     "metadata": {},
     "output_type": "display_data"
    },
    {
     "data": {
      "text/html": [
       "<div><h2>sampling_healthkathon2022_procedure.csv</h2> <b>rows</b>: 12,202,871</div><h2>Columns:</h2><table class='table-striped'><thead><tr><th>column</th><th>type</th><th>unit</th><th>description</th><th>expression</th></tr></thead><tr><td>id</td><td>int64</td><td></td><td ><pre></pre></td><td></td></tr><tr><td>proc</td><td>str</td><td></td><td ><pre></pre></td><td></td></tr><tr><td>proc_code</td><td></i>virtual column</i></td><td></td><td ><pre></pre></td><td><code>lambda_function(str_split(proc, '.'))</code></td></tr></table><h2>Data:</h2><table>\n",
       "<thead>\n",
       "<tr><th>#                                     </th><th>id      </th><th>proc  </th><th>proc_code  </th></tr>\n",
       "</thead>\n",
       "<tbody>\n",
       "<tr><td><i style='opacity: 0.6'>0</i>         </td><td>6       </td><td>90.59 </td><td>90         </td></tr>\n",
       "<tr><td><i style='opacity: 0.6'>1</i>         </td><td>6       </td><td>69.01 </td><td>69         </td></tr>\n",
       "<tr><td><i style='opacity: 0.6'>2</i>         </td><td>6       </td><td>88.78 </td><td>88         </td></tr>\n",
       "<tr><td><i style='opacity: 0.6'>3</i>         </td><td>27      </td><td>90.59 </td><td>90         </td></tr>\n",
       "<tr><td><i style='opacity: 0.6'>4</i>         </td><td>27      </td><td>88.78 </td><td>88         </td></tr>\n",
       "<tr><td>...                                   </td><td>...     </td><td>...   </td><td>...        </td></tr>\n",
       "<tr><td><i style='opacity: 0.6'>12,202,866</i></td><td>11426915</td><td>93.57 </td><td>93         </td></tr>\n",
       "<tr><td><i style='opacity: 0.6'>12,202,867</i></td><td>11426927</td><td>89.52 </td><td>89         </td></tr>\n",
       "<tr><td><i style='opacity: 0.6'>12,202,868</i></td><td>11426927</td><td>96.55 </td><td>96         </td></tr>\n",
       "<tr><td><i style='opacity: 0.6'>12,202,869</i></td><td>11426927</td><td>87.39 </td><td>87         </td></tr>\n",
       "<tr><td><i style='opacity: 0.6'>12,202,870</i></td><td>11426927</td><td>93.96 </td><td>93         </td></tr>\n",
       "</tbody>\n",
       "</table>"
      ],
      "text/plain": [
       "<IPython.core.display.HTML object>"
      ]
     },
     "metadata": {},
     "output_type": "display_data"
    },
    {
     "name": "stdout",
     "output_type": "stream",
     "text": [
      "None\n",
      "CPU times: total: 0 ns\n",
      "Wall time: 39.3 ms\n"
     ]
    }
   ],
   "source": [
    "%%time\n",
    "\n",
    "print(df_procedure.head(10)) \n",
    "print(df_procedure.info())  \n"
   ]
  },
  {
   "cell_type": "code",
   "execution_count": 25,
   "metadata": {},
   "outputs": [
    {
     "name": "stdout",
     "output_type": "stream",
     "text": [
      "CPU times: total: 2.16 s\n",
      "Wall time: 39.3 s\n"
     ]
    }
   ],
   "source": [
    "%%time\n",
    "df_procedure['proc_code'] = df_procedure['proc_code'].evaluate() \n"
   ]
  },
  {
   "cell_type": "code",
   "execution_count": 99,
   "metadata": {},
   "outputs": [],
   "source": [
    "df_procedure.export_csv(\"df_procedure.csv\")  "
   ]
  },
  {
   "cell_type": "markdown",
   "metadata": {},
   "source": [
    "## Mengubah Kategori Procedure"
   ]
  },
  {
   "cell_type": "code",
   "execution_count": 124,
   "metadata": {},
   "outputs": [
    {
     "data": {
      "text/html": [
       "<table>\n",
       "<thead>\n",
       "<tr><th>#                                     </th><th>id      </th><th>proc  </th><th>proc_code  </th></tr>\n",
       "</thead>\n",
       "<tbody>\n",
       "<tr><td><i style='opacity: 0.6'>0</i>         </td><td>6       </td><td>90.59 </td><td>90         </td></tr>\n",
       "<tr><td><i style='opacity: 0.6'>1</i>         </td><td>6       </td><td>69.01 </td><td>69         </td></tr>\n",
       "<tr><td><i style='opacity: 0.6'>2</i>         </td><td>6       </td><td>88.78 </td><td>88         </td></tr>\n",
       "<tr><td><i style='opacity: 0.6'>3</i>         </td><td>27      </td><td>90.59 </td><td>90         </td></tr>\n",
       "<tr><td><i style='opacity: 0.6'>4</i>         </td><td>27      </td><td>88.78 </td><td>88         </td></tr>\n",
       "<tr><td>...                                   </td><td>...     </td><td>...   </td><td>...        </td></tr>\n",
       "<tr><td><i style='opacity: 0.6'>12,202,866</i></td><td>11426915</td><td>93.57 </td><td>93         </td></tr>\n",
       "<tr><td><i style='opacity: 0.6'>12,202,867</i></td><td>11426927</td><td>89.52 </td><td>89         </td></tr>\n",
       "<tr><td><i style='opacity: 0.6'>12,202,868</i></td><td>11426927</td><td>96.55 </td><td>96         </td></tr>\n",
       "<tr><td><i style='opacity: 0.6'>12,202,869</i></td><td>11426927</td><td>87.39 </td><td>87         </td></tr>\n",
       "<tr><td><i style='opacity: 0.6'>12,202,870</i></td><td>11426927</td><td>93.96 </td><td>93         </td></tr>\n",
       "</tbody>\n",
       "</table>"
      ],
      "text/plain": [
       "#           id        proc    proc_code\n",
       "0           6         90.59   90\n",
       "1           6         69.01   69\n",
       "2           6         88.78   88\n",
       "3           27        90.59   90\n",
       "4           27        88.78   88\n",
       "...         ...       ...     ...\n",
       "12,202,866  11426915  93.57   93\n",
       "12,202,867  11426927  89.52   89\n",
       "12,202,868  11426927  96.55   96\n",
       "12,202,869  11426927  87.39   87\n",
       "12,202,870  11426927  93.96   93"
      ]
     },
     "execution_count": 124,
     "metadata": {},
     "output_type": "execute_result"
    }
   ],
   "source": [
    "df_proc = vaex.from_csv('df_procedure.csv', convert=True, chunk_size=100_000)\n",
    "df_proc"
   ]
  },
  {
   "cell_type": "code",
   "execution_count": 125,
   "metadata": {},
   "outputs": [],
   "source": [
    "df_proc = df_proc.drop('proc')"
   ]
  },
  {
   "cell_type": "code",
   "execution_count": null,
   "metadata": {},
   "outputs": [
    {
     "data": {
      "text/plain": [
       "['61',\n",
       " '27',\n",
       " '37',\n",
       " '69',\n",
       " '98',\n",
       " '75',\n",
       " '04',\n",
       " '12',\n",
       " '45',\n",
       " '86',\n",
       " '59',\n",
       " '28',\n",
       " '90',\n",
       " '62',\n",
       " '78',\n",
       " '20',\n",
       " '51',\n",
       " '70',\n",
       " '01',\n",
       " '83',\n",
       " '32',\n",
       " '93',\n",
       " '67',\n",
       " '09',\n",
       " '42',\n",
       " '15',\n",
       " '54',\n",
       " '88',\n",
       " '39',\n",
       " 'D72',\n",
       " 'A24',\n",
       " '25',\n",
       " '5',\n",
       " '80',\n",
       " '31',\n",
       " 'Z27',\n",
       " '77',\n",
       " '06',\n",
       " 'Z37',\n",
       " '47',\n",
       " '-',\n",
       " '10',\n",
       " '57',\n",
       " 'J44',\n",
       " '96',\n",
       " 'O80',\n",
       " '60',\n",
       " '18',\n",
       " '26',\n",
       " '34',\n",
       " '99',\n",
       " '68',\n",
       " 'S90',\n",
       " '72',\n",
       " '03',\n",
       " 'M17',\n",
       " '13',\n",
       " '44',\n",
       " '85',\n",
       " '91',\n",
       " '65',\n",
       " '79',\n",
       " '23',\n",
       " '52',\n",
       " 'A59',\n",
       " '71',\n",
       " '00',\n",
       " 'I21',\n",
       " 'Z04',\n",
       " '49',\n",
       " '82',\n",
       " '33',\n",
       " '66',\n",
       " '08',\n",
       " 'P59',\n",
       " '16',\n",
       " '41',\n",
       " 'Z09',\n",
       " '55',\n",
       " '94',\n",
       " 'A31',\n",
       " 'G62',\n",
       " '24',\n",
       " '4',\n",
       " '36',\n",
       " '74',\n",
       " '05',\n",
       " '11',\n",
       " '46',\n",
       " '87',\n",
       " '29',\n",
       " '58',\n",
       " '97',\n",
       " '63',\n",
       " 'J81',\n",
       " '19',\n",
       " 'G54',\n",
       " '21',\n",
       " '50',\n",
       " '35',\n",
       " '73',\n",
       " '02',\n",
       " 'V58',\n",
       " 'Q00',\n",
       " '84',\n",
       " '92',\n",
       " 'E11',\n",
       " '64',\n",
       " '43',\n",
       " '14',\n",
       " '22',\n",
       " '53',\n",
       " '89',\n",
       " '38',\n",
       " '48',\n",
       " '81',\n",
       " '30',\n",
       " 'Z24',\n",
       " '76',\n",
       " '07',\n",
       " '40',\n",
       " '17',\n",
       " '56',\n",
       " 'G93',\n",
       " '95']"
      ]
     },
     "execution_count": 126,
     "metadata": {},
     "output_type": "execute_result"
    }
   ],
   "source": [
    "df_proc['proc_code'].unique()\n"
   ]
  },
  {
   "cell_type": "code",
   "execution_count": 130,
   "metadata": {},
   "outputs": [
    {
     "name": "stdout",
     "output_type": "stream",
     "text": [
      "#           proc_code    proc_code_clean\n",
      "0           90           90\n",
      "1           69           69\n",
      "2           88           88\n",
      "3           90           90\n",
      "4           88           88\n",
      "...         ...          ...\n",
      "12,120,158  93           93\n",
      "12,120,159  89           89\n",
      "12,120,160  96           96\n",
      "12,120,161  87           87\n",
      "12,120,162  93           93\n"
     ]
    }
   ],
   "source": [
    "# Pastikan nilai None diubah ke string kosong agar bisa diproses\n",
    "df_proc['proc_code'] = df_proc['proc_code'].fillna('')\n",
    "\n",
    "# Hapus semua karakter selain angka\n",
    "df_proc['proc_code_clean'] = df_proc['proc_code'].str.replace(r'[^0-9]', '', regex=True)\n",
    "\n",
    "df_proc = df_proc[df_proc['proc_code_clean'] != '']\n",
    "\n",
    "# Tampilkan hasil\n",
    "print(df_proc[['proc_code', 'proc_code_clean']])\n"
   ]
  },
  {
   "cell_type": "code",
   "execution_count": 131,
   "metadata": {},
   "outputs": [
    {
     "data": {
      "text/plain": [
       "['61',\n",
       " '27',\n",
       " '37',\n",
       " '69',\n",
       " '98',\n",
       " '75',\n",
       " '04',\n",
       " '45',\n",
       " '12',\n",
       " '86',\n",
       " '28',\n",
       " '59',\n",
       " '90',\n",
       " '62',\n",
       " '78',\n",
       " '51',\n",
       " '20',\n",
       " '70',\n",
       " '01',\n",
       " '83',\n",
       " '32',\n",
       " '93',\n",
       " '67',\n",
       " '09',\n",
       " '42',\n",
       " '15',\n",
       " '54',\n",
       " '39',\n",
       " '88',\n",
       " '25',\n",
       " '5',\n",
       " '80',\n",
       " '31',\n",
       " '06',\n",
       " '77',\n",
       " '47',\n",
       " '10',\n",
       " '57',\n",
       " '96',\n",
       " '60',\n",
       " '18',\n",
       " '26',\n",
       " '34',\n",
       " '99',\n",
       " '68',\n",
       " '03',\n",
       " '72',\n",
       " '13',\n",
       " '44',\n",
       " '85',\n",
       " '91',\n",
       " '65',\n",
       " '79',\n",
       " '23',\n",
       " '52',\n",
       " '71',\n",
       " '00',\n",
       " '49',\n",
       " '82',\n",
       " '33',\n",
       " '66',\n",
       " '08',\n",
       " '16',\n",
       " '41',\n",
       " '55',\n",
       " '94',\n",
       " '24',\n",
       " '4',\n",
       " '36',\n",
       " '74',\n",
       " '05',\n",
       " '46',\n",
       " '11',\n",
       " '87',\n",
       " '58',\n",
       " '29',\n",
       " '97',\n",
       " '63',\n",
       " '19',\n",
       " '21',\n",
       " '50',\n",
       " '35',\n",
       " '73',\n",
       " '02',\n",
       " '84',\n",
       " '92',\n",
       " '64',\n",
       " '43',\n",
       " '14',\n",
       " '22',\n",
       " '53',\n",
       " '89',\n",
       " '38',\n",
       " '48',\n",
       " '81',\n",
       " '30',\n",
       " '76',\n",
       " '07',\n",
       " '40',\n",
       " '17',\n",
       " '56',\n",
       " '95']"
      ]
     },
     "execution_count": 131,
     "metadata": {},
     "output_type": "execute_result"
    }
   ],
   "source": [
    "df_proc['proc_code_clean'].unique()\n"
   ]
  },
  {
   "cell_type": "code",
   "execution_count": 132,
   "metadata": {},
   "outputs": [
    {
     "data": {
      "text/html": [
       "<table>\n",
       "<thead>\n",
       "<tr><th>#                             </th><th>id  </th><th>proc_code  </th><th>proc_code_clean                                    </th></tr>\n",
       "</thead>\n",
       "<tbody>\n",
       "<tr><td><i style='opacity: 0.6'>0</i> </td><td>6   </td><td>90         </td><td>&#x27;Miscellaneous Diagnostic And Therapeutic Proced...</td></tr>\n",
       "<tr><td><i style='opacity: 0.6'>1</i> </td><td>6   </td><td>69         </td><td>Operations On The Female Genital Organs            </td></tr>\n",
       "<tr><td><i style='opacity: 0.6'>2</i> </td><td>6   </td><td>88         </td><td>&#x27;Miscellaneous Diagnostic And Therapeutic Proced...</td></tr>\n",
       "<tr><td><i style='opacity: 0.6'>3</i> </td><td>27  </td><td>90         </td><td>&#x27;Miscellaneous Diagnostic And Therapeutic Proced...</td></tr>\n",
       "<tr><td><i style='opacity: 0.6'>4</i> </td><td>27  </td><td>88         </td><td>&#x27;Miscellaneous Diagnostic And Therapeutic Proced...</td></tr>\n",
       "<tr><td>...                           </td><td>... </td><td>...        </td><td>...                                                </td></tr>\n",
       "<tr><td><i style='opacity: 0.6'>15</i></td><td>95  </td><td>86         </td><td>Operations On The Integumentary System             </td></tr>\n",
       "<tr><td><i style='opacity: 0.6'>16</i></td><td>95  </td><td>90         </td><td>&#x27;Miscellaneous Diagnostic And Therapeutic Proced...</td></tr>\n",
       "<tr><td><i style='opacity: 0.6'>17</i></td><td>96  </td><td>90         </td><td>&#x27;Miscellaneous Diagnostic And Therapeutic Proced...</td></tr>\n",
       "<tr><td><i style='opacity: 0.6'>18</i></td><td>103 </td><td>93         </td><td>&#x27;Miscellaneous Diagnostic And Therapeutic Proced...</td></tr>\n",
       "<tr><td><i style='opacity: 0.6'>19</i></td><td>103 </td><td>90         </td><td>&#x27;Miscellaneous Diagnostic And Therapeutic Proced...</td></tr>\n",
       "</tbody>\n",
       "</table>"
      ],
      "text/plain": [
       "#    id    proc_code    proc_code_clean\n",
       "0    6     90           'Miscellaneous Diagnostic And Therapeutic Proced...\n",
       "1    6     69           Operations On The Female Genital Organs\n",
       "2    6     88           'Miscellaneous Diagnostic And Therapeutic Proced...\n",
       "3    27    90           'Miscellaneous Diagnostic And Therapeutic Proced...\n",
       "4    27    88           'Miscellaneous Diagnostic And Therapeutic Proced...\n",
       "...  ...   ...          ...\n",
       "15   95    86           Operations On The Integumentary System\n",
       "16   95    90           'Miscellaneous Diagnostic And Therapeutic Proced...\n",
       "17   96    90           'Miscellaneous Diagnostic And Therapeutic Proced...\n",
       "18   103   93           'Miscellaneous Diagnostic And Therapeutic Proced...\n",
       "19   103   90           'Miscellaneous Diagnostic And Therapeutic Proced..."
      ]
     },
     "execution_count": 132,
     "metadata": {},
     "output_type": "execute_result"
    }
   ],
   "source": [
    "def categorize_prod(proc_code_clean):\n",
    "    proc_code_clean = int(proc_code_clean) \n",
    "    if 0 <= proc_code_clean <= 0:\n",
    "        return \"Procedures And Interventions, Not Elsewhere Classified\"\n",
    "    elif 1 <= proc_code_clean <= 5:\n",
    "        return \"Operations On The Nervous System\"\n",
    "    elif 6 <= proc_code_clean <= 7:\n",
    "        return \"Operations On The Endocrine System\"\n",
    "    elif 8 <= proc_code_clean <= 16:\n",
    "        return \"Operations On The Eye\"\n",
    "    elif 17 <= proc_code_clean <= 17:\n",
    "        return \"Other Miscellaneous Diagnostic And Therapeutic Procedures\"\n",
    "    elif 18 <= proc_code_clean <= 20:\n",
    "        return \"Operations On The Ear\"\n",
    "    elif 21 <= proc_code_clean <= 29:\n",
    "        return \"Operations On The Nose, Mouth, And Pharynx\"\n",
    "    elif 30 <= proc_code_clean <= 34:\n",
    "        return \"Operations On The Respiratory System\"\n",
    "    elif 35 <= proc_code_clean <= 39:\n",
    "        return \"Operations On The Cardiovascular System\"\n",
    "    elif 40 <= proc_code_clean <= 41:\n",
    "        return \"Operations On The Hemic And Lymphatic System\"\n",
    "    elif 42 <= proc_code_clean <= 54:\n",
    "        return \"Operations On The Digestive System\"\n",
    "    elif 55 <= proc_code_clean <= 59:\n",
    "        return \"Operations On The Urinary System\"\n",
    "    elif 60 <= proc_code_clean <= 64:\n",
    "        return \"Operations On The Male Genital Organs\"\n",
    "    elif 65 <= proc_code_clean <= 71:\n",
    "        return \"Operations On The Female Genital Organs\"\n",
    "    elif 72 <= proc_code_clean <= 75:\n",
    "        return \"Obstetrical Procedures\"\n",
    "    elif 76 <= proc_code_clean <= 84:\n",
    "        return \"Operations On The Musculoskeletal System\"\n",
    "    elif 85 <= proc_code_clean <= 86:\n",
    "        return \"Operations On The Integumentary System\"\n",
    "    elif 87 <= proc_code_clean <= 99:\n",
    "        return \"Miscellaneous Diagnostic And Therapeutic Procedures\"\n",
    "    else:\n",
    "        return \"Unknown\"\n",
    "    return proc_code_clean\n",
    "\n",
    "df_proc['proc_code_clean'] = df_proc['proc_code_clean'].apply(categorize_prod)\n",
    "\n",
    "df_proc.head(20)\n"
   ]
  },
  {
   "cell_type": "code",
   "execution_count": 133,
   "metadata": {},
   "outputs": [
    {
     "data": {
      "text/html": [
       "<table>\n",
       "<thead>\n",
       "<tr><th>#                                     </th><th>id      </th><th>proc_code  </th><th>proc_code_clean                                    </th></tr>\n",
       "</thead>\n",
       "<tbody>\n",
       "<tr><td><i style='opacity: 0.6'>0</i>         </td><td>6       </td><td>90         </td><td>&#x27;Miscellaneous Diagnostic And Therapeutic Proced...</td></tr>\n",
       "<tr><td><i style='opacity: 0.6'>1</i>         </td><td>6       </td><td>69         </td><td>Operations On The Female Genital Organs            </td></tr>\n",
       "<tr><td><i style='opacity: 0.6'>2</i>         </td><td>6       </td><td>88         </td><td>&#x27;Miscellaneous Diagnostic And Therapeutic Proced...</td></tr>\n",
       "<tr><td><i style='opacity: 0.6'>3</i>         </td><td>27      </td><td>90         </td><td>&#x27;Miscellaneous Diagnostic And Therapeutic Proced...</td></tr>\n",
       "<tr><td><i style='opacity: 0.6'>4</i>         </td><td>27      </td><td>88         </td><td>&#x27;Miscellaneous Diagnostic And Therapeutic Proced...</td></tr>\n",
       "<tr><td>...                                   </td><td>...     </td><td>...        </td><td>...                                                </td></tr>\n",
       "<tr><td><i style='opacity: 0.6'>12,120,158</i></td><td>11426915</td><td>93         </td><td>&#x27;Miscellaneous Diagnostic And Therapeutic Proced...</td></tr>\n",
       "<tr><td><i style='opacity: 0.6'>12,120,159</i></td><td>11426927</td><td>89         </td><td>&#x27;Miscellaneous Diagnostic And Therapeutic Proced...</td></tr>\n",
       "<tr><td><i style='opacity: 0.6'>12,120,160</i></td><td>11426927</td><td>96         </td><td>&#x27;Miscellaneous Diagnostic And Therapeutic Proced...</td></tr>\n",
       "<tr><td><i style='opacity: 0.6'>12,120,161</i></td><td>11426927</td><td>87         </td><td>&#x27;Miscellaneous Diagnostic And Therapeutic Proced...</td></tr>\n",
       "<tr><td><i style='opacity: 0.6'>12,120,162</i></td><td>11426927</td><td>93         </td><td>&#x27;Miscellaneous Diagnostic And Therapeutic Proced...</td></tr>\n",
       "</tbody>\n",
       "</table>"
      ],
      "text/plain": [
       "#           id        proc_code    proc_code_clean\n",
       "0           6         90           'Miscellaneous Diagnostic And Therapeutic Proced...\n",
       "1           6         69           Operations On The Female Genital Organs\n",
       "2           6         88           'Miscellaneous Diagnostic And Therapeutic Proced...\n",
       "3           27        90           'Miscellaneous Diagnostic And Therapeutic Proced...\n",
       "4           27        88           'Miscellaneous Diagnostic And Therapeutic Proced...\n",
       "...         ...       ...          ...\n",
       "12,120,158  11426915  93           'Miscellaneous Diagnostic And Therapeutic Proced...\n",
       "12,120,159  11426927  89           'Miscellaneous Diagnostic And Therapeutic Proced...\n",
       "12,120,160  11426927  96           'Miscellaneous Diagnostic And Therapeutic Proced...\n",
       "12,120,161  11426927  87           'Miscellaneous Diagnostic And Therapeutic Proced...\n",
       "12,120,162  11426927  93           'Miscellaneous Diagnostic And Therapeutic Proced..."
      ]
     },
     "execution_count": 133,
     "metadata": {},
     "output_type": "execute_result"
    }
   ],
   "source": [
    "df_proc"
   ]
  },
  {
   "cell_type": "code",
   "execution_count": 134,
   "metadata": {},
   "outputs": [],
   "source": [
    "df_proc = df_proc.drop('proc_code')"
   ]
  },
  {
   "cell_type": "code",
   "execution_count": 135,
   "metadata": {},
   "outputs": [],
   "source": [
    "df_proc.export_csv(\"df_proc.csv\")"
   ]
  },
  {
   "cell_type": "markdown",
   "metadata": {},
   "source": [
    "## Df_Proc"
   ]
  },
  {
   "cell_type": "code",
   "execution_count": 27,
   "metadata": {},
   "outputs": [
    {
     "name": "stdout",
     "output_type": "stream",
     "text": [
      "CPU times: total: 0 ns\n",
      "Wall time: 8.95 ms\n"
     ]
    },
    {
     "data": {
      "text/html": [
       "<table>\n",
       "<thead>\n",
       "<tr><th>#                                     </th><th>id      </th><th>proc_code_clean                                    </th></tr>\n",
       "</thead>\n",
       "<tbody>\n",
       "<tr><td><i style='opacity: 0.6'>0</i>         </td><td>6       </td><td>&#x27;Miscellaneous Diagnostic And Therapeutic Proced...</td></tr>\n",
       "<tr><td><i style='opacity: 0.6'>1</i>         </td><td>6       </td><td>Operations On The Female Genital Organs            </td></tr>\n",
       "<tr><td><i style='opacity: 0.6'>2</i>         </td><td>6       </td><td>&#x27;Miscellaneous Diagnostic And Therapeutic Proced...</td></tr>\n",
       "<tr><td><i style='opacity: 0.6'>3</i>         </td><td>27      </td><td>&#x27;Miscellaneous Diagnostic And Therapeutic Proced...</td></tr>\n",
       "<tr><td><i style='opacity: 0.6'>4</i>         </td><td>27      </td><td>&#x27;Miscellaneous Diagnostic And Therapeutic Proced...</td></tr>\n",
       "<tr><td>...                                   </td><td>...     </td><td>...                                                </td></tr>\n",
       "<tr><td><i style='opacity: 0.6'>12,120,158</i></td><td>11426915</td><td>&#x27;Miscellaneous Diagnostic And Therapeutic Proced...</td></tr>\n",
       "<tr><td><i style='opacity: 0.6'>12,120,159</i></td><td>11426927</td><td>&#x27;Miscellaneous Diagnostic And Therapeutic Proced...</td></tr>\n",
       "<tr><td><i style='opacity: 0.6'>12,120,160</i></td><td>11426927</td><td>&#x27;Miscellaneous Diagnostic And Therapeutic Proced...</td></tr>\n",
       "<tr><td><i style='opacity: 0.6'>12,120,161</i></td><td>11426927</td><td>&#x27;Miscellaneous Diagnostic And Therapeutic Proced...</td></tr>\n",
       "<tr><td><i style='opacity: 0.6'>12,120,162</i></td><td>11426927</td><td>&#x27;Miscellaneous Diagnostic And Therapeutic Proced...</td></tr>\n",
       "</tbody>\n",
       "</table>"
      ],
      "text/plain": [
       "#           id        proc_code_clean\n",
       "0           6         'Miscellaneous Diagnostic And Therapeutic Proced...\n",
       "1           6         Operations On The Female Genital Organs\n",
       "2           6         'Miscellaneous Diagnostic And Therapeutic Proced...\n",
       "3           27        'Miscellaneous Diagnostic And Therapeutic Proced...\n",
       "4           27        'Miscellaneous Diagnostic And Therapeutic Proced...\n",
       "...         ...       ...\n",
       "12,120,158  11426915  'Miscellaneous Diagnostic And Therapeutic Proced...\n",
       "12,120,159  11426927  'Miscellaneous Diagnostic And Therapeutic Proced...\n",
       "12,120,160  11426927  'Miscellaneous Diagnostic And Therapeutic Proced...\n",
       "12,120,161  11426927  'Miscellaneous Diagnostic And Therapeutic Proced...\n",
       "12,120,162  11426927  'Miscellaneous Diagnostic And Therapeutic Proced..."
      ]
     },
     "execution_count": 27,
     "metadata": {},
     "output_type": "execute_result"
    }
   ],
   "source": [
    "%%time\n",
    "\n",
    "df_proc_detail = vaex.from_csv('df_proc.csv', convert=True, chunk_size=100_000)\n",
    "df_proc_detail"
   ]
  },
  {
   "cell_type": "code",
   "execution_count": 28,
   "metadata": {},
   "outputs": [
    {
     "data": {
      "text/html": [
       "<style>.vaex-description pre {\n",
       "          max-width : 450px;\n",
       "          white-space : nowrap;\n",
       "          overflow : hidden;\n",
       "          text-overflow: ellipsis;\n",
       "        }\n",
       "\n",
       "        .vex-description pre:hover {\n",
       "          max-width : initial;\n",
       "          white-space: pre;\n",
       "        }</style>"
      ],
      "text/plain": [
       "<IPython.core.display.HTML object>"
      ]
     },
     "metadata": {},
     "output_type": "display_data"
    },
    {
     "data": {
      "text/html": [
       "<div><h2>df_proc.csv</h2> <b>rows</b>: 12,120,163</div><h2>Columns:</h2><table class='table-striped'><thead><tr><th>column</th><th>type</th><th>unit</th><th>description</th><th>expression</th></tr></thead><tr><td>id</td><td>int64</td><td></td><td ><pre></pre></td><td></td></tr><tr><td>proc_code_clean</td><td>str</td><td></td><td ><pre></pre></td><td></td></tr></table><h2>Data:</h2><table>\n",
       "<thead>\n",
       "<tr><th>#                                     </th><th>id      </th><th>proc_code_clean                                    </th></tr>\n",
       "</thead>\n",
       "<tbody>\n",
       "<tr><td><i style='opacity: 0.6'>0</i>         </td><td>6       </td><td>&#x27;Miscellaneous Diagnostic And Therapeutic Proced...</td></tr>\n",
       "<tr><td><i style='opacity: 0.6'>1</i>         </td><td>6       </td><td>Operations On The Female Genital Organs            </td></tr>\n",
       "<tr><td><i style='opacity: 0.6'>2</i>         </td><td>6       </td><td>&#x27;Miscellaneous Diagnostic And Therapeutic Proced...</td></tr>\n",
       "<tr><td><i style='opacity: 0.6'>3</i>         </td><td>27      </td><td>&#x27;Miscellaneous Diagnostic And Therapeutic Proced...</td></tr>\n",
       "<tr><td><i style='opacity: 0.6'>4</i>         </td><td>27      </td><td>&#x27;Miscellaneous Diagnostic And Therapeutic Proced...</td></tr>\n",
       "<tr><td>...                                   </td><td>...     </td><td>...                                                </td></tr>\n",
       "<tr><td><i style='opacity: 0.6'>12,120,158</i></td><td>11426915</td><td>&#x27;Miscellaneous Diagnostic And Therapeutic Proced...</td></tr>\n",
       "<tr><td><i style='opacity: 0.6'>12,120,159</i></td><td>11426927</td><td>&#x27;Miscellaneous Diagnostic And Therapeutic Proced...</td></tr>\n",
       "<tr><td><i style='opacity: 0.6'>12,120,160</i></td><td>11426927</td><td>&#x27;Miscellaneous Diagnostic And Therapeutic Proced...</td></tr>\n",
       "<tr><td><i style='opacity: 0.6'>12,120,161</i></td><td>11426927</td><td>&#x27;Miscellaneous Diagnostic And Therapeutic Proced...</td></tr>\n",
       "<tr><td><i style='opacity: 0.6'>12,120,162</i></td><td>11426927</td><td>&#x27;Miscellaneous Diagnostic And Therapeutic Proced...</td></tr>\n",
       "</tbody>\n",
       "</table>"
      ],
      "text/plain": [
       "<IPython.core.display.HTML object>"
      ]
     },
     "metadata": {},
     "output_type": "display_data"
    },
    {
     "name": "stdout",
     "output_type": "stream",
     "text": [
      "None\n",
      "CPU times: total: 0 ns\n",
      "Wall time: 11.8 ms\n"
     ]
    }
   ],
   "source": [
    "%%time\n",
    "print(df_proc_detail.info()) "
   ]
  },
  {
   "cell_type": "code",
   "execution_count": 29,
   "metadata": {},
   "outputs": [
    {
     "name": "stdout",
     "output_type": "stream",
     "text": [
      "CPU times: total: 2.64 s\n",
      "Wall time: 648 ms\n"
     ]
    },
    {
     "data": {
      "text/html": [
       "<div>\n",
       "<style scoped>\n",
       "    .dataframe tbody tr th:only-of-type {\n",
       "        vertical-align: middle;\n",
       "    }\n",
       "\n",
       "    .dataframe tbody tr th {\n",
       "        vertical-align: top;\n",
       "    }\n",
       "\n",
       "    .dataframe thead th {\n",
       "        text-align: right;\n",
       "    }\n",
       "</style>\n",
       "<table border=\"1\" class=\"dataframe\">\n",
       "  <thead>\n",
       "    <tr style=\"text-align: right;\">\n",
       "      <th></th>\n",
       "      <th>id</th>\n",
       "      <th>proc_code_clean</th>\n",
       "    </tr>\n",
       "  </thead>\n",
       "  <tbody>\n",
       "    <tr>\n",
       "      <th>data_type</th>\n",
       "      <td>int64</td>\n",
       "      <td>string</td>\n",
       "    </tr>\n",
       "    <tr>\n",
       "      <th>count</th>\n",
       "      <td>12120163</td>\n",
       "      <td>12120163</td>\n",
       "    </tr>\n",
       "    <tr>\n",
       "      <th>NA</th>\n",
       "      <td>0</td>\n",
       "      <td>0</td>\n",
       "    </tr>\n",
       "    <tr>\n",
       "      <th>mean</th>\n",
       "      <td>6295004.569171058</td>\n",
       "      <td>--</td>\n",
       "    </tr>\n",
       "    <tr>\n",
       "      <th>std</th>\n",
       "      <td>3405249.523927</td>\n",
       "      <td>--</td>\n",
       "    </tr>\n",
       "    <tr>\n",
       "      <th>min</th>\n",
       "      <td>1</td>\n",
       "      <td>--</td>\n",
       "    </tr>\n",
       "    <tr>\n",
       "      <th>max</th>\n",
       "      <td>11426953</td>\n",
       "      <td>--</td>\n",
       "    </tr>\n",
       "  </tbody>\n",
       "</table>\n",
       "</div>"
      ],
      "text/plain": [
       "                          id proc_code_clean\n",
       "data_type              int64          string\n",
       "count               12120163        12120163\n",
       "NA                         0               0\n",
       "mean       6295004.569171058              --\n",
       "std           3405249.523927              --\n",
       "min                        1              --\n",
       "max                 11426953              --"
      ]
     },
     "execution_count": 29,
     "metadata": {},
     "output_type": "execute_result"
    }
   ],
   "source": [
    "%%time\n",
    "\n",
    "df_proc_detail.describe()"
   ]
  },
  {
   "cell_type": "code",
   "execution_count": 30,
   "metadata": {},
   "outputs": [
    {
     "name": "stdout",
     "output_type": "stream",
     "text": [
      "CPU times: total: 3.86 s\n",
      "Wall time: 3.27 s\n"
     ]
    },
    {
     "data": {
      "text/plain": [
       "['Operations On The Endocrine System',\n",
       " 'Operations On The Urinary System',\n",
       " 'Operations On The Nervous System',\n",
       " 'Operations On The Ear',\n",
       " 'Other Miscellaneous Diagnostic And Therapeutic Procedures',\n",
       " 'Operations On The Integumentary System',\n",
       " 'Operations On The Digestive System',\n",
       " 'Operations On The Male Genital Organs',\n",
       " 'Operations On The Musculoskeletal System',\n",
       " 'Operations On The Cardiovascular System',\n",
       " 'Operations On The Nose, Mouth, And Pharynx',\n",
       " 'Operations On The Respiratory System',\n",
       " 'Obstetrical Procedures',\n",
       " 'Procedures And Interventions, Not Elsewhere Classified',\n",
       " 'Miscellaneous Diagnostic And Therapeutic Procedures',\n",
       " 'Operations On The Hemic And Lymphatic System',\n",
       " 'Operations On The Eye',\n",
       " 'Operations On The Female Genital Organs']"
      ]
     },
     "execution_count": 30,
     "metadata": {},
     "output_type": "execute_result"
    }
   ],
   "source": [
    "%%time\n",
    "\n",
    "df_proc_detail['proc_code_clean'].unique()\n"
   ]
  },
  {
   "cell_type": "code",
   "execution_count": 31,
   "metadata": {},
   "outputs": [
    {
     "name": "stdout",
     "output_type": "stream",
     "text": [
      "CPU times: total: 0 ns\n",
      "Wall time: 4.59 ms\n"
     ]
    }
   ],
   "source": [
    "%%time\n",
    "# Pastikan kolom yang digunakan memiliki tipe data yang didukung\n",
    "df_proc_detail['id'] = df_proc_detail['id'].astype('int32')\n",
    "df_proc_detail['proc_code_clean'] = df_proc_detail['proc_code_clean'].astype('string')"
   ]
  },
  {
   "cell_type": "code",
   "execution_count": 32,
   "metadata": {},
   "outputs": [
    {
     "name": "stdout",
     "output_type": "stream",
     "text": [
      "CPU times: total: 0 ns\n",
      "Wall time: 0 ns\n"
     ]
    }
   ],
   "source": [
    "%%time\n",
    "columns_to_check = ['id', 'proc_code_clean']"
   ]
  },
  {
   "cell_type": "code",
   "execution_count": 33,
   "metadata": {},
   "outputs": [
    {
     "name": "stdout",
     "output_type": "stream",
     "text": [
      "CPU times: total: 0 ns\n",
      "Wall time: 0 ns\n"
     ]
    }
   ],
   "source": [
    "%%time\n",
    "\n",
    "all_columns = df_proc_detail.get_column_names()"
   ]
  },
  {
   "cell_type": "code",
   "execution_count": 34,
   "metadata": {},
   "outputs": [
    {
     "name": "stdout",
     "output_type": "stream",
     "text": [
      "CPU times: total: 0 ns\n",
      "Wall time: 0 ns\n"
     ]
    }
   ],
   "source": [
    "%%time\n",
    "\n",
    "agg_dict = {col: vaex.agg.first(col) for col in all_columns}"
   ]
  },
  {
   "cell_type": "markdown",
   "metadata": {},
   "source": [
    "## Drop Duplicate Procedure"
   ]
  },
  {
   "cell_type": "code",
   "execution_count": 35,
   "metadata": {},
   "outputs": [],
   "source": [
    "import pandas as pd"
   ]
  },
  {
   "cell_type": "code",
   "execution_count": 37,
   "metadata": {},
   "outputs": [
    {
     "name": "stdout",
     "output_type": "stream",
     "text": [
      "CPU times: total: 7.62 s\n",
      "Wall time: 10.1 s\n"
     ]
    }
   ],
   "source": [
    "%%time\n",
    "\n",
    "# Konversi ke Pandas\n",
    "df_pandas = df_proc_detail.to_pandas_df()\n",
    "\n",
    "# Hapus duplikat\n",
    "df_pandas_unique = df_pandas.drop_duplicates(subset=columns_to_check)\n",
    "\n",
    "# Konversi kembali ke Vaex\n",
    "df_unique = vaex.from_pandas(df_pandas_unique)"
   ]
  },
  {
   "cell_type": "code",
   "execution_count": 61,
   "metadata": {},
   "outputs": [],
   "source": [
    "df_unique.export('df_procc.csv')"
   ]
  },
  {
   "cell_type": "code",
   "execution_count": 62,
   "metadata": {},
   "outputs": [
    {
     "name": "stdout",
     "output_type": "stream",
     "text": [
      "Tidak ada duplikat lagi.\n"
     ]
    }
   ],
   "source": [
    "grouped = df_unique.groupby(by=columns_to_check, agg='count')\n",
    "duplicates = grouped[grouped['count'] > 1]\n",
    "\n",
    "if len(duplicates) == 0:\n",
    "    print(\"Tidak ada duplikat lagi.\")\n",
    "else:\n",
    "    print(\"Masih ada duplikat.\")"
   ]
  },
  {
   "cell_type": "markdown",
   "metadata": {},
   "source": [
    "## Df_Procc"
   ]
  },
  {
   "cell_type": "code",
   "execution_count": null,
   "metadata": {},
   "outputs": [
    {
     "name": "stdout",
     "output_type": "stream",
     "text": [
      "CPU times: total: 31.2 ms\n",
      "Wall time: 98.7 ms\n"
     ]
    },
    {
     "data": {
      "text/html": [
       "<table>\n",
       "<thead>\n",
       "<tr><th>#                                    </th><th>id      </th><th>proc_code_clean                                    </th></tr>\n",
       "</thead>\n",
       "<tbody>\n",
       "<tr><td><i style='opacity: 0.6'>0</i>        </td><td>6       </td><td>&#x27;Miscellaneous Diagnostic And Therapeutic Proced...</td></tr>\n",
       "<tr><td><i style='opacity: 0.6'>1</i>        </td><td>6       </td><td>Operations On The Female Genital Organs            </td></tr>\n",
       "<tr><td><i style='opacity: 0.6'>2</i>        </td><td>27      </td><td>&#x27;Miscellaneous Diagnostic And Therapeutic Proced...</td></tr>\n",
       "<tr><td><i style='opacity: 0.6'>3</i>        </td><td>29      </td><td>&#x27;Miscellaneous Diagnostic And Therapeutic Proced...</td></tr>\n",
       "<tr><td><i style='opacity: 0.6'>4</i>        </td><td>30      </td><td>&#x27;Miscellaneous Diagnostic And Therapeutic Proced...</td></tr>\n",
       "<tr><td>...                                  </td><td>...     </td><td>...                                                </td></tr>\n",
       "<tr><td><i style='opacity: 0.6'>7,314,121</i></td><td>11426788</td><td>&#x27;Miscellaneous Diagnostic And Therapeutic Proced...</td></tr>\n",
       "<tr><td><i style='opacity: 0.6'>7,314,122</i></td><td>11426822</td><td>Operations On The Nose, Mouth, And Pharynx         </td></tr>\n",
       "<tr><td><i style='opacity: 0.6'>7,314,123</i></td><td>11426839</td><td>Operations On The Nervous System                   </td></tr>\n",
       "<tr><td><i style='opacity: 0.6'>7,314,124</i></td><td>11426915</td><td>&#x27;Miscellaneous Diagnostic And Therapeutic Proced...</td></tr>\n",
       "<tr><td><i style='opacity: 0.6'>7,314,125</i></td><td>11426927</td><td>&#x27;Miscellaneous Diagnostic And Therapeutic Proced...</td></tr>\n",
       "</tbody>\n",
       "</table>"
      ],
      "text/plain": [
       "#          id        proc_code_clean\n",
       "0          6         'Miscellaneous Diagnostic And Therapeutic Proced...\n",
       "1          6         Operations On The Female Genital Organs\n",
       "2          27        'Miscellaneous Diagnostic And Therapeutic Proced...\n",
       "3          29        'Miscellaneous Diagnostic And Therapeutic Proced...\n",
       "4          30        'Miscellaneous Diagnostic And Therapeutic Proced...\n",
       "...        ...       ...\n",
       "7,314,121  11426788  'Miscellaneous Diagnostic And Therapeutic Proced...\n",
       "7,314,122  11426822  Operations On The Nose, Mouth, And Pharynx\n",
       "7,314,123  11426839  Operations On The Nervous System\n",
       "7,314,124  11426915  'Miscellaneous Diagnostic And Therapeutic Proced...\n",
       "7,314,125  11426927  'Miscellaneous Diagnostic And Therapeutic Proced..."
      ]
     },
     "execution_count": 10,
     "metadata": {},
     "output_type": "execute_result"
    }
   ],
   "source": [
    "%%time\n",
    "\n",
    "df_proc_detaill = vaex.from_csv('df_procc.csv', convert=True, chunk_size=100_000)\n",
    "df_proc_detaill"
   ]
  },
  {
   "cell_type": "code",
   "execution_count": 12,
   "metadata": {},
   "outputs": [
    {
     "name": "stdout",
     "output_type": "stream",
     "text": [
      "CPU times: total: 1.73 s\n",
      "Wall time: 307 ms\n"
     ]
    },
    {
     "data": {
      "text/html": [
       "<div>\n",
       "<style scoped>\n",
       "    .dataframe tbody tr th:only-of-type {\n",
       "        vertical-align: middle;\n",
       "    }\n",
       "\n",
       "    .dataframe tbody tr th {\n",
       "        vertical-align: top;\n",
       "    }\n",
       "\n",
       "    .dataframe thead th {\n",
       "        text-align: right;\n",
       "    }\n",
       "</style>\n",
       "<table border=\"1\" class=\"dataframe\">\n",
       "  <thead>\n",
       "    <tr style=\"text-align: right;\">\n",
       "      <th></th>\n",
       "      <th>id</th>\n",
       "      <th>proc_code_clean</th>\n",
       "    </tr>\n",
       "  </thead>\n",
       "  <tbody>\n",
       "    <tr>\n",
       "      <th>data_type</th>\n",
       "      <td>int64</td>\n",
       "      <td>string</td>\n",
       "    </tr>\n",
       "    <tr>\n",
       "      <th>count</th>\n",
       "      <td>7314126</td>\n",
       "      <td>7314126</td>\n",
       "    </tr>\n",
       "    <tr>\n",
       "      <th>NA</th>\n",
       "      <td>0</td>\n",
       "      <td>0</td>\n",
       "    </tr>\n",
       "    <tr>\n",
       "      <th>mean</th>\n",
       "      <td>6009937.476780685</td>\n",
       "      <td>--</td>\n",
       "    </tr>\n",
       "    <tr>\n",
       "      <th>std</th>\n",
       "      <td>3349211.104976</td>\n",
       "      <td>--</td>\n",
       "    </tr>\n",
       "    <tr>\n",
       "      <th>min</th>\n",
       "      <td>1</td>\n",
       "      <td>--</td>\n",
       "    </tr>\n",
       "    <tr>\n",
       "      <th>max</th>\n",
       "      <td>11426953</td>\n",
       "      <td>--</td>\n",
       "    </tr>\n",
       "  </tbody>\n",
       "</table>\n",
       "</div>"
      ],
      "text/plain": [
       "                          id proc_code_clean\n",
       "data_type              int64          string\n",
       "count                7314126         7314126\n",
       "NA                         0               0\n",
       "mean       6009937.476780685              --\n",
       "std           3349211.104976              --\n",
       "min                        1              --\n",
       "max                 11426953              --"
      ]
     },
     "execution_count": 12,
     "metadata": {},
     "output_type": "execute_result"
    }
   ],
   "source": [
    "%%time\n",
    "df_proc_detaill.describe()"
   ]
  },
  {
   "cell_type": "markdown",
   "metadata": {},
   "source": [
    "# Gabungan Diagnosa dan Procedure"
   ]
  },
  {
   "cell_type": "code",
   "execution_count": 76,
   "metadata": {},
   "outputs": [
    {
     "name": "stdout",
     "output_type": "stream",
     "text": [
      "CPU times: total: 0 ns\n",
      "Wall time: 25.7 ms\n"
     ]
    },
    {
     "data": {
      "text/html": [
       "<table>\n",
       "<thead>\n",
       "<tr><th>#                                     </th><th>id      </th><th>diag                                         </th><th>levelid  </th></tr>\n",
       "</thead>\n",
       "<tbody>\n",
       "<tr><td><i style='opacity: 0.6'>0</i>         </td><td>6       </td><td>Pregnancy, childbirth and the puerperium     </td><td>1        </td></tr>\n",
       "<tr><td><i style='opacity: 0.6'>1</i>         </td><td>57      </td><td>Diseases of the respiratory system           </td><td>1        </td></tr>\n",
       "<tr><td><i style='opacity: 0.6'>2</i>         </td><td>91      </td><td>Symptoms, signs, and abnormal findings       </td><td>1        </td></tr>\n",
       "<tr><td><i style='opacity: 0.6'>3</i>         </td><td>109     </td><td>Symptoms, signs, and abnormal findings       </td><td>1        </td></tr>\n",
       "<tr><td><i style='opacity: 0.6'>4</i>         </td><td>111     </td><td>Diseases of the genitourinary system         </td><td>1        </td></tr>\n",
       "<tr><td>...                                   </td><td>...     </td><td>...                                          </td><td>...      </td></tr>\n",
       "<tr><td><i style='opacity: 0.6'>16,633,677</i></td><td>11426947</td><td>Diseases of the digestive system             </td><td>2        </td></tr>\n",
       "<tr><td><i style='opacity: 0.6'>16,633,678</i></td><td>11426947</td><td>Endocrine, nutritional and metabolic diseases</td><td>2        </td></tr>\n",
       "<tr><td><i style='opacity: 0.6'>16,633,679</i></td><td>11426947</td><td>Diseases of the circulatory system           </td><td>1        </td></tr>\n",
       "<tr><td><i style='opacity: 0.6'>16,633,680</i></td><td>11426952</td><td>Diseases of the digestive system             </td><td>1        </td></tr>\n",
       "<tr><td><i style='opacity: 0.6'>16,633,681</i></td><td>11426952</td><td>Diseases of the musculoskeletal system       </td><td>2        </td></tr>\n",
       "</tbody>\n",
       "</table>"
      ],
      "text/plain": [
       "#           id        diag                                           levelid\n",
       "0           6         Pregnancy, childbirth and the puerperium       1\n",
       "1           57        Diseases of the respiratory system             1\n",
       "2           91        Symptoms, signs, and abnormal findings         1\n",
       "3           109       Symptoms, signs, and abnormal findings         1\n",
       "4           111       Diseases of the genitourinary system           1\n",
       "...         ...       ...                                            ...\n",
       "16,633,677  11426947  Diseases of the digestive system               2\n",
       "16,633,678  11426947  Endocrine, nutritional and metabolic diseases  2\n",
       "16,633,679  11426947  Diseases of the circulatory system             1\n",
       "16,633,680  11426952  Diseases of the digestive system               1\n",
       "16,633,681  11426952  Diseases of the musculoskeletal system         2"
      ]
     },
     "execution_count": 76,
     "metadata": {},
     "output_type": "execute_result"
    }
   ],
   "source": [
    "%%time\n",
    "\n",
    "df_diagg = vaex.from_csv('df_diag.csv', convert=True, chunk_size=100_000)\n",
    "df_diagg"
   ]
  },
  {
   "cell_type": "code",
   "execution_count": 77,
   "metadata": {},
   "outputs": [
    {
     "name": "stdout",
     "output_type": "stream",
     "text": [
      "CPU times: total: 5.11 s\n",
      "Wall time: 5.5 s\n"
     ]
    },
    {
     "data": {
      "text/plain": [
       "11403151"
      ]
     },
     "execution_count": 77,
     "metadata": {},
     "output_type": "execute_result"
    }
   ],
   "source": [
    "%%time\n",
    "\n",
    "df_diagg['id'].nunique()\n"
   ]
  },
  {
   "cell_type": "code",
   "execution_count": 78,
   "metadata": {},
   "outputs": [
    {
     "name": "stdout",
     "output_type": "stream",
     "text": [
      "CPU times: total: 0 ns\n",
      "Wall time: 19.7 ms\n"
     ]
    },
    {
     "data": {
      "text/html": [
       "<table>\n",
       "<thead>\n",
       "<tr><th>#                                    </th><th>id      </th><th>proc_code_clean                                    </th></tr>\n",
       "</thead>\n",
       "<tbody>\n",
       "<tr><td><i style='opacity: 0.6'>0</i>        </td><td>6       </td><td>&#x27;Miscellaneous Diagnostic And Therapeutic Proced...</td></tr>\n",
       "<tr><td><i style='opacity: 0.6'>1</i>        </td><td>6       </td><td>Operations On The Female Genital Organs            </td></tr>\n",
       "<tr><td><i style='opacity: 0.6'>2</i>        </td><td>27      </td><td>&#x27;Miscellaneous Diagnostic And Therapeutic Proced...</td></tr>\n",
       "<tr><td><i style='opacity: 0.6'>3</i>        </td><td>29      </td><td>&#x27;Miscellaneous Diagnostic And Therapeutic Proced...</td></tr>\n",
       "<tr><td><i style='opacity: 0.6'>4</i>        </td><td>30      </td><td>&#x27;Miscellaneous Diagnostic And Therapeutic Proced...</td></tr>\n",
       "<tr><td>...                                  </td><td>...     </td><td>...                                                </td></tr>\n",
       "<tr><td><i style='opacity: 0.6'>7,314,121</i></td><td>11426788</td><td>&#x27;Miscellaneous Diagnostic And Therapeutic Proced...</td></tr>\n",
       "<tr><td><i style='opacity: 0.6'>7,314,122</i></td><td>11426822</td><td>Operations On The Nose, Mouth, And Pharynx         </td></tr>\n",
       "<tr><td><i style='opacity: 0.6'>7,314,123</i></td><td>11426839</td><td>Operations On The Nervous System                   </td></tr>\n",
       "<tr><td><i style='opacity: 0.6'>7,314,124</i></td><td>11426915</td><td>&#x27;Miscellaneous Diagnostic And Therapeutic Proced...</td></tr>\n",
       "<tr><td><i style='opacity: 0.6'>7,314,125</i></td><td>11426927</td><td>&#x27;Miscellaneous Diagnostic And Therapeutic Proced...</td></tr>\n",
       "</tbody>\n",
       "</table>"
      ],
      "text/plain": [
       "#          id        proc_code_clean\n",
       "0          6         'Miscellaneous Diagnostic And Therapeutic Proced...\n",
       "1          6         Operations On The Female Genital Organs\n",
       "2          27        'Miscellaneous Diagnostic And Therapeutic Proced...\n",
       "3          29        'Miscellaneous Diagnostic And Therapeutic Proced...\n",
       "4          30        'Miscellaneous Diagnostic And Therapeutic Proced...\n",
       "...        ...       ...\n",
       "7,314,121  11426788  'Miscellaneous Diagnostic And Therapeutic Proced...\n",
       "7,314,122  11426822  Operations On The Nose, Mouth, And Pharynx\n",
       "7,314,123  11426839  Operations On The Nervous System\n",
       "7,314,124  11426915  'Miscellaneous Diagnostic And Therapeutic Proced...\n",
       "7,314,125  11426927  'Miscellaneous Diagnostic And Therapeutic Proced..."
      ]
     },
     "execution_count": 78,
     "metadata": {},
     "output_type": "execute_result"
    }
   ],
   "source": [
    "%%time\n",
    "\n",
    "df_procc = vaex.from_csv('df_procc.csv', convert=True, chunk_size=100_000)\n",
    "df_procc"
   ]
  },
  {
   "cell_type": "code",
   "execution_count": 56,
   "metadata": {},
   "outputs": [
    {
     "name": "stdout",
     "output_type": "stream",
     "text": [
      "CPU times: total: 2.09 s\n",
      "Wall time: 2.93 s\n"
     ]
    },
    {
     "data": {
      "text/plain": [
       "6372051"
      ]
     },
     "execution_count": 56,
     "metadata": {},
     "output_type": "execute_result"
    }
   ],
   "source": [
    "%%time\n",
    "\n",
    "df_procc['id'].nunique()"
   ]
  },
  {
   "cell_type": "markdown",
   "metadata": {},
   "source": [
    "## Join"
   ]
  },
  {
   "cell_type": "markdown",
   "metadata": {},
   "source": [
    "### Left Join"
   ]
  },
  {
   "cell_type": "code",
   "execution_count": 72,
   "metadata": {},
   "outputs": [
    {
     "name": "stdout",
     "output_type": "stream",
     "text": [
      "CPU times: total: 11.3 s\n",
      "Wall time: 3.5 s\n"
     ]
    }
   ],
   "source": [
    "%%time\n",
    "\n",
    "df_joined_left = df_diagg.join(df_procc, on='id', how='left', allow_duplication=True)\n"
   ]
  },
  {
   "cell_type": "code",
   "execution_count": 73,
   "metadata": {},
   "outputs": [
    {
     "data": {
      "text/html": [
       "<div>\n",
       "<style scoped>\n",
       "    .dataframe tbody tr th:only-of-type {\n",
       "        vertical-align: middle;\n",
       "    }\n",
       "\n",
       "    .dataframe tbody tr th {\n",
       "        vertical-align: top;\n",
       "    }\n",
       "\n",
       "    .dataframe thead th {\n",
       "        text-align: right;\n",
       "    }\n",
       "</style>\n",
       "<table border=\"1\" class=\"dataframe\">\n",
       "  <thead>\n",
       "    <tr style=\"text-align: right;\">\n",
       "      <th></th>\n",
       "      <th>id</th>\n",
       "      <th>diag</th>\n",
       "      <th>levelid</th>\n",
       "      <th>proc_code_clean</th>\n",
       "    </tr>\n",
       "  </thead>\n",
       "  <tbody>\n",
       "    <tr>\n",
       "      <th>data_type</th>\n",
       "      <td>int64</td>\n",
       "      <td>string</td>\n",
       "      <td>int64</td>\n",
       "      <td>string</td>\n",
       "    </tr>\n",
       "    <tr>\n",
       "      <th>count</th>\n",
       "      <td>18562625</td>\n",
       "      <td>18562625</td>\n",
       "      <td>18562625</td>\n",
       "      <td>11797786</td>\n",
       "    </tr>\n",
       "    <tr>\n",
       "      <th>NA</th>\n",
       "      <td>0</td>\n",
       "      <td>0</td>\n",
       "      <td>0</td>\n",
       "      <td>6764839</td>\n",
       "    </tr>\n",
       "    <tr>\n",
       "      <th>mean</th>\n",
       "      <td>5895714.318841489</td>\n",
       "      <td>--</td>\n",
       "      <td>1.3349366266893825</td>\n",
       "      <td>--</td>\n",
       "    </tr>\n",
       "    <tr>\n",
       "      <th>std</th>\n",
       "      <td>3298396.976522</td>\n",
       "      <td>--</td>\n",
       "      <td>0.471968</td>\n",
       "      <td>--</td>\n",
       "    </tr>\n",
       "    <tr>\n",
       "      <th>min</th>\n",
       "      <td>1</td>\n",
       "      <td>--</td>\n",
       "      <td>1</td>\n",
       "      <td>--</td>\n",
       "    </tr>\n",
       "    <tr>\n",
       "      <th>max</th>\n",
       "      <td>11426957</td>\n",
       "      <td>--</td>\n",
       "      <td>2</td>\n",
       "      <td>--</td>\n",
       "    </tr>\n",
       "  </tbody>\n",
       "</table>\n",
       "</div>"
      ],
      "text/plain": [
       "                          id      diag             levelid proc_code_clean\n",
       "data_type              int64    string               int64          string\n",
       "count               18562625  18562625            18562625        11797786\n",
       "NA                         0         0                   0         6764839\n",
       "mean       5895714.318841489        --  1.3349366266893825              --\n",
       "std           3298396.976522        --            0.471968              --\n",
       "min                        1        --                   1              --\n",
       "max                 11426957        --                   2              --"
      ]
     },
     "execution_count": 73,
     "metadata": {},
     "output_type": "execute_result"
    }
   ],
   "source": [
    "df_joined_left.describe()"
   ]
  },
  {
   "cell_type": "code",
   "execution_count": 74,
   "metadata": {},
   "outputs": [
    {
     "name": "stdout",
     "output_type": "stream",
     "text": [
      "CPU times: total: 19.1 s\n",
      "Wall time: 8.77 s\n"
     ]
    }
   ],
   "source": [
    "%%time\n",
    "\n",
    "df_joined_right = df_diagg.join(df_procc, on='id', how='right', allow_duplication=True)\n"
   ]
  },
  {
   "cell_type": "code",
   "execution_count": 75,
   "metadata": {},
   "outputs": [
    {
     "name": "stdout",
     "output_type": "stream",
     "text": [
      "CPU times: total: 4.78 s\n",
      "Wall time: 2.93 s\n"
     ]
    },
    {
     "data": {
      "text/html": [
       "<div>\n",
       "<style scoped>\n",
       "    .dataframe tbody tr th:only-of-type {\n",
       "        vertical-align: middle;\n",
       "    }\n",
       "\n",
       "    .dataframe tbody tr th {\n",
       "        vertical-align: top;\n",
       "    }\n",
       "\n",
       "    .dataframe thead th {\n",
       "        text-align: right;\n",
       "    }\n",
       "</style>\n",
       "<table border=\"1\" class=\"dataframe\">\n",
       "  <thead>\n",
       "    <tr style=\"text-align: right;\">\n",
       "      <th></th>\n",
       "      <th>id</th>\n",
       "      <th>proc_code_clean</th>\n",
       "      <th>diag</th>\n",
       "      <th>levelid</th>\n",
       "    </tr>\n",
       "  </thead>\n",
       "  <tbody>\n",
       "    <tr>\n",
       "      <th>data_type</th>\n",
       "      <td>int64</td>\n",
       "      <td>string</td>\n",
       "      <td>string</td>\n",
       "      <td>int64</td>\n",
       "    </tr>\n",
       "    <tr>\n",
       "      <th>count</th>\n",
       "      <td>11797786</td>\n",
       "      <td>11797786</td>\n",
       "      <td>11797786</td>\n",
       "      <td>11797786</td>\n",
       "    </tr>\n",
       "    <tr>\n",
       "      <th>NA</th>\n",
       "      <td>0</td>\n",
       "      <td>0</td>\n",
       "      <td>0</td>\n",
       "      <td>0</td>\n",
       "    </tr>\n",
       "    <tr>\n",
       "      <th>mean</th>\n",
       "      <td>6121753.182372608</td>\n",
       "      <td>--</td>\n",
       "      <td>--</td>\n",
       "      <td>1.3800371527335722</td>\n",
       "    </tr>\n",
       "    <tr>\n",
       "      <th>std</th>\n",
       "      <td>3325841.539065</td>\n",
       "      <td>--</td>\n",
       "      <td>--</td>\n",
       "      <td>0.485396</td>\n",
       "    </tr>\n",
       "    <tr>\n",
       "      <th>min</th>\n",
       "      <td>1</td>\n",
       "      <td>--</td>\n",
       "      <td>--</td>\n",
       "      <td>1</td>\n",
       "    </tr>\n",
       "    <tr>\n",
       "      <th>max</th>\n",
       "      <td>11426953</td>\n",
       "      <td>--</td>\n",
       "      <td>--</td>\n",
       "      <td>2</td>\n",
       "    </tr>\n",
       "  </tbody>\n",
       "</table>\n",
       "</div>"
      ],
      "text/plain": [
       "                          id proc_code_clean      diag             levelid\n",
       "data_type              int64          string    string               int64\n",
       "count               11797786        11797786  11797786            11797786\n",
       "NA                         0               0         0                   0\n",
       "mean       6121753.182372608              --        --  1.3800371527335722\n",
       "std           3325841.539065              --        --            0.485396\n",
       "min                        1              --        --                   1\n",
       "max                 11426953              --        --                   2"
      ]
     },
     "execution_count": 75,
     "metadata": {},
     "output_type": "execute_result"
    }
   ],
   "source": [
    "%%time\n",
    "\n",
    "df_joined_right.describe()"
   ]
  },
  {
   "cell_type": "markdown",
   "metadata": {},
   "source": [
    "### Inner Join"
   ]
  },
  {
   "cell_type": "code",
   "execution_count": 79,
   "metadata": {},
   "outputs": [
    {
     "name": "stdout",
     "output_type": "stream",
     "text": [
      "CPU times: total: 16 s\n",
      "Wall time: 10.3 s\n"
     ]
    },
    {
     "data": {
      "text/html": [
       "<div>\n",
       "<style scoped>\n",
       "    .dataframe tbody tr th:only-of-type {\n",
       "        vertical-align: middle;\n",
       "    }\n",
       "\n",
       "    .dataframe tbody tr th {\n",
       "        vertical-align: top;\n",
       "    }\n",
       "\n",
       "    .dataframe thead th {\n",
       "        text-align: right;\n",
       "    }\n",
       "</style>\n",
       "<table border=\"1\" class=\"dataframe\">\n",
       "  <thead>\n",
       "    <tr style=\"text-align: right;\">\n",
       "      <th></th>\n",
       "      <th>id</th>\n",
       "      <th>diag</th>\n",
       "      <th>levelid</th>\n",
       "      <th>proc_code_clean</th>\n",
       "    </tr>\n",
       "  </thead>\n",
       "  <tbody>\n",
       "    <tr>\n",
       "      <th>data_type</th>\n",
       "      <td>int64</td>\n",
       "      <td>string</td>\n",
       "      <td>int64</td>\n",
       "      <td>string</td>\n",
       "    </tr>\n",
       "    <tr>\n",
       "      <th>count</th>\n",
       "      <td>11797786</td>\n",
       "      <td>11797786</td>\n",
       "      <td>11797786</td>\n",
       "      <td>11797786</td>\n",
       "    </tr>\n",
       "    <tr>\n",
       "      <th>NA</th>\n",
       "      <td>0</td>\n",
       "      <td>0</td>\n",
       "      <td>0</td>\n",
       "      <td>0</td>\n",
       "    </tr>\n",
       "    <tr>\n",
       "      <th>mean</th>\n",
       "      <td>6121753.182372608</td>\n",
       "      <td>--</td>\n",
       "      <td>1.3800371527335722</td>\n",
       "      <td>--</td>\n",
       "    </tr>\n",
       "    <tr>\n",
       "      <th>std</th>\n",
       "      <td>3325841.539066</td>\n",
       "      <td>--</td>\n",
       "      <td>0.485396</td>\n",
       "      <td>--</td>\n",
       "    </tr>\n",
       "    <tr>\n",
       "      <th>min</th>\n",
       "      <td>1</td>\n",
       "      <td>--</td>\n",
       "      <td>1</td>\n",
       "      <td>--</td>\n",
       "    </tr>\n",
       "    <tr>\n",
       "      <th>max</th>\n",
       "      <td>11426953</td>\n",
       "      <td>--</td>\n",
       "      <td>2</td>\n",
       "      <td>--</td>\n",
       "    </tr>\n",
       "  </tbody>\n",
       "</table>\n",
       "</div>"
      ],
      "text/plain": [
       "                          id      diag             levelid proc_code_clean\n",
       "data_type              int64    string               int64          string\n",
       "count               11797786  11797786            11797786        11797786\n",
       "NA                         0         0                   0               0\n",
       "mean       6121753.182372608        --  1.3800371527335722              --\n",
       "std           3325841.539066        --            0.485396              --\n",
       "min                        1        --                   1              --\n",
       "max                 11426953        --                   2              --"
      ]
     },
     "execution_count": 79,
     "metadata": {},
     "output_type": "execute_result"
    }
   ],
   "source": [
    "%%time\n",
    "\n",
    "df_joined_inner = df_diagg.join(df_procc, on='id', how='inner', allow_duplication=True)\n",
    "\n",
    "df_joined_inner.describe()\n"
   ]
  },
  {
   "cell_type": "code",
   "execution_count": 80,
   "metadata": {},
   "outputs": [
    {
     "name": "stdout",
     "output_type": "stream",
     "text": [
      "CPU times: total: 36.1 s\n",
      "Wall time: 2min 3s\n"
     ]
    }
   ],
   "source": [
    "%%time\n",
    "\n",
    "df_joined_left.export_csv(\"JoinDiagProd.csv\")  "
   ]
  },
  {
   "cell_type": "code",
   "execution_count": 37,
   "metadata": {},
   "outputs": [
    {
     "name": "stdout",
     "output_type": "stream",
     "text": [
      "CPU times: total: 15.6 ms\n",
      "Wall time: 107 ms\n"
     ]
    },
    {
     "data": {
      "text/html": [
       "<table>\n",
       "<thead>\n",
       "<tr><th>#                                     </th><th>id     </th><th>diag                                    </th><th>levelid  </th><th>proc_code_clean                                    </th></tr>\n",
       "</thead>\n",
       "<tbody>\n",
       "<tr><td><i style='opacity: 0.6'>0</i>         </td><td>6      </td><td>Pregnancy, childbirth and the puerperium</td><td>1        </td><td>&#x27;Miscellaneous Diagnostic And Therapeutic Proced...</td></tr>\n",
       "<tr><td><i style='opacity: 0.6'>1</i>         </td><td>57     </td><td>Diseases of the respiratory system      </td><td>1        </td><td>&#x27;Miscellaneous Diagnostic And Therapeutic Proced...</td></tr>\n",
       "<tr><td><i style='opacity: 0.6'>2</i>         </td><td>91     </td><td>Symptoms, signs, and abnormal findings  </td><td>1        </td><td>&#x27;Miscellaneous Diagnostic And Therapeutic Proced...</td></tr>\n",
       "<tr><td><i style='opacity: 0.6'>3</i>         </td><td>109    </td><td>Symptoms, signs, and abnormal findings  </td><td>1        </td><td>Operations On The Digestive System                 </td></tr>\n",
       "<tr><td><i style='opacity: 0.6'>4</i>         </td><td>111    </td><td>Diseases of the genitourinary system    </td><td>1        </td><td>&#x27;Miscellaneous Diagnostic And Therapeutic Proced...</td></tr>\n",
       "<tr><td>...                                   </td><td>...    </td><td>...                                     </td><td>...      </td><td>...                                                </td></tr>\n",
       "<tr><td><i style='opacity: 0.6'>18,562,620</i></td><td>2860876</td><td>Pregnancy, childbirth and the puerperium</td><td>2        </td><td>Obstetrical Procedures                             </td></tr>\n",
       "<tr><td><i style='opacity: 0.6'>18,562,621</i></td><td>2860876</td><td>Pregnancy, childbirth and the puerperium</td><td>1        </td><td>&#x27;Miscellaneous Diagnostic And Therapeutic Proced...</td></tr>\n",
       "<tr><td><i style='opacity: 0.6'>18,562,622</i></td><td>2860876</td><td>Pregnancy, childbirth and the puerperium</td><td>1        </td><td>Obstetrical Procedures                             </td></tr>\n",
       "<tr><td><i style='opacity: 0.6'>18,562,623</i></td><td>2860876</td><td>Factors influencing health status       </td><td>2        </td><td>&#x27;Miscellaneous Diagnostic And Therapeutic Proced...</td></tr>\n",
       "<tr><td><i style='opacity: 0.6'>18,562,624</i></td><td>2860876</td><td>Factors influencing health status       </td><td>2        </td><td>Obstetrical Procedures                             </td></tr>\n",
       "</tbody>\n",
       "</table>"
      ],
      "text/plain": [
       "#           id       diag                                      levelid    proc_code_clean\n",
       "0           6        Pregnancy, childbirth and the puerperium  1          'Miscellaneous Diagnostic And Therapeutic Proced...\n",
       "1           57       Diseases of the respiratory system        1          'Miscellaneous Diagnostic And Therapeutic Proced...\n",
       "2           91       Symptoms, signs, and abnormal findings    1          'Miscellaneous Diagnostic And Therapeutic Proced...\n",
       "3           109      Symptoms, signs, and abnormal findings    1          Operations On The Digestive System\n",
       "4           111      Diseases of the genitourinary system      1          'Miscellaneous Diagnostic And Therapeutic Proced...\n",
       "...         ...      ...                                       ...        ...\n",
       "18,562,620  2860876  Pregnancy, childbirth and the puerperium  2          Obstetrical Procedures\n",
       "18,562,621  2860876  Pregnancy, childbirth and the puerperium  1          'Miscellaneous Diagnostic And Therapeutic Proced...\n",
       "18,562,622  2860876  Pregnancy, childbirth and the puerperium  1          Obstetrical Procedures\n",
       "18,562,623  2860876  Factors influencing health status         2          'Miscellaneous Diagnostic And Therapeutic Proced...\n",
       "18,562,624  2860876  Factors influencing health status         2          Obstetrical Procedures"
      ]
     },
     "execution_count": 37,
     "metadata": {},
     "output_type": "execute_result"
    }
   ],
   "source": [
    "%%time\n",
    "\n",
    "df_diagprod = vaex.from_csv('JoinDiagProd.csv', convert=True, chunk_size=100_000)\n",
    "df_diagprod"
   ]
  },
  {
   "cell_type": "markdown",
   "metadata": {},
   "source": [
    "# Gabungan Ketiga Tabel"
   ]
  },
  {
   "cell_type": "code",
   "execution_count": 49,
   "metadata": {},
   "outputs": [
    {
     "name": "stdout",
     "output_type": "stream",
     "text": [
      "CPU times: total: 46.9 ms\n",
      "Wall time: 118 ms\n"
     ]
    },
    {
     "data": {
      "text/html": [
       "<table>\n",
       "<thead>\n",
       "<tr><th>#                                    </th><th>id      </th><th>dati2  </th><th>typefaskes  </th><th>usia  </th><th>jenkel  </th><th>pisat  </th><th>jenispel  </th><th>politujuan  </th><th>diagfktp                                     </th><th>biaya   </th><th>jenispulang  </th><th>kelasrawat  </th><th>label  </th><th>durasi_rawat  </th></tr>\n",
       "</thead>\n",
       "<tbody>\n",
       "<tr><td><i style='opacity: 0.6'>0</i>        </td><td>165666  </td><td>17     </td><td>KL          </td><td>48    </td><td>P       </td><td>1.0    </td><td>2         </td><td>THT         </td><td>Diseases of the skin and subcutaneous tissue </td><td>184300.0</td><td>1.0          </td><td>3           </td><td>0      </td><td>0             </td></tr>\n",
       "<tr><td><i style='opacity: 0.6'>1</i>        </td><td>166042  </td><td>17     </td><td>KL          </td><td>53    </td><td>P       </td><td>1.0    </td><td>2         </td><td>INT         </td><td>Endocrine, nutritional and metabolic diseases</td><td>187300.0</td><td>1.0          </td><td>3           </td><td>0      </td><td>0             </td></tr>\n",
       "<tr><td><i style='opacity: 0.6'>2</i>        </td><td>168937  </td><td>17     </td><td>KL          </td><td>54    </td><td>P       </td><td>1.0    </td><td>2         </td><td>MAT         </td><td>Diseases of the eye and adnexa               </td><td>187300.0</td><td>1.0          </td><td>3           </td><td>0      </td><td>0             </td></tr>\n",
       "<tr><td><i style='opacity: 0.6'>3</i>        </td><td>1005899 </td><td>17     </td><td>A           </td><td>53    </td><td>P       </td><td>1.0    </td><td>2         </td><td>SAR         </td><td>Diseases of the musculoskeletal system       </td><td>381600.0</td><td>1.0          </td><td>3           </td><td>0      </td><td>0             </td></tr>\n",
       "<tr><td><i style='opacity: 0.6'>4</i>        </td><td>51010   </td><td>8      </td><td>SD          </td><td>50    </td><td>P       </td><td>1.0    </td><td>2         </td><td>IGD         </td><td>Diseases of the blood and immune system      </td><td>155000.0</td><td>2.0          </td><td>3           </td><td>0      </td><td>0             </td></tr>\n",
       "<tr><td>...                                  </td><td>...     </td><td>...    </td><td>...         </td><td>...   </td><td>...     </td><td>...    </td><td>...       </td><td>...         </td><td>...                                          </td><td>...     </td><td>...          </td><td>...         </td><td>...    </td><td>...           </td></tr>\n",
       "<tr><td><i style='opacity: 0.6'>7,253,485</i></td><td>10985829</td><td>229    </td><td>B           </td><td>0     </td><td>L       </td><td>4.0    </td><td>2         </td><td>ANA         </td><td>Factors influencing health status            </td><td>246000.0</td><td>1.0          </td><td>3           </td><td>0      </td><td>0             </td></tr>\n",
       "<tr><td><i style='opacity: 0.6'>7,253,486</i></td><td>3012230 </td><td>151    </td><td>SC          </td><td>0     </td><td>P       </td><td>4.0    </td><td>2         </td><td>ANA         </td><td>Perinatal conditions                         </td><td>308800.0</td><td>1.0          </td><td>3           </td><td>0      </td><td>0             </td></tr>\n",
       "<tr><td><i style='opacity: 0.6'>7,253,487</i></td><td>5635918 </td><td>62     </td><td>C           </td><td>0     </td><td>L       </td><td>4.0    </td><td>2         </td><td>IGD         </td><td>Diseases of the respiratory system           </td><td>296700.0</td><td>4.0          </td><td>3           </td><td>0      </td><td>0             </td></tr>\n",
       "<tr><td><i style='opacity: 0.6'>7,253,488</i></td><td>2555450 </td><td>136    </td><td>SC          </td><td>0     </td><td>L       </td><td>4.0    </td><td>2         </td><td>ANA         </td><td>Factors influencing health status            </td><td>253300.0</td><td>1.0          </td><td>3           </td><td>0      </td><td>0             </td></tr>\n",
       "<tr><td><i style='opacity: 0.6'>7,253,489</i></td><td>4414048 </td><td>223    </td><td>C           </td><td>6     </td><td>L       </td><td>4.0    </td><td>2         </td><td>ORT         </td><td>Injury and external causes                   </td><td>181400.0</td><td>1.0          </td><td>3           </td><td>0      </td><td>0             </td></tr>\n",
       "</tbody>\n",
       "</table>"
      ],
      "text/plain": [
       "#          id        dati2    typefaskes    usia    jenkel    pisat    jenispel    politujuan    diagfktp                                       biaya     jenispulang    kelasrawat    label    durasi_rawat\n",
       "0          165666    17       KL            48      P         1.0      2           THT           Diseases of the skin and subcutaneous tissue   184300.0  1.0            3             0        0\n",
       "1          166042    17       KL            53      P         1.0      2           INT           Endocrine, nutritional and metabolic diseases  187300.0  1.0            3             0        0\n",
       "2          168937    17       KL            54      P         1.0      2           MAT           Diseases of the eye and adnexa                 187300.0  1.0            3             0        0\n",
       "3          1005899   17       A             53      P         1.0      2           SAR           Diseases of the musculoskeletal system         381600.0  1.0            3             0        0\n",
       "4          51010     8        SD            50      P         1.0      2           IGD           Diseases of the blood and immune system        155000.0  2.0            3             0        0\n",
       "...        ...       ...      ...           ...     ...       ...      ...         ...           ...                                            ...       ...            ...           ...      ...\n",
       "7,253,485  10985829  229      B             0       L         4.0      2           ANA           Factors influencing health status              246000.0  1.0            3             0        0\n",
       "7,253,486  3012230   151      SC            0       P         4.0      2           ANA           Perinatal conditions                           308800.0  1.0            3             0        0\n",
       "7,253,487  5635918   62       C             0       L         4.0      2           IGD           Diseases of the respiratory system             296700.0  4.0            3             0        0\n",
       "7,253,488  2555450   136      SC            0       L         4.0      2           ANA           Factors influencing health status              253300.0  1.0            3             0        0\n",
       "7,253,489  4414048   223      C             6       L         4.0      2           ORT           Injury and external causes                     181400.0  1.0            3             0        0"
      ]
     },
     "execution_count": 49,
     "metadata": {},
     "output_type": "execute_result"
    }
   ],
   "source": [
    "%%time\n",
    "\n",
    "df_sampling3 = vaex.from_csv('sampling3.csv', convert=True, chunk_size=100_000)\n",
    "df_sampling3"
   ]
  },
  {
   "cell_type": "code",
   "execution_count": 50,
   "metadata": {},
   "outputs": [
    {
     "data": {
      "text/html": [
       "<style>.vaex-description pre {\n",
       "          max-width : 450px;\n",
       "          white-space : nowrap;\n",
       "          overflow : hidden;\n",
       "          text-overflow: ellipsis;\n",
       "        }\n",
       "\n",
       "        .vex-description pre:hover {\n",
       "          max-width : initial;\n",
       "          white-space: pre;\n",
       "        }</style>"
      ],
      "text/plain": [
       "<IPython.core.display.HTML object>"
      ]
     },
     "metadata": {},
     "output_type": "display_data"
    },
    {
     "data": {
      "text/html": [
       "<div><h2>sampling3.csv</h2> <b>rows</b>: 7,253,490</div><h2>Columns:</h2><table class='table-striped'><thead><tr><th>column</th><th>type</th><th>unit</th><th>description</th><th>expression</th></tr></thead><tr><td>id</td><td>int64</td><td></td><td ><pre></pre></td><td></td></tr><tr><td>dati2</td><td>int64</td><td></td><td ><pre></pre></td><td></td></tr><tr><td>typefaskes</td><td>str</td><td></td><td ><pre></pre></td><td></td></tr><tr><td>usia</td><td>int64</td><td></td><td ><pre></pre></td><td></td></tr><tr><td>jenkel</td><td>str</td><td></td><td ><pre></pre></td><td></td></tr><tr><td>pisat</td><td>float64</td><td></td><td ><pre></pre></td><td></td></tr><tr><td>jenispel</td><td>int64</td><td></td><td ><pre></pre></td><td></td></tr><tr><td>politujuan</td><td>str</td><td></td><td ><pre></pre></td><td></td></tr><tr><td>diagfktp</td><td>str</td><td></td><td ><pre></pre></td><td></td></tr><tr><td>biaya</td><td>float64</td><td></td><td ><pre></pre></td><td></td></tr><tr><td>jenispulang</td><td>float64</td><td></td><td ><pre></pre></td><td></td></tr><tr><td>kelasrawat</td><td>int64</td><td></td><td ><pre></pre></td><td></td></tr><tr><td>label</td><td>int64</td><td></td><td ><pre></pre></td><td></td></tr><tr><td>durasi_rawat</td><td>int64</td><td></td><td ><pre></pre></td><td></td></tr></table><h2>Data:</h2><table>\n",
       "<thead>\n",
       "<tr><th>#                                    </th><th>id      </th><th>dati2  </th><th>typefaskes  </th><th>usia  </th><th>jenkel  </th><th>pisat  </th><th>jenispel  </th><th>politujuan  </th><th>diagfktp                                     </th><th>biaya   </th><th>jenispulang  </th><th>kelasrawat  </th><th>label  </th><th>durasi_rawat  </th></tr>\n",
       "</thead>\n",
       "<tbody>\n",
       "<tr><td><i style='opacity: 0.6'>0</i>        </td><td>165666  </td><td>17     </td><td>KL          </td><td>48    </td><td>P       </td><td>1.0    </td><td>2         </td><td>THT         </td><td>Diseases of the skin and subcutaneous tissue </td><td>184300.0</td><td>1.0          </td><td>3           </td><td>0      </td><td>0             </td></tr>\n",
       "<tr><td><i style='opacity: 0.6'>1</i>        </td><td>166042  </td><td>17     </td><td>KL          </td><td>53    </td><td>P       </td><td>1.0    </td><td>2         </td><td>INT         </td><td>Endocrine, nutritional and metabolic diseases</td><td>187300.0</td><td>1.0          </td><td>3           </td><td>0      </td><td>0             </td></tr>\n",
       "<tr><td><i style='opacity: 0.6'>2</i>        </td><td>168937  </td><td>17     </td><td>KL          </td><td>54    </td><td>P       </td><td>1.0    </td><td>2         </td><td>MAT         </td><td>Diseases of the eye and adnexa               </td><td>187300.0</td><td>1.0          </td><td>3           </td><td>0      </td><td>0             </td></tr>\n",
       "<tr><td><i style='opacity: 0.6'>3</i>        </td><td>1005899 </td><td>17     </td><td>A           </td><td>53    </td><td>P       </td><td>1.0    </td><td>2         </td><td>SAR         </td><td>Diseases of the musculoskeletal system       </td><td>381600.0</td><td>1.0          </td><td>3           </td><td>0      </td><td>0             </td></tr>\n",
       "<tr><td><i style='opacity: 0.6'>4</i>        </td><td>51010   </td><td>8      </td><td>SD          </td><td>50    </td><td>P       </td><td>1.0    </td><td>2         </td><td>IGD         </td><td>Diseases of the blood and immune system      </td><td>155000.0</td><td>2.0          </td><td>3           </td><td>0      </td><td>0             </td></tr>\n",
       "<tr><td>...                                  </td><td>...     </td><td>...    </td><td>...         </td><td>...   </td><td>...     </td><td>...    </td><td>...       </td><td>...         </td><td>...                                          </td><td>...     </td><td>...          </td><td>...         </td><td>...    </td><td>...           </td></tr>\n",
       "<tr><td><i style='opacity: 0.6'>7,253,485</i></td><td>10985829</td><td>229    </td><td>B           </td><td>0     </td><td>L       </td><td>4.0    </td><td>2         </td><td>ANA         </td><td>Factors influencing health status            </td><td>246000.0</td><td>1.0          </td><td>3           </td><td>0      </td><td>0             </td></tr>\n",
       "<tr><td><i style='opacity: 0.6'>7,253,486</i></td><td>3012230 </td><td>151    </td><td>SC          </td><td>0     </td><td>P       </td><td>4.0    </td><td>2         </td><td>ANA         </td><td>Perinatal conditions                         </td><td>308800.0</td><td>1.0          </td><td>3           </td><td>0      </td><td>0             </td></tr>\n",
       "<tr><td><i style='opacity: 0.6'>7,253,487</i></td><td>5635918 </td><td>62     </td><td>C           </td><td>0     </td><td>L       </td><td>4.0    </td><td>2         </td><td>IGD         </td><td>Diseases of the respiratory system           </td><td>296700.0</td><td>4.0          </td><td>3           </td><td>0      </td><td>0             </td></tr>\n",
       "<tr><td><i style='opacity: 0.6'>7,253,488</i></td><td>2555450 </td><td>136    </td><td>SC          </td><td>0     </td><td>L       </td><td>4.0    </td><td>2         </td><td>ANA         </td><td>Factors influencing health status            </td><td>253300.0</td><td>1.0          </td><td>3           </td><td>0      </td><td>0             </td></tr>\n",
       "<tr><td><i style='opacity: 0.6'>7,253,489</i></td><td>4414048 </td><td>223    </td><td>C           </td><td>6     </td><td>L       </td><td>4.0    </td><td>2         </td><td>ORT         </td><td>Injury and external causes                   </td><td>181400.0</td><td>1.0          </td><td>3           </td><td>0      </td><td>0             </td></tr>\n",
       "</tbody>\n",
       "</table>"
      ],
      "text/plain": [
       "<IPython.core.display.HTML object>"
      ]
     },
     "metadata": {},
     "output_type": "display_data"
    }
   ],
   "source": [
    "df_sampling3.info()"
   ]
  },
  {
   "cell_type": "code",
   "execution_count": 34,
   "metadata": {},
   "outputs": [
    {
     "data": {
      "text/plain": [
       "['Codes for special purposes',\n",
       " 'Endocrine, nutritional and metabolic diseases',\n",
       " 'External causes of morbidity and mortality',\n",
       " 'Diseases of the respiratory system',\n",
       " 'Neoplasms',\n",
       " 'Diseases of the circulatory system',\n",
       " 'Mental and behavioural disorders',\n",
       " 'Uncategorized',\n",
       " 'Pregnancy, childbirth and the puerperium',\n",
       " 'Invalid',\n",
       " 'Diseases of the musculoskeletal system',\n",
       " 'Injury and external causes',\n",
       " 'Perinatal conditions',\n",
       " 'Certain infectious and parasitic diseases',\n",
       " 'Diseases of the nervous system',\n",
       " 'Diseases of the ear and mastoid process',\n",
       " 'Diseases of the skin and subcutaneous tissue',\n",
       " 'Factors influencing health status',\n",
       " 'Diseases of the genitourinary system',\n",
       " 'Symptoms, signs, and abnormal findings',\n",
       " 'Diseases of the eye and adnexa',\n",
       " 'Diseases of the digestive system',\n",
       " 'Congenital malformations',\n",
       " 'Diseases of the blood and immune system']"
      ]
     },
     "execution_count": 34,
     "metadata": {},
     "output_type": "execute_result"
    }
   ],
   "source": [
    "df_sampling2['diagfktp'].unique()\n"
   ]
  },
  {
   "cell_type": "code",
   "execution_count": 58,
   "metadata": {},
   "outputs": [
    {
     "data": {
      "text/html": [
       "<style>.vaex-description pre {\n",
       "          max-width : 450px;\n",
       "          white-space : nowrap;\n",
       "          overflow : hidden;\n",
       "          text-overflow: ellipsis;\n",
       "        }\n",
       "\n",
       "        .vex-description pre:hover {\n",
       "          max-width : initial;\n",
       "          white-space: pre;\n",
       "        }</style>"
      ],
      "text/plain": [
       "<IPython.core.display.HTML object>"
      ]
     },
     "metadata": {},
     "output_type": "display_data"
    },
    {
     "data": {
      "text/html": [
       "<div><h2>sampling3.csv</h2> <b>rows</b>: 7,253,490</div><h2>Columns:</h2><table class='table-striped'><thead><tr><th>column</th><th>type</th><th>unit</th><th>description</th><th>expression</th></tr></thead><tr><td>id</td><td>int64</td><td></td><td ><pre></pre></td><td></td></tr><tr><td>dati2</td><td>int64</td><td></td><td ><pre></pre></td><td></td></tr><tr><td>typefaskes</td><td>str</td><td></td><td ><pre></pre></td><td></td></tr><tr><td>usia</td><td>int64</td><td></td><td ><pre></pre></td><td></td></tr><tr><td>jenkel</td><td>str</td><td></td><td ><pre></pre></td><td></td></tr><tr><td>pisat</td><td>float64</td><td></td><td ><pre></pre></td><td></td></tr><tr><td>jenispel</td><td>int64</td><td></td><td ><pre></pre></td><td></td></tr><tr><td>politujuan</td><td>str</td><td></td><td ><pre></pre></td><td></td></tr><tr><td>diagfktp</td><td>str</td><td></td><td ><pre></pre></td><td></td></tr><tr><td>biaya</td><td>float64</td><td></td><td ><pre></pre></td><td></td></tr><tr><td>jenispulang</td><td>float64</td><td></td><td ><pre></pre></td><td></td></tr><tr><td>kelasrawat</td><td>int64</td><td></td><td ><pre></pre></td><td></td></tr><tr><td>label</td><td>int64</td><td></td><td ><pre></pre></td><td></td></tr><tr><td>durasi_rawat</td><td>int64</td><td></td><td ><pre></pre></td><td></td></tr></table><h2>Data:</h2><table>\n",
       "<thead>\n",
       "<tr><th>#                                    </th><th>id      </th><th>dati2  </th><th>typefaskes  </th><th>usia  </th><th>jenkel  </th><th>pisat  </th><th>jenispel  </th><th>politujuan  </th><th>diagfktp                                     </th><th>biaya   </th><th>jenispulang  </th><th>kelasrawat  </th><th>label  </th><th>durasi_rawat  </th></tr>\n",
       "</thead>\n",
       "<tbody>\n",
       "<tr><td><i style='opacity: 0.6'>0</i>        </td><td>165666  </td><td>17     </td><td>KL          </td><td>48    </td><td>P       </td><td>1.0    </td><td>2         </td><td>THT         </td><td>Diseases of the skin and subcutaneous tissue </td><td>184300.0</td><td>1.0          </td><td>3           </td><td>0      </td><td>0             </td></tr>\n",
       "<tr><td><i style='opacity: 0.6'>1</i>        </td><td>166042  </td><td>17     </td><td>KL          </td><td>53    </td><td>P       </td><td>1.0    </td><td>2         </td><td>INT         </td><td>Endocrine, nutritional and metabolic diseases</td><td>187300.0</td><td>1.0          </td><td>3           </td><td>0      </td><td>0             </td></tr>\n",
       "<tr><td><i style='opacity: 0.6'>2</i>        </td><td>168937  </td><td>17     </td><td>KL          </td><td>54    </td><td>P       </td><td>1.0    </td><td>2         </td><td>MAT         </td><td>Diseases of the eye and adnexa               </td><td>187300.0</td><td>1.0          </td><td>3           </td><td>0      </td><td>0             </td></tr>\n",
       "<tr><td><i style='opacity: 0.6'>3</i>        </td><td>1005899 </td><td>17     </td><td>A           </td><td>53    </td><td>P       </td><td>1.0    </td><td>2         </td><td>SAR         </td><td>Diseases of the musculoskeletal system       </td><td>381600.0</td><td>1.0          </td><td>3           </td><td>0      </td><td>0             </td></tr>\n",
       "<tr><td><i style='opacity: 0.6'>4</i>        </td><td>51010   </td><td>8      </td><td>SD          </td><td>50    </td><td>P       </td><td>1.0    </td><td>2         </td><td>IGD         </td><td>Diseases of the blood and immune system      </td><td>155000.0</td><td>2.0          </td><td>3           </td><td>0      </td><td>0             </td></tr>\n",
       "<tr><td>...                                  </td><td>...     </td><td>...    </td><td>...         </td><td>...   </td><td>...     </td><td>...    </td><td>...       </td><td>...         </td><td>...                                          </td><td>...     </td><td>...          </td><td>...         </td><td>...    </td><td>...           </td></tr>\n",
       "<tr><td><i style='opacity: 0.6'>7,253,485</i></td><td>10985829</td><td>229    </td><td>B           </td><td>0     </td><td>L       </td><td>4.0    </td><td>2         </td><td>ANA         </td><td>Factors influencing health status            </td><td>246000.0</td><td>1.0          </td><td>3           </td><td>0      </td><td>0             </td></tr>\n",
       "<tr><td><i style='opacity: 0.6'>7,253,486</i></td><td>3012230 </td><td>151    </td><td>SC          </td><td>0     </td><td>P       </td><td>4.0    </td><td>2         </td><td>ANA         </td><td>Perinatal conditions                         </td><td>308800.0</td><td>1.0          </td><td>3           </td><td>0      </td><td>0             </td></tr>\n",
       "<tr><td><i style='opacity: 0.6'>7,253,487</i></td><td>5635918 </td><td>62     </td><td>C           </td><td>0     </td><td>L       </td><td>4.0    </td><td>2         </td><td>IGD         </td><td>Diseases of the respiratory system           </td><td>296700.0</td><td>4.0          </td><td>3           </td><td>0      </td><td>0             </td></tr>\n",
       "<tr><td><i style='opacity: 0.6'>7,253,488</i></td><td>2555450 </td><td>136    </td><td>SC          </td><td>0     </td><td>L       </td><td>4.0    </td><td>2         </td><td>ANA         </td><td>Factors influencing health status            </td><td>253300.0</td><td>1.0          </td><td>3           </td><td>0      </td><td>0             </td></tr>\n",
       "<tr><td><i style='opacity: 0.6'>7,253,489</i></td><td>4414048 </td><td>223    </td><td>C           </td><td>6     </td><td>L       </td><td>4.0    </td><td>2         </td><td>ORT         </td><td>Injury and external causes                   </td><td>181400.0</td><td>1.0          </td><td>3           </td><td>0      </td><td>0             </td></tr>\n",
       "</tbody>\n",
       "</table>"
      ],
      "text/plain": [
       "<IPython.core.display.HTML object>"
      ]
     },
     "metadata": {},
     "output_type": "display_data"
    }
   ],
   "source": [
    "df_sampling3.info()"
   ]
  },
  {
   "cell_type": "code",
   "execution_count": null,
   "metadata": {},
   "outputs": [
    {
     "data": {
      "text/plain": [
       "['Codes for special purposes',\n",
       " 'Endocrine, nutritional and metabolic diseases',\n",
       " 'External causes of morbidity and mortality',\n",
       " 'Diseases of the respiratory system',\n",
       " 'Neoplasms',\n",
       " 'Mental and behavioural disorders',\n",
       " 'Diseases of the circulatory system',\n",
       " 'Uncategorized',\n",
       " 'Pregnancy, childbirth and the puerperium',\n",
       " 'Diseases of the musculoskeletal system',\n",
       " 'Injury and external causes',\n",
       " 'Perinatal conditions',\n",
       " 'Certain infectious and parasitic diseases',\n",
       " 'Diseases of the nervous system',\n",
       " 'Diseases of the ear and mastoid process',\n",
       " 'Diseases of the skin and subcutaneous tissue',\n",
       " 'Diseases of the genitourinary system',\n",
       " 'Factors influencing health status',\n",
       " 'Symptoms, signs, and abnormal findings',\n",
       " 'Diseases of the eye and adnexa',\n",
       " 'Diseases of the digestive system',\n",
       " 'Congenital malformations',\n",
       " 'Diseases of the blood and immune system']"
      ]
     },
     "execution_count": 57,
     "metadata": {},
     "output_type": "execute_result"
    }
   ],
   "source": [
    "df_diagprod['diag'].unique()"
   ]
  },
  {
   "cell_type": "code",
   "execution_count": 59,
   "metadata": {},
   "outputs": [
    {
     "data": {
      "text/html": [
       "<style>.vaex-description pre {\n",
       "          max-width : 450px;\n",
       "          white-space : nowrap;\n",
       "          overflow : hidden;\n",
       "          text-overflow: ellipsis;\n",
       "        }\n",
       "\n",
       "        .vex-description pre:hover {\n",
       "          max-width : initial;\n",
       "          white-space: pre;\n",
       "        }</style>"
      ],
      "text/plain": [
       "<IPython.core.display.HTML object>"
      ]
     },
     "metadata": {},
     "output_type": "display_data"
    },
    {
     "data": {
      "text/html": [
       "<div><h2>JoinDiagProd.csv</h2> <b>rows</b>: 18,562,625</div><h2>Columns:</h2><table class='table-striped'><thead><tr><th>column</th><th>type</th><th>unit</th><th>description</th><th>expression</th></tr></thead><tr><td>id</td><td>int64</td><td></td><td ><pre></pre></td><td></td></tr><tr><td>diag</td><td>str</td><td></td><td ><pre></pre></td><td></td></tr><tr><td>levelid</td><td>int64</td><td></td><td ><pre></pre></td><td></td></tr><tr><td>proc_code_clean</td><td>str</td><td></td><td ><pre></pre></td><td></td></tr></table><h2>Data:</h2><table>\n",
       "<thead>\n",
       "<tr><th>#                                     </th><th>id     </th><th>diag                                    </th><th>levelid  </th><th>proc_code_clean                                    </th></tr>\n",
       "</thead>\n",
       "<tbody>\n",
       "<tr><td><i style='opacity: 0.6'>0</i>         </td><td>6      </td><td>Pregnancy, childbirth and the puerperium</td><td>1        </td><td>&#x27;Miscellaneous Diagnostic And Therapeutic Proced...</td></tr>\n",
       "<tr><td><i style='opacity: 0.6'>1</i>         </td><td>57     </td><td>Diseases of the respiratory system      </td><td>1        </td><td>&#x27;Miscellaneous Diagnostic And Therapeutic Proced...</td></tr>\n",
       "<tr><td><i style='opacity: 0.6'>2</i>         </td><td>91     </td><td>Symptoms, signs, and abnormal findings  </td><td>1        </td><td>&#x27;Miscellaneous Diagnostic And Therapeutic Proced...</td></tr>\n",
       "<tr><td><i style='opacity: 0.6'>3</i>         </td><td>109    </td><td>Symptoms, signs, and abnormal findings  </td><td>1        </td><td>Operations On The Digestive System                 </td></tr>\n",
       "<tr><td><i style='opacity: 0.6'>4</i>         </td><td>111    </td><td>Diseases of the genitourinary system    </td><td>1        </td><td>&#x27;Miscellaneous Diagnostic And Therapeutic Proced...</td></tr>\n",
       "<tr><td>...                                   </td><td>...    </td><td>...                                     </td><td>...      </td><td>...                                                </td></tr>\n",
       "<tr><td><i style='opacity: 0.6'>18,562,620</i></td><td>2860876</td><td>Pregnancy, childbirth and the puerperium</td><td>2        </td><td>Obstetrical Procedures                             </td></tr>\n",
       "<tr><td><i style='opacity: 0.6'>18,562,621</i></td><td>2860876</td><td>Pregnancy, childbirth and the puerperium</td><td>1        </td><td>&#x27;Miscellaneous Diagnostic And Therapeutic Proced...</td></tr>\n",
       "<tr><td><i style='opacity: 0.6'>18,562,622</i></td><td>2860876</td><td>Pregnancy, childbirth and the puerperium</td><td>1        </td><td>Obstetrical Procedures                             </td></tr>\n",
       "<tr><td><i style='opacity: 0.6'>18,562,623</i></td><td>2860876</td><td>Factors influencing health status       </td><td>2        </td><td>&#x27;Miscellaneous Diagnostic And Therapeutic Proced...</td></tr>\n",
       "<tr><td><i style='opacity: 0.6'>18,562,624</i></td><td>2860876</td><td>Factors influencing health status       </td><td>2        </td><td>Obstetrical Procedures                             </td></tr>\n",
       "</tbody>\n",
       "</table>"
      ],
      "text/plain": [
       "<IPython.core.display.HTML object>"
      ]
     },
     "metadata": {},
     "output_type": "display_data"
    }
   ],
   "source": [
    "df_diagprod.info()"
   ]
  },
  {
   "cell_type": "markdown",
   "metadata": {},
   "source": [
    "## Join"
   ]
  },
  {
   "cell_type": "markdown",
   "metadata": {},
   "source": [
    "### Left Join"
   ]
  },
  {
   "cell_type": "code",
   "execution_count": 38,
   "metadata": {},
   "outputs": [
    {
     "name": "stdout",
     "output_type": "stream",
     "text": [
      "CPU times: total: 17.1 s\n",
      "Wall time: 7.15 s\n"
     ]
    }
   ],
   "source": [
    "%%time\n",
    "\n",
    "df_joined = df_sampling2.join(df_diagprod, on='id', how='left', allow_duplication=True)"
   ]
  },
  {
   "cell_type": "code",
   "execution_count": 47,
   "metadata": {},
   "outputs": [
    {
     "data": {
      "text/html": [
       "<style>.vaex-description pre {\n",
       "          max-width : 450px;\n",
       "          white-space : nowrap;\n",
       "          overflow : hidden;\n",
       "          text-overflow: ellipsis;\n",
       "        }\n",
       "\n",
       "        .vex-description pre:hover {\n",
       "          max-width : initial;\n",
       "          white-space: pre;\n",
       "        }</style>"
      ],
      "text/plain": [
       "<IPython.core.display.HTML object>"
      ]
     },
     "metadata": {},
     "output_type": "display_data"
    },
    {
     "data": {
      "text/html": [
       "<div><h2>no-name</h2> <b>rows</b>: 9,451,189</div><h2>Columns:</h2><table class='table-striped'><thead><tr><th>column</th><th>type</th><th>unit</th><th>description</th><th>expression</th></tr></thead><tr><td>id</td><td>int64</td><td></td><td ><pre></pre></td><td></td></tr><tr><td>dati2</td><td>int64</td><td></td><td ><pre></pre></td><td></td></tr><tr><td>typefaskes</td><td>str</td><td></td><td ><pre></pre></td><td></td></tr><tr><td>usia</td><td>int64</td><td></td><td ><pre></pre></td><td></td></tr><tr><td>jenkel</td><td>str</td><td></td><td ><pre></pre></td><td></td></tr><tr><td>pisat</td><td>float64</td><td></td><td ><pre></pre></td><td></td></tr><tr><td>jenispel</td><td>int64</td><td></td><td ><pre></pre></td><td></td></tr><tr><td>politujuan</td><td>str</td><td></td><td ><pre></pre></td><td></td></tr><tr><td>biaya</td><td>float64</td><td></td><td ><pre></pre></td><td></td></tr><tr><td>jenispulang</td><td>float64</td><td></td><td ><pre></pre></td><td></td></tr><tr><td>kelasrawat</td><td>int64</td><td></td><td ><pre></pre></td><td></td></tr><tr><td>label</td><td>int64</td><td></td><td ><pre></pre></td><td></td></tr><tr><td>durasi_rawat</td><td>int64</td><td></td><td ><pre></pre></td><td></td></tr><tr><td>diagfktp</td><td>str</td><td></td><td ><pre></pre></td><td></td></tr><tr><td>diag</td><td>str</td><td></td><td ><pre></pre></td><td></td></tr><tr><td>levelid</td><td>int64</td><td></td><td ><pre></pre></td><td></td></tr><tr><td>proc_code_clean</td><td>str</td><td></td><td ><pre></pre></td><td></td></tr></table><h2>Data:</h2><table>\n",
       "<thead>\n",
       "<tr><th>#                                    </th><th>id     </th><th>dati2  </th><th>typefaskes  </th><th>usia  </th><th>jenkel  </th><th>pisat  </th><th>jenispel  </th><th>politujuan  </th><th>biaya   </th><th>jenispulang  </th><th>kelasrawat  </th><th>label  </th><th>durasi_rawat  </th><th>diagfktp                                     </th><th>diag                                   </th><th>levelid  </th><th>proc_code_clean                                    </th></tr>\n",
       "</thead>\n",
       "<tbody>\n",
       "<tr><td><i style='opacity: 0.6'>0</i>        </td><td>165666 </td><td>17     </td><td>KL          </td><td>48    </td><td>P       </td><td>1.0    </td><td>2         </td><td>THT         </td><td>184300.0</td><td>1.0          </td><td>3           </td><td>0      </td><td>0             </td><td>Diseases of the skin and subcutaneous tissue </td><td>Diseases of the ear and mastoid process</td><td>1        </td><td>None                                               </td></tr>\n",
       "<tr><td><i style='opacity: 0.6'>1</i>        </td><td>166042 </td><td>17     </td><td>KL          </td><td>53    </td><td>P       </td><td>1.0    </td><td>2         </td><td>INT         </td><td>187300.0</td><td>1.0          </td><td>3           </td><td>0      </td><td>0             </td><td>Endocrine, nutritional and metabolic diseases</td><td>Diseases of the digestive system       </td><td>2        </td><td>None                                               </td></tr>\n",
       "<tr><td><i style='opacity: 0.6'>2</i>        </td><td>168937 </td><td>17     </td><td>KL          </td><td>54    </td><td>P       </td><td>1.0    </td><td>2         </td><td>MAT         </td><td>187300.0</td><td>1.0          </td><td>3           </td><td>0      </td><td>0             </td><td>Diseases of the eye and adnexa               </td><td>Diseases of the eye and adnexa         </td><td>2        </td><td>None                                               </td></tr>\n",
       "<tr><td><i style='opacity: 0.6'>3</i>        </td><td>1005899</td><td>17     </td><td>A           </td><td>53    </td><td>P       </td><td>1.0    </td><td>2         </td><td>SAR         </td><td>381600.0</td><td>1.0          </td><td>3           </td><td>0      </td><td>0             </td><td>Diseases of the musculoskeletal system       </td><td>Diseases of the musculoskeletal system </td><td>1        </td><td>None                                               </td></tr>\n",
       "<tr><td><i style='opacity: 0.6'>4</i>        </td><td>51010  </td><td>8      </td><td>SD          </td><td>50    </td><td>P       </td><td>1.0    </td><td>2         </td><td>IGD         </td><td>155000.0</td><td>2.0          </td><td>3           </td><td>0      </td><td>0             </td><td>Diseases of the blood and immune system      </td><td>Diseases of the blood and immune system</td><td>1        </td><td>None                                               </td></tr>\n",
       "<tr><td>...                                  </td><td>...    </td><td>...    </td><td>...         </td><td>...   </td><td>...     </td><td>...    </td><td>...       </td><td>...         </td><td>...     </td><td>...          </td><td>...         </td><td>...    </td><td>...           </td><td>...                                          </td><td>...                                    </td><td>...      </td><td>...                                                </td></tr>\n",
       "<tr><td><i style='opacity: 0.6'>9,451,184</i></td><td>1657795</td><td>115    </td><td>C           </td><td>71    </td><td>L       </td><td>1.0    </td><td>2         </td><td>THT         </td><td>291300.0</td><td>1.0          </td><td>3           </td><td>0      </td><td>0             </td><td>Diseases of the ear and mastoid process      </td><td>Diseases of the ear and mastoid process</td><td>1        </td><td>&#x27;Miscellaneous Diagnostic And Therapeutic Proced...</td></tr>\n",
       "<tr><td><i style='opacity: 0.6'>9,451,185</i></td><td>7448205</td><td>118    </td><td>B           </td><td>58    </td><td>P       </td><td>1.0    </td><td>2         </td><td>INT         </td><td>181400.0</td><td>1.0          </td><td>3           </td><td>0      </td><td>0             </td><td>Diseases of the digestive system             </td><td>Diseases of the circulatory system     </td><td>1        </td><td>None                                               </td></tr>\n",
       "<tr><td><i style='opacity: 0.6'>9,451,186</i></td><td>7448205</td><td>118    </td><td>B           </td><td>58    </td><td>P       </td><td>1.0    </td><td>2         </td><td>INT         </td><td>181400.0</td><td>1.0          </td><td>3           </td><td>0      </td><td>0             </td><td>Diseases of the digestive system             </td><td>Diseases of the musculoskeletal system </td><td>2        </td><td>None                                               </td></tr>\n",
       "<tr><td><i style='opacity: 0.6'>9,451,187</i></td><td>3627933</td><td>195    </td><td>SC          </td><td>69    </td><td>P       </td><td>1.0    </td><td>2         </td><td>SAR         </td><td>190400.0</td><td>1.0          </td><td>3           </td><td>0      </td><td>0             </td><td>Diseases of the musculoskeletal system       </td><td>Diseases of the nervous system         </td><td>2        </td><td>None                                               </td></tr>\n",
       "<tr><td><i style='opacity: 0.6'>9,451,188</i></td><td>5992606</td><td>496    </td><td>SC          </td><td>4     </td><td>P       </td><td>1.0    </td><td>2         </td><td>ANA         </td><td>190400.0</td><td>1.0          </td><td>3           </td><td>0      </td><td>0             </td><td>Factors influencing health status            </td><td>Neoplasms                              </td><td>1        </td><td>None                                               </td></tr>\n",
       "</tbody>\n",
       "</table>"
      ],
      "text/plain": [
       "<IPython.core.display.HTML object>"
      ]
     },
     "metadata": {},
     "output_type": "display_data"
    }
   ],
   "source": [
    "df_joined.info()"
   ]
  },
  {
   "cell_type": "code",
   "execution_count": 48,
   "metadata": {},
   "outputs": [
    {
     "data": {
      "text/html": [
       "<div>\n",
       "<style scoped>\n",
       "    .dataframe tbody tr th:only-of-type {\n",
       "        vertical-align: middle;\n",
       "    }\n",
       "\n",
       "    .dataframe tbody tr th {\n",
       "        vertical-align: top;\n",
       "    }\n",
       "\n",
       "    .dataframe thead th {\n",
       "        text-align: right;\n",
       "    }\n",
       "</style>\n",
       "<table border=\"1\" class=\"dataframe\">\n",
       "  <thead>\n",
       "    <tr style=\"text-align: right;\">\n",
       "      <th></th>\n",
       "      <th>id</th>\n",
       "      <th>dati2</th>\n",
       "      <th>typefaskes</th>\n",
       "      <th>usia</th>\n",
       "      <th>jenkel</th>\n",
       "      <th>pisat</th>\n",
       "      <th>jenispel</th>\n",
       "      <th>politujuan</th>\n",
       "      <th>biaya</th>\n",
       "      <th>jenispulang</th>\n",
       "      <th>kelasrawat</th>\n",
       "      <th>label</th>\n",
       "      <th>durasi_rawat</th>\n",
       "      <th>diagfktp</th>\n",
       "      <th>diag</th>\n",
       "      <th>levelid</th>\n",
       "      <th>proc_code_clean</th>\n",
       "    </tr>\n",
       "  </thead>\n",
       "  <tbody>\n",
       "    <tr>\n",
       "      <th>data_type</th>\n",
       "      <td>int64</td>\n",
       "      <td>int64</td>\n",
       "      <td>string</td>\n",
       "      <td>int64</td>\n",
       "      <td>string</td>\n",
       "      <td>float64</td>\n",
       "      <td>int64</td>\n",
       "      <td>string</td>\n",
       "      <td>float64</td>\n",
       "      <td>float64</td>\n",
       "      <td>int64</td>\n",
       "      <td>int64</td>\n",
       "      <td>int64</td>\n",
       "      <td>string</td>\n",
       "      <td>string</td>\n",
       "      <td>int64</td>\n",
       "      <td>string</td>\n",
       "    </tr>\n",
       "    <tr>\n",
       "      <th>count</th>\n",
       "      <td>9451189</td>\n",
       "      <td>9451189</td>\n",
       "      <td>9451189</td>\n",
       "      <td>9451189</td>\n",
       "      <td>9451189</td>\n",
       "      <td>9451189</td>\n",
       "      <td>9451189</td>\n",
       "      <td>9451189</td>\n",
       "      <td>9451189</td>\n",
       "      <td>9451189</td>\n",
       "      <td>9451189</td>\n",
       "      <td>9451189</td>\n",
       "      <td>9451189</td>\n",
       "      <td>9451189</td>\n",
       "      <td>9435385</td>\n",
       "      <td>9435385</td>\n",
       "      <td>4518026</td>\n",
       "    </tr>\n",
       "    <tr>\n",
       "      <th>NA</th>\n",
       "      <td>0</td>\n",
       "      <td>0</td>\n",
       "      <td>0</td>\n",
       "      <td>0</td>\n",
       "      <td>0</td>\n",
       "      <td>0</td>\n",
       "      <td>0</td>\n",
       "      <td>0</td>\n",
       "      <td>0</td>\n",
       "      <td>0</td>\n",
       "      <td>0</td>\n",
       "      <td>0</td>\n",
       "      <td>0</td>\n",
       "      <td>0</td>\n",
       "      <td>15804</td>\n",
       "      <td>15804</td>\n",
       "      <td>4933163</td>\n",
       "    </tr>\n",
       "    <tr>\n",
       "      <th>mean</th>\n",
       "      <td>5662849.1216110485</td>\n",
       "      <td>182.7732696912526</td>\n",
       "      <td>--</td>\n",
       "      <td>40.488559164354875</td>\n",
       "      <td>--</td>\n",
       "      <td>2.361896159308633</td>\n",
       "      <td>1.9999024461366712</td>\n",
       "      <td>--</td>\n",
       "      <td>416725.52143555693</td>\n",
       "      <td>1.0688730275100837</td>\n",
       "      <td>2.9999426527180866</td>\n",
       "      <td>0.0</td>\n",
       "      <td>0.00039010964652172334</td>\n",
       "      <td>--</td>\n",
       "      <td>--</td>\n",
       "      <td>1.2169982464944462</td>\n",
       "      <td>--</td>\n",
       "    </tr>\n",
       "    <tr>\n",
       "      <th>std</th>\n",
       "      <td>3281422.037626</td>\n",
       "      <td>105.522155</td>\n",
       "      <td>--</td>\n",
       "      <td>22.011365</td>\n",
       "      <td>--</td>\n",
       "      <td>1.365112</td>\n",
       "      <td>0.009876</td>\n",
       "      <td>--</td>\n",
       "      <td>1017960.920371</td>\n",
       "      <td>0.459278</td>\n",
       "      <td>0.009671</td>\n",
       "      <td>0.0</td>\n",
       "      <td>0.069364</td>\n",
       "      <td>--</td>\n",
       "      <td>--</td>\n",
       "      <td>0.412201</td>\n",
       "      <td>--</td>\n",
       "    </tr>\n",
       "    <tr>\n",
       "      <th>min</th>\n",
       "      <td>2</td>\n",
       "      <td>1</td>\n",
       "      <td>--</td>\n",
       "      <td>0</td>\n",
       "      <td>--</td>\n",
       "      <td>1.0</td>\n",
       "      <td>1</td>\n",
       "      <td>--</td>\n",
       "      <td>0.0</td>\n",
       "      <td>1.0</td>\n",
       "      <td>1</td>\n",
       "      <td>0</td>\n",
       "      <td>0</td>\n",
       "      <td>--</td>\n",
       "      <td>--</td>\n",
       "      <td>1</td>\n",
       "      <td>--</td>\n",
       "    </tr>\n",
       "    <tr>\n",
       "      <th>max</th>\n",
       "      <td>11426957</td>\n",
       "      <td>528</td>\n",
       "      <td>--</td>\n",
       "      <td>110</td>\n",
       "      <td>--</td>\n",
       "      <td>5.0</td>\n",
       "      <td>2</td>\n",
       "      <td>--</td>\n",
       "      <td>57108100.0</td>\n",
       "      <td>5.0</td>\n",
       "      <td>3</td>\n",
       "      <td>0</td>\n",
       "      <td>69</td>\n",
       "      <td>--</td>\n",
       "      <td>--</td>\n",
       "      <td>2</td>\n",
       "      <td>--</td>\n",
       "    </tr>\n",
       "  </tbody>\n",
       "</table>\n",
       "</div>"
      ],
      "text/plain": [
       "                           id              dati2 typefaskes  \\\n",
       "data_type               int64              int64     string   \n",
       "count                 9451189            9451189    9451189   \n",
       "NA                          0                  0          0   \n",
       "mean       5662849.1216110485  182.7732696912526         --   \n",
       "std            3281422.037626         105.522155         --   \n",
       "min                         2                  1         --   \n",
       "max                  11426957                528         --   \n",
       "\n",
       "                         usia   jenkel              pisat            jenispel  \\\n",
       "data_type               int64   string            float64               int64   \n",
       "count                 9451189  9451189            9451189             9451189   \n",
       "NA                          0        0                  0                   0   \n",
       "mean       40.488559164354875       --  2.361896159308633  1.9999024461366712   \n",
       "std                 22.011365       --           1.365112            0.009876   \n",
       "min                         0       --                1.0                   1   \n",
       "max                       110       --                5.0                   2   \n",
       "\n",
       "          politujuan               biaya         jenispulang  \\\n",
       "data_type     string             float64             float64   \n",
       "count        9451189             9451189             9451189   \n",
       "NA                 0                   0                   0   \n",
       "mean              --  416725.52143555693  1.0688730275100837   \n",
       "std               --      1017960.920371            0.459278   \n",
       "min               --                 0.0                 1.0   \n",
       "max               --          57108100.0                 5.0   \n",
       "\n",
       "                   kelasrawat    label            durasi_rawat diagfktp  \\\n",
       "data_type               int64    int64                   int64   string   \n",
       "count                 9451189  9451189                 9451189  9451189   \n",
       "NA                          0        0                       0        0   \n",
       "mean       2.9999426527180866      0.0  0.00039010964652172334       --   \n",
       "std                  0.009671      0.0                0.069364       --   \n",
       "min                         1        0                       0       --   \n",
       "max                         3        0                      69       --   \n",
       "\n",
       "              diag             levelid proc_code_clean  \n",
       "data_type   string               int64          string  \n",
       "count      9435385             9435385         4518026  \n",
       "NA           15804               15804         4933163  \n",
       "mean            --  1.2169982464944462              --  \n",
       "std             --            0.412201              --  \n",
       "min             --                   1              --  \n",
       "max             --                   2              --  "
      ]
     },
     "execution_count": 48,
     "metadata": {},
     "output_type": "execute_result"
    }
   ],
   "source": [
    "df_joined.describe()"
   ]
  },
  {
   "cell_type": "markdown",
   "metadata": {},
   "source": [
    "### Inner Join"
   ]
  },
  {
   "cell_type": "code",
   "execution_count": 49,
   "metadata": {},
   "outputs": [
    {
     "name": "stdout",
     "output_type": "stream",
     "text": [
      "CPU times: total: 22.6 s\n",
      "Wall time: 11.8 s\n"
     ]
    }
   ],
   "source": [
    "%%time\n",
    "\n",
    "df_joined_inner = df_sampling2.join(df_diagprod, on='id', how='inner', allow_duplication=True)"
   ]
  },
  {
   "cell_type": "code",
   "execution_count": 50,
   "metadata": {},
   "outputs": [
    {
     "data": {
      "text/html": [
       "<div>\n",
       "<style scoped>\n",
       "    .dataframe tbody tr th:only-of-type {\n",
       "        vertical-align: middle;\n",
       "    }\n",
       "\n",
       "    .dataframe tbody tr th {\n",
       "        vertical-align: top;\n",
       "    }\n",
       "\n",
       "    .dataframe thead th {\n",
       "        text-align: right;\n",
       "    }\n",
       "</style>\n",
       "<table border=\"1\" class=\"dataframe\">\n",
       "  <thead>\n",
       "    <tr style=\"text-align: right;\">\n",
       "      <th></th>\n",
       "      <th>id</th>\n",
       "      <th>dati2</th>\n",
       "      <th>typefaskes</th>\n",
       "      <th>usia</th>\n",
       "      <th>jenkel</th>\n",
       "      <th>pisat</th>\n",
       "      <th>jenispel</th>\n",
       "      <th>politujuan</th>\n",
       "      <th>biaya</th>\n",
       "      <th>jenispulang</th>\n",
       "      <th>kelasrawat</th>\n",
       "      <th>label</th>\n",
       "      <th>durasi_rawat</th>\n",
       "      <th>diagfktp</th>\n",
       "      <th>diag</th>\n",
       "      <th>levelid</th>\n",
       "      <th>proc_code_clean</th>\n",
       "    </tr>\n",
       "  </thead>\n",
       "  <tbody>\n",
       "    <tr>\n",
       "      <th>data_type</th>\n",
       "      <td>int64</td>\n",
       "      <td>int64</td>\n",
       "      <td>string</td>\n",
       "      <td>int64</td>\n",
       "      <td>string</td>\n",
       "      <td>float64</td>\n",
       "      <td>int64</td>\n",
       "      <td>string</td>\n",
       "      <td>float64</td>\n",
       "      <td>float64</td>\n",
       "      <td>int64</td>\n",
       "      <td>int64</td>\n",
       "      <td>int64</td>\n",
       "      <td>string</td>\n",
       "      <td>string</td>\n",
       "      <td>int64</td>\n",
       "      <td>string</td>\n",
       "    </tr>\n",
       "    <tr>\n",
       "      <th>count</th>\n",
       "      <td>9435385</td>\n",
       "      <td>9435385</td>\n",
       "      <td>9435385</td>\n",
       "      <td>9435385</td>\n",
       "      <td>9435385</td>\n",
       "      <td>9435385</td>\n",
       "      <td>9435385</td>\n",
       "      <td>9435385</td>\n",
       "      <td>9435385</td>\n",
       "      <td>9435385</td>\n",
       "      <td>9435385</td>\n",
       "      <td>9435385</td>\n",
       "      <td>9435385</td>\n",
       "      <td>9435385</td>\n",
       "      <td>9435385</td>\n",
       "      <td>9435385</td>\n",
       "      <td>4518026</td>\n",
       "    </tr>\n",
       "    <tr>\n",
       "      <th>NA</th>\n",
       "      <td>0</td>\n",
       "      <td>0</td>\n",
       "      <td>0</td>\n",
       "      <td>0</td>\n",
       "      <td>0</td>\n",
       "      <td>0</td>\n",
       "      <td>0</td>\n",
       "      <td>0</td>\n",
       "      <td>0</td>\n",
       "      <td>0</td>\n",
       "      <td>0</td>\n",
       "      <td>0</td>\n",
       "      <td>0</td>\n",
       "      <td>0</td>\n",
       "      <td>0</td>\n",
       "      <td>0</td>\n",
       "      <td>4917359</td>\n",
       "    </tr>\n",
       "    <tr>\n",
       "      <th>mean</th>\n",
       "      <td>5661742.61091646</td>\n",
       "      <td>182.73857049818318</td>\n",
       "      <td>--</td>\n",
       "      <td>40.491162045851866</td>\n",
       "      <td>--</td>\n",
       "      <td>2.3618316581676315</td>\n",
       "      <td>1.9999022827367405</td>\n",
       "      <td>--</td>\n",
       "      <td>416872.16125372733</td>\n",
       "      <td>1.068949385743136</td>\n",
       "      <td>2.99994255666303</td>\n",
       "      <td>0.0</td>\n",
       "      <td>0.00039076306902156085</td>\n",
       "      <td>--</td>\n",
       "      <td>--</td>\n",
       "      <td>1.2169982464944462</td>\n",
       "      <td>--</td>\n",
       "    </tr>\n",
       "    <tr>\n",
       "      <th>std</th>\n",
       "      <td>3281189.442244</td>\n",
       "      <td>105.505327</td>\n",
       "      <td>--</td>\n",
       "      <td>22.012262</td>\n",
       "      <td>--</td>\n",
       "      <td>1.365123</td>\n",
       "      <td>0.009885</td>\n",
       "      <td>--</td>\n",
       "      <td>1018336.600131</td>\n",
       "      <td>0.459569</td>\n",
       "      <td>0.009679</td>\n",
       "      <td>0.0</td>\n",
       "      <td>0.069422</td>\n",
       "      <td>--</td>\n",
       "      <td>--</td>\n",
       "      <td>0.412201</td>\n",
       "      <td>--</td>\n",
       "    </tr>\n",
       "    <tr>\n",
       "      <th>min</th>\n",
       "      <td>2</td>\n",
       "      <td>1</td>\n",
       "      <td>--</td>\n",
       "      <td>0</td>\n",
       "      <td>--</td>\n",
       "      <td>1.0</td>\n",
       "      <td>1</td>\n",
       "      <td>--</td>\n",
       "      <td>0.0</td>\n",
       "      <td>1.0</td>\n",
       "      <td>1</td>\n",
       "      <td>0</td>\n",
       "      <td>0</td>\n",
       "      <td>--</td>\n",
       "      <td>--</td>\n",
       "      <td>1</td>\n",
       "      <td>--</td>\n",
       "    </tr>\n",
       "    <tr>\n",
       "      <th>max</th>\n",
       "      <td>11426957</td>\n",
       "      <td>528</td>\n",
       "      <td>--</td>\n",
       "      <td>110</td>\n",
       "      <td>--</td>\n",
       "      <td>5.0</td>\n",
       "      <td>2</td>\n",
       "      <td>--</td>\n",
       "      <td>57108100.0</td>\n",
       "      <td>5.0</td>\n",
       "      <td>3</td>\n",
       "      <td>0</td>\n",
       "      <td>69</td>\n",
       "      <td>--</td>\n",
       "      <td>--</td>\n",
       "      <td>2</td>\n",
       "      <td>--</td>\n",
       "    </tr>\n",
       "  </tbody>\n",
       "</table>\n",
       "</div>"
      ],
      "text/plain": [
       "                         id               dati2 typefaskes  \\\n",
       "data_type             int64               int64     string   \n",
       "count               9435385             9435385    9435385   \n",
       "NA                        0                   0          0   \n",
       "mean       5661742.61091646  182.73857049818318         --   \n",
       "std          3281189.442244          105.505327         --   \n",
       "min                       2                   1         --   \n",
       "max                11426957                 528         --   \n",
       "\n",
       "                         usia   jenkel               pisat  \\\n",
       "data_type               int64   string             float64   \n",
       "count                 9435385  9435385             9435385   \n",
       "NA                          0        0                   0   \n",
       "mean       40.491162045851866       --  2.3618316581676315   \n",
       "std                 22.012262       --            1.365123   \n",
       "min                         0       --                 1.0   \n",
       "max                       110       --                 5.0   \n",
       "\n",
       "                     jenispel politujuan               biaya  \\\n",
       "data_type               int64     string             float64   \n",
       "count                 9435385    9435385             9435385   \n",
       "NA                          0          0                   0   \n",
       "mean       1.9999022827367405         --  416872.16125372733   \n",
       "std                  0.009885         --      1018336.600131   \n",
       "min                         1         --                 0.0   \n",
       "max                         2         --          57108100.0   \n",
       "\n",
       "                 jenispulang        kelasrawat    label  \\\n",
       "data_type            float64             int64    int64   \n",
       "count                9435385           9435385  9435385   \n",
       "NA                         0                 0        0   \n",
       "mean       1.068949385743136  2.99994255666303      0.0   \n",
       "std                 0.459569          0.009679      0.0   \n",
       "min                      1.0                 1        0   \n",
       "max                      5.0                 3        0   \n",
       "\n",
       "                     durasi_rawat diagfktp     diag             levelid  \\\n",
       "data_type                   int64   string   string               int64   \n",
       "count                     9435385  9435385  9435385             9435385   \n",
       "NA                              0        0        0                   0   \n",
       "mean       0.00039076306902156085       --       --  1.2169982464944462   \n",
       "std                      0.069422       --       --            0.412201   \n",
       "min                             0       --       --                   1   \n",
       "max                            69       --       --                   2   \n",
       "\n",
       "          proc_code_clean  \n",
       "data_type          string  \n",
       "count             4518026  \n",
       "NA                4917359  \n",
       "mean                   --  \n",
       "std                    --  \n",
       "min                    --  \n",
       "max                    --  "
      ]
     },
     "execution_count": 50,
     "metadata": {},
     "output_type": "execute_result"
    }
   ],
   "source": [
    "df_joined_inner.describe()"
   ]
  },
  {
   "cell_type": "code",
   "execution_count": 51,
   "metadata": {},
   "outputs": [],
   "source": [
    "df_joined_inner.export_csv(\"datagabungan.csv\")  "
   ]
  },
  {
   "cell_type": "markdown",
   "metadata": {},
   "source": [
    "# Pengolahan Data Gabungan"
   ]
  },
  {
   "cell_type": "code",
   "execution_count": 2,
   "metadata": {},
   "outputs": [
    {
     "name": "stdout",
     "output_type": "stream",
     "text": [
      "CPU times: total: 1.48 s\n",
      "Wall time: 4.2 s\n"
     ]
    }
   ],
   "source": [
    "%%time\n",
    "\n",
    "df_gabungan = vaex.from_csv('datagabungan.csv', convert=True, chunk_size=100_000)"
   ]
  },
  {
   "cell_type": "code",
   "execution_count": 3,
   "metadata": {},
   "outputs": [
    {
     "data": {
      "text/html": [
       "<table>\n",
       "<thead>\n",
       "<tr><th>#                                    </th><th>id     </th><th>dati2  </th><th>typefaskes  </th><th>usia  </th><th>jenkel  </th><th>pisat  </th><th>jenispel  </th><th>politujuan  </th><th>biaya   </th><th>jenispulang  </th><th>kelasrawat  </th><th>label  </th><th>durasi_rawat  </th><th>diagfktp                                     </th><th>diag                                   </th><th>levelid  </th><th>proc_code_clean                                    </th></tr>\n",
       "</thead>\n",
       "<tbody>\n",
       "<tr><td><i style='opacity: 0.6'>0</i>        </td><td>165666 </td><td>17     </td><td>KL          </td><td>48    </td><td>P       </td><td>1.0    </td><td>2         </td><td>THT         </td><td>184300.0</td><td>1.0          </td><td>3           </td><td>0      </td><td>0             </td><td>Diseases of the skin and subcutaneous tissue </td><td>Diseases of the ear and mastoid process</td><td>1        </td><td>--                                                 </td></tr>\n",
       "<tr><td><i style='opacity: 0.6'>1</i>        </td><td>166042 </td><td>17     </td><td>KL          </td><td>53    </td><td>P       </td><td>1.0    </td><td>2         </td><td>INT         </td><td>187300.0</td><td>1.0          </td><td>3           </td><td>0      </td><td>0             </td><td>Endocrine, nutritional and metabolic diseases</td><td>Diseases of the digestive system       </td><td>2        </td><td>--                                                 </td></tr>\n",
       "<tr><td><i style='opacity: 0.6'>2</i>        </td><td>168937 </td><td>17     </td><td>KL          </td><td>54    </td><td>P       </td><td>1.0    </td><td>2         </td><td>MAT         </td><td>187300.0</td><td>1.0          </td><td>3           </td><td>0      </td><td>0             </td><td>Diseases of the eye and adnexa               </td><td>Diseases of the eye and adnexa         </td><td>2        </td><td>--                                                 </td></tr>\n",
       "<tr><td><i style='opacity: 0.6'>3</i>        </td><td>1005899</td><td>17     </td><td>A           </td><td>53    </td><td>P       </td><td>1.0    </td><td>2         </td><td>SAR         </td><td>381600.0</td><td>1.0          </td><td>3           </td><td>0      </td><td>0             </td><td>Diseases of the musculoskeletal system       </td><td>Diseases of the musculoskeletal system </td><td>1        </td><td>--                                                 </td></tr>\n",
       "<tr><td><i style='opacity: 0.6'>4</i>        </td><td>51010  </td><td>8      </td><td>SD          </td><td>50    </td><td>P       </td><td>1.0    </td><td>2         </td><td>IGD         </td><td>155000.0</td><td>2.0          </td><td>3           </td><td>0      </td><td>0             </td><td>Diseases of the blood and immune system      </td><td>Diseases of the blood and immune system</td><td>1        </td><td>--                                                 </td></tr>\n",
       "<tr><td>...                                  </td><td>...    </td><td>...    </td><td>...         </td><td>...   </td><td>...     </td><td>...    </td><td>...       </td><td>...         </td><td>...     </td><td>...          </td><td>...         </td><td>...    </td><td>...           </td><td>...                                          </td><td>...                                    </td><td>...      </td><td>...                                                </td></tr>\n",
       "<tr><td><i style='opacity: 0.6'>9,435,380</i></td><td>614697 </td><td>66     </td><td>C           </td><td>2     </td><td>L       </td><td>4.0    </td><td>2         </td><td>ANA         </td><td>183500.0</td><td>1.0          </td><td>3           </td><td>0      </td><td>0             </td><td>Factors influencing health status            </td><td>Symptoms, signs, and abnormal findings </td><td>2        </td><td>--                                                 </td></tr>\n",
       "<tr><td><i style='opacity: 0.6'>9,435,381</i></td><td>5528645</td><td>351    </td><td>SB          </td><td>73    </td><td>L       </td><td>1.0    </td><td>2         </td><td>SAR         </td><td>204000.0</td><td>1.0          </td><td>3           </td><td>0      </td><td>0             </td><td>Diseases of the circulatory system           </td><td>Factors influencing health status      </td><td>1        </td><td>--                                                 </td></tr>\n",
       "<tr><td><i style='opacity: 0.6'>9,435,382</i></td><td>7970542</td><td>173    </td><td>SC          </td><td>26    </td><td>P       </td><td>4.0    </td><td>2         </td><td>IGD         </td><td>142400.0</td><td>1.0          </td><td>3           </td><td>0      </td><td>0             </td><td>Symptoms, signs, and abnormal findings       </td><td>Symptoms, signs, and abnormal findings </td><td>1        </td><td>&#x27;Miscellaneous Diagnostic And Therapeutic Proced...</td></tr>\n",
       "<tr><td><i style='opacity: 0.6'>9,435,383</i></td><td>7970542</td><td>173    </td><td>SC          </td><td>26    </td><td>P       </td><td>4.0    </td><td>2         </td><td>IGD         </td><td>142400.0</td><td>1.0          </td><td>3           </td><td>0      </td><td>0             </td><td>Symptoms, signs, and abnormal findings       </td><td>Symptoms, signs, and abnormal findings </td><td>2        </td><td>&#x27;Miscellaneous Diagnostic And Therapeutic Proced...</td></tr>\n",
       "<tr><td><i style='opacity: 0.6'>9,435,384</i></td><td>3383719</td><td>180    </td><td>SD          </td><td>54    </td><td>L       </td><td>1.0    </td><td>2         </td><td>MAT         </td><td>185000.0</td><td>1.0          </td><td>3           </td><td>0      </td><td>0             </td><td>Diseases of the eye and adnexa               </td><td>Diseases of the eye and adnexa         </td><td>2        </td><td>--                                                 </td></tr>\n",
       "</tbody>\n",
       "</table>"
      ],
      "text/plain": [
       "#          id       dati2    typefaskes    usia    jenkel    pisat    jenispel    politujuan    biaya     jenispulang    kelasrawat    label    durasi_rawat    diagfktp                                       diag                                     levelid    proc_code_clean\n",
       "0          165666   17       KL            48      P         1.0      2           THT           184300.0  1.0            3             0        0               Diseases of the skin and subcutaneous tissue   Diseases of the ear and mastoid process  1          --\n",
       "1          166042   17       KL            53      P         1.0      2           INT           187300.0  1.0            3             0        0               Endocrine, nutritional and metabolic diseases  Diseases of the digestive system         2          --\n",
       "2          168937   17       KL            54      P         1.0      2           MAT           187300.0  1.0            3             0        0               Diseases of the eye and adnexa                 Diseases of the eye and adnexa           2          --\n",
       "3          1005899  17       A             53      P         1.0      2           SAR           381600.0  1.0            3             0        0               Diseases of the musculoskeletal system         Diseases of the musculoskeletal system   1          --\n",
       "4          51010    8        SD            50      P         1.0      2           IGD           155000.0  2.0            3             0        0               Diseases of the blood and immune system        Diseases of the blood and immune system  1          --\n",
       "...        ...      ...      ...           ...     ...       ...      ...         ...           ...       ...            ...           ...      ...             ...                                            ...                                      ...        ...\n",
       "9,435,380  614697   66       C             2       L         4.0      2           ANA           183500.0  1.0            3             0        0               Factors influencing health status              Symptoms, signs, and abnormal findings   2          --\n",
       "9,435,381  5528645  351      SB            73      L         1.0      2           SAR           204000.0  1.0            3             0        0               Diseases of the circulatory system             Factors influencing health status        1          --\n",
       "9,435,382  7970542  173      SC            26      P         4.0      2           IGD           142400.0  1.0            3             0        0               Symptoms, signs, and abnormal findings         Symptoms, signs, and abnormal findings   1          'Miscellaneous Diagnostic And Therapeutic Proced...\n",
       "9,435,383  7970542  173      SC            26      P         4.0      2           IGD           142400.0  1.0            3             0        0               Symptoms, signs, and abnormal findings         Symptoms, signs, and abnormal findings   2          'Miscellaneous Diagnostic And Therapeutic Proced...\n",
       "9,435,384  3383719  180      SD            54      L         1.0      2           MAT           185000.0  1.0            3             0        0               Diseases of the eye and adnexa                 Diseases of the eye and adnexa           2          --"
      ]
     },
     "execution_count": 3,
     "metadata": {},
     "output_type": "execute_result"
    }
   ],
   "source": [
    "df_gabungan"
   ]
  },
  {
   "cell_type": "code",
   "execution_count": null,
   "metadata": {},
   "outputs": [],
   "source": []
  }
 ],
 "metadata": {
  "kernelspec": {
   "display_name": "Python 3",
   "language": "python",
   "name": "python3"
  },
  "language_info": {
   "codemirror_mode": {
    "name": "ipython",
    "version": 3
   },
   "file_extension": ".py",
   "mimetype": "text/x-python",
   "name": "python",
   "nbconvert_exporter": "python",
   "pygments_lexer": "ipython3",
   "version": "3.9.13"
  }
 },
 "nbformat": 4,
 "nbformat_minor": 2
}
